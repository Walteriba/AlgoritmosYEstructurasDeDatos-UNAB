{
 "cells": [
  {
   "attachments": {},
   "cell_type": "markdown",
   "metadata": {
    "pycharm": {
     "metadata": false,
     "name": "#%% md\n"
    }
   },
   "source": [
    "# 2do Parcial  - Ejemplo 2"
   ]
  },
  {
   "attachments": {},
   "cell_type": "markdown",
   "metadata": {
    "pycharm": {
     "metadata": false,
     "name": "#%% md\n"
    }
   },
   "source": [
    "## Ejercicio 1\n",
    "\n",
    "Modelar una clase <code>Peluquería</code>; la misma tiene como variables un **nombre**, una **dirección**, un **teléfono**, un **email** y los **horarios de atención**.\n"
   ]
  },
  {
   "cell_type": "code",
   "execution_count": null,
   "metadata": {},
   "outputs": [],
   "source": [
    "# Ejercicio 1\n",
    "#archivo main.py\n",
    "\n",
    "class Peluqueria:\n",
    "    def __init__(self, nombre, direccion, telefono, email, horarios):\n",
    "        self.nombre = nombre\n",
    "        self.direccion = direccion\n",
    "        self.telefono = telefono\n",
    "        self.email = email\n",
    "        self.horarios = horarios\n",
    "\n",
    "    def mostrar_informacion(self):\n",
    "        print(\"Nombre: \", self.nombre)\n",
    "        print(\"Dirección: \", self.direccion)\n",
    "        print(\"Teléfono: \", self.telefono)\n",
    "        print(\"Email: \", self.email)\n",
    "        print(\"Horarios de atención: \")\n",
    "        for dia, horario in self.horarios.items():\n",
    "            print(dia, \": \", horario)\n"
   ]
  },
  {
   "cell_type": "code",
   "execution_count": null,
   "metadata": {},
   "outputs": [],
   "source": [
    "# Ejemplo de uso\n",
    "horarios_atencion = {\n",
    "    \"Lunes\": \"9:00 AM - 6:00 PM\",\n",
    "    \"Martes\": \"9:00 AM - 6:00 PM\",\n",
    "    \"Miércoles\": \"9:00 AM - 6:00 PM\",\n",
    "    \"Jueves\": \"9:00 AM - 6:00 PM\",\n",
    "    \"Viernes\": \"9:00 AM - 6:00 PM\",\n",
    "    \"Sábado\": \"10:00 AM - 4:00 PM\"\n",
    "}\n",
    "\n",
    "peluqueria = Peluqueria(\"Peluquería XYZ\", \"Calle Principal 123\", \"123456789\", \"info@peluqueria.com\", horarios_atencion)\n",
    "peluqueria.mostrar_informacion()"
   ]
  },
  {
   "attachments": {},
   "cell_type": "markdown",
   "metadata": {},
   "source": [
    "En este ejemplo, la clase Peluqueria tiene un constructor \\_\\_init\\_\\_ que recibe los parámetros nombre, direccion, telefono, email y horarios. Estos parámetros se asignan a las variables de instancia correspondientes.\n",
    "\n",
    "La clase también tiene un método mostrar_informacion que imprime por pantalla la información de la peluquería, incluyendo los horarios de atención. Los horarios de atención se almacenan en un diccionario, donde las claves son los días de la semana y los valores son los horarios correspondientes.\n",
    "\n",
    "Luego, se crea una instancia de la clase Peluqueria con valores de ejemplo y se llama\n",
    "al método mostrar_informacion para mostrar la información de la peluquería. Puedes modificar los valores de ejemplo para adaptarlos a tu caso específico."
   ]
  },
  {
   "attachments": {},
   "cell_type": "markdown",
   "metadata": {},
   "source": [
    "## Ejercicio 2\n",
    "Del ejercicio anterior agregar un método que devuelva si la peluquería está abierta según su variable de horario de atención (*importar el modulo datetime*)\n",
    "\n"
   ]
  },
  {
   "cell_type": "code",
   "execution_count": null,
   "metadata": {},
   "outputs": [],
   "source": [
    "# Ejercicio 2\n",
    "#archivo main.py\n",
    "\n",
    "import datetime\n",
    "\n",
    "class Peluqueria:\n",
    "    def __init__(self, nombre, direccion, telefono, email, horarios):\n",
    "        self.nombre = nombre\n",
    "        self.direccion = direccion\n",
    "        self.telefono = telefono\n",
    "        self.email = email\n",
    "        self.horarios = horarios\n",
    "\n",
    "    def mostrar_informacion(self):\n",
    "        print(\"Nombre: \", self.nombre)\n",
    "        print(\"Dirección: \", self.direccion)\n",
    "        print(\"Teléfono: \", self.telefono)\n",
    "        print(\"Email: \", self.email)\n",
    "        print(\"Horarios de atención: \")\n",
    "        for dia, horario in self.horarios.items():\n",
    "            print(dia, \": \", horario)\n",
    "\n",
    "    def esta_abierta(self):\n",
    "        ahora = datetime.datetime.now()\n",
    "        dia_actual = ahora.strftime(\"%A\")  # Obtenemos el nombre del día actual en formato de texto\n",
    "        \n",
    "        if dia_actual in self.horarios:\n",
    "            horario_actual = ahora.strftime(\"%I:%M %p\")  # Obtenemos la hora actual en formato de texto\n",
    "            horario_atencion = self.horarios[dia_actual]\n",
    "            \n",
    "            hora_apertura, hora_cierre = horario_atencion.split(\" - \")\n",
    "            \n",
    "            if hora_apertura <= horario_actual <= hora_cierre:\n",
    "                return True\n",
    "        \n",
    "        return False\n"
   ]
  },
  {
   "cell_type": "code",
   "execution_count": null,
   "metadata": {},
   "outputs": [],
   "source": [
    "# Ejemplo de uso\n",
    "horarios_atencion = {\n",
    "    \"Lunes\": \"9:00 AM - 6:00 PM\",\n",
    "    \"Martes\": \"9:00 AM - 6:00 PM\",\n",
    "    \"Miércoles\": \"9:00 AM - 6:00 PM\",\n",
    "    \"Jueves\": \"9:00 AM - 6:00 PM\",\n",
    "    \"Viernes\": \"9:00 AM - 6:00 PM\",\n",
    "    \"Sábado\": \"10:00 AM - 4:00 PM\"\n",
    "}\n",
    "\n",
    "peluqueria = Peluqueria(\"Peluquería XYZ\", \"Calle Principal 123\", \"123456789\", \"info@peluqueria.com\", horarios_atencion)\n",
    "peluqueria.mostrar_informacion()\n",
    "\n",
    "if peluqueria.esta_abierta():\n",
    "    print(\"La peluquería está abierta.\")\n",
    "else:\n",
    "    print(\"La peluquería está cerrada.\")"
   ]
  },
  {
   "attachments": {},
   "cell_type": "markdown",
   "metadata": {},
   "source": [
    "En esta versión, se agrega el método esta_abierta, que utiliza el módulo datetime para obtener el día actual y la hora actual. Luego, compara el día actual con los horarios de atención de la peluquería.\n",
    "Si el día actual está en los horarios de atención y la hora actual está dentro del rango de apertura y cierre, se devuelve True, lo que indica que la peluquería está abierta. De lo contrario, se devuelve False.\n",
    "\n",
    "En el ejemplo de uso, se crea una instancia de la clase Peluqueria y se llama al método\n",
    "mostrar_informacion para mostrar la información de la peluquería. Luego, se utiliza el método esta_abierta para determinar si la peluquería está abierta o cerrada, y se muestra un mensaje correspondiente."
   ]
  },
  {
   "attachments": {},
   "cell_type": "markdown",
   "metadata": {},
   "source": [
    "## Ejercicio 3\n",
    "Crea el módulo <code>productos_peluqueria.py</code>. Dentro de <code>productos_peluqueria.py</code>, define una clase llamada <code>ProductoPeluqueria</code>.\n",
    "\n",
    "Esta clase representará un producto específico de la peluquería, con sus propias variables de instancia como: **nombre**, **precio**, **descripción**, etc.\n"
   ]
  },
  {
   "cell_type": "code",
   "execution_count": null,
   "metadata": {},
   "outputs": [],
   "source": [
    "#Ejercicio 3\n",
    "#archivo productos_peluqueria.py\n",
    "class ProductoPeluqueria:\n",
    "    def __init__(self, nombre, precio, descripcion):\n",
    "        self.nombre = nombre\n",
    "        self.precio = precio\n",
    "        self.descripcion = descripcion"
   ]
  },
  {
   "attachments": {},
   "cell_type": "markdown",
   "metadata": {},
   "source": [
    "## Ejercicio 4\n",
    "\n",
    "Agrega a la clase peluqería una lista enlazada de productos de peluquerías declarados en el módulo <code>productos_peluqueria.py</code>\n"
   ]
  },
  {
   "cell_type": "code",
   "execution_count": null,
   "metadata": {},
   "outputs": [],
   "source": [
    "# Ejercicio 4\n",
    "#archivo productos_peluqueria.py\n",
    "class ProductoPeluqueria:\n",
    "    def __init__(self, nombre, precio, descripcion):\n",
    "        self.nombre = nombre\n",
    "        self.precio = precio\n",
    "        self.descripcion = descripcion\n",
    "\n",
    "class NodoProducto:\n",
    "    def __init__(self, producto):\n",
    "        self.producto = producto\n",
    "        self.siguiente = None\n",
    "\n",
    "#archivo main.py\n",
    "\n",
    "import datetime\n",
    "from productos_peluqueria import ProductoPeluqueria\n",
    "from productos_peluqueria import NodoProducto\n",
    "\n",
    "\n",
    "class Peluqueria:\n",
    "    def __init__(self, nombre, direccion, telefono, email, horarios):\n",
    "        self.nombre = nombre\n",
    "        self.direccion = direccion\n",
    "        self.telefono = telefono\n",
    "        self.email = email\n",
    "        self.horarios = horarios\n",
    "        self.primer_producto = None\n",
    "\n",
    "    #..............#\n",
    "\n",
    "    def agregar_producto(self, producto):\n",
    "    nuevo_nodo = NodoProducto(producto)\n",
    "\n",
    "    if self.primer_producto is None:\n",
    "        self.primer_producto = nuevo_nodo\n",
    "    else:\n",
    "        nodo_actual = self.primer_producto\n",
    "        while nodo_actual.siguiente is not None:\n",
    "            nodo_actual = nodo_actual.siguiente\n",
    "        nodo_actual.siguiente = nuevo_nodo\n",
    "\n",
    "\n",
    "    def sacar_producto(self, nombre_producto):\n",
    "    if self.primer_producto is None:\n",
    "        return  # Si la lista está vacía, no se puede sacar ningún producto\n",
    "\n",
    "    # Si el primer producto de la lista coincide con el nombre buscado\n",
    "    if self.primer_producto.producto.nombre == nombre_producto:\n",
    "        self.primer_producto = self.primer_producto.siguiente\n",
    "        return  # Se sacó el producto y se finaliza el método\n",
    "\n",
    "    # Si el producto está en otro lugar de la lista\n",
    "    nodo_actual = self.primer_producto\n",
    "    while nodo_actual.siguiente is not None:\n",
    "        if nodo_actual.siguiente.producto.nombre == nombre_producto:\n",
    "            nodo_actual.siguiente = nodo_actual.siguiente.siguiente\n",
    "            return  # Se sacó el producto y se finaliza el método\n",
    "        nodo_actual = nodo_actual.siguiente\n",
    "\n",
    "    # Si no se encontró el producto en la lista\n",
    "    print(\"El producto no se encuentra en la lista de productos.\")\n",
    "\n",
    "\n"
   ]
  },
  {
   "cell_type": "code",
   "execution_count": null,
   "metadata": {},
   "outputs": [],
   "source": [
    "#Ejemplo de uso\n",
    "\n",
    "peluqueria = Peluqueria(\"Peluquería XYZ\", \"Calle Principal 123\", \"123456789\", \"info@peluqueria.com\", horarios_atencion)\n",
    "\n",
    "producto1 = ProductoPeluqueria(\"Champú\", 10.99, \"Limpia y nutre el cabello\")\n",
    "producto2 = ProductoPeluqueria(\"Acondicionador\", 8.99, \"Suaviza y desenreda el cabello\")\n",
    "producto3 = ProductoPeluqueria(\"Gel fijador\", 5.99, \"Fija el peinado\")\n",
    "\n",
    "peluqueria.agregar_producto(producto1)\n",
    "peluqueria.agregar_producto(producto2)\n",
    "peluqueria.agregar_producto(producto3)\n",
    "\n",
    "peluqueria.sacar_producto(\"Acondicionador\")"
   ]
  },
  {
   "attachments": {},
   "cell_type": "markdown",
   "metadata": {},
   "source": [
    "En este ejemplo, se agrega un nuevo método sacar_producto a la clase Peluqueria. Este método recibe como parámetro el nombre del producto que se desea sacar de la lista enlazada.\n",
    "\n",
    "El método verifica si la lista está vacía. Si no está vacía, busca el producto en la lista enlazada.\n",
    "Si encuentra el producto, lo saca actualizando los enlaces de los nodos. Si no encuentra el producto, muestra un mensaje indicando que el producto no se encuentra en la lista.\n",
    "\n",
    "Luego, en el archivo principal, se crea una instancia de la clase Peluqueria, se agregan varios productos a la lista enlazada y se utiliza el método sacar_producto para eliminar el producto con el nombre \"Acondicionador\" de la lista.\n"
   ]
  },
  {
   "attachments": {},
   "cell_type": "markdown",
   "metadata": {},
   "source": [
    "## Ejercicio 5\n",
    "\n",
    "Agrega a la peluqueria una **cola de clientes** (puedes utilizar el módulo <code>deque</code> de <code>Collections</code> o puedes modelar la cola/fila con una Lista Enlazada)\n"
   ]
  },
  {
   "cell_type": "code",
   "execution_count": null,
   "metadata": {},
   "outputs": [],
   "source": [
    "# Ejercicio 5\n",
    "#archivo main.py\n",
    "\n",
    "import datetime\n",
    "from productos_peluqueria import ProductoPeluqueria\n",
    "from productos_peluqueria import NodoProducto\n",
    "from collections import deque\n",
    "\n",
    "class Peluqueria:\n",
    "    def __init__(self, nombre, direccion, telefono, email, horarios):\n",
    "        self.nombre = nombre\n",
    "        self.direccion = direccion\n",
    "        self.telefono = telefono\n",
    "        self.email = email\n",
    "        self.horarios = horarios\n",
    "        self.productos = []\n",
    "        self.cola_clientes = deque()\n",
    "\n",
    "#........#\n",
    "\n",
    "\tdef agregar_cliente(self, nombre_cliente):\n",
    "    \tself.cola_clientes.append(nombre_cliente)\n",
    "\n",
    "# Puedes agregar otros métodos relacionados con la cola de clientes según tus necesidades, \n",
    "# como un método atender_siguiente_cliente que retire y devuelva el próximo cliente de la cola:\n",
    "\n",
    "\n",
    "    def atender_siguiente_cliente(self):\n",
    "\t    if self.cola_clientes:\n",
    "    \t    return self.cola_clientes.popleft()\n",
    "    \telse:\n",
    "        \treturn None  # La cola está vacía\n",
    "\n",
    "# De esta manera, puedes utilizar la cola de clientes en la clase Peluqueria \n",
    "# para gestionar el orden de atención de los clientes. Puedes agregar clientes a la cola utilizando \n",
    "# el método agregar_cliente, y luego atender al siguiente cliente en orden utilizando el método atender_siguiente_cliente.\n"
   ]
  },
  {
   "attachments": {},
   "cell_type": "markdown",
   "metadata": {},
   "source": [
    "## Ejercicio 6\n",
    "\n",
    "Generar dos **iteradores** para el ejercicio anterior, uno que recorra la lista enlazada de productos de peluquerias e imprima el producto y su precio; y el otro que recorra la cola de clientes y cuente cuantos hay esperando.\n"
   ]
  },
  {
   "cell_type": "code",
   "execution_count": null,
   "metadata": {},
   "outputs": [],
   "source": [
    "# Ejercicio 6\n",
    "\n",
    "class Peluqueria:\n",
    "    # ...\n",
    "\n",
    "    def __iter__(self):\n",
    "        # Iterador para la lista enlazada de productos\n",
    "        class ProductosIterator:\n",
    "            def __init__(self, primer_producto):\n",
    "                self.nodo_actual = primer_producto\n",
    "\n",
    "            def __iter__(self):\n",
    "                return self\n",
    "\n",
    "            def __next__(self):\n",
    "                if self.nodo_actual is None:\n",
    "                    raise StopIteration\n",
    "                producto = self.nodo_actual.producto\n",
    "                self.nodo_actual = self.nodo_actual.siguiente\n",
    "                return producto\n",
    "\n",
    "        return ProductosIterator(self.primer_producto)\n",
    "\n",
    "    def __len__(self):\n",
    "        # Cuenta el número de clientes en la cola\n",
    "        return len(self.cola_clientes)\n",
    "\n",
    "#...\n",
    "\n",
    "peluqueria = Peluqueria(\"Peluquería XYZ\", \"Calle Principal 123\", \"123456789\", \"info@peluqueria.com\", horarios_atencion)\n",
    "\n",
    "producto1 = ProductoPeluqueria(\"Champú\", 10.99, \"Limpia y nutre el cabello\")\n",
    "producto2 = ProductoPeluqueria(\"Acondicionador\", 8.99, \"Suaviza y desenreda el cabello\")\n",
    "producto3 = ProductoPeluqueria(\"Gel fijador\", 5.99, \"Fija el peinado\")\n",
    "\n",
    "peluqueria.agregar_producto(producto1)\n",
    "peluqueria.agregar_producto(producto2)\n",
    "peluqueria.agregar_producto(producto3)\n",
    "\n",
    "# Iterador para la lista enlazada de productos\n",
    "for producto in peluqueria:\n",
    "    print(producto.nombre, producto.precio)\n",
    "\n",
    "# Obtener el número de clientes en espera\n",
    "print(len(peluqueria))\n",
    "\n",
    "\n",
    "# En este ejemplo, se agrega una clase interna ProductosIterator dentro de la clase Peluqueria. Esta clase implementa\n",
    "# los métodos especiales __iter__() y __next__(), que permiten recorrer la lista enlazada de productos de peluquería.\n",
    "\n",
    "# El método __iter__() devuelve una instancia del iterador ProductosIterator, que se inicializa con el primer\n",
    "# producto de la lista enlazada. El método __next__() devuelve el siguiente producto en cada iteración, hasta que se\n",
    "# llegue al final de la lista.\n",
    "\n",
    "# Luego, en el archivo principal, se crea una instancia de la clase Peluqueria y se agregan varios productos\n",
    "# a la lista enlazada. Luego, se utiliza un bucle for para recorrer la lista enlazada de productos, imprimiendo\n",
    "# el nombre y precio de cada producto.\n",
    "\n",
    "# Además, se utiliza la función len() para obtener el número de clientes en espera en la cola.\n",
    "# Hacemos sobrecarga de métodos!!!"
   ]
  },
  {
   "attachments": {},
   "cell_type": "markdown",
   "metadata": {},
   "source": [
    "## Ejercicio 7\n",
    "\n",
    "Agrega un método que cree una carpeta inventario, y que dentro de ella guarde la lista enlazada de productos. Agrega un segundo método para que en el <code>\\_\\_init\\_\\_</code> de la clase, si el archivo existe, cargue la lista enlazada de productos"
   ]
  },
  {
   "cell_type": "code",
   "execution_count": null,
   "metadata": {},
   "outputs": [],
   "source": [
    "# Ejercicio 7\n",
    "#archivo main.py\n",
    "\n",
    "# ....\n",
    "import os\n",
    "\n",
    "# ....\n",
    "class Peluqueria:\n",
    "\n",
    "\tdef __init__(self, nombre, direccion, telefono, email, horarios):\n",
    "        self.nombre = nombre\n",
    "        self.direccion = direccion\n",
    "        self.telefono = telefono\n",
    "        self.email = email\n",
    "        self.horarios = horarios\n",
    "        self.primer_producto = None\n",
    "        self.cola_clientes = deque()\n",
    "\n",
    "        self.crear_carpeta_inventario()\n",
    "        self.cargar_productos_desde_archivo()\n",
    "\n",
    "    # ...\n",
    "\n",
    "    def crear_carpeta_inventario(self):\n",
    "        if not os.path.exists('inventario'):\n",
    "            os.makedirs('inventario')\n",
    "\n",
    "    def guardar_productos_en_archivo(self):\n",
    "        archivo = os.path.join('inventario', 'productos.txt')\n",
    "        with open(archivo, 'w') as f:\n",
    "            nodo_actual = self.primer_producto\n",
    "            while nodo_actual is not None:\n",
    "                producto = nodo_actual.producto\n",
    "                f.write(f'{producto.nombre},{producto.precio},{producto.descripcion}\\n')\n",
    "                nodo_actual = nodo_actual.siguiente\n",
    "\n",
    "    def cargar_productos_desde_archivo(self):\n",
    "        archivo = os.path.join('inventario', 'productos.txt')\n",
    "        if os.path.exists(archivo):\n",
    "            with open(archivo, 'r') as f:\n",
    "                for linea in f:\n",
    "                    datos = linea.strip().split(',')\n",
    "                    nombre = datos[0]\n",
    "                    precio = float(datos[1])\n",
    "                    descripcion = datos[2]\n",
    "                    producto = ProductoPeluqueria(nombre, precio, descripcion)\n",
    "                    self.agregar_producto(producto)\n",
    "\n",
    "\n",
    "# En este código, el método crear_carpeta_inventario() verifica si la carpeta \"inventario\" existe. Si no existe\n",
    "#, crea la carpeta utilizando la función os.makedirs().\n",
    "\n",
    "# El método guardar_productos_en_archivo() guarda la lista enlazada de productos en un archivo llamado \"productos.txt\" dentro de\n",
    "# la carpeta \"inventario\". Utiliza un bucle para recorrer la lista enlazada y escribe cada producto en una línea separada con \n",
    "# el formato \"nombre,precio,descripcion\".\n",
    "\n",
    "# El método cargar_productos_desde_archivo() verifica si el archivo \"productos.txt\" existe en la carpeta \"inventario\". Si existe\n",
    "#, lee cada línea del archivo, separa los datos utilizando la coma como separador y crea un objeto ProductoPeluqueria con los \n",
    "# datos obtenidos. Luego, llama al método agregar_producto() para agregar cada producto a la lista enlazada.\n",
    "\n",
    "# Finalmente, el método __init__() de la clase Peluqueria llama a los métodos crear_carpeta_inventario() y \n",
    "# cargar_productos_desde_archivo()\n",
    "# para crear la carpeta y cargar los productos al crear una instancia de la clase.\n",
    "\n",
    "# De esta manera, puedes utilizar los nuevos métodos para crear la carpeta \"inventario\", guardar los productos\n",
    "# en un archivo"
   ]
  }
 ],
 "metadata": {
  "kernelspec": {
   "display_name": "Python 3",
   "language": "python",
   "name": "python3"
  },
  "language_info": {
   "codemirror_mode": {
    "name": "ipython",
    "version": 3
   },
   "file_extension": ".py",
   "mimetype": "text/x-python",
   "name": "python",
   "nbconvert_exporter": "python",
   "pygments_lexer": "ipython3",
   "version": "3.8.9"
  },
  "pycharm": {
   "stem_cell": {
    "cell_type": "raw",
    "metadata": {
     "collapsed": false
    },
    "source": []
   }
  },
  "stem_cell": {
   "cell_type": "raw",
   "metadata": {
    "pycharm": {
     "metadata": false
    }
   },
   "source": ""
  }
 },
 "nbformat": 4,
 "nbformat_minor": 1
}
