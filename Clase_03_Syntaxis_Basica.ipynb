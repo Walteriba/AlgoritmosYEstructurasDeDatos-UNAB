{
 "cells": [
  {
   "attachments": {},
   "cell_type": "markdown",
   "metadata": {
    "slideshow": {
     "slide_type": "slide"
    }
   },
   "source": [
    "  # Algoritmos y Estructuras de Datos. \n",
    "\n",
    "## - Clase 03 - Syntaxis Basica de Python -"
   ]
  },
  {
   "cell_type": "markdown",
   "metadata": {},
   "source": [
    "# Operaciones simples en Python."
   ]
  },
  {
   "cell_type": "markdown",
   "metadata": {},
   "source": [
    "Utilizaremos Python como una \"mini-calculadora\" y realizar operaciones simples, i.e. suma, resta, multiplicacion, etc."
   ]
  },
  {
   "cell_type": "markdown",
   "metadata": {},
   "source": [
    "### Operaciones Aritmenticas"
   ]
  },
  {
   "cell_type": "code",
   "execution_count": null,
   "metadata": {},
   "outputs": [],
   "source": [
    "2 + 6 # Suma"
   ]
  },
  {
   "cell_type": "code",
   "execution_count": null,
   "metadata": {
    "scrolled": true
   },
   "outputs": [],
   "source": [
    "2 - 19 # Resta"
   ]
  },
  {
   "cell_type": "code",
   "execution_count": null,
   "metadata": {},
   "outputs": [],
   "source": [
    "2 * 27 # Multiplicación"
   ]
  },
  {
   "cell_type": "code",
   "execution_count": null,
   "metadata": {},
   "outputs": [],
   "source": [
    "165 / 10 # Divición."
   ]
  },
  {
   "cell_type": "code",
   "execution_count": null,
   "metadata": {},
   "outputs": [],
   "source": [
    "165 // 10 # Cociente de la divición Euclidiana (parte entera)"
   ]
  },
  {
   "cell_type": "code",
   "execution_count": null,
   "metadata": {},
   "outputs": [],
   "source": [
    "165 % 10 # Resto de la divición Euclidiana."
   ]
  },
  {
   "cell_type": "code",
   "execution_count": null,
   "metadata": {},
   "outputs": [],
   "source": [
    "3 ** 2 # Potencia"
   ]
  },
  {
   "cell_type": "markdown",
   "metadata": {},
   "source": [
    "### Operaciones Lógicas\n",
    "\n",
    "Las operaciones lógicas nos devulven un \"Valor de Verdad\" (Verdadero, Falso) como resultado."
   ]
  },
  {
   "cell_type": "code",
   "execution_count": null,
   "metadata": {},
   "outputs": [],
   "source": [
    "1 == 2 # Igualdad"
   ]
  },
  {
   "cell_type": "code",
   "execution_count": null,
   "metadata": {},
   "outputs": [],
   "source": [
    "1 != 2 # Desigualdad"
   ]
  },
  {
   "cell_type": "code",
   "execution_count": null,
   "metadata": {},
   "outputs": [],
   "source": [
    "1 < 2 # menor \n",
    "1 > 2 # mayor\n",
    "1 <= 2 # menor o igual \n",
    "1 >= 2 # mayor o igual "
   ]
  },
  {
   "cell_type": "code",
   "execution_count": null,
   "metadata": {},
   "outputs": [],
   "source": [
    "not(True) # El operador lógico de \"NEGACIÓN\" \n",
    "True and False # El operador lógico \"Y\"\n",
    "True or False # El operador lógico \"O\""
   ]
  },
  {
   "cell_type": "code",
   "execution_count": null,
   "metadata": {},
   "outputs": [],
   "source": [
    "v1 = input(\"ingrese un numero\") \n",
    "print(v1)\n"
   ]
  },
  {
   "cell_type": "markdown",
   "metadata": {},
   "source": [
    "El operador \"$\\normalsize \\color{green}{\\textsf{or}}$\" (cómo muchas de las funciones en Python) esta optimizado. Es decir, es \"lazy\" (peresozo), si queremos evaluar la expresión \n",
    "$P_1$ $\\normalsize \\color{green}{\\textsf{or}}$ $P_2$ y $P_1$ es verdadera, entonces $P_1$ $\\normalsize \\color{green}{\\textsf{or}}$ $P_2$ tiene como resultado final \"verdadero\" ($\\normalsize \\color{green}{\\textsf{True}}$) aun antes de evaluar $P_2$. "
   ]
  },
  {
   "cell_type": "code",
   "execution_count": null,
   "metadata": {},
   "outputs": [],
   "source": [
    "# No tiene sentido, la varialbe 'var' no esta definida.\n",
    "# Ejecutar esta linea nos generara un error.\n",
    "\n",
    "var == True # "
   ]
  },
  {
   "cell_type": "code",
   "execution_count": null,
   "metadata": {},
   "outputs": [],
   "source": [
    "# En el siguiente caso 1 == 1 es verdadero, \n",
    "# el operador 'or' no evaluara la parte var==True\n",
    "# (no nos aparece el error) \n",
    "\n",
    "1 == 1 or var == True\n"
   ]
  },
  {
   "cell_type": "code",
   "execution_count": null,
   "metadata": {},
   "outputs": [],
   "source": [
    "# En el siguiente caso var==True nos genera un error,\n",
    "# y el programa finaliza. \n",
    "var = False\n",
    "var == True or 1 == 1 \n"
   ]
  },
  {
   "cell_type": "markdown",
   "metadata": {},
   "source": [
    "# Assignación y tipos de variales simples en Python."
   ]
  },
  {
   "cell_type": "markdown",
   "metadata": {},
   "source": [
    "Como en cualquier otro lenguaje de programación, podemos asignar valores a un **\"nombre de variable\"**. \n",
    "Un *nombre de variable*, es un identificador alphanumerico el cual esta asociado a un espacio de memoria. \n",
    "\n",
    "En Python utilizamos el symbolo ${\\normalsize \\color{purple}{\\texttt{=}}}$, es pseudo-código habiamos elejido ${\\texttt{:=}}$. (en contraste con el operador $\\normalsize \\color{purple}{\\texttt{==}}$).  "
   ]
  },
  {
   "cell_type": "code",
   "execution_count": null,
   "metadata": {},
   "outputs": [],
   "source": [
    "n_entero = 5                            # Un número entero  \n",
    "n_con_comma = 0.3                       # Un número de punto flotante\n",
    "v_bool = True                           # Un valor Booleano, verdadero o falso (True o False respectivamente)\n",
    "cad_de_caract = 'cadena de caracteres'  # Una cadena de caracteres (string), una palabra o frase entre \" \" o ' '.\n",
    "complejo= 1 + 1j                        # Un número complejo (escribimos j, en vez del tradicional i, para la parte imaginaria) \n"
   ]
  },
  {
   "cell_type": "markdown",
   "metadata": {},
   "source": [
    "\n",
    "Cada **valor** que le asignamos a una variable, tiene asignado un **tipo**, el cual definira el tipo de la variable a cual el valor es asignado. Es decir, en Python el tipo de una variable es asignado dinamicamente durante la ejecución del programa, dependiendo del valor contenido.  \n",
    "\n",
    "Nota: la función $\\normalsize \\color{green}{\\texttt{print}}$ nos permite escribir en la pantalla/consola. \n"
   ]
  },
  {
   "cell_type": "code",
   "execution_count": null,
   "metadata": {},
   "outputs": [],
   "source": [
    "print(type(n_entero))         # es del tipo int'\n",
    "print(type(n_con_comma))      # es del tipo 'float'\n",
    "print(type(v_bool))           # es del tipo 'bool'\n",
    "print(type(cad_de_caract))    # es del tipo 'str'\n",
    "print(type(complejo))         # es del tipo 'complex'"
   ]
  },
  {
   "cell_type": "markdown",
   "metadata": {},
   "source": [
    "El symbolo de igualdad--que utilizamos para realizar asignaciones--no es un operador symetrico. \n",
    "\n",
    "Es decir $v_1 = v_2$ no es lo mismo que $v_2 = v_1$. "
   ]
  },
  {
   "cell_type": "code",
   "execution_count": null,
   "metadata": {},
   "outputs": [],
   "source": [
    "v1 = 2\n",
    "v2 = 3\n",
    "v1 = v2            # v1 toma el valor de v2\n",
    "print(\"v1= \",v1)\n",
    "print(\"v2= \",v2)\n",
    "\n",
    "v1 = 2\n",
    "v2 = 3\n",
    "v2 = v1            # v2 toma el valor de v1\n",
    "print(\"v1= \",v1)\n",
    "print(\"v2= \",v2)"
   ]
  },
  {
   "cell_type": "markdown",
   "metadata": {},
   "source": [
    "\n",
    "Los operadores $\\normalsize \\color{purple}{\\texttt{+=}}$, $\\normalsize \\color{purple}{\\texttt{+=}}$, $\\normalsize \\color{purple}{\\texttt{*=}}$, etc. nos permiten realizar operaciones sobre una variable sin tener que nombrarla dos veces.    \n"
   ]
  },
  {
   "cell_type": "code",
   "execution_count": null,
   "metadata": {},
   "outputs": [],
   "source": [
    "v1 = 1\n",
    "\n",
    "v1 += 3 # Incrementamos sobre v1. Es equivalente a escribir  \"v1 = v1 + 3\"\n",
    "        # Este metodo es mas eficiente y facil de escribir.\n",
    "print(v1)\n",
    "\n",
    "v1 *= 2 # También funciona con *=\n",
    "\n",
    "print(v1) "
   ]
  },
  {
   "cell_type": "code",
   "execution_count": null,
   "metadata": {
    "scrolled": true
   },
   "outputs": [],
   "source": [
    "v1 = 2  \n",
    "\n",
    "v2 = 3\n",
    "\n",
    "v2,frase = 2,\"hola\"   # Asignación Multiple. El orden es importante!\n",
    "\n",
    "#v1, v2, v3 =  v1 + 5, v2 + 2, 4\n",
    "\n",
    "print (v1,v2,frase)"
   ]
  },
  {
   "cell_type": "code",
   "execution_count": null,
   "metadata": {},
   "outputs": [],
   "source": [
    "v1 = 150\n",
    "v2 = 3\n",
    "\n",
    "\n",
    "v1 , v2  = v2 , v1  # Python nos permite intercambiar los valores de las variables fácilmente.\n",
    "\n",
    "print(\"v1=\",v1)\n",
    "print(\"v2=\",v2)\n",
    "\n",
    "v1 = True or 1 > 2\n",
    "print(type(v1))\n",
    "v1 = 5\n",
    "print(type(v1))"
   ]
  },
  {
   "cell_type": "code",
   "execution_count": null,
   "metadata": {},
   "outputs": [],
   "source": [
    "# Ahora contrastemos con este ejemplo (el cual no realiza el mismo trabajo) \n",
    "v1=150\n",
    "v2=3\n",
    "v1=v2\n",
    "v2=v1\n",
    "print(\"v1=\",v1)# Ahora v1 y v2 son iguales. \n",
    "print(\"v2=\",v2)"
   ]
  },
  {
   "cell_type": "markdown",
   "metadata": {},
   "source": [
    "\n",
    "El *tipo* de una variable es importante. Siempre debemos recordar cuales son los tipos de las variables que hemos definido, ya que **Python no provee ninguna forma de fijar el tipo de una variable**. \n",
    "\n",
    "\n",
    "Python nos provee funciones para cambiar el tipo de una variable. Si queremos cambiar el tipo de la variable $v$ al tipo $\\texttt{ftype}$, utilizamos el siguiente comando $\\texttt{v} = \\texttt{ftype(v)}$. \n",
    "\n",
    "\n",
    "El resultado dependera del tipo de la variable que queremos transformar, e.g. si convertimos una variable de punto flotatante a un entero utilizando la función $\\normalsize \\color{green}{\\textsf{int}}()$, solo obtendremos la parte entera de la variable. \n"
   ]
  },
  {
   "cell_type": "code",
   "execution_count": null,
   "metadata": {},
   "outputs": [],
   "source": [
    "print(n_entero)           # n_entero = 5\n",
    "print(float(n_entero))\n",
    "\n",
    "print(n_con_comma)        # n_con_comma = 0.3\n",
    "print(int(n_con_comma))\n",
    "\n",
    "print(complex(n_entero))\n",
    "\n",
    "n = int(input(\"numero. \"))\n",
    "\n",
    "print(n) "
   ]
  },
  {
   "cell_type": "markdown",
   "metadata": {},
   "source": [
    "\n",
    "Algunos nombre de variables estan protegidos. Es decir, *no podemos usarlos como nombres de variables y asginarles un valor*. \n",
    "\n",
    "Por Ejemplo:\n"
   ]
  },
  {
   "cell_type": "code",
   "execution_count": null,
   "metadata": {},
   "outputs": [],
   "source": [
    "True = 3  # True es un nombre protegido, por lo cual se generara un error."
   ]
  },
  {
   "cell_type": "markdown",
   "metadata": {},
   "source": [
    "Sólo algunos nombres (o palabras) están protegidos en Python, debemos tener cuidado. \n",
    "Las \"reglas basicas\" para nombrar variables para nombrar variables, son dependientes del lenguaje y del estilo de programación. \n",
    "Aquí mencionamos algunas reglas basicas:\n",
    "\n",
    "\n",
    "- asegurarse de no repetir nombres. \n",
    "- solo usar un caracter para las variable que no son importantes. \n",
    "- usar nombres especificos para las variables que son importantes. \n",
    "- no usar nombre se variables muy largos. \n",
    "\n",
    "Finalmente, ejecutando el código a continuación, podemos ver la lista de *nombres protegidos* de Python y la lista de *funciones pre-definidas* en Python. \n"
   ]
  },
  {
   "cell_type": "code",
   "execution_count": null,
   "metadata": {},
   "outputs": [],
   "source": [
    "import keyword\n",
    "for x in keyword.kwlist:\n",
    "    print(x,end=\" - \")#Esta es la lista de nombres (o palabras) protegidas.\n",
    "print()\n",
    "print()\n",
    "import builtins\n",
    "for x in  dir(builtins): #Funciones provistas por Python (built-in functions).  \n",
    "    print (x, end= \" - \")"
   ]
  },
  {
   "attachments": {},
   "cell_type": "markdown",
   "metadata": {},
   "source": [
    "# Algunas funciones de Python\n",
    "\n",
    "En Python, una función es invocada de la siguiente forma <code>function(variable_1, ..., variable_r)</code>. \n",
    "Ya hemos visto angunas funciones como $\\normalsize \\color{green}{\\textsf{print, type, int}}, \\ldots$. \n",
    "\n",
    "En la salida del programa anterior, puede verse una lista de las funciones provistas por Python ($\\textit{built-in functions}$). Luego, comenzaremos a definir nuestras propias funciones. Por el momento veremos algunos ejemplos útiles. \n"
   ]
  },
  {
   "cell_type": "markdown",
   "metadata": {},
   "source": [
    "## La función print\n",
    "\n",
    "La función $\\normalsize \\color{green}{\\textsf{print}}$ puede aceptar muchos argumentos de entrada. Los argumentos, ya sean valores o nombres de variables, se imprimiran en el mismo orden indicado, separados por un espacio.\n",
    "\n",
    "Por defecto la función $\\normalsize \\color{green}{\\textsf{print}}$ agrega un salto de linea al finalalizar la impresion de los datos.\n"
   ]
  },
  {
   "cell_type": "code",
   "execution_count": null,
   "metadata": {},
   "outputs": [],
   "source": [
    "print(3) # Imprime el número (entero) 3.\n",
    "print('dies irae') # Imprime el string dies irae\n",
    "print(True) # Imprime True"
   ]
  },
  {
   "cell_type": "code",
   "execution_count": null,
   "metadata": {},
   "outputs": [],
   "source": [
    "x = 2\n",
    "print(x) # Imprime el valor de la variable y no el nombre."
   ]
  },
  {
   "cell_type": "code",
   "execution_count": 1,
   "metadata": {},
   "outputs": [
    {
     "name": "stdout",
     "output_type": "stream",
     "text": [
      "3 -- dies irae -- True*"
     ]
    }
   ],
   "source": [
    "print(3,'dies irae',True,sep=' -- ', end=\"*\") # podemos imprimir diferentes argumentos \n",
    "                          # en la misma linea"
   ]
  },
  {
   "cell_type": "markdown",
   "metadata": {},
   "source": [
    "Para cambiar el 'terminador' del commando $\\normalsize \\color{green}{\\textsf{print}}$--que por defecto es \"\\n\" (barra n)--debemos añadir el argumento: $\\texttt{end=\"terminador\"}$."
   ]
  },
  {
   "cell_type": "code",
   "execution_count": null,
   "metadata": {},
   "outputs": [],
   "source": [
    "\n",
    "print(3,end=\"*\")            # Cambia el salto de linea por un * . \n",
    "print('dies irae',end=\"*\")  # Cambia el salto de linea por un * .\n",
    "print(True)                 # Imprime un salto de linea.\n",
    "print(3)           # Cambia el salto de linea por un espacio.\n",
    "print('dies irae',end=\"  \") # Cambia el salto de linea por un espacio.\n",
    "print(True)                 # Imprime un salto de linea."
   ]
  },
  {
   "cell_type": "markdown",
   "metadata": {},
   "source": [
    "## La función input\n",
    "\n",
    "La función $\\normalsize \\color{green}{\\textsf{input}}$ toma como argumento una cadena de caracteres. Luego, la consola del systema, escribe la cadena de caracteres y queda en espera a que el usuario introduzca algo con el teclado, lo cual sera el resultado devuelto por la funcion $\\normalsize \\color{green}{\\textsf{input}}$. \n",
    "\n",
    "**El tipo del resultado es siempre una cadena de caracteres!!** "
   ]
  },
  {
   "cell_type": "code",
   "execution_count": null,
   "metadata": {},
   "outputs": [],
   "source": [
    "n = input(\"Por favor ingrese un número : \")\n",
    "print(n)\n"
   ]
  },
  {
   "cell_type": "code",
   "execution_count": null,
   "metadata": {},
   "outputs": [],
   "source": [
    "print(type(n))     # El tipo de la variable n es 'srt' y no 'int'.\n",
    "print(int(n) + 1)    # Aquí vemos que pasa cuando mezclamos distintos tipos de datos (algunos serán compatibles).\n"
   ]
  },
  {
   "cell_type": "markdown",
   "metadata": {},
   "source": [
    "## La Función help\n",
    "\n",
    "La función $\\normalsize \\color{green}{\\textsf{help}}$ toma cualquier función predefinida en el lenguaje Python como argumento y nos muestra su codigo. "
   ]
  },
  {
   "cell_type": "code",
   "execution_count": null,
   "metadata": {},
   "outputs": [],
   "source": [
    "help(print)\n",
    "help(input)\n",
    "help(help)"
   ]
  },
  {
   "cell_type": "markdown",
   "metadata": {},
   "source": [
    "# Algunas reglas para escribir programas en Python.\n",
    "\n",
    "\n",
    "Todos los lenguajes de programación requieren de un gramatica estricta. En general, cuando comentemos un error, directamente obtendremos un mensaje de error, en muy pocos casos, el programa continuara y generalmente generando \"peores\" errores. Debemos recordar que la gramatica de Python forzada para mejorar la legibilidad del codigo fuente.\n",
    "\n",
    "En Python la ejecución de un archivo $\\textit{.py}$ ejecutara cada linea del archivo, una luego de la otra."
   ]
  },
  {
   "cell_type": "markdown",
   "metadata": {},
   "source": [
    "**Regla 1.** Como ya hemos visto, para terminar una linea de instrucciones (comandos) debemos pasar a la linea siguiente, i.e. Python utiliza el salto de linea (otros lenguajes terminan los comandos utilizando symbolos como *';', ':', ':'*, etc...) *El salto de linea tiene un significado especial en Python*. Por ello, es *imposible* escribir dos comandos en la misma linea. "
   ]
  },
  {
   "cell_type": "code",
   "execution_count": null,
   "metadata": {},
   "outputs": [],
   "source": [
    "a=3  b=2 #Error"
   ]
  },
  {
   "cell_type": "code",
   "execution_count": null,
   "metadata": {},
   "outputs": [],
   "source": [
    "a=3\n",
    "b=2\n",
    "a,b = 3,2"
   ]
  },
  {
   "cell_type": "markdown",
   "metadata": {},
   "source": [
    "En el siguiente ejemplo, escribimos una linea de codigo correcta. Sin embargo, es muy larga y dificulta la correcta lectura del programa."
   ]
  },
  {
   "cell_type": "code",
   "execution_count": null,
   "metadata": {},
   "outputs": [],
   "source": [
    "print('Lorem ipsum dolor sit amet, consectetur adipiscing elit, sed do eiusmod tempor incididunt ut labore et dolore magna aliqua. Ut enim ad minim veniam, quis nostrud exercitation ullamco laboris nisi ut aliquip ex ea commodo consequat. Duis aute irure dolor in reprehenderit in voluptate velit esse cillum dolore eu fugiat nulla pariatur. Excepteur sint occaecat cupidatat non proident, sunt in culpa qui officia deserunt mollit anim id est laborum.')"
   ]
  },
  {
   "cell_type": "markdown",
   "metadata": {},
   "source": [
    "La solución inmediata seria pasar a la siguiente linea. Pero como los saltos de linea tienen un significado estructural, el interprete entiende la primer linea de comandos como incompleta generando un error. "
   ]
  },
  {
   "cell_type": "code",
   "execution_count": null,
   "metadata": {},
   "outputs": [],
   "source": [
    "print('Lorem ipsum dolor sit amet, consectetur adipiscing elit, sed do eiusmod tempor incididunt\n",
    "      ut labore et dolore magna aliqua. Ut enim ad minim veniam, quis nostrud exercitation ullamco\n",
    "      laboris nisi ut aliquip ex ea commodo consequat. Duis aute irure dolor in reprehenderit\n",
    "      in voluptate velit esse cillum dolore eu fugiat nulla pariatur. Excepteur sint occaecat\n",
    "      cupidatat non proident, sunt in culpa qui officia deserunt mollit anim id est laborum.')"
   ]
  },
  {
   "cell_type": "markdown",
   "metadata": {},
   "source": [
    "**Regla 2.** La forma que nos provee Python para lidear con esto, es omitir el salto de linea añadiendo la barra *'\\'* antes del salto de linea. Debemos tener en cuenta, que al utilizar la barra, todo lo que este despues de ella no será considerado (como si estuviera comentado, ver siguiente)."
   ]
  },
  {
   "cell_type": "code",
   "execution_count": null,
   "metadata": {},
   "outputs": [],
   "source": [
    "print('Lorem ipsum dolor sit amet, consectetur adipiscing elit, sed do eiusmod tempor incididunt ut labore et dolore\\\n",
    "magna aliqua. Ut enim ad minim veniam,\\\n",
    " quis nostrud exercitation ullamco \\\n",
    "laboris nisi ut aliquip ex ea commodo consequat. Duis aute irure dolor in reprehenderit\\\n",
    "in voluptate velit esse cillum dolore eu fugiat nulla pariatur. \\\n",
    "Excepteur sint occaecat cupidatat non proident,\\\n",
    "sunt in culpa qui officia deserunt mollit anim id est laborum.')"
   ]
  },
  {
   "cell_type": "markdown",
   "metadata": {},
   "source": [
    "**Regla 3.** Para añadir comentarios en el codigo fuente (mejora la legibilidad del programa) utilizamos el symbolo numeral **'#'**. Neutraliza todo lo que este escrito hasta el salto de linea. Python no provee ninguna facilidad para escribir comentarios largos, debemos escribir el symbolo numeral en cada linea donde se extiende el comentario. Una buena practica para mejorar la legibilidad de los comentarios largos, es no escribir codigo referido al comentario durante la extensión del mismo. "
   ]
  },
  {
   "cell_type": "code",
   "execution_count": null,
   "metadata": {},
   "outputs": [],
   "source": [
    "a=1 # Asignamos 1 a la variable a\n",
    "\n",
    "a=1 # Re-asignamos el valor de a, podriamos  \n",
    "    # seguir escribiendo la finalidad de\n",
    "    # esta re-asignación, o continuar  \n",
    "    # ecribiendo sobre la instrucción a=1.\n",
    "    \n",
    "a=1 # Nuevo Comentario."
   ]
  },
  {
   "cell_type": "markdown",
   "metadata": {},
   "source": [
    "## Sentencias\n"
   ]
  },
  {
   "cell_type": "markdown",
   "metadata": {},
   "source": [
    "**Regla 4.** *Python es un lenguaje de programación indentado*. Esto significa que todas las lineas con comandos comienzan en el mismo lugar tienen el mismo *'status'* dentro de la lógica del programa. En otras palabras, *todos los espacios al comienzo de una linea tienen un significado* (excepto cuando usamos comentarios *'#'* ). "
   ]
  },
  {
   "cell_type": "code",
   "execution_count": null,
   "metadata": {},
   "outputs": [],
   "source": [
    "2+3 # Funciona sin problemas "
   ]
  },
  {
   "cell_type": "code",
   "execution_count": null,
   "metadata": {},
   "outputs": [],
   "source": [
    " 3+2 # Funciona sin problemas"
   ]
  },
  {
   "cell_type": "code",
   "execution_count": null,
   "metadata": {},
   "outputs": [],
   "source": [
    "2+3 \n",
    " 3+2 # Aquí la primera y segunda linea deben \n",
    "     # tener la misma indentación, porque no hay cambio \n",
    "     # en el flujo del programa como: \n",
    "     # ciclos, condicionales, definiciones, etc ... "
   ]
  },
  {
   "cell_type": "markdown",
   "metadata": {},
   "source": [
    "## Condiciones\n",
    "\n",
    "Para utilizar las instrucciones condicionales, debemos usar los dos puntos **':'**. La diferentes palabras reservadas de la instrucción condicional son: $\\normalsize \\color{green}{\\textsf{if}}$, $\\normalsize \\color{green}{\\textsf{elif}}$ y $\\normalsize \\color{green}{\\textsf{else}}$.  "
   ]
  },
  {
   "cell_type": "code",
   "execution_count": null,
   "metadata": {},
   "outputs": [],
   "source": [
    "if 0 == 1 : # si condición, ':' entonces\n",
    "    print('Es Verdadero')\n",
    "else: #sino,. \n",
    "    print('Es Falso')"
   ]
  },
  {
   "cell_type": "code",
   "execution_count": null,
   "metadata": {},
   "outputs": [],
   "source": [
    "if 0==1:\n",
    "    print('Problem')\n",
    "    else: #\"if\", \"elif\", y \"else\" deben tener la misma indentación. \n",
    "    print('No Problem')"
   ]
  },
  {
   "cell_type": "code",
   "execution_count": null,
   "metadata": {},
   "outputs": [],
   "source": [
    "if  0 == 0              # Error, faltan ':' \n",
    "    print('Problem')\n",
    "else: \n",
    "    print('No Problem')"
   ]
  },
  {
   "cell_type": "code",
   "execution_count": null,
   "metadata": {},
   "outputs": [],
   "source": [
    "if 0==1:\n",
    "    print('Problem')\n",
    "    \n",
    "    else:                  # Error de Indentacion\n",
    "        print('No Problem')"
   ]
  },
  {
   "attachments": {},
   "cell_type": "markdown",
   "metadata": {},
   "source": [
    "### Ejemplo:\n",
    "\n",
    "Se necesita realizar un programa para asistir a un empleado de un Cine (o Teatro). El empleado esta encargado de enviar a las personas a la sala correcta.\n",
    "\n",
    "Una vez comprada la entrada la audiencia se dirige al empleado, el cual, en base al número que figura en la entrada (3 dígitos) los envía a la sala correspondiente. Si la entrada es par, el empleado los dirige a la Sala 1. Cuando la entrada es impar los dirige a la sala 2.\n",
    "\n",
    "Recientemente, por un error en la impresión de las entradas han salido muchas con el número  000 , en este caso el empleado debe comunicarle al usuario que se dirija a la administraci'on para obtener una nueva entrada."
   ]
  },
  {
   "cell_type": "code",
   "execution_count": null,
   "metadata": {},
   "outputs": [],
   "source": [
    "n = int(input(\"Ingresar el número de su entrada: \"))\n",
    "\n",
    "if n < 0 or n>999 :\n",
    "    print(\"Entrada no valida.\")\n",
    "else:\n",
    "    if n == 0 :\n",
    "        print(\"Por favor consiga otro ticket.\")\n",
    "    elif 2*(n//2) == n: \n",
    "        print( \"Sala 1\") # Tenemos tres niveles de indentación. \n",
    "    else:\n",
    "        print(\"Sala 2\")\n"
   ]
  }
 ],
 "metadata": {
  "anaconda-cloud": {},
  "celltoolbar": "Slideshow",
  "kernelspec": {
   "display_name": "Python 3",
   "language": "python",
   "name": "python3"
  },
  "language_info": {
   "codemirror_mode": {
    "name": "ipython",
    "version": 3
   },
   "file_extension": ".py",
   "mimetype": "text/x-python",
   "name": "python",
   "nbconvert_exporter": "python",
   "pygments_lexer": "ipython3",
   "version": "3.11.3"
  },
  "nbpresent": {
   "slides": {
    "6fd7db55-fcb2-4f93-abe8-3b8b8774e3a1": {
     "id": "6fd7db55-fcb2-4f93-abe8-3b8b8774e3a1",
     "prev": null,
     "regions": {
      "8a501b0f-e9cf-4c6c-8c59-08ef5391405a": {
       "attrs": {
        "height": 0.8,
        "width": 0.8,
        "x": 0.1,
        "y": 0.1
       },
       "content": {
        "cell": "40a7701e-a37f-426c-8fc9-f65b525a98ac",
        "part": "whole"
       },
       "id": "8a501b0f-e9cf-4c6c-8c59-08ef5391405a"
      }
     }
    }
   },
   "themes": {}
  },
  "widgets": {
   "application/vnd.jupyter.widget-state+json": {
    "state": {},
    "version_major": 2,
    "version_minor": 0
   }
  }
 },
 "nbformat": 4,
 "nbformat_minor": 1
}
