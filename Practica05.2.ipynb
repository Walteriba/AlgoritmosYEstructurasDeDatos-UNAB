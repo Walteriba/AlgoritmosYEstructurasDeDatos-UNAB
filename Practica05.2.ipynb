{
 "cells": [
  {
   "cell_type": "markdown",
   "metadata": {
    "pycharm": {
     "metadata": false
    }
   },
   "source": [
    "## Ejercicios\n",
    "\n",
    "### Ej. 1:\n",
    "\n",
    "Escribir un programa que asisgne un elemento `e` en una lista, basado en un indice `i`. Si el indice esta fuera de rango, el programa debe manejar la excepción e imprimir el siguiente mensaje:\n",
    "\n",
    "`\"No pasarse de memoria!\"`"
   ]
  },
  {
   "cell_type": "code",
   "execution_count": null,
   "metadata": {},
   "outputs": [],
   "source": [
    "lista = [1, 2, 3, 4, 5]\n",
    "\n",
    "try:\n",
    "    i = int(input(\"Ingrese un índice: \"))\n",
    "    e = int(input(\"Ingrese un elemento: \"))\n",
    "    lista[i] = e\n",
    "except IndexError:\n",
    "    print(\"No pasarse de memoria!\")\n",
    "    \n",
    "print(lista)"
   ]
  },
  {
   "cell_type": "markdown",
   "metadata": {},
   "source": [
    "### Ej. 2: \n",
    "\n",
    "Escribir una función recursiva para encontrar el mayor elemento de una secuencia `S`, de cardinalidad `n`."
   ]
  },
  {
   "cell_type": "code",
   "execution_count": null,
   "metadata": {},
   "outputs": [],
   "source": [
    "#Hecho en 05.1"
   ]
  },
  {
   "cell_type": "markdown",
   "metadata": {},
   "source": [
    "### Ej. 3: \n",
    "\n",
    "Escribir una función **minmax(data)**, la cuál contiene una secuencia (no vacía) de números, y debe retornar, el menor y el mayor elemento, en forma de una *tupla* de longitud 2, es decir una tupla con dos elementos.  "
   ]
  },
  {
   "cell_type": "code",
   "execution_count": null,
   "metadata": {},
   "outputs": [],
   "source": [
    "#Hecho en 05.1"
   ]
  },
  {
   "cell_type": "markdown",
   "metadata": {
    "pycharm": {}
   },
   "source": [
    "### Ej. 4:\n",
    "\n",
    "Torres de Hanoi: https://es.wikipedia.org/wiki/Torres_de_Han%C3%B3i\n",
    "\n",
    "En el juego de las *Torres de Hanoi*, tenemos 3 postes `a`, `b` y `c` sobre una base de soporte. En el poste `a` hay una pila de `n` discos, cada uno de diametro mayor al siguiente, con el disco de mayor diametro debajo. El juego consiste en pasar todos los discos desde el poste `a` al poste `c`, moviendo de a un disco, los discos solo pueden ser pasados a un poste que contiene un disco de mayor diametro. Escriba una función recursiva para resolver el juego para un número arbitrario `n`.       "
   ]
  },
  {
   "cell_type": "code",
   "execution_count": 33,
   "metadata": {},
   "outputs": [
    {
     "name": "stdout",
     "output_type": "stream",
     "text": [
      "Mover disco 1 de poste A a poste C\n",
      "Mover disco 2 de poste A a poste B\n",
      "Mover disco 1 de poste C a poste B\n",
      "Mover disco 3 de poste A a poste C\n",
      "Mover disco 1 de poste B a poste A\n",
      "Mover disco 2 de poste B a poste C\n",
      "Mover disco 1 de poste A a poste C\n"
     ]
    }
   ],
   "source": [
    "def torres_hanoi(n, origen, destino, intermedio):\n",
    "    if n == 1:\n",
    "        print(f\"Mover disco {n} de poste {origen} a poste {destino}\")\n",
    "        return\n",
    "    torres_hanoi(n-1, origen, intermedio, destino)\n",
    "    print(f\"Mover disco {n} de poste {origen} a poste {destino}\")\n",
    "    torres_hanoi(n-1, intermedio, destino, origen)\n",
    "\n",
    "# Ejemplo de uso:\n",
    "torres_hanoi(3, 'A', 'C', 'B')\n",
    "    "
   ]
  },
  {
   "cell_type": "markdown",
   "metadata": {
    "pycharm": {}
   },
   "source": [
    "### Ej. 5:\n",
    "\n",
    "Escribir una función recursiva para determinar si un string tiene mas vocales que consonantes."
   ]
  },
  {
   "cell_type": "code",
   "execution_count": null,
   "metadata": {},
   "outputs": [],
   "source": [
    "#Hecho en 05.1"
   ]
  },
  {
   "cell_type": "markdown",
   "metadata": {},
   "source": [
    "### Ej. 6:\n",
    "\n",
    "La siguiente función utiliza manejo de errores anidados. Cuál es el resultado de `a(0)`? Cuáles bloques `finally` serán ejecutados? "
   ]
  },
  {
   "cell_type": "code",
   "execution_count": null,
   "metadata": {},
   "outputs": [],
   "source": []
  }
 ],
 "metadata": {
  "kernelspec": {
   "display_name": "Python 3",
   "language": "python",
   "name": "python3"
  },
  "language_info": {
   "codemirror_mode": {
    "name": "ipython",
    "version": 3
   },
   "file_extension": ".py",
   "mimetype": "text/x-python",
   "name": "python",
   "nbconvert_exporter": "python",
   "pygments_lexer": "ipython3",
   "version": "3.11.3"
  },
  "stem_cell": {
   "cell_type": "raw",
   "metadata": {
    "pycharm": {
     "metadata": false
    }
   },
   "source": ""
  }
 },
 "nbformat": 4,
 "nbformat_minor": 2
}
