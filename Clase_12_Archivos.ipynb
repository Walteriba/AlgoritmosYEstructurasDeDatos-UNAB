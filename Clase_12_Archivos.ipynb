{
 "cells": [
  {
   "attachments": {},
   "cell_type": "markdown",
   "metadata": {},
   "source": [
    "# Algoritmos y Estructuras de Datos. \n",
    "\n",
    "## - Clase 12 - Archivos - "
   ]
  },
  {
   "attachments": {},
   "cell_type": "markdown",
   "metadata": {},
   "source": [
    "## Manejo de Archivos la libreria \"paths\"\n",
    "\n",
    "Ya hemos visto como incluir librerias y archivos <code>.py</code>, por ejemplo cuando se encuentran en el mismo directorio. También es posible leer archivos <code>.py</code> que se encuentren en otros directorios, además de poder abrir los contenidos de distintos tipos de archivos (i.e. txt, png, etc). Para ello es necesario especificar la **ruta al archivo (path)** que queremos acceder.   \n",
    "\n",
    "Como las rutas hacia los archivos, son *cadenas de characteres* con un formato especial, necesitaremos usar el módulo <code>Path</code>, el cual esta contenido se encuantre contenido dentro del móodulo  <code>pathlib</code> \n",
    "\n",
    "Veremos un ejemplo a continuación de cómo inportar un archivo  <code>.py</code> que se encuetra \"otro\" directorio (no en la carpeta local).\n",
    " "
   ]
  },
  {
   "attachments": {},
   "cell_type": "markdown",
   "metadata": {},
   "source": [
    "\n",
    "Una *path* puede se definido llamando la función (o método)  <code>Path(directorio)</code>, en donde,  <code>directorio</code> es el string que contiene la ruta a la carpeta donde se encuentra el archivo que deseamos accedeer. \n"
   ]
  },
  {
   "cell_type": "code",
   "execution_count": null,
   "metadata": {},
   "outputs": [],
   "source": [
    "from pathlib import Path"
   ]
  },
  {
   "cell_type": "code",
   "execution_count": null,
   "metadata": {},
   "outputs": [],
   "source": [
    "p=Path('~/Desktop') # Llamada \"estilo\" linux '/' \n",
    "\n",
    "q=Path('nombre_incorrecto**deDireecion') # También podemos usar otros métodos, algunos funcionaran, \n",
    "                                         # y otros no, dependiando de la vriable de systema \"PATH\""
   ]
  },
  {
   "attachments": {},
   "cell_type": "markdown",
   "metadata": {},
   "source": [
    "\n",
    "Es possible añadir más información o extender el path luego.\n"
   ]
  },
  {
   "cell_type": "code",
   "execution_count": 1,
   "metadata": {},
   "outputs": [
    {
     "ename": "NameError",
     "evalue": "name 'p' is not defined",
     "output_type": "error",
     "traceback": [
      "\u001b[1;31m---------------------------------------------------------------------------\u001b[0m",
      "\u001b[1;31mNameError\u001b[0m                                 Traceback (most recent call last)",
      "Cell \u001b[1;32mIn[1], line 1\u001b[0m\n\u001b[1;32m----> 1\u001b[0m p\u001b[39m=\u001b[39mp \u001b[39m/\u001b[39m \u001b[39m'\u001b[39m\u001b[39mIntroduction_To_Programming\u001b[39m\u001b[39m'\u001b[39m\n\u001b[0;32m      2\u001b[0m \u001b[39mprint\u001b[39m(p)\n",
      "\u001b[1;31mNameError\u001b[0m: name 'p' is not defined"
     ]
    }
   ],
   "source": [
    "p=p / 'Introduction_To_Programming'\n",
    "print(p)"
   ]
  },
  {
   "attachments": {},
   "cell_type": "markdown",
   "metadata": {},
   "source": [
    "### Los métodos  <code>cwd</code> y  <code>home</code>\n",
    "\n",
    "Primero, podemos acceder el directorio donde se encuentra el archivo llamando al método <code>cwd</code> del <code>Path</code> (<code>'cwd'</code> significa, \"directorio de trabajo actual\", *'Current Working Directory'*).\n"
   ]
  },
  {
   "cell_type": "code",
   "execution_count": null,
   "metadata": {},
   "outputs": [],
   "source": [
    "Path.cwd() # el método \"cwd\" retorna el Path de la localizazión del archivo en el cual estamos trabajando."
   ]
  },
  {
   "cell_type": "code",
   "execution_count": null,
   "metadata": {},
   "outputs": [],
   "source": [
    "p=Path.home() # Será el nuevo directorio home o \"base\",\n",
    "                               # desde el cual podemos definr la ruta a los archivos \"locales\".  \n",
    "                               # Usamos \"/\" par la concatenación de 'paths'\n",
    "print(p)\n",
    "p.exists()\n"
   ]
  },
  {
   "attachments": {},
   "cell_type": "markdown",
   "metadata": {},
   "source": [
    "### Dónde \"apunta\" el path? \n",
    "\n",
    "A priori, un **path** debe ser una \"ruta validad\", es decir, si el string que pasamos como argumento no existe, tiene el formato incorrecto (o no tenenmos accesso), puede ocurrir que no reporte un **Mensage Error**. Si quermos saber de ante-mano si el *path* es \"valido\", podemos utilizar el método <code>exists</code>.    \n"
   ]
  },
  {
   "cell_type": "code",
   "execution_count": null,
   "metadata": {},
   "outputs": [],
   "source": [
    "p=Path('path_inexistente') # Caulquier path \"erroneo\"\n",
    "print(p)\n",
    "print(p.exists())  # Usamos el método'exists' para segurarnos que el path \"existe\" (o \"es valido\")\n",
    "p=Path.home()  # Un path\n",
    "print(p)\n",
    "print(p.exists()) # Okay\n",
    "p=Path(\"C:/Users/Walva/OneDrive/Escritorio/Walter/Facultad Y Estudios/UNAB/Algoritmos y Estructuras de datos\")\n",
    "print(p)\n",
    "print(p.exists()) # Okay\n",
    "\n"
   ]
  },
  {
   "attachments": {},
   "cell_type": "markdown",
   "metadata": {},
   "source": [
    "\n",
    "También podemos chequear si un path apuntando a un directorio o archivo es correcto, utilizando los métodos <code>is_dir</code> y <code>is_file</code> \n"
   ]
  },
  {
   "cell_type": "code",
   "execution_count": null,
   "metadata": {},
   "outputs": [],
   "source": [
    "p=Path.home() /'OneDrive'/'Escritorio'/'Walter'/'Facultad Y Estudios'/'UNAB'/'Algoritmos y Estructuras de datos'\n",
    "print(p)\n",
    "\n",
    "print(\"\\\"el path {} is apunta al directorio \\\" : {}\".format(p,p.is_dir()))\n",
    "print(\"\\\"el path {} is apunta al archivo  \\\" : {}\".format(p,p.is_file()))\n",
    "p=p / '1er Parcial Resuelto.py'  # Reeplazar por la ruta a un archivo existente  \n",
    "\n",
    "print(\"\\\"the path {} is pointing to a directory  \\\" : {}\".format(p,p.is_dir()))\n",
    "print(\"\\\"the path {} is pointing to a file  \\\" : {}\".format(p,p.is_file()))\n"
   ]
  },
  {
   "attachments": {},
   "cell_type": "markdown",
   "metadata": {},
   "source": [
    "### El método  <code>mkdir</code>\n",
    "\n",
    "Este método nos permite crear un directorio en un path (actual u otro path diferente).\n"
   ]
  },
  {
   "cell_type": "code",
   "execution_count": null,
   "metadata": {},
   "outputs": [],
   "source": [
    "p=Path.home()/'OneDrive'/'Escritorio'/'Nowitexist'\n",
    "print(p)\n",
    "print(p.exists())\n",
    "\n",
    "p.mkdir() # Crea el directorio en el path asignado.\n",
    "print(p.exists())\n"
   ]
  },
  {
   "cell_type": "code",
   "execution_count": null,
   "metadata": {},
   "outputs": [],
   "source": [
    "p.mkdir() # Nos retornara error si el directorio ya existe..."
   ]
  },
  {
   "cell_type": "code",
   "execution_count": null,
   "metadata": {},
   "outputs": [],
   "source": [
    "p.mkdir(exist_ok=True) # podemoms suprimir algunos errores. \n",
    "\n",
    "help(p.mkdir)\n",
    "dir(p.mkdir)\n",
    "\n",
    "\"\"\"\n",
    "exist_ok (optional) : A default value False is used for this parameter. If the target directory already exists an OSError is raised if its value is False otherwise not. \n",
    "For value True leaves directory unaltered. \"\"\""
   ]
  },
  {
   "attachments": {},
   "cell_type": "markdown",
   "metadata": {},
   "source": [
    "### El método  <code>rmdir</code>\n",
    "\n",
    "Este método borra un directorio en un path espcificado. **Como método de seguridad, sólo se pueden borrar directorios que esten vacios**. Este método nos devuleve un error si el directorio no exixte.    \n"
   ]
  },
  {
   "cell_type": "code",
   "execution_count": null,
   "metadata": {},
   "outputs": [],
   "source": [
    "p=Path.home()/'OneDrive'/'Escritorio'/'Nowitexist'\n",
    "p.rmdir()"
   ]
  },
  {
   "attachments": {},
   "cell_type": "markdown",
   "metadata": {},
   "source": [
    "### El método  <code>glob</code> y <code>parts</code>"
   ]
  },
  {
   "cell_type": "code",
   "execution_count": null,
   "metadata": {},
   "outputs": [],
   "source": [
    "# glob(pattern) retonara un iterador sobre una colección de todos los paths dado un \"parton\",\n",
    "# un parton siempre utiliza el carcter \"*\"\n",
    "\n",
    "p=Path.home() /'OneDrive'/'Escritorio'/'Walter'/'Facultad Y Estudios'/'UNAB'/'Algoritmos y Estructuras de datos'\n",
    "list(p.glob('*.pdf'))\n"
   ]
  },
  {
   "cell_type": "code",
   "execution_count": null,
   "metadata": {},
   "outputs": [],
   "source": [
    "# 'parts' es un atributo del path conteniendo todos el path \"superior\" (parents)\n",
    "\n",
    "p.parts\n"
   ]
  },
  {
   "attachments": {},
   "cell_type": "markdown",
   "metadata": {},
   "source": [
    "## Manipulación de Archivos\n",
    "\n",
    "El módulo <code>os</code> nos permite mover archivos de un directorio a otro, también nos permite borrar archivos o directorios (entre otras funcionalidades). \n"
   ]
  },
  {
   "attachments": {},
   "cell_type": "markdown",
   "metadata": {},
   "source": [
    "\n",
    "Utilizamos el método <code>remove</code> del módulo <code>os</code> para borrar un archivo. Este método retorna un eror si el archivo no existe en path dado. \n"
   ]
  },
  {
   "cell_type": "code",
   "execution_count": null,
   "metadata": {},
   "outputs": [],
   "source": [
    "import os"
   ]
  },
  {
   "cell_type": "code",
   "execution_count": null,
   "metadata": {},
   "outputs": [],
   "source": [
    "p=Path.home() /'OneDrive'/'Escritorio'\n",
    "#para esta prueba hay que tener creado el archivo de antemano, ya que no lo creamos con python todavia\n",
    "os.remove(p /'1.txt')  # hay que poner el archivo con su correspondiente extension"
   ]
  },
  {
   "attachments": {},
   "cell_type": "markdown",
   "metadata": {},
   "source": [
    "\n",
    "Utilizamos el método <code>rename</code> para darle un nuevo nombre a un archivo o cambiar el directorio (similar a cómo <code>mv</code> es usado para renombrar o mover archivos en linux).\n"
   ]
  },
  {
   "cell_type": "code",
   "execution_count": null,
   "metadata": {},
   "outputs": [],
   "source": [
    "os.rename(p/'1.txt', p/'Homework1000.pdf') # Cambio de nombre y extension si es necesario(aunque causa error)"
   ]
  },
  {
   "cell_type": "code",
   "execution_count": null,
   "metadata": {},
   "outputs": [],
   "source": [
    "p=Path.home()/'OneDrive'/'Escritorio'/'img'\n",
    "p.mkdir()\n",
    "p=Path.home()/'OneDrive'/'Escritorio'\n",
    "os.rename(p/'Homework1000.pdf',p/'img'/'Lecture6.pdf')\n",
    "# Cambia el directorio donde se encuenta el archivo"
   ]
  },
  {
   "attachments": {},
   "cell_type": "markdown",
   "metadata": {},
   "source": [
    "\n",
    "Para copiar un archivo de un directorio a otro, debemos usar el módulo <code>shutil</code>.\n"
   ]
  },
  {
   "attachments": {},
   "cell_type": "markdown",
   "metadata": {},
   "source": [
    "\n",
    "Tenemos diferentes métodos para copiar archivos dentro de <code>shutil</code>: <code>copy</code>, <code>copy2</code>, y <code>copyfile</code>. En todos los casos debemos pasar los path del archivo y el directorio en donde queremos copiar. \n",
    "\n",
    "\n",
    "Los métodos <code>copy</code> y <code>copy2</code> el path final del archivo a copiar, puede ser un path a un directorio exitente o a un archivo \"inexistente\". En el primer caso, el archivo se copiara con su nombre original, en el segundo, se copiara con el nuevo monbre asignado. \n",
    "\n",
    "Para el método <code>copyfile</code>, el segundo argumento no puede ser un directorio.\n",
    "\n",
    "La diferencia entre <code>copy</code> y <code>copy2</code>, es que el segundo tratara de copiar todos los atributos de un archivo incluida la metadata. Cuando en duda, utilizar <code>copy2</code>.\n"
   ]
  },
  {
   "cell_type": "code",
   "execution_count": null,
   "metadata": {},
   "outputs": [],
   "source": [
    "import shutil"
   ]
  },
  {
   "cell_type": "code",
   "execution_count": null,
   "metadata": {},
   "outputs": [],
   "source": [
    "shutil.copy2(p / '1.txt',p / 'img' / '1.txt')"
   ]
  },
  {
   "attachments": {},
   "cell_type": "markdown",
   "metadata": {},
   "source": [
    "## Apertura y cierre de Archivo\n",
    "\n",
    "Con Python podemos precesar archivos de texto de manera automatica. Para abrir un archivo utilizaremos el comando <code>open</code>.\n",
    "\n",
    "Ejemplo: <code>open(path, string)</code>\n",
    "\n",
    "El primer argumento es el path ar alchivo que queremos abrir. El segundo argumento, es opcional, y especifica que queremos hacer son el archivo, es decir, en que *'modo'* abriremoms el archivo. \n",
    "\n",
    "Tambien podemos añadir <code>'b'</code> al segundo argumento para espcificar que el archivo es *'binario'* y no un archivo de texto.\n"
   ]
  },
  {
   "cell_type": "code",
   "execution_count": null,
   "metadata": {},
   "outputs": [],
   "source": [
    "p=Path.home() /'OneDrive'/'Escritorio'/'img'\n",
    "f=open(p /'1.txt', 'r') # Crea una variable f que \"contiene al archivo\" (el 'handle')\n"
   ]
  },
  {
   "cell_type": "code",
   "execution_count": null,
   "metadata": {},
   "outputs": [],
   "source": [
    "print(type(f))"
   ]
  },
  {
   "cell_type": "code",
   "execution_count": null,
   "metadata": {},
   "outputs": [],
   "source": [
    "print(f.read()) # Ejemplo"
   ]
  },
  {
   "cell_type": "code",
   "execution_count": null,
   "metadata": {},
   "outputs": [],
   "source": [
    "f.close() # Cerrar el Archivo\n",
    "f.closed  # Checquea si el archivo fue cerrado. "
   ]
  },
  {
   "cell_type": "code",
   "execution_count": null,
   "metadata": {},
   "outputs": [],
   "source": [
    "f.read() #error ya que el archivo esta cerrado"
   ]
  },
  {
   "attachments": {},
   "cell_type": "markdown",
   "metadata": {},
   "source": [
    "\n",
    "Cuando el archivo <code>f</code> es cerrado, la variable <code>f</code> continua asignada al achivo, pero no podemos hacer nada con ella (sólo 're-abrirla'). Tratar de utilizar <code>f</code> generara un Error. \n",
    "\n",
    "Dejar los archivos en los que hemos finalizado de trabajar abiertos por error, puede generar errores y decrementar la eficiencia de Python (debido al uso 'extra' de memoria). Podemos utilizar el método <code>with</code> para asegurarnos que estamos trabajando con el archivo de manera apropiada. \n"
   ]
  },
  {
   "cell_type": "code",
   "execution_count": null,
   "metadata": {},
   "outputs": [],
   "source": [
    "# Ejemplo:\n",
    "with open(p /'1.txt', 'r') as f:\n",
    "    print(f.read()) # Utilizar el archivo\n",
    "    \n",
    "f.closed # luego el archivo esta cerrado. \n",
    "         # Como podemos ver el archivo solo esta \"abierto\" dentro del bloque \"with\" \n"
   ]
  },
  {
   "attachments": {},
   "cell_type": "markdown",
   "metadata": {},
   "source": [
    "## Archivos de Texto vs. Archivos Binarios\n",
    "\n",
    "Cómo hemos mencionadom los archivo pueden ser *'archivos de texto'*, o *'archivos binarios*.  \n",
    "\n",
    "\n",
    "Ejemplos de *archivos de texto*:\n",
    "\n",
    "- archivos de python .py\n",
    "- archivos de texto .txt\n",
    "- archivos LaTeX .tex\n",
    "- archivos HTML .html\n",
    "- ...\n",
    "\n",
    "Cuando abrimos un archivo de texto, podrermos ver inmediatamente que esta escrito en ella. Debemos tener en cuenta que la codificación de caracteres por defecto es **utf-8**. \n",
    "\n",
    "Cuando tratamos de escribir en un archivo binario, como si fuese un archivo de texto, obtendremos un Error.\n",
    "\n",
    "**Importante :** modificar un archivo binario es una operación mas compleja, ya que debemos saber como esta codificada la información.\n"
   ]
  },
  {
   "cell_type": "code",
   "execution_count": null,
   "metadata": {},
   "outputs": [],
   "source": [
    "# Ejemplo\n",
    "with open(p/'1.txt', 'r+b') as f:\n",
    "    f.write(b'929838') # utilizamos b'.......' para utilizar un tipo especifico cuando usamoms archivos binarios. \n",
    "    \n",
    "    print(f.read(100))\n",
    "    "
   ]
  },
  {
   "attachments": {},
   "cell_type": "markdown",
   "metadata": {},
   "source": [
    "\n",
    "Todos los archivos (incluso los rchivos de texto) estan codificados de forma binaria. \n"
   ]
  },
  {
   "cell_type": "code",
   "execution_count": null,
   "metadata": {},
   "outputs": [],
   "source": [
    "with open(p/'dummy.txt','w') as f:\n",
    "    f.write(' A Frase a escribir') # Escribimos en el archivo\n",
    "    \n",
    "bytedata=bytes(b' A Frase a escribir') # Convertimos a un string binario\n",
    "print(list(bytearray(bytedata))) # Vemos la informacion como caracteres desde el 0 hasta 2^8 - 1\n",
    "\n",
    "with open(p/'dummy.txt','rb') as g: # Leer el archivo de forma binaria\n",
    "    databyte=g.read() \n",
    "    \n",
    "databyte==bytedata # ambos son iguales, los dos archivos de texto comparten la misma codificacion\n",
    "\n",
    "    "
   ]
  },
  {
   "attachments": {},
   "cell_type": "markdown",
   "metadata": {},
   "source": [
    "$~$"
   ]
  },
  {
   "attachments": {},
   "cell_type": "markdown",
   "metadata": {},
   "source": [
    "## Commandos para manipular Archivos\n",
    "\n",
    "\n",
    "Cuando abrimos un archivo debemoms recordar que debemos especificar en que **modo**, es decir, **escritura**, **lectura**, **lectura/escritura**, o **agrregar al final**. \n",
    "\n"
   ]
  },
  {
   "attachments": {},
   "cell_type": "markdown",
   "metadata": {},
   "source": [
    "### Modo Lectura"
   ]
  },
  {
   "cell_type": "code",
   "execution_count": null,
   "metadata": {},
   "outputs": [],
   "source": [
    "textfile=open(p/'2.txt','r') # Abrimos el archivo en modo lectura 'r'. RECORDAR QUE EL ARCHIVO ESTA EN escritorio/img"
   ]
  },
  {
   "attachments": {},
   "cell_type": "markdown",
   "metadata": {},
   "source": [
    "\n",
    "El método <code>read()</code> retornara todo el contenido del archivo como un string de caracterres.\n"
   ]
  },
  {
   "cell_type": "code",
   "execution_count": null,
   "metadata": {},
   "outputs": [],
   "source": [
    "textfile.read(100)"
   ]
  },
  {
   "cell_type": "code",
   "execution_count": null,
   "metadata": {},
   "outputs": [],
   "source": [
    "textfile.read(100) # No contiene datos."
   ]
  },
  {
   "attachments": {},
   "cell_type": "markdown",
   "metadata": {},
   "source": [
    "\n",
    "Cuando llamamos al método <code>read()</code> dos veces, la primer llamada retornara todo el texto, en cuanto la segunda retornara un string vacio. Esto es porque el método <code>read()</code> leera el archivo hasta el final (<code>EOF</code>, 'End Of File') y el no retorna el puntero al comienzo del archivo. \n",
    "\n",
    "Para saber donde esta posicionado el *'puntero al archivo'*, es decir, en que posicion estamos dentro del archivo, utilizaremos el método <code>tell</code>. \n"
   ]
  },
  {
   "cell_type": "code",
   "execution_count": null,
   "metadata": {
    "scrolled": true
   },
   "outputs": [],
   "source": [
    "textfile=open(p/'2.txt','r')\n",
    "print(\"Pointer before reading : \",textfile.tell())\n",
    "textfile.read()\n",
    "print(\"Pointer after reading : \",textfile.tell())\n",
    "textfile.close()"
   ]
  },
  {
   "attachments": {},
   "cell_type": "markdown",
   "metadata": {},
   "source": [
    "\n",
    "Debemos ser cuidadosos al utilizar el método <code>tell</code>, especialemnte cuando utilizamos un indice.\n"
   ]
  },
  {
   "cell_type": "code",
   "execution_count": null,
   "metadata": {},
   "outputs": [],
   "source": [
    "# Ejemplo: \n",
    "textfile=open(p/'1.txt','w')\n",
    "textfile.write('Hola Mundo!')\n",
    "textfile.close()\n",
    "textfile=open(p/'1.txt','r')\n",
    "i=0\n",
    "j=textfile.tell()\n",
    "c=textfile.read(0)\n",
    "while i<len('Hola Mundo!'):    \n",
    "    j=textfile.tell()\n",
    "    c=textfile.read(1)\n",
    "    i+=1\n",
    "    print(\"character read : \",c,\"| index \",i, \"| tell value\",j) \n",
    "\n"
   ]
  },
  {
   "attachments": {},
   "cell_type": "markdown",
   "metadata": {},
   "source": [
    "\n",
    "Tambien occurre en el texto que estabamos utilizando.\n"
   ]
  },
  {
   "cell_type": "code",
   "execution_count": null,
   "metadata": {},
   "outputs": [],
   "source": [
    "textfile=open(p/'1.txt','r')\n",
    "data=textfile.read(20000) # codifica los primeros 20 000 characters\n",
    "textfile.close()\n",
    "textfile=open(p/'1.txt','r')\n",
    "i=0\n",
    "j=textfile.tell()\n",
    "c=textfile.read(0)\n",
    "while i<len(data):\n",
    "    j=textfile.tell()\n",
    "    c=textfile.read(1)\n",
    "    i+=1\n",
    "    print(\"character read : \",c,\"| index \",i, \"| tell value\",j) # Ir a '19988'\n",
    "\n",
    "# Existen algunos problemas con ciertos caracteres especiales....\n"
   ]
  },
  {
   "attachments": {},
   "cell_type": "markdown",
   "metadata": {},
   "source": [
    "\n",
    "El método <code>tell</code> funcionara correctamente sólo para *'archivos binarios'*. Debemos ser mas cuidadosos utilizando <code>tell</code> en archivos de texto. \n"
   ]
  },
  {
   "attachments": {},
   "cell_type": "markdown",
   "metadata": {},
   "source": [
    "\n",
    "Si queremos leer $N$ caracteres, podemos agregar $N$ como argumento al método <code>read</code>. También, podemos leer un archivo \"linea a linea\" utilizando el método <code>readline</code> (caracter de \"corte de linea\" <code>\\n</code>).\n"
   ]
  },
  {
   "cell_type": "code",
   "execution_count": null,
   "metadata": {},
   "outputs": [],
   "source": [
    "textfile=open(p/'2.txt','r')\n",
    "print(textfile.readline())\n",
    "print(textfile.readline())\n",
    "print(textfile.readline())\n",
    "print(textfile.readline())\n",
    "print(textfile.readline())\n",
    "print(textfile.readline())\n",
    "print(textfile.readline())\n",
    "print(textfile.readline())\n",
    "print(textfile.readline())\n",
    "print(textfile.readline())\n",
    "print(textfile.readline())\n",
    "print(textfile.readline())\n",
    "print(textfile.readline())\n",
    "print(textfile.readline())\n",
    "print(textfile.readline())\n",
    "print(textfile.readline())"
   ]
  },
  {
   "attachments": {},
   "cell_type": "markdown",
   "metadata": {},
   "source": [
    "\n",
    "Finalmente, podemos notar que un archivo puede ser visto como un iterador. Será un iterador de las lineas contenidas en el archivo. Esta, es la mejor manera de recorrer/imprimir un archivo de texto.\n"
   ]
  },
  {
   "cell_type": "code",
   "execution_count": null,
   "metadata": {},
   "outputs": [],
   "source": [
    "textfile=open(p/'1.txt','r')\n",
    "for x in textfile:\n",
    "    print(x)\n",
    "textfile.close()"
   ]
  },
  {
   "attachments": {},
   "cell_type": "markdown",
   "metadata": {},
   "source": [
    "### Modos de Escritura\n",
    "\n",
    "Tenemos, a priori, tres modos de escribir sobre un archivo: <code>'w'</code>, <code>'r+'</code>, y <code>'a'</code>. Los vermos en este orden a continuación. \n"
   ]
  },
  {
   "cell_type": "code",
   "execution_count": null,
   "metadata": {},
   "outputs": [],
   "source": [
    "#p=Path.home()/'Desktop'\n",
    "shutil.copy2(p/'1.txt',p/'1_copy.txt') "
   ]
  },
  {
   "attachments": {},
   "cell_type": "markdown",
   "metadata": {},
   "source": [
    "\n",
    "Si abrimoms un archivo directamente en modo escritura <code>'w'</code>, *todo será borrado en el archivo* \n"
   ]
  },
  {
   "cell_type": "code",
   "execution_count": null,
   "metadata": {},
   "outputs": [],
   "source": [
    "with open(p/'1_copy.txt', 'r') as f:\n",
    "    print(f.read(100))"
   ]
  },
  {
   "cell_type": "code",
   "execution_count": null,
   "metadata": {},
   "outputs": [],
   "source": [
    "textfile=open(p/'1_copy.txt','w')\n",
    "# Ahora el archivo esta vacio?!?!"
   ]
  },
  {
   "cell_type": "code",
   "execution_count": null,
   "metadata": {},
   "outputs": [],
   "source": [
    "textfile.close()"
   ]
  },
  {
   "attachments": {},
   "cell_type": "markdown",
   "metadata": {},
   "source": [
    "\n",
    "**Importante:** cuando unamos en modo <code>'w'</code> para abrir un archivo, estamos sobre-escribiendo el archivo original y creando un archivo nuevo (en blanco) con el mismo nombre.   \n"
   ]
  },
  {
   "cell_type": "code",
   "execution_count": null,
   "metadata": {},
   "outputs": [],
   "source": [
    "p=Path.home()/'OneDrive'/'Escritorio'/'img'\n",
    "shutil.copy2(p/'1.txt',p/'3_copy.txt') "
   ]
  },
  {
   "attachments": {},
   "cell_type": "markdown",
   "metadata": {},
   "source": [
    "\n",
    "Para modificar una archivo utilizamos el modo <code>'r+'</code>, el cual nos permite leer y escribir en un archivo.\n"
   ]
  },
  {
   "cell_type": "code",
   "execution_count": null,
   "metadata": {},
   "outputs": [],
   "source": [
    "textfile=open(p/'1.txt','r+')\n",
    "print(textfile.tell()) #The pointer is at the beginning \n",
    "textfile.write('A sentence written somewhere you can see it!\\n')\n",
    "print(textfile.tell())\n",
    "textfile.close()"
   ]
  },
  {
   "cell_type": "code",
   "execution_count": null,
   "metadata": {
    "scrolled": true
   },
   "outputs": [],
   "source": [
    "textfile=open(p/'1.txt','r')\n",
    "print(textfile.readline())\n",
    "print(textfile.readline())\n",
    "textfile.close()"
   ]
  },
  {
   "cell_type": "code",
   "execution_count": null,
   "metadata": {},
   "outputs": [],
   "source": [
    "# p=Path.home()/'Desktop'\n",
    "shutil.copy2(p/'1.txt',p/'1_copy.txt') "
   ]
  },
  {
   "attachments": {},
   "cell_type": "markdown",
   "metadata": {},
   "source": [
    "\n",
    "Para escribir al final de un archivo usamos el modo <code>'a'</code> ('append' o \"anadir\").\n"
   ]
  },
  {
   "cell_type": "code",
   "execution_count": null,
   "metadata": {},
   "outputs": [],
   "source": [
    "textfile=open(p/'1_copy.txt','a')\n",
    "print(textfile.tell()) # El puntero esta al final \n",
    "textfile.write('Una frase, en un archivo!\\n')\n",
    "print(textfile.tell())  # El puntero esta al final\n",
    "textfile.close()"
   ]
  },
  {
   "cell_type": "code",
   "execution_count": null,
   "metadata": {},
   "outputs": [],
   "source": [
    "with open(p/'1_copy.txt', 'r') as f:\n",
    "    print(f.read(-100))"
   ]
  },
  {
   "cell_type": "code",
   "execution_count": null,
   "metadata": {},
   "outputs": [],
   "source": [
    "with open(p /'1.txt', 'r') as f:\n",
    "    print(f.read())"
   ]
  },
  {
   "cell_type": "code",
   "execution_count": null,
   "metadata": {},
   "outputs": [],
   "source": [
    "nros = '-1 -2 -3 -4 -5 -6 -7 -8'\n",
    "with open(Path.home()/'dummy0.txt','w') as f:\n",
    "    f.write(nros) \n",
    "\n",
    "nros = [-1,-2,-3,-4,-5,-6,-7,-8]\n",
    "with open(Path.home()/'dummy1.txt','wb') as g:\n",
    "    for byte in nros:\n",
    "        g.write(byte.to_bytes(1, byteorder='big', signed=True))\n",
    "\n",
    "with open(Path.home()/'dummy0.txt','r') as f:\n",
    "    print(f.read())    \n",
    "\n",
    "with open(Path.home()/'dummy1.txt','rb') as g: \n",
    "    print(g.read())\n",
    "    "
   ]
  }
 ],
 "metadata": {
  "kernelspec": {
   "display_name": "Python 3",
   "language": "python",
   "name": "python3"
  },
  "language_info": {
   "codemirror_mode": {
    "name": "ipython",
    "version": 3
   },
   "file_extension": ".py",
   "mimetype": "text/x-python",
   "name": "python",
   "nbconvert_exporter": "python",
   "pygments_lexer": "ipython3",
   "version": "3.11.4"
  },
  "vscode": {
   "interpreter": {
    "hash": "aee8b7b246df8f9039afb4144a1f6fd8d2ca17a180786b69acc140d282b71a49"
   }
  }
 },
 "nbformat": 4,
 "nbformat_minor": 2
}
