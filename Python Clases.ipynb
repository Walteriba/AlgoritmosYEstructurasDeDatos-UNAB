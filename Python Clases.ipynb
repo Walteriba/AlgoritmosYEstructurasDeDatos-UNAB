{
 "cells": [
  {
   "attachments": {},
   "cell_type": "markdown",
   "metadata": {},
   "source": [
    "## CLASES\n",
    "\n",
    "En Python, una clase es una plantilla para crear objetos que define un conjunto de atributos y métodos que los objetos de esa clase tendrán. Los atributos son variables que contienen datos, mientras que los métodos son funciones que realizan acciones en los objetos. Para crear una clase en Python, se utiliza la palabra clave class, seguida del nombre de la clase y dos puntos. Luego, se definen los atributos y métodos de la clase. Por ejemplo, la siguiente clase Persona tiene dos atributos (nombre y edad) y un método (saludar):"
   ]
  },
  {
   "cell_type": "code",
   "execution_count": 1,
   "metadata": {},
   "outputs": [],
   "source": [
    "class Persona:\n",
    "    def __init__(self, nombre, edad):\n",
    "        self.nombre = nombre\n",
    "        self.edad = edad\n",
    "\n",
    "    def saludar(self):\n",
    "        print(f'Hola, mi nombre es {self.nombre} y tengo {self.edad} años.')"
   ]
  },
  {
   "attachments": {},
   "cell_type": "markdown",
   "metadata": {},
   "source": [
    "Este código define una clase Persona con dos atributos (nombre y edad) y un método (saludar). El método \\_\\_init__ es un método especial que se llama cuando se crea un objeto de la clase y se utiliza para inicializar los atributos del objeto. El método saludar imprime un mensaje de saludo con el nombre y la edad de la persona. Para crear un objeto de la clase Persona, se llama al constructor de la clase (\\_\\_init__) y se le pasan los valores de los atributos:"
   ]
  },
  {
   "cell_type": "code",
   "execution_count": 2,
   "metadata": {},
   "outputs": [
    {
     "name": "stdout",
     "output_type": "stream",
     "text": [
      "Hola, mi nombre es Juan y tengo 30 años.\n"
     ]
    }
   ],
   "source": [
    "p = Persona('Juan', 30)\n",
    "p.saludar()"
   ]
  },
  {
   "attachments": {},
   "cell_type": "markdown",
   "metadata": {},
   "source": [
    "Este código crea un objeto p de la clase Persona con el nombre \"Juan\" y la edad 30, y luego llama al método saludar del objeto, que imprime \"Hola, mi nombre es Juan y tengo 30 años.\""
   ]
  },
  {
   "attachments": {},
   "cell_type": "markdown",
   "metadata": {},
   "source": [
    "***"
   ]
  },
  {
   "attachments": {},
   "cell_type": "markdown",
   "metadata": {},
   "source": [
    "## SOBRECARGA\n",
    "La sobrecarga de operadores en Python permite que los operadores incorporados tengan un comportamiento personalizado para objetos de una clase específica. Esto se logra mediante la definición de métodos especiales en la clase que corresponden a los operadores. Por ejemplo, el método \\_\\_add__ se utiliza para sobrecargar el operador +. Un ejemplo de sobrecarga de operadores en Python es la clase Cart que tiene un método add que agrega un elemento al carrito. También se puede sobrecargar el operador += para agregar elementos al carrito. El siguiente código muestra un ejemplo de sobrecarga de operadores en Python:"
   ]
  },
  {
   "cell_type": "code",
   "execution_count": 1,
   "metadata": {},
   "outputs": [
    {
     "name": "stdout",
     "output_type": "stream",
     "text": [
      "['item1', 'item2']\n"
     ]
    }
   ],
   "source": [
    "class Cart:\n",
    "    def __init__(self):\n",
    "        self.items = []\n",
    "\n",
    "    def add(self, item):\n",
    "        self.items.append(item)\n",
    "\n",
    "    def __iadd__(self, item):\n",
    "        self.add(item)\n",
    "        return self\n",
    "\n",
    "cart = Cart()\n",
    "cart.add('item1')\n",
    "cart += 'item2'\n",
    "print(cart.items)"
   ]
  },
  {
   "attachments": {},
   "cell_type": "markdown",
   "metadata": {},
   "source": [
    "Este código crea una instancia de la clase Cart, agrega un elemento al carrito usando el método add, y luego sobrecarga el operador += para agregar otro elemento al carrito. El resultado es una lista de elementos en el carrito que incluye ambos elementos agregados."
   ]
  }
 ],
 "metadata": {
  "kernelspec": {
   "display_name": "Python 3",
   "language": "python",
   "name": "python3"
  },
  "language_info": {
   "codemirror_mode": {
    "name": "ipython",
    "version": 3
   },
   "file_extension": ".py",
   "mimetype": "text/x-python",
   "name": "python",
   "nbconvert_exporter": "python",
   "pygments_lexer": "ipython3",
   "version": "3.11.3"
  },
  "orig_nbformat": 4
 },
 "nbformat": 4,
 "nbformat_minor": 2
}
