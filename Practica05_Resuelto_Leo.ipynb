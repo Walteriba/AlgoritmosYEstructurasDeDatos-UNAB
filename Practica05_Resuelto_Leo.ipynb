{
 "cells": [
  {
   "attachments": {},
   "cell_type": "markdown",
   "metadata": {},
   "source": [
    "#  Ejercicios - Clase 05 - "
   ]
  },
  {
   "attachments": {},
   "cell_type": "markdown",
   "metadata": {},
   "source": [
    "## Ejercicio 1:\n",
    "\n",
    "Implementar una función **recursiva** que retorne la suma de los primeros $\\textit{n}$ números."
   ]
  },
  {
   "cell_type": "code",
   "execution_count": null,
   "metadata": {},
   "outputs": [],
   "source": [
    "def suma_recursiva(n):\n",
    "    if n == 0:\n",
    "        return 0\n",
    "    else:\n",
    "        return n + suma_recursiva(n-1)\n",
    "\n",
    "# Ejemplo de uso\n",
    "n = 5\n",
    "suma = suma_recursiva(n)\n",
    "print(\"La suma de los primeros\", n, \"números es\", suma)"
   ]
  },
  {
   "attachments": {},
   "cell_type": "markdown",
   "metadata": {},
   "source": [
    "La función suma_recursiva toma un número entero n como argumento y devuelve la suma de los primeros n números utilizando recursividad. La función utiliza una declaración if para verificar si n es igual a cero. Si es así, devuelve cero. De lo contrario, la función se llama a sí misma con n-1 como argumento y agrega n al resultado.\n",
    "Finalmente, el programa utiliza la función suma_recursiva para calcular la suma de los primeros 5 números y luego imprime el resultado en la pantalla."
   ]
  },
  {
   "attachments": {},
   "cell_type": "markdown",
   "metadata": {},
   "source": [
    "## Ejercicio 2:\n",
    "\n",
    "Implementar una función **iterativa** que retorne la suma de los primeros $\\textit{n}$ números."
   ]
  },
  {
   "cell_type": "code",
   "execution_count": null,
   "metadata": {},
   "outputs": [],
   "source": [
    "def suma_iterativa(n):\n",
    "    suma = 0\n",
    "    for i in range(1, n+1):\n",
    "        suma += i\n",
    "    return suma\n",
    "\n",
    "# Ejemplo de uso\n",
    "n = 5\n",
    "suma = suma_iterativa(n)\n",
    "print(\"La suma de los primeros\", n, \"números es\", suma)"
   ]
  },
  {
   "attachments": {},
   "cell_type": "markdown",
   "metadata": {},
   "source": [
    "La función suma_iterativa toma un número entero n como argumento y devuelve la suma de los primeros n números utilizando un bucle for. La función inicializa una variable suma en cero y luego utiliza un bucle for para sumar los números del 1 al n. Finalmente, la función devuelve la suma total.\n",
    "El programa utiliza la función suma_iterativa para calcular la suma de los primeros 5 números y luego imprime el resultado en la pantalla."
   ]
  },
  {
   "attachments": {},
   "cell_type": "markdown",
   "metadata": {},
   "source": [
    "## Ejercicio 3:\n",
    "\n",
    "Implementar una función **recursiva** que reciba como parametro una lista de números enteros y retorne el maximo. "
   ]
  },
  {
   "cell_type": "code",
   "execution_count": null,
   "metadata": {},
   "outputs": [],
   "source": [
    "def find_max(lista):\n",
    "    if len(lista) == 1:\n",
    "        return lista[0]\n",
    "    else:\n",
    "        max_num = find_max(lista[1:])\n",
    "        return lista[0] if lista[0] > max_num else max_num"
   ]
  },
  {
   "attachments": {},
   "cell_type": "markdown",
   "metadata": {},
   "source": [
    "En esta función, se comprueba primero si la lista tiene un solo elemento. Si es así, se devuelve ese elemento como máximo. De lo contrario, se llama a la función recursivamente para encontrar el máximo en la sublista que comienza desde el segundo elemento (es decir, lista[1:]). Luego se compara el primer elemento de la lista original con el máximo de la sublista, y se devuelve el valor correspondiente.\n",
    "\n",
    "Por ejemplo, si se llama a la función con lista = [1, 5, 3, 9, 2], se realizarán las siguientes llamadas recursivas:"
   ]
  },
  {
   "cell_type": "code",
   "execution_count": null,
   "metadata": {},
   "outputs": [],
   "source": [
    "find_max([1, 5, 3, 9, 2]) -> max(5, 3, 9, 2) -> max(3, 9, 2) -> max(9, 2) -> 9\n"
   ]
  },
  {
   "attachments": {},
   "cell_type": "markdown",
   "metadata": {},
   "source": [
    "La salida final es el valor máximo de la lista original, que es 9."
   ]
  },
  {
   "attachments": {},
   "cell_type": "markdown",
   "metadata": {},
   "source": [
    "## Ejercicio 4: \n",
    "\n",
    "Escribir una función recursiva para encontrar el mayor elemento de una secuencia <code>S</code>, de cardinalidad <code>n</code>."
   ]
  },
  {
   "cell_type": "code",
   "execution_count": null,
   "metadata": {},
   "outputs": [],
   "source": [
    "def maximo_recursivo(lista):\n",
    "    if len(lista) == 1:\n",
    "        return lista\n",
    "    else:\n",
    "        maximo = maximo_recursivo(lista[1:])\n",
    "        return lista if lista > maximo else maximo\n",
    "\n",
    "# Ejemplo de uso\n",
    "lista = [3, 5, 1, 8, 2]\n",
    "maximo = maximo_recursivo(lista)\n",
    "print(\"El máximo de la lista\", lista, \"es\", maximo)"
   ]
  },
  {
   "attachments": {},
   "cell_type": "markdown",
   "metadata": {},
   "source": [
    "La función maximo_recursivo toma una lista de números enteros como argumento y devuelve el máximo utilizando recursividad. La función utiliza una declaración if para verificar si la lista tiene un solo elemento. Si es así, devuelve ese elemento. De lo contrario, la función se llama a sí misma con la lista sin el primer elemento y luego compara el primer elemento con el máximo de la lista restante.\n",
    "El programa utiliza la función maximo_recursivo para encontrar el máximo de una lista de números enteros y luego imprime el resultado en la pantalla."
   ]
  },
  {
   "attachments": {},
   "cell_type": "markdown",
   "metadata": {},
   "source": [
    "## Ejercicio 5: \n",
    "\n",
    "Escribir una función <code>minmax(data)</code>, la cuál contiene una secuencia (no vacía) de números, y debe retornar, el menor y el mayor elemento, en forma de una **tupla** de longitud 2, es decir una tupla con dos elementos.  "
   ]
  },
  {
   "attachments": {},
   "cell_type": "markdown",
   "metadata": {},
   "source": [
    "Para resolver este problema de manera recursiva, podemos utilizar la técnica de \"dividir y conquistar\". Es decir, dividir la secuencia en dos partes y encontrar el mínimo y el máximo en ambas partes de forma recursiva, y luego comparar los resultados para encontrar el mínimo y el máximo de la secuencia completa."
   ]
  },
  {
   "cell_type": "code",
   "execution_count": 19,
   "metadata": {},
   "outputs": [],
   "source": [
    "def minmax(data):\n",
    "    if len(data) == 1:\n",
    "        return (data[0], data[0])\n",
    "    elif len(data) == 2:\n",
    "        return (min(data[0], data[1]), max(data[0], data[1]))\n",
    "    else:\n",
    "        mid = len(data) // 2\n",
    "        left_min, left_max = minmax(data[:mid])\n",
    "        right_min, right_max = minmax(data[mid:])\n",
    "        return (min(left_min, right_min), max(left_max, right_max))"
   ]
  },
  {
   "attachments": {},
   "cell_type": "markdown",
   "metadata": {},
   "source": [
    "En la primera condición base, si la secuencia tiene solo un elemento, retornamos una tupla con ese único elemento como mínimo y máximo. En la segunda condición base, si la secuencia tiene solo dos elementos, retornamos una tupla con el mínimo y el máximo de esos dos elementos. En el caso recursivo, dividimos la secuencia en dos partes y llamamos a la función minmax de manera recursiva en ambas partes. Luego, comparamos los resultados de ambas partes para obtener el mínimo y el máximo de la secuencia completa, que es lo que se retorna.\n",
    "\n",
    "Para probar la función, puedes llamarla con una lista de números como argumento, por ejemplo:"
   ]
  },
  {
   "cell_type": "code",
   "execution_count": 20,
   "metadata": {},
   "outputs": [
    {
     "name": "stdout",
     "output_type": "stream",
     "text": [
      "(1, 3)\n"
     ]
    }
   ],
   "source": [
    "data = [3, 1]\n",
    "print(minmax(data)) # Debe imprimir (1, 9)"
   ]
  },
  {
   "attachments": {},
   "cell_type": "markdown",
   "metadata": {},
   "source": [
    "Veamos ahora como sería si fuera iterativa:"
   ]
  },
  {
   "cell_type": "code",
   "execution_count": 21,
   "metadata": {},
   "outputs": [
    {
     "ename": "TypeError",
     "evalue": "'<' not supported between instances of 'int' and 'list'",
     "output_type": "error",
     "traceback": [
      "\u001b[1;31m---------------------------------------------------------------------------\u001b[0m",
      "\u001b[1;31mTypeError\u001b[0m                                 Traceback (most recent call last)",
      "Cell \u001b[1;32mIn[21], line 13\u001b[0m\n\u001b[0;32m     11\u001b[0m \u001b[39m# Ejemplo de uso\u001b[39;00m\n\u001b[0;32m     12\u001b[0m data \u001b[39m=\u001b[39m [\u001b[39m3\u001b[39m, \u001b[39m5\u001b[39m, \u001b[39m1\u001b[39m, \u001b[39m8\u001b[39m, \u001b[39m2\u001b[39m]\n\u001b[1;32m---> 13\u001b[0m resultado \u001b[39m=\u001b[39m minmax(data)\n\u001b[0;32m     14\u001b[0m \u001b[39mprint\u001b[39m(\u001b[39m\"\u001b[39m\u001b[39mEl menor y mayor elemento de la secuencia\u001b[39m\u001b[39m\"\u001b[39m, data, \u001b[39m\"\u001b[39m\u001b[39mes\u001b[39m\u001b[39m\"\u001b[39m, resultado)\n",
      "Cell \u001b[1;32mIn[21], line 5\u001b[0m, in \u001b[0;36mminmax\u001b[1;34m(data)\u001b[0m\n\u001b[0;32m      3\u001b[0m mayor \u001b[39m=\u001b[39m data\n\u001b[0;32m      4\u001b[0m \u001b[39mfor\u001b[39;00m num \u001b[39min\u001b[39;00m data:\n\u001b[1;32m----> 5\u001b[0m     \u001b[39mif\u001b[39;00m num \u001b[39m<\u001b[39;49m menor:\n\u001b[0;32m      6\u001b[0m         menor \u001b[39m=\u001b[39m num\n\u001b[0;32m      7\u001b[0m     \u001b[39melif\u001b[39;00m num \u001b[39m>\u001b[39m mayor:\n",
      "\u001b[1;31mTypeError\u001b[0m: '<' not supported between instances of 'int' and 'list'"
     ]
    }
   ],
   "source": [
    "def minmax(data):\n",
    "    menor = data\n",
    "    mayor = data\n",
    "    for num in data:\n",
    "        if num < menor:\n",
    "            menor = num\n",
    "        elif num > mayor:\n",
    "            mayor = num\n",
    "    return (menor, mayor)\n",
    "\n",
    "# Ejemplo de uso\n",
    "data = [3, 5, 1, 8, 2]\n",
    "resultado = minmax(data)\n",
    "print(\"El menor y mayor elemento de la secuencia\", data, \"es\", resultado)"
   ]
  },
  {
   "attachments": {},
   "cell_type": "markdown",
   "metadata": {},
   "source": [
    "La función minmax toma una secuencia de números como argumento y devuelve una tupla con el menor y el mayor elemento. La función inicializa las variables menor y mayor con el primer elemento de la secuencia y luego utiliza un bucle for para comparar cada elemento con las variables menor y mayor. Si el elemento es menor que menor, se actualiza menor. Si el elemento es mayor que mayor, se actualiza mayor. Finalmente, la función devuelve una tupla con menor y mayor.\n",
    "El programa utiliza la función minmax para encontrar el menor y el mayor elemento de una secuencia de números y luego imprime el resultado en la pantalla."
   ]
  },
  {
   "attachments": {},
   "cell_type": "markdown",
   "metadata": {},
   "source": [
    "## Ejercicio 6:\n",
    "\n",
    "Escribir una función recursiva para determinar si un string tiene mas vocales que consonantes."
   ]
  },
  {
   "cell_type": "code",
   "execution_count": 27,
   "metadata": {},
   "outputs": [
    {
     "name": "stdout",
     "output_type": "stream",
     "text": [
      "El string hola mundo no tiene más vocales que consonantes\n"
     ]
    }
   ],
   "source": [
    "def mas_vocales(string, vocales=0, consonantes=0):\n",
    "    if len(string) == 0:\n",
    "        return vocales > consonantes\n",
    "    else:\n",
    "        letra = string.lower()\n",
    "        if letra in \"aeiou\":\n",
    "            vocales += 1\n",
    "        elif letra.isalpha():\n",
    "            consonantes += 1\n",
    "        return mas_vocales(string[1:], vocales, consonantes)\n",
    "\n",
    "# Ejemplo de uso\n",
    "string = \"hola mundo\"\n",
    "resultado = mas_vocales(string)\n",
    "if resultado:\n",
    "    print(\"El string\", string, \"tiene más vocales que consonantes\")\n",
    "else:\n",
    "    print(\"El string\", string, \"no tiene más vocales que consonantes\")"
   ]
  },
  {
   "attachments": {},
   "cell_type": "markdown",
   "metadata": {},
   "source": [
    "La función mas_vocales toma un string como argumento y devuelve True si el string tiene más vocales que consonantes y False en caso contrario. La función utiliza una declaración if para verificar si el string está vacío. Si es así, devuelve True si vocales es mayor que consonantes. De lo contrario, la función toma la primera letra del string, la convierte a minúscula y verifica si es una vocal o una consonante. Luego, la función se llama a sí misma con el string sin la primera letra y las variables vocales y consonantes actualizadas.\n",
    "El programa utiliza la función mas_vocales para determinar si un string tiene más vocales que consonantes y luego imprime el resultado en la pantalla."
   ]
  }
 ],
 "metadata": {
  "kernelspec": {
   "display_name": "Python 3",
   "language": "python",
   "name": "python3"
  },
  "language_info": {
   "codemirror_mode": {
    "name": "ipython",
    "version": 3
   },
   "file_extension": ".py",
   "mimetype": "text/x-python",
   "name": "python",
   "nbconvert_exporter": "python",
   "pygments_lexer": "ipython3",
   "version": "3.11.3"
  }
 },
 "nbformat": 4,
 "nbformat_minor": 2
}
