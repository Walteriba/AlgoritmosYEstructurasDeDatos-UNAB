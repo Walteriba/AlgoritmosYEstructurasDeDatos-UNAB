{
 "cells": [
  {
   "attachments": {},
   "cell_type": "markdown",
   "metadata": {},
   "source": [
    "## Datos simples:\n",
    "\n",
    "## Tipos de Datos Simples.\n",
    "\n",
    "Para escribir en python usamos las comillas \"\". Los tipo de datos llamados \"string\" son texto, que son cadenas de texto.\n",
    "\n",
    "Los strings con 3 comillas te dejan escribir con salto de texto a diferencia de los que son de 2.\n",
    "\n"
   ]
  },
  {
   "cell_type": "code",
   "execution_count": null,
   "metadata": {},
   "outputs": [],
   "source": [
    "'string'\n",
    "\n",
    "\"string\"\n",
    "\n",
    "\"\"\"tus datos son:\n",
    "    nombre: eljajas\n",
    "    apellido: jujus\"\"\"\n",
    "\n",
    "'''tus datos son:\n",
    "    nombre: eljajas\n",
    "    apellido: jujus'''"
   ]
  },
  {
   "attachments": {},
   "cell_type": "markdown",
   "metadata": {},
   "source": [
    "Para escribir los numeros en python tenemos 2 tipos de datos: los int y float.\n",
    "\n",
    "Los int son numeros enteros.\n",
    "\n",
    "los float son numeros con coma."
   ]
  },
  {
   "cell_type": "code",
   "execution_count": null,
   "metadata": {},
   "outputs": [],
   "source": [
    "4 #int\n",
    "\n",
    "4.2 #float"
   ]
  },
  {
   "attachments": {},
   "cell_type": "markdown",
   "metadata": {},
   "source": [
    "Luego tenemos el booleano, simple, verdero o falso."
   ]
  },
  {
   "cell_type": "code",
   "execution_count": null,
   "metadata": {},
   "outputs": [],
   "source": [
    "True\n",
    "\n",
    "False"
   ]
  },
  {
   "attachments": {},
   "cell_type": "markdown",
   "metadata": {},
   "source": [
    "## Variables\n",
    "\n",
    "Las variables son espacios que se almacenan en la memoria de nuestro programa."
   ]
  },
  {
   "cell_type": "code",
   "execution_count": 1,
   "metadata": {},
   "outputs": [
    {
     "name": "stdout",
     "output_type": "stream",
     "text": [
      "Eljajas\n"
     ]
    }
   ],
   "source": [
    "nombre = \"Eljajas\"\n",
    "print(nombre)"
   ]
  },
  {
   "attachments": {},
   "cell_type": "markdown",
   "metadata": {},
   "source": [
    "Las variables se declaran y se definen. \n",
    "\n",
    " En \"Nombre\" estoy declarando una variable y en \"Federico\" la estoy definiendo.\n",
    "\n",
    " Las variables se pueden modificar, por ejemplo: el siguiente ejemplo muestra que se pueden redefinir."
   ]
  },
  {
   "cell_type": "code",
   "execution_count": 3,
   "metadata": {},
   "outputs": [
    {
     "name": "stdout",
     "output_type": "stream",
     "text": [
      "Antonio\n"
     ]
    }
   ],
   "source": [
    "nombre = \"Eljajas\"\n",
    "nombre = \"JAJA\"\n",
    "nombre = \"JA\"\n",
    "print(nombre)"
   ]
  },
  {
   "attachments": {},
   "cell_type": "markdown",
   "metadata": {},
   "source": [
    "Los operadores $\\normalsize \\color{purple}{\\texttt{+=}}$, $\\normalsize \\color{purple}{\\texttt{-=}}$, $\\normalsize \\color{purple}{\\texttt{*=}}$, etc. nos permiten realizar operaciones sobre una variable sin tener que nombrarla dos veces. \n",
    "\n",
    "En otras palabras, significa el valor que ya tiene +, -, * lo que este despues del igual."
   ]
  },
  {
   "cell_type": "code",
   "execution_count": 4,
   "metadata": {},
   "outputs": [
    {
     "name": "stdout",
     "output_type": "stream",
     "text": [
      "4\n",
      "8\n"
     ]
    }
   ],
   "source": [
    "v1 = 1\n",
    "\n",
    "v1 += 3 # Incrementamos sobre v1. Es equivalente a escribir  \"v1 = v1 + 3\"\n",
    "        # Este metodo es mas eficiente y facil de escribir.\n",
    "print(v1)\n",
    "\n",
    "v1 *= 2 # También funciona con *=\n",
    "\n",
    "print(v1) "
   ]
  },
  {
   "attachments": {},
   "cell_type": "markdown",
   "metadata": {},
   "source": [
    "Concatenacion.\n",
    "\n",
    "Es la union de 2 strings."
   ]
  },
  {
   "cell_type": "code",
   "execution_count": 4,
   "metadata": {},
   "outputs": [
    {
     "name": "stdout",
     "output_type": "stream",
     "text": [
      "holaEljajascomo estas?\n"
     ]
    }
   ],
   "source": [
    "nombre = \"Eljajas\"\n",
    "bienvenida = \"hola\" + nombre + \"como estas?\"\n",
    "print(bienvenida)\n"
   ]
  },
  {
   "attachments": {},
   "cell_type": "markdown",
   "metadata": {},
   "source": [
    "Tienes que tener en cuenta los espacios en los strings"
   ]
  },
  {
   "cell_type": "code",
   "execution_count": 5,
   "metadata": {},
   "outputs": [
    {
     "name": "stdout",
     "output_type": "stream",
     "text": [
      "hola Eljajas como estas?\n"
     ]
    }
   ],
   "source": [
    "nombre = \"Eljajas\"\n",
    "bienvenida = \"hola \" + nombre + \" como estas?\"\n",
    "print(bienvenida)"
   ]
  },
  {
   "attachments": {},
   "cell_type": "markdown",
   "metadata": {},
   "source": [
    "Como concatenamos cuando hay numeros?\n",
    "\n",
    "Utilizamos los F type, agregamos la f adelante del dato."
   ]
  },
  {
   "cell_type": "code",
   "execution_count": 10,
   "metadata": {},
   "outputs": [
    {
     "name": "stdout",
     "output_type": "stream",
     "text": [
      "hola 5 como estas?\n"
     ]
    }
   ],
   "source": [
    "nombre = 5\n",
    "bienvenida = f\"hola {nombre} como estas?\"\n",
    "print(bienvenida)"
   ]
  },
  {
   "attachments": {},
   "cell_type": "markdown",
   "metadata": {},
   "source": [
    "Como hacemos para que una variable no este mas declarada?\n",
    "\n",
    "Utilizamos \"del\". Con este operador eliminamos datos que se alojaron en la memoria."
   ]
  },
  {
   "cell_type": "code",
   "execution_count": 14,
   "metadata": {},
   "outputs": [
    {
     "name": "stdout",
     "output_type": "stream",
     "text": [
      "hola 5 como estas?\n"
     ]
    }
   ],
   "source": [
    "nombre = 5\n",
    "bienvenida = f\"hola {nombre} como estas?\"\n",
    "del nombre\n",
    "print(bienvenida)"
   ]
  },
  {
   "attachments": {},
   "cell_type": "markdown",
   "metadata": {},
   "source": [
    "Operadores de pertenencia o operadores de identidad (in/not in).\n",
    "\n",
    "Este operador nos ayuda a saber si lo que buscamos pertenece o no."
   ]
  },
  {
   "cell_type": "code",
   "execution_count": 17,
   "metadata": {},
   "outputs": [
    {
     "name": "stdout",
     "output_type": "stream",
     "text": [
      "True\n",
      "False\n"
     ]
    }
   ],
   "source": [
    "# Ejemplo 1\n",
    "nombre = 5\n",
    "bienvenida = f\"hola {nombre} como estas?\"\n",
    "\n",
    "print(\"hola\" in bienvenida) # Hola esta en bienvenida?\n",
    "# Ejemplo 2\n",
    "\n",
    "nombre = 5\n",
    "bienvenida = f\"hola {nombre} como estas?\" \n",
    "\n",
    "print(\"hola\" not in bienvenida) # Hola no esta en bienvenida?"
   ]
  },
  {
   "attachments": {},
   "cell_type": "markdown",
   "metadata": {},
   "source": [
    "## CamelCase y Snake_case\n",
    "\n",
    "El camel case es escribir una variable en cada principio de una nueva palabra con una mayuscula.\n",
    "\n",
    "El snake_case es separar con guion bajo."
   ]
  },
  {
   "cell_type": "code",
   "execution_count": 1,
   "metadata": {},
   "outputs": [],
   "source": [
    "# Definiendo una variable por CamelCase\n",
    "nombreDeTuTio = \"Pepito\"\n",
    "\n",
    "# Definiendo una valirable por Snake_Case\n",
    "nombre_de_tu_tio = \"Pepito\""
   ]
  },
  {
   "attachments": {},
   "cell_type": "markdown",
   "metadata": {},
   "source": [
    "## Datos compuestos:\n",
    "\n",
    "Son datos que tienen a dentro otros datos."
   ]
  },
  {
   "attachments": {},
   "cell_type": "markdown",
   "metadata": {},
   "source": [
    "## Listas.\n",
    "\n",
    "Una lista es un conjunto de datos (pueden ser de distinto tipo). Lo definimos ente *corchetes* [] y los objetos separados por *comas*. Se pueden modificar."
   ]
  },
  {
   "cell_type": "code",
   "execution_count": 6,
   "metadata": {},
   "outputs": [
    {
     "name": "stdout",
     "output_type": "stream",
     "text": [
      "['Ejajas jujus', 'Soy ja', True, 1.72]\n"
     ]
    }
   ],
   "source": [
    "lista = [\"Ejajas jujus\", \"Soy ja\", True, 1.72]\n",
    "print(lista)"
   ]
  },
  {
   "attachments": {},
   "cell_type": "markdown",
   "metadata": {},
   "source": [
    "Si queremos acceder a un elemento en especifico ponemos entre el tring \"lista\" unos corchetes y el numero del elemento deseado.\n",
    "\n",
    "Se cuenta del 0 al 9 y no del 1 al 10."
   ]
  },
  {
   "cell_type": "code",
   "execution_count": 7,
   "metadata": {},
   "outputs": [
    {
     "name": "stdout",
     "output_type": "stream",
     "text": [
      "Eljajas jujus\n"
     ]
    }
   ],
   "source": [
    "lista = [\"Eljajas jujus\", \"Soy ja\", True, 1.72]\n",
    "print(lista[0])"
   ]
  },
  {
   "attachments": {},
   "cell_type": "markdown",
   "metadata": {},
   "source": [
    "El elemento 0 no existe, pero esta almacenado en el indice 0 (la posicion)."
   ]
  },
  {
   "attachments": {},
   "cell_type": "markdown",
   "metadata": {},
   "source": [
    "## Tuplas:\n",
    "\n",
    "Son iguales que las listas, solo que en vez de usar corchetes usamos parentesis (). Solo que no se puede modificar."
   ]
  },
  {
   "cell_type": "code",
   "execution_count": 2,
   "metadata": {},
   "outputs": [
    {
     "name": "stdout",
     "output_type": "stream",
     "text": [
      "EJajas jujus\n"
     ]
    }
   ],
   "source": [
    "tupla = (\"EJajas jujus\", \"Soy Ja\", True, 1.72)\n",
    "print(tupla[0])"
   ]
  },
  {
   "attachments": {},
   "cell_type": "markdown",
   "metadata": {},
   "source": [
    "Notas a tener en cuenta: Para mostrar datos en las tuplas y listas se usan corchetes."
   ]
  },
  {
   "attachments": {},
   "cell_type": "markdown",
   "metadata": {},
   "source": [
    "## Conjuntos (set):\n",
    "\n",
    "Se crea con llaves {}. No tienen un orden fijo y se pueden cambiar (redefinir) pero no modificar. No se puede llamar por su indice y no te permite repetir valores.\n"
   ]
  },
  {
   "cell_type": "code",
   "execution_count": 4,
   "metadata": {},
   "outputs": [],
   "source": [
    "conjunto = {\"ElJajas jujus\", \"Soy ja\", True, 1.72}\n",
    "\n",
    "#print(conjunto[3]) --> no te permite acceder al elemento"
   ]
  },
  {
   "attachments": {},
   "cell_type": "markdown",
   "metadata": {},
   "source": [
    "## Diccionario:\n",
    "\n",
    "Se crea con llaves {}. Y dentro de ellas se almacena un dato y un valor.\n",
    "\n",
    "Es una colección de items $\\texttt{\"llave:valor\"}$ donde la *\"llave\"* y el *\"valor* pueden ser cualquier tipo de objeto.\n",
    "\n",
    "En otras palabras, son como cualquier Diccionario: tenemos la palabra (en este caso seria llave) y la definicion (que seria el valor)"
   ]
  },
  {
   "cell_type": "code",
   "execution_count": 1,
   "metadata": {},
   "outputs": [],
   "source": [
    "diccionario = {\n",
    "    'nombre' : 'Eljajas',\n",
    "    'Apellido' : 'Jujus',\n",
    "    'aguante' : 'messi'\n",
    "}"
   ]
  },
  {
   "attachments": {},
   "cell_type": "markdown",
   "metadata": {},
   "source": [
    "Cuando pedimos a un diccionario un elemento, este nos mostrara por el nombre asociado."
   ]
  },
  {
   "cell_type": "code",
   "execution_count": 9,
   "metadata": {},
   "outputs": [
    {
     "name": "stdout",
     "output_type": "stream",
     "text": [
      "Eljajas\n",
      "jujus\n",
      "messi\n"
     ]
    }
   ],
   "source": [
    "diccionario = {\n",
    "    'nombre' : 'Eljajas',\n",
    "    'apellido' : 'jujus',\n",
    "    'aguante' : 'messi'\n",
    "}\n",
    "\n",
    "print(diccionario['nombre'])\n",
    "print(diccionario['apellido'])\n",
    "print(diccionario['aguante'])"
   ]
  },
  {
   "attachments": {},
   "cell_type": "markdown",
   "metadata": {},
   "source": [
    "## Operadores aritmeticos:"
   ]
  },
  {
   "cell_type": "code",
   "execution_count": 14,
   "metadata": {},
   "outputs": [
    {
     "name": "stdout",
     "output_type": "stream",
     "text": [
      "8\n",
      "-17\n",
      "54\n",
      "16.5\n",
      "9\n",
      "16\n",
      "5\n"
     ]
    }
   ],
   "source": [
    "# Suma y resta (+ y -)\n",
    "suma = 2 + 6 \n",
    "resta = 2 - 19 \n",
    "\n",
    "# Multiplicación y Divición.\n",
    "multi = 2 * 27 \n",
    "division = 165 / 10\n",
    "\n",
    "# Potenciación (exponente) (**)\n",
    "exponente = 3 ** 2 \n",
    "\n",
    "# divición baja (//)\n",
    "divicion_baja = 165 // 10 \n",
    "\n",
    "# Resto o módulo\n",
    "resto =165 % 10\n",
    "\n",
    "print(suma)\n",
    "print(resta)\n",
    "print(multi)\n",
    "print(division)\n",
    "print(exponente)\n",
    "print(divicion_baja)\n",
    "print(resto)"
   ]
  },
  {
   "attachments": {},
   "cell_type": "markdown",
   "metadata": {},
   "source": [
    "Cada **valor** que le asignamos a una variable, tiene asignado un **tipo**, el cual definira el tipo de la variable a cual el valor es asignado. Es decir, en Python el tipo de una variable es asignado dinamicamente durante la ejecución del programa, dependiendo del valor contenido.  \n",
    "\n",
    "Nota: la función $\\normalsize \\color{green}{\\texttt{print}}$ nos permite escribir en la pantalla/consola. "
   ]
  },
  {
   "cell_type": "code",
   "execution_count": 16,
   "metadata": {},
   "outputs": [
    {
     "name": "stdout",
     "output_type": "stream",
     "text": [
      "<class 'int'>\n",
      "<class 'int'>\n",
      "<class 'int'>\n",
      "<class 'float'>\n",
      "<class 'int'>\n",
      "<class 'int'>\n",
      "<class 'int'>\n"
     ]
    }
   ],
   "source": [
    "print(type(suma))\n",
    "print(type(resta))\n",
    "print(type(multi))\n",
    "print(type(division))\n",
    "print(type(exponente))\n",
    "print(type(divicion_baja))\n",
    "print(type(resto))"
   ]
  },
  {
   "attachments": {},
   "cell_type": "markdown",
   "metadata": {},
   "source": [
    "## Operadores de comparacion\n",
    "\n",
    "Agarran el primer valor y lo comparan con el segundo. Se organizan en: Valor \"operador\" valor."
   ]
  },
  {
   "attachments": {},
   "cell_type": "markdown",
   "metadata": {},
   "source": [
    "\"==\" igual que\n",
    "\n",
    "\"!=\" es distinto de \n",
    "\n",
    "\"<\"  es menor que\n",
    "\n",
    "\">\"  es mayor que\n",
    "\n",
    "\"<=\" es menor o igual que\n",
    "\n",
    "\">=\" es mayor o igual que\n",
    "\n",
    "Nos devulven un *\"Valor de Verdad\"* como resultado.\n",
    "- **Verdadero** $\\Rightarrow$ $\\normalsize \\color{green}{\\textsf{ True }}$  \n",
    "- **Falso** $\\Rightarrow$ $\\normalsize \\color{green}{\\textsf{ False }}$"
   ]
  },
  {
   "cell_type": "code",
   "execution_count": 5,
   "metadata": {},
   "outputs": [
    {
     "name": "stdout",
     "output_type": "stream",
     "text": [
      "False\n",
      "True\n",
      "True\n",
      "True\n",
      "True\n",
      "True\n",
      "False\n",
      "False\n"
     ]
    }
   ],
   "source": [
    "igual_que = 3 == 9\n",
    "\n",
    "es_distinto_de = 4 != 8\n",
    "\n",
    "es_menor_que = 1 < 2\n",
    "\n",
    "es_mayor_que = 3 > 2\n",
    "\n",
    "es_menor_o_igual_que = 10 <= 20\n",
    "\n",
    "es_mayor_o_igual_que = 30 >= 15\n",
    "\n",
    "\n",
    "print(igual_que)\n",
    "print(es_distinto_de)\n",
    "print(es_menor_que)\n",
    "print(es_mayor_que)\n",
    "print(es_menor_o_igual_que)\n",
    "print(es_mayor_o_igual_que)\n",
    "\n",
    "# Calculos combinados\n",
    "\n",
    "a = 5\n",
    "b = 10\n",
    "c = 20\n",
    "comparacion = a + b == c\n",
    "\n",
    "print(comparacion) # False\n",
    "\n",
    "# Comparacion de contraseñas\n",
    "\n",
    "contraseña_nueva = \"MetaDeAdcYa\"\n",
    "contraseña_vieja = \"DaleQueSePuedeJoni\"\n",
    "\n",
    "print(contraseña_nueva == contraseña_vieja) # False"
   ]
  },
  {
   "attachments": {},
   "cell_type": "markdown",
   "metadata": {},
   "source": [
    "## Condicionales\n",
    "\n",
    "Son pedasitos de codigo que nos dice:\n",
    "\n"
   ]
  },
  {
   "attachments": {},
   "cell_type": "markdown",
   "metadata": {},
   "source": [
    "Si la condición se cumple: True, entonces este codigo se va a ejecutar.\n",
    "\n",
    "Si la concición no se cumple: False, No se va a ejecutar.\n",
    "\n",
    "De lo contrario: Si no se cumple, el pedasito de arriba es False, no se va a ejecutar el codigo de arriba si no el de abajo.\n",
    "\n",
    "Estos son los \"if\" y el \"else\".\n",
    "\n",
    "El elif nos da una segunda condición, si la primera no se cumple pasa a la segunda condición. Si esta no se cumple ahí recien pasa al else."
   ]
  },
  {
   "cell_type": "code",
   "execution_count": null,
   "metadata": {},
   "outputs": [],
   "source": [
    "if 'condicion_se_cumple': True\n",
    "# Codigo se ejecuta en caso que la condición se cumpla\n",
    "if 'condicion no se cumple': False\n",
    "# No se va a ejecutar\n",
    "else:\n",
    "    'Si no se cumple, el pedasito de arriba es False, no se va a ejecutar el codigo de arriba si no el de abajo.'"
   ]
  },
  {
   "cell_type": "code",
   "execution_count": null,
   "metadata": {},
   "outputs": [],
   "source": [
    "#ejemplo\n",
    "\n",
    "if edad >= 18:\n",
    "    print('sos mayor de edad')\n",
    "else:\n",
    "    print('sos menor de edad')"
   ]
  },
  {
   "cell_type": "code",
   "execution_count": null,
   "metadata": {},
   "outputs": [],
   "source": [
    "# Así es como funciona un condicional.\n",
    "if condicion:\n",
    "    accion\n",
    "\n",
    "if True:\n",
    "    # Accion se ejecuta\n",
    "\n",
    "if False:\n",
    "    # Accion no se ejecuta"
   ]
  },
  {
   "cell_type": "code",
   "execution_count": 12,
   "metadata": {},
   "outputs": [
    {
     "name": "stdout",
     "output_type": "stream",
     "text": [
      "Podes pasar\n",
      "No forma parte de ninguna condicion\n"
     ]
    }
   ],
   "source": [
    "edad = 19 # Variable\n",
    "\n",
    "if edad >= 18:\n",
    "    print(\"Podes pasar\") # Todo lo que este acá adentro forma parte del if\n",
    "\n",
    "# Si es mayor si aparecera \"pode pasar\", pero si es menor no. Para que aparezca tendremos que:\n",
    "\n",
    "else:\n",
    "    print(\"No podes pasar\") # Todo lo que este acá adentro forma parte del else\n",
    "\n",
    "# Depende de la condición \"edad >= 18:\" se ejecutara if o else.\n",
    "\n",
    "print(\"No forma parte de ninguna condicion\") # Esto esta fuera de las condiciones y se va a ejecutar pase lo que pase.\n",
    "\n",
    "\n"
   ]
  },
  {
   "cell_type": "code",
   "execution_count": 14,
   "metadata": {},
   "outputs": [
    {
     "name": "stdout",
     "output_type": "stream",
     "text": [
      "Su contraseña es incorrecta\n"
     ]
    }
   ],
   "source": [
    "contraseña_almacenada = \"Ratatatata\"\n",
    "contraseña_escrita = \"Ratata\"\n",
    "\n",
    "if contraseña_almacenada == contraseña_escrita:\n",
    "    print(\"Puede ingresar\")\n",
    "else:\n",
    "    print(\"Su contraseña es incorrecta, intente de nuevo\")\n"
   ]
  },
  {
   "cell_type": "code",
   "execution_count": 19,
   "metadata": {},
   "outputs": [
    {
     "name": "stdout",
     "output_type": "stream",
     "text": [
      "Estas joya en latino america\n"
     ]
    }
   ],
   "source": [
    "ingreso_muensual = 5000\n",
    "\n",
    "if ingreso_muensual > 10000:\n",
    "    print(\"Estas joya en cualquier parte del mundo\")\n",
    "elif ingreso_muensual > 1000: #Elif: caso contrario\n",
    "    print(\"Estas joya en latino america\")\n",
    "else:\n",
    "    print(\"sos latino pa\")\n",
    "\n",
    "# El elif nos da una segunda condición, si la primera no se cumple pasa a la segunda condición. Si esta no se cumple ahí recien pasa al else."
   ]
  },
  {
   "attachments": {},
   "cell_type": "markdown",
   "metadata": {},
   "source": [
    "## Operadores lógicos\n",
    "\n",
    "Hay 3 operadores lógicos.\n",
    "\n",
    "and.\n",
    "\n",
    "or.\n",
    "\n",
    "not."
   ]
  },
  {
   "cell_type": "code",
   "execution_count": 2,
   "metadata": {},
   "outputs": [
    {
     "name": "stdout",
     "output_type": "stream",
     "text": [
      "False\n"
     ]
    }
   ],
   "source": [
    "# AND\n",
    "resultado = True & True # Devolver True\n",
    "resultado2 = False & True # Devolver False\n",
    "resultado3 = True & False # Devolver False\n",
    "resultado4 = False & False # Devolver False\n",
    "\n",
    "# OR\n",
    "resultado5 = True | True # Devolver True\n",
    "resultado6 = False | True # Devolver True\n",
    "resultado7 = True | False # Devolver True\n",
    "resultado8 = False | False # Devolver False\n",
    "\n",
    "# NOT\n",
    "\n",
    "resultado9 = not True # Devolver False\n",
    "resultado10 = not False # Devolver True\n",
    "\n",
    "print(resultado2)"
   ]
  },
  {
   "attachments": {},
   "cell_type": "markdown",
   "metadata": {},
   "source": [
    "## Métodos de cadena:\n",
    "\n",
    "Los métodos son: El dato . el método y los ().\n",
    "\n",
    "Función DIR - Devuelve la lista de atributos válidos del objeto pasado.\n",
    "\n",
    "UPPER - convierte a mayuscula\n",
    "\n",
    "LOWER - convierte a minuscua\n",
    "\n",
    "CAPITALIZE - primera en mayuscula\n",
    "\n",
    "\n",
    "FIND - método encuentra la primera aparición del valor especificado, sino devuelve 1\n",
    "\n",
    "INDEX -  método encuentra la primera aparición del valor especificado, sino devuelve una exepción\n",
    "\n",
    "ISNUMERIC - si es numerico devuelve True\n",
    "\n",
    "ISALPHA - si es alfa numérico devuelve True\n",
    "\n",
    "COUNT - devuelve el número de ocurrencias de una sub cadena en la cadena dada\n",
    "\n",
    "Función LEN - cuenta los caracteres de una cadena\n",
    "\n",
    "ENDSWITH - verifica si una cadena comienza con\n",
    "\n",
    "STARTSWITH - verifica si una cadena termina con\n",
    "\n",
    "REPLACE - remplaza un valor por otro\n",
    "\n",
    "SPLIT - separa por el parametro dado"
   ]
  },
  {
   "cell_type": "code",
   "execution_count": 16,
   "metadata": {},
   "outputs": [
    {
     "name": "stdout",
     "output_type": "stream",
     "text": [
      "Que onda soy Federico\n"
     ]
    }
   ],
   "source": [
    "cadena1 = \"Hola soy Jajas\"\n",
    "cadena2 = \"Biemnvenido master\"\n",
    "\n",
    "# Comvertimos a mayuscula\n",
    "mayus = cadena1.upper()\n",
    "\n",
    "# Convertimos a minuscula\n",
    "minus = cadena1.lower()\n",
    "\n",
    "# Primera letra en mayuscula\n",
    "primera_letra_en_mayus = cadena1.capitalize()\n",
    "print(primera_letra_en_mayus)\n",
    "\n",
    "# Buscamos una cadena en otra\n",
    "busqueda_find = cadena1.find(\"Hola\") # Te devuelve la posicion donde la encuentra. Si no encuentra nada, nos devuelve -1.\n",
    "print(busqueda_find)\n",
    "\n",
    "# Buscamos una cadena en otra\n",
    "busqueda_index = cadena1.index(\"Jajas\") # Te devuelve la posicion donde la encuentra. Si no encuentra nada, lanza una excepción.\n",
    "print(busqueda_index)\n",
    "\n",
    "# Si es numérico devuelve True, Sino devuelve False\n",
    "es_numerico = cadena1.isnumeric(33)\n",
    "print(es_numerico)\n",
    "\n",
    "# Si es alfanumerico devuelve True, Sino devuelve False\n",
    "es_alfanumerico = cadena1.isalpha(\"Hola\") # Los caracteres especiales no son alfanumericos (espacios, comas, puntos)\n",
    "print(es_alfanumerico)\n",
    "\n",
    "# Cuenta las coincidencias de una cadena, dentro de otra cadena, devuelve la cantidad de concidencias.\n",
    "contar_coincidencias = cadena1.count(\"a\") \n",
    "print(contar_coincidencias)\n",
    "\n",
    "# Contamos cuantos caracteres tiene una cadena\n",
    "contar_caracteres = len(cadena1)\n",
    "print(contar_caracteres)\n",
    "\n",
    "# Verificamos si una cadena empieza con otra cadena dada, si es asi devuelve True\n",
    "empieza_con = cadena1.startswith(\"H\")\n",
    "print(empieza_con)\n",
    "\n",
    "# Verificamos si una cadena termina con otra cadena dada, si es asi devuelve True\n",
    "termina_con = cadena1.endswith(\"o\")\n",
    "print(termina_con)\n",
    "\n",
    "# Si el valor 1, se encuentra en la cadena dada, reemplaza el valor 1 de la misma, por el valor 2\n",
    "cadena_nueva = cadena1.replace(\"Hola\",\"Que onda\")\n",
    "print(cadena_nueva)\n",
    "\n",
    "# Separar cadena, con la cadena que le pasaemos\n",
    "cadena_separada = cadena1.split(\",\") # Crea una lista con cada valor separado por lo que le pasemos.\n",
    "print(cadena_separada[0])\n",
    "\n",
    "\n",
    "\n"
   ]
  },
  {
   "attachments": {},
   "cell_type": "markdown",
   "metadata": {},
   "source": [
    "## Métodos de Lista:\n",
    "\n",
    "LIST -  crea una lista\n",
    "\n",
    "LEND - cuenta la cantidad de elementos de una lista\n",
    "\n",
    "APPEND - agrega un elemento a la lista\n",
    "\n",
    "INSERT - agrega un elemento a la lista en el indice especificado\n",
    "\n",
    "EXTEND - agrega varios elementos a la lista\n",
    "\n",
    "POP - elimina un elemento de la lista\n",
    "\n",
    "REMOVE - remueve un elemento de una lista, pide valor\n",
    "\n",
    "CLEAR - elimina todos los elementos de una lista\n",
    "\n",
    "SORT - ordena una lista de forma ascendente a descendente\n",
    "\n",
    "REVERSE - invierte los elementos de una lista"
   ]
  },
  {
   "cell_type": "code",
   "execution_count": 36,
   "metadata": {},
   "outputs": [
    {
     "name": "stdout",
     "output_type": "stream",
     "text": [
      "['hola', 'el 10', 33, 87, 83, True, 'tuki', 2023, 'otp twitch']\n",
      "5\n"
     ]
    }
   ],
   "source": [
    "# Creano una lista con list()\n",
    "lista = list([\"hola\",\"Eljajas\",33,87,83, True])\n",
    "\n",
    "# Devuelve la cantidad de elementos\n",
    "cantidad_elementos = len(lista)\n",
    "print(cantidad_elementos)\n",
    "\n",
    "# Agregando un elemento a la lista\n",
    "lista.append(\"tuki\")\n",
    "print(lista) # No llamamos a la variable, llamamos a la lista por que agregamos un valor.\n",
    "\n",
    "# Agregando un elemento a la lista en un indice especifico\n",
    "lista.insert(2,\"el 10\") # El indice 2 sera este, y el que era el 2 anteriormente pasa a ser el 3.\n",
    "print(lista)\n",
    "\n",
    "# Agregando varios elementos a la lista\n",
    "lista.extend([\"Ratata\",2023, \"joder esto es programacion\"])\n",
    "print(lista)\n",
    "\n",
    "# Eliminando un elemento de la lista (por su indice)\n",
    "lista.pop(8) # -1 nos elimina el ultimo, si es el -2 nos elimina el ante ultimo, y asi sucesivamente\n",
    "print(len(lista)) # Con len pedimos el tamaño de la lista, y veremos que tiene un elemento menos.\n",
    "\n",
    "# Removiendo un elemento de la lista por su valor\n",
    "lista.remove(\"Eljajas\")\n",
    "print(lista)\n",
    "\n",
    "# Eliminando todos los elementos de la lista\n",
    "lista.clear()\n",
    "\n",
    "# Ordena de forma asendente los elementos\n",
    "lista.sort() # No funciona con cadenas de texto \"\" (primero vienen los True, luego los False, despues los numeros de menor a mayor).\n",
    "print(lista)\n",
    "\n",
    "# Ordena de forma ascendente (Si usamos el parametro reverse=True lo ordena en reversa)\n",
    "lista.sort(reverse=True) \n",
    "print(lista)\n",
    "\n",
    "# Invirtiendo los elementos de una lista\n",
    "lista.reverse()\n",
    "print(lista)\n",
    "\n",
    "# Verificando si un elemento se encuentra en la lista\n",
    "elemento_encontrado = lista.index(True) # Busca si el elemento que ponemos es igual al que está en la lista.\n",
    "\n",
    "print(elemento_encontrado)\n",
    "\n",
    "# Las tuplas solo podemos buscar elementos y usar index pero no cambiar el orden de nigun elemento.\n",
    "\n"
   ]
  },
  {
   "attachments": {},
   "cell_type": "markdown",
   "metadata": {},
   "source": [
    "## Métodos de diccionarios:\n",
    "\n",
    "Keys() -> devuelve las claves (nos permite iterar)\n",
    " \n",
    "get() -> devuelve el valor de una clave\n",
    " \n",
    "clear() -> elimina todos los elementos\n",
    "\n",
    "pop() -> elimina un elemento\n",
    "\n",
    "items() -> para iterar en dict"
   ]
  },
  {
   "cell_type": "code",
   "execution_count": 40,
   "metadata": {},
   "outputs": [
    {
     "name": "stdout",
     "output_type": "stream",
     "text": [
      "Federico\n"
     ]
    }
   ],
   "source": [
    "diccionario = {\n",
    "    'nombre' : 'Eljajas',\n",
    "    'Apellido' : 'Jujus',\n",
    "    'aguante' : 'messi'\n",
    "}\n",
    "# Nos devuelve un objeto:item\n",
    "claves = diccionario.keys()\n",
    "print(claves)\n",
    "\n",
    "# Obteniendo un elemento con get () (si no encuantra nada el programa continúa)\n",
    "valor_de_nombre = diccionario.get(\"nombre\")\n",
    "print(\"el programa continúa\")\n",
    "\n",
    "# Elimina todo del diccionario\n",
    "claves = diccionario.clear()\n",
    "print(diccionario)\n",
    "\n",
    "# Eliminando un elemento del diccionario\n",
    "claves = diccionario.pop(\"nombre\", \"Apellido\")\n",
    "print(diccionario)\n",
    "\n",
    "# Nos devuelve cada uno de los elementos\n",
    "diccionario_iterable = diccionario.items()\n",
    "print(diccionario)\n",
    "\n"
   ]
  },
  {
   "attachments": {},
   "cell_type": "markdown",
   "metadata": {},
   "source": [
    "## Entrada de datos (input)\n",
    "\n",
    "Es una función que nos permite pedir un dato al usuario"
   ]
  },
  {
   "cell_type": "code",
   "execution_count": 43,
   "metadata": {},
   "outputs": [
    {
     "name": "stdout",
     "output_type": "stream",
     "text": [
      "el nombre es:Fede\n"
     ]
    }
   ],
   "source": [
    "# Pedir un nombre al usuarion\n",
    "nombre = input(\"Che master, dame tu nombre: \")\n",
    "\n",
    "# Mostrando el dato\n",
    "print(f'el nombre es:{nombre}')"
   ]
  },
  {
   "attachments": {},
   "cell_type": "markdown",
   "metadata": {},
   "source": [
    "El dato que nos va a devolver input es SIEMPRE UN TEXTO, NO OLVIDAR."
   ]
  },
  {
   "cell_type": "code",
   "execution_count": 45,
   "metadata": {},
   "outputs": [
    {
     "name": "stdout",
     "output_type": "stream",
     "text": [
      "12\n"
     ]
    }
   ],
   "source": [
    "# Pedirle un número al usuario\n",
    "numero = input(\"Dame un numero master, por favor: \")\n",
    "\n",
    "# Convierto el numero a entero y lo multiplico por 2\n",
    "resultado = int(numero)*2 # Para convertirlo en numero se usa el int, sino se van a concatenar y nos dara como resultado 66 y no 12\n",
    "#(en caso que puseramos el numero 6 en input)\n",
    "# Mostrar resultado\n",
    "print(resultado)\n",
    "\n",
    "# Convierto el numero a flotante y lo multiplico por 2\n",
    "resultado_flotante = float(numero)*2\n"
   ]
  },
  {
   "attachments": {},
   "cell_type": "markdown",
   "metadata": {},
   "source": [
    "Si vamos a trabajar con numeros enteros, usamos int.\n",
    "\n",
    "Si vamos a trabajar con numeros flotantes, usamos foat."
   ]
  },
  {
   "attachments": {},
   "cell_type": "markdown",
   "metadata": {},
   "source": [
    "## Ejercicio 1\n",
    "\n",
    "A. diferencia de mi equipo, consigo tirar la torre mas rapido que ellos.\n",
    "\n",
    "cuanta diferencia hay entre yo y: \n",
    "\n",
    "el que tira la torre mas rapido del enemigo\n",
    "\n",
    "el que tira la torre mas lento del enemigo\n",
    "\n",
    "promedio de el tiempo\n",
    "\n",
    "B. que porcentaje del tiempo se puede ahorar el\n",
    "\n",
    "promedio del tiempo\n",
    "\n",
    "C. Tirar la torre primero equivale a? y al revés?\n"
   ]
  },
  {
   "cell_type": "code",
   "execution_count": 43,
   "metadata": {},
   "outputs": [
    {
     "name": "stdout",
     "output_type": "stream",
     "text": [
      "Fz tarda en tirar la torre enemiga un 47.5% más lento de su equipo\n",
      "Fz tarda en tirar la torre enemiga un 30.0% más lento de su equipo\n",
      "Fz tarda en tirar la torre enemiga un 58.0% más rápido que el promedio\n",
      "Fz se ahorra en tirar la torre enemiga un 58.0% de tiempo que el promedio de su equipo\n",
      "Fz ahorra en tirar la torre enemiga un 58.0% de tiempo que el promedio lo hace\n",
      "Tirar la primera torre equivale a 85.0 % de diferencia a otros\n"
     ]
    }
   ],
   "source": [
    "# Primero anotamos los datos\n",
    "\n",
    "primera_torre = 15\n",
    "segunda_torre = 20\n",
    "promedio_del_tiempo = 25\n",
    "yo_tiro_en = 10.5\n",
    "\n",
    "promedio_que_tiran = 15\n",
    "promedio_que_yo_tiro = 10\n",
    "\n",
    "# Diferencias de caida de torres\n",
    "\n",
    "diferencia_con_mas_lento = 100 - yo_tiro_en / segunda_torre * 100 # Esta divición se hace primero luego la multiplicacion para que nos de el % y\n",
    "# luego se le resta 100 nos dice la diferencia.\n",
    "\n",
    "print(f\"Jujus tarda en tirar la torre enemiga un {diferencia_con_mas_lento}% más lento de su equipo\")\n",
    "\n",
    "diferencia_con_mas_rapido = 100 - yo_tiro_en  / primera_torre * 100\n",
    "\n",
    "print(f\"Jujus tarda en tirar la torre enemiga un {diferencia_con_mas_rapido}% más lento de su equipo\")\n",
    "\n",
    "diferencia_con_el_promedio = 100 - yo_tiro_en / promedio_del_tiempo * 100\n",
    "\n",
    "print(f\"Jujus tarda en tirar la torre enemiga un {diferencia_con_el_promedio}% más rápido que el promedio\")\n",
    "\n",
    "# Porcentaje del tiempo ahorro\n",
    "\n",
    "tiempo_que_ahorro = 100 - promedio_que_tiran / promedio_que_yo_tiro *100\n",
    "print(f\"Jujus se ahorra en tirar la torre enemiga un {diferencia_con_el_promedio}% de tiempo que el promedio de su equipo\")\n",
    "\n",
    "\n",
    "tiempo_yo = 100 - yo_tiro_en / promedio_que_yo_tiro *100\n",
    "\n",
    "print(f\"Jujus ahorra en tirar la torre enemiga un {diferencia_con_el_promedio}% de tiempo que el promedio lo hace\")\n",
    "\n",
    "print(f\"Tirar la primera torre equivale a {100 - promedio_que_tiran / promedio_que_yo_tiro *10} % de diferencia a otros\")"
   ]
  },
  {
   "attachments": {},
   "cell_type": "markdown",
   "metadata": {},
   "source": [
    "## Ejercicio 2\n",
    "A. Pedirle a un usuario que diga cualquier texto real y :\n",
    "\n",
    "calcular cuanto tardaría en decir esa frase\n",
    "\n",
    "¿cuantas palabras dijo?\n",
    "\n",
    "B. Si se tarda más de 1 minuto:\n",
    "\n",
    "-decirle: \"para flaquito tampoco te pedí un testamento\".\n",
    "\n",
    "C. Si hablo un 30% más rápido:\n",
    "¿Cuanto tardaría yo en decirlo?"
   ]
  },
  {
   "cell_type": "code",
   "execution_count": 48,
   "metadata": {},
   "outputs": [
    {
     "name": "stdout",
     "output_type": "stream",
     "text": [
      "Dijiste 5 palabras, y te tardarías 2.5 segundos en decirlo\n",
      "Yo lo diría en 3.25 segundos en decirlo\n"
     ]
    }
   ],
   "source": [
    "# Le pedimos al usuario que nos diga una frase (o varias)\n",
    "frase = input(\"decime una frase y te calculo cuanto tardarías si tuvieras que decirla: \")\n",
    "\n",
    "# Creamos una lista con todas las palabras de la frase (se separan cada vez que haya un espacio en blanco)\n",
    "palabras_separadas = frase.split(\" \")\n",
    "\n",
    "# Usamos len() para ver la cantidad de elementos que hay en la lista\n",
    "cantidad_de_palabras = len(palabras_separadas)\n",
    "\n",
    "# En caso de que tarde más de un minuto en decirlo, le decimos que pare un poco\n",
    "if cantidad_de_palabras > 120:\n",
    "    print(\"Pará flaquito tampoco te pedí un testamento\")\n",
    "\n",
    "# Calculamos cuanto tardaría en decir las palabras y se lo decimos\n",
    "print(f'Dijiste {cantidad_de_palabras} palabras, y te tardarías {cantidad_de_palabras/2} segundos en decirlo')\n",
    "print(f'Yo lo diría en {cantidad_de_palabras/2*1.3} segundos en decirlo')\n"
   ]
  },
  {
   "attachments": {},
   "cell_type": "markdown",
   "metadata": {},
   "source": [
    "## Variables 2.0\n",
    "\n",
    "Desempaquetado: Es una técnica para asignar valores a variables de una forma muy particular. Funciona para tuplas, listas y demás"
   ]
  },
  {
   "cell_type": "code",
   "execution_count": 12,
   "metadata": {},
   "outputs": [
    {
     "name": "stdout",
     "output_type": "stream",
     "text": [
      "Jujus\n"
     ]
    }
   ],
   "source": [
    "# Podemos crear variables nuevas tomando los datos de por ejemplo una tubla:\n",
    "\n",
    "# Creando los datos\n",
    "datos_en_tuplas = (\"Jujus\", \"Jas\",\"300000\")\n",
    "datos_en_listas = {\"Jujus\", \"Jas\",\"300000\"}\n",
    "\n",
    "# Desempaquetado\n",
    "apodo,ja,numeros = datos_en_tuplas\n",
    "apodo,ja,numeros = datos_en_tuplas\n",
    "\n",
    "print(apodo) # Esta es la forma de desencapsular variables, cada valor que ponemos estará esta colocado en cada uno de los elementos de la tubla.\n",
    "# El desempaquetado solo funciona si la cantidad de variables que ponen es igual a la cantidad de datos que tiene la tupla\n"
   ]
  },
  {
   "cell_type": "code",
   "execution_count": 6,
   "metadata": {},
   "outputs": [
    {
     "name": "stdout",
     "output_type": "stream",
     "text": [
      "('dato1', 'dato2')\n"
     ]
    }
   ],
   "source": [
    "# Podemos crear tuplas de la siguente manera\n",
    "\n",
    "# Creando tuplas con tuples()\n",
    "tupla = tuple([\"dato1\", \"dato2\"])\n",
    "\n",
    "print(tuple)\n",
    "\n",
    "# Otra manera mas interesante\n",
    "\n",
    "# Creando tupla sin parentesis de multiples datos\n",
    "tupla = \"dato1\",\"dato2\" # Si le ponemos una coma se comvertira en una tupla\n",
    "\n",
    "# Creando tupla sin parentesis de un solo dato\n",
    "tupla = \"dato\",\n",
    "print(tupla)\n",
    "\n",
    "# Las tuplas se puede crear siempre y cuando sean datos de lectura."
   ]
  },
  {
   "cell_type": "code",
   "execution_count": 11,
   "metadata": {},
   "outputs": [
    {
     "name": "stdout",
     "output_type": "stream",
     "text": [
      "{'dato3', frozenset({'dato1', 'dato2'})}\n"
     ]
    }
   ],
   "source": [
    "# Los conjuntos se pueden crear con una función set\n",
    "\n",
    "# Creando un conjunto con set()\n",
    "conjunto = set ([\"dato1\",\"dato2\"])\n",
    "\n",
    "print(conjunto)\n",
    "\n",
    "# Metiendo un conjunto dentro de otro conjunto\n",
    "conjunto1 = frozenset([\"dato1\", \"dato2\"]) # para poder agregar un conjunto dentro de otro conjunto usamos la función fronzenset.\n",
    "conjunto2 = {conjunto1, \"dato3\"}\n",
    "print(conjunto2)\n",
    "\n",
    "# El frozenset crea un conjunto inmutable conjelado."
   ]
  },
  {
   "cell_type": "code",
   "execution_count": 13,
   "metadata": {},
   "outputs": [
    {
     "name": "stdout",
     "output_type": "stream",
     "text": [
      "True\n"
     ]
    }
   ],
   "source": [
    "# Teoria de conjuntos\n",
    "\n",
    "conjunto1 = {1,3,5,7}\n",
    "conjunto2 = {1,3,7}\n",
    "\n",
    "# Verificando si es un subconjunto\n",
    "resultado = conjunto2.issubset(conjunto1) # El issubset significa \"Es un conjunto de\"\n",
    "print(resultado)\n",
    "resultado = conjunto2 <= conjunto2 # El <= se utiliza para saber si es sub conjunto\n",
    "print(resultado)\n",
    "\n",
    "# Verificando si es un superconjunto\n",
    "resultado = conjunto2.issuperset(conjunto1) # Acá se usa el supperset\n",
    "print(resultado)\n",
    "resultado = conjunto2 > conjunto1 # A diferencia del anterior, se usa >\n",
    "print(resultado)\n",
    "\n",
    "# Verificar si hay algún numero en comun\n",
    "resultado = conjunto2.isdisjoint(conjunto1) # Si solo hay 1 resultado en comun ya deja de ser True\n",
    "print(resultado)"
   ]
  },
  {
   "attachments": {},
   "cell_type": "markdown",
   "metadata": {},
   "source": [
    "## Diccionarios 2.0\n",
    "\n"
   ]
  },
  {
   "cell_type": "code",
   "execution_count": 40,
   "metadata": {},
   "outputs": [
    {
     "name": "stdout",
     "output_type": "stream",
     "text": [
      "{'nombre': 'Eljajas', 'apellido': 'Jujus'}\n"
     ]
    },
    {
     "ename": "TypeError",
     "evalue": "unhashable type: 'list'",
     "output_type": "error",
     "traceback": [
      "\u001b[1;31m---------------------------------------------------------------------------\u001b[0m",
      "\u001b[1;31mTypeError\u001b[0m                                 Traceback (most recent call last)",
      "Cell \u001b[1;32mIn[40], line 7\u001b[0m\n\u001b[0;32m      3\u001b[0m \u001b[39mprint\u001b[39m(diccionario)\n\u001b[0;32m      5\u001b[0m \u001b[39m# Las listas no pueden ser claves por que son mutables \u001b[39;00m\n\u001b[1;32m----> 7\u001b[0m diccionario \u001b[39m=\u001b[39m {[\u001b[39m\"\u001b[39m\u001b[39mEljajas\u001b[39m\u001b[39m\"\u001b[39m,\u001b[39m\"\u001b[39m\u001b[39mfarmea bien\u001b[39m\u001b[39m\"\u001b[39m,\u001b[39m\"\u001b[39m\u001b[39mpelotudo\u001b[39m\u001b[39m\"\u001b[39m]}\n\u001b[0;32m      9\u001b[0m \u001b[39m# Usamos frozenser para meter conjuntos\u001b[39;00m\n\u001b[0;32m     10\u001b[0m diccionario \u001b[39m=\u001b[39m {\u001b[39mfrozenset\u001b[39m([\u001b[39m\"\u001b[39m\u001b[39mEljajas\u001b[39m\u001b[39m\"\u001b[39m,\u001b[39m\"\u001b[39m\u001b[39mfarmea bien\u001b[39m\u001b[39m\"\u001b[39m]):\u001b[39m\"\u001b[39m\u001b[39mpelotudo\u001b[39m\u001b[39m\"\u001b[39m}\n",
      "\u001b[1;31mTypeError\u001b[0m: unhashable type: 'list'"
     ]
    }
   ],
   "source": [
    "# Creando diccioanrio con dict()\n",
    "diccionario = dict(nombre=\"Eljajas\", apellido=\"Jujus\") # Esto nos pedirá un conjunto de clave=valor (Con esta forma podemos crear diccionarios vacios).\n",
    "print(diccionario)\n",
    "\n",
    "# Las listas no pueden ser claves por que son mutables \n",
    "\n",
    "diccionario = {[\"Eljajas\",\"farmea bien\",\"pelotudo\"]}\n",
    "\n",
    "# Usamos frozenser para meter conjuntos\n",
    "diccionario = {frozenset([\"Eljajas\",\"farmea bien\" ]):\"pelotudo\"}\n",
    "print(diccionario)\n",
    "\n",
    "# Creando doccionario con fromkeys()\n",
    "diccionario = dict.fromkeys([\"nombre\",\"apellido\"]) # Es una forma de crear diccionarios con todos los valores indefinidos\n",
    "print(diccionario[\"nombre\",\"apellido\"])"
   ]
  },
  {
   "attachments": {},
   "cell_type": "markdown",
   "metadata": {},
   "source": [
    "## Bucle \"for\"\n",
    "\n",
    "Un bucle es la repetición de forma controlada de la ejecución de un codigo.\n",
    "\n",
    "Los bucles son sentencias que nos permiten iterar un elemento. No todo los elementos se pueden iterar, solo los elementos iterables. Un elemento puede ser iterable cuando tiene algo que defina como se va a iterar:\n",
    "La primera iteracion de acá hasta acá, la segunda de acá hasta acá, la tercera de acá hasta acá. Si no teniene nada que me diga como se va a iterar, es decir, como vamos a ir repitiendo el código y de que forma vamos a ir recorriendo cada elemento, (por que iterar es recorrer un elemento en pedasitos) entonces no es iterable."
   ]
  },
  {
   "cell_type": "code",
   "execution_count": null,
   "metadata": {},
   "outputs": [],
   "source": [
    "# En python los bucles son for in, este bucle crea un variable que en cada vuelta va a ser igual a ese pedasito de variable que expresamos\n",
    "animales = [\"perro\",\"gato\",\"loro\",\"cocodrilo\"]\n",
    "\n",
    "for animal in animales: #¿que valor tiene animal? la primera vez que se ejecuta el codigo será perro, sera el primer elemento. Cuando termine de dar\n",
    "# la vuelta al bloque va a revisar si si hay mas elementos en la lista, si hay mas elementos entonces se vuelve a ejecutar pero ahora animal es igual\n",
    "# a gato, su segundo elemento. Termina de ejecutarce, pregunta si hay mas elementos y hasta el loro, entonces en la siguiente vuelta el animal es igual a\n",
    "# loro. Nuevamente termina la ejecición y pregunta si hay otro animal y si, está el cocodrilo, entonces se ejecuta devuelta y ahora animal es igual\n",
    "# a cocodrilo. Ahora vuelve a preguntar y ya no hay mas animales, entonces el bucle terminma de ejecutarce.\n",
    "\n",
    "# Entonces funcionaria de la siguiente forma: se crea una lista, después se ejecuta el bucle tantas veces como animales tenga y cuando no tenga más, \n",
    "# el programa continúa con su flujo natural."
   ]
  },
  {
   "cell_type": "code",
   "execution_count": 20,
   "metadata": {},
   "outputs": [
    {
     "name": "stdout",
     "output_type": "stream",
     "text": [
      "perro\n",
      "Ahora la variable animal es igual a: perro\n",
      "gato\n",
      "Ahora la variable animal es igual a: gato\n",
      "loro\n",
      "Ahora la variable animal es igual a: loro\n",
      "cocodrilo\n",
      "Ahora la variable animal es igual a: cocodrilo\n",
      "10\n",
      "30\n",
      "40\n",
      "50\n",
      "recorriendo lista 1: [1, 3, 4, 5]\n",
      "recorriendo lista 2: 1\n",
      "recorriendo lista 1: [1, 3, 4, 5]\n",
      "recorriendo lista 2: 3\n",
      "recorriendo lista 1: [1, 3, 4, 5]\n",
      "recorriendo lista 2: 4\n",
      "recorriendo lista 1: [1, 3, 4, 5]\n",
      "recorriendo lista 2: 5\n"
     ]
    }
   ],
   "source": [
    "animales = [\"perro\",\"gato\",\"loro\",\"cocodrilo\"]\n",
    "numeros = [1,3,4,5,]\n",
    " \n",
    "# Recorriendo la lista animales\n",
    "for animal in animales:\n",
    "    print(animal)\n",
    "#O tambien.\n",
    "    print(f'Ahora la variable animal es igual a: {animal}')\n",
    "\n",
    "# Recorriendo la lista numeros y multiplicando cada valor por 10\n",
    "for numero in numeros:\n",
    "    resultado = numero * 10\n",
    "    print(resultado)\n",
    "\n",
    "# Iteracion entre 2 listas del mismo tamaño al mismo tiempo:\n",
    "# Primero que todo, las listas tienen que tener la misma cantidad de elementos.\n",
    "# Segundo usamos el zip para iterara entra las 2 listas\n",
    "for numero,animal in zip(animales,numeros): \n",
    "    print(f\"recorriendo lista 1: {numeros}\")\n",
    "    print(f\"recorriendo lista 2: {animal}\")\n",
    "\n",
    "# Iterar utilizando la función range\n",
    "for num in range (5,10): # Esto va a ejecutar numeros del 5 al 10\n",
    "    print(num)\n",
    "# Si yo a range le defino 2 parametros, el primero es donde inicia y el segundo en donde termina. El primer parametro está incluido, el segundo no.\n",
    "\n",
    "# Y si le ponemos 1 parametro, arrancará de 0 hasta llegar al número que le digamos.\n",
    "for num in range (5,10):\n",
    "    print(num)\n",
    "\n",
    "# Forma no optima de recorrer una lista\n",
    "for num in range(len(numeros)): # len(numeros) nos muestra la cantidad de elementos que tiene esto, en este caso 4 elementos.\n",
    "    print(numeros[num]) \n",
    "# La forma correcta de hacer esto es con la función enumerate.\n",
    "\n",
    "# Forma correcta de recorrer una lista con su indice\n",
    "for num in enumerate(numeros):\n",
    "    print(num) # Esto nos devuelve primero el indice y luego el valor\n",
    "\n",
    "# Si queremos acceder a los 2\n",
    "for num in enumerate(numeros):\n",
    "    indice = num [0] \n",
    "    valor = num [1]\n",
    "    print(f'el indice es: {indice} y el valor es: {valor}')\n",
    "\n",
    "# Usando el for/else\n",
    "for num in enumerate(numeros):\n",
    "    indice = num [0] \n",
    "    valor = num [1]\n",
    "    print(f\"ejecutando el ultimo bucle, valor actual: {numero}\")\n",
    "else: \n",
    "    print (\"el bucle termino\")\n",
    "# El else solo se muestra una vez y es al final del bucle, si se haya ejecutado una vez o no\n",
    "\n",
    "# Todo lo anterior funciona exactamente igual para las tuplas, solo que cambia los [] por los ():\n",
    "animales = (\"perro\",\"gato\",\"loro\",\"cocodrilo\")\n",
    "numeros = (1,3,4,5,)\n",
    "\n"
   ]
  },
  {
   "cell_type": "code",
   "execution_count": 3,
   "metadata": {},
   "outputs": [
    {
     "name": "stdout",
     "output_type": "stream",
     "text": [
      "nombre\n",
      "Apellido\n",
      "main_de_otp\n",
      "('nombre', 'Federico')\n",
      "('Apellido', 'Zerda')\n",
      "('main_de_otp', 'twitch')\n",
      "la clave es: nombre\n",
      "la clave es: Apellido\n",
      "la clave es: main_de_otp\n",
      "La clave es: nombre y el valor es: Federico\n",
      "La clave es: Apellido y el valor es: Zerda\n",
      "La clave es: main_de_otp y el valor es: twitch\n"
     ]
    }
   ],
   "source": [
    "# Iterar dicconarios\n",
    "\n",
    "diccionario = {\n",
    "    'nombre' : 'Federico',\n",
    "    'Apellido' : 'Zerda',\n",
    "    'main_de_otp' : 'twitch'\n",
    "}\n",
    "# Lo recorremos de la siguiente manera\n",
    "for key in diccionario: \n",
    "    print(key)\n",
    "\n",
    "# Para ver los valores\n",
    "for key in diccionario.items(): \n",
    "    print(key)\n",
    "\n",
    "# Recorriendo diccionario para obtener las claves\n",
    "for key in diccionario:\n",
    "    key\n",
    "    print(f\"la clave es: {key}\")\n",
    "\n",
    "# Recorriendo diciconario con items() para obtener la clave y los valores\n",
    "for datos in diccionario.items(): \n",
    "    key = datos [0]\n",
    "    value = datos [1]\n",
    "    print(f\"La clave es: {key} y el valor es: {value}\")"
   ]
  },
  {
   "cell_type": "code",
   "execution_count": 4,
   "metadata": {},
   "outputs": [
    {
     "name": "stdout",
     "output_type": "stream",
     "text": [
      "Me voy a comer una banana\n",
      "Me voy a comer una manzana\n",
      "Me voy a comer una pera\n",
      "Me voy a comer una naranja\n",
      "Me voy a comer una granada\n",
      "Me voy a comer una durazno\n"
     ]
    }
   ],
   "source": [
    "frutas = [\"banana\",\"manzana\",\"ciruela\",\"pera\",\"naranja\",\"granada\",\"durazno\"]\n",
    "\n",
    "# Evitando que se coma una ciruela con la sentencia continue\n",
    "for fruta in frutas:\n",
    "    if fruta == 'ciruela':\n",
    "        continue # El continue saltea el elemento, en este caso salta la ciruela\n",
    "    print(f'Me voy a comer una {fruta}')\n",
    "\n",
    "# Evitando que el bucle siga ejecutandote\n",
    "for fruta in frutas:\n",
    "    if fruta == 'pera':\n",
    "        break # Esto hace que el bucle termine acá, y podes continuar con lo que viene abajo.\n",
    "    print(f'Me voy a comer una {fruta}')\n",
    "\n",
    "print(\"bucle terminado\")\n",
    "\n",
    "# Adicional, cuando un ese encuentra un brake no se ejecuta. si no encuentra un brake se ejecuta. Ejemplo:\n",
    "\n",
    "# Evitando que el bucle siga ejecutandote (y el else tampoco se ejecuta)\n",
    "for fruta in frutas:\n",
    "      print(f'Me voy a comer una {fruta}')\n",
    "      if fruta == 'pera':\n",
    "        break \n",
    "else:\n",
    "    print ('terminado')\n",
    "  \n"
   ]
  },
  {
   "cell_type": "code",
   "execution_count": 38,
   "metadata": {},
   "outputs": [
    {
     "name": "stdout",
     "output_type": "stream",
     "text": [
      "H\n",
      "o\n",
      "l\n",
      "a\n",
      " \n",
      "E\n",
      "l\n",
      "j\n",
      "a\n",
      "j\n",
      "a\n",
      "s\n",
      "[4, 10, 16, 20]\n"
     ]
    }
   ],
   "source": [
    "# Recorrer (iterar) una cadena de texto, esta se recorre caracter por caracter.\n",
    "\n",
    "cadena = \"Hola Eljajas\"\n",
    "numeros = [2,5,8,10]\n",
    "\n",
    "for letra in cadena:\n",
    "    print(letra)\n",
    "\n",
    "# for en una sola linea de código (duplicamos los numeros)\n",
    "numeros_duplicados = [x*2 for x in numeros] # X se va a multiplicar por 2 y el valor que va a tener x va a ser la x, pero x multiplicado por 2\n",
    "print(numeros_duplicados)\n",
    "# El x*2 es una expesion, asi que puede ser otras expesiones tambien. Ejemplo\n",
    "numeros_al_cubo = [x**3 for x in numeros] \n"
   ]
  },
  {
   "attachments": {},
   "cell_type": "markdown",
   "metadata": {},
   "source": [
    "## Bucle while\n",
    "\n",
    "Este bucle utiliza condiciones para que sea ejecutado. Se ejecuta siempre que una condición sea verdadera, es decir, siempre se va a ejecuar mientras que la condicion que está en cuestion sea verdadera."
   ]
  },
  {
   "cell_type": "code",
   "execution_count": 8,
   "metadata": {},
   "outputs": [
    {
     "name": "stdout",
     "output_type": "stream",
     "text": [
      "1\n",
      "2\n",
      "3\n",
      "4\n"
     ]
    }
   ],
   "source": [
    "num = 1\n",
    "while num <5:\n",
    "    print(num)\n",
    "    num+=1\n",
    "# Este codigo se va a ejecuar mientras que el numero sea menor a 5.\n",
    "# En la primer vuelta, num = 1\n",
    "# En la segunda es num = 2\n",
    "# En la tercera es num = 3\n",
    "# En la cuarta es num = 4\n",
    "# Y en al quinta es num = 5. Por lo que ahora en la quinta no vamos a ejecutar el codigo, vamos a seguir con la siguiente instrucciones\n",
    "# Por que el bucle ya se ejecuto lo suficiente ya que la condicion no se cumple. Así que no vamos a seguir escribiendolo."
   ]
  },
  {
   "cell_type": "code",
   "execution_count": 13,
   "metadata": {},
   "outputs": [
    {
     "name": "stdout",
     "output_type": "stream",
     "text": [
      "0\n",
      "1\n",
      "2\n",
      "3\n",
      "4\n",
      "5\n",
      "6\n",
      "7\n",
      "8\n",
      "9\n",
      "el while llego a su fin\n"
     ]
    }
   ],
   "source": [
    "contador = 0\n",
    "\n",
    "while contador < 10:\n",
    "    print(contador)\n",
    "# Esto va a ejecutar un codigo infinito, para evitar esto hacemos lo siguiente:\n",
    "\n",
    "# Creando un contador que va a ir sumandose\n",
    "contador = 0\n",
    "\n",
    "#Mientras que la condicion se cumpla, el bucle va a seguir ejecutando \n",
    "# (vuelta, tras vuelta se verifica la condicion)\n",
    "while contador < 10:\n",
    "    print(contador)\n",
    "    contador+= 1 # De esta forma le vamos sumando 1 al contador hasta que llegue a 10 el while terminará de ejecutarce\n",
    "    \n",
    "print('el while llego a su fin')"
   ]
  },
  {
   "attachments": {},
   "cell_type": "markdown",
   "metadata": {},
   "source": [
    "## Funciones"
   ]
  },
  {
   "attachments": {},
   "cell_type": "markdown",
   "metadata": {},
   "source": [
    "Una función es un fragmento de código que podemos reutilizar en cualquier otro momento sin necesidad de andar escribiendo el código una y otra vez. Es decir, no hace falta hacer un copy-paste para usar el mismo código. Simplemente hacemos referencia a ese nombre que contiene todo el código.\n",
    "Esto nos permite muchas cosas, como por ejemplo:\n",
    "\n",
    "Evitar repetir código muchas veces.\n",
    "\n",
    "Modularidad, nos permite separar el programa en partes más pequeñas y manejables. Y después incluso probarlas aparte y que esto no afecte al programa, no la podemos probar y modificar aparte y despues integrarlas al programa devuelta.\n",
    "\n",
    "Hace que el código sea más mantenible, se pueda depurar mas sencillo.\n",
    "\n",
    "Hace que el código se más legible.\n",
    "\n",
    "Abstracción: consiste en que si entendemos una función, es decir, como usar una función y de que forma afecta nuestro programa no es necesario que sepamos cómo mierda está creada. Corta."
   ]
  },
  {
   "attachments": {},
   "cell_type": "markdown",
   "metadata": {},
   "source": [
    "## Funciones build in:\n",
    "\n",
    "Son funciónes integradas por python, ya creadas por python."
   ]
  },
  {
   "cell_type": "code",
   "execution_count": 8,
   "metadata": {},
   "outputs": [
    {
     "name": "stdout",
     "output_type": "stream",
     "text": [
      "70\n",
      "3\n",
      "12.346\n",
      "12.35\n",
      "False\n",
      "True\n",
      "124\n"
     ]
    }
   ],
   "source": [
    "numeros = [3,7,9,35,70]\n",
    "\n",
    "# Encontrando el numero mayor de una lista\n",
    "numero_mas_alto = max(numeros) # Determina el numero (si o si numeros) más alto de un iterable (tupla, conjunto)\n",
    "print(numero_mas_alto)\n",
    "\n",
    "# Encontrando el numero menor de una lista\n",
    "numero_mas_bajo = min(numeros) \n",
    "print(numero_mas_bajo)\n",
    "\n",
    "# Redonciando a 6 decimales\n",
    "numero = round(12.345678,3) # La función round nos sirve para redondear un numero con decimales.\n",
    "print(numero)\n",
    "# Con round tenemos una posibilidad y es la de decir cuantos decimales queremos dejar, por defecto es 0.\n",
    "# En este caso , por ejemplo, lo hacemos a 2 decimales(poniendo una, y la cantidad de decimales).\n",
    "numero = round(12.345678,2)\n",
    "print(numero)\n",
    "\n",
    "# Este es el metodo correcto. Podrias optimizar el ejercicio 1 con esta funció round haciendo\n",
    "# que no tengamos que hacer tanto cálculo matemático para redondear, sino que ulitizamos la función round\n",
    "# con el segundo parametro que es el parametro de los decimales. A esto se le llama una optilización de código.\n",
    "\n",
    "# Retorna False --> 0, vacío, False, nunguno / Retorna True --> distinto de 0, True, cadena de texto, datos no vacío.\n",
    "resultado_bool = bool()\n",
    "print(resultado_bool)\n",
    "\n",
    "# Returna True, si todos los valores son verdaderos\n",
    "resultado_all = all([123,\"true\",[344,23]]) # PERO en vez de comprobar un solo elemento, comprueba lo que está adentro de un iterable.\n",
    "print(resultado_all)\n",
    "\n",
    "# Suma todos los valores de un iterable\n",
    "suma_total = sum(numeros)\n",
    "print(suma_total) # El resultado es por que es la suma de numeros = [3,7,9,35,70]. Es importante que solo sea numeros o sino te devolvera una excepcion´.\n"
   ]
  },
  {
   "attachments": {},
   "cell_type": "markdown",
   "metadata": {},
   "source": [
    "# Creando funciones: writing functions\n",
    "\n",
    "Como antes poniamos while para iniciar un bucle o if para un condicional o for para un bucle for, usamos en este caso def para decirle al programa que vamos a crear nuestra propia función."
   ]
  },
  {
   "cell_type": "code",
   "execution_count": 33,
   "metadata": {},
   "outputs": [
    {
     "name": "stdout",
     "output_type": "stream",
     "text": [
      "Hola persona x, ¿que tal hasta ahora este .ipynb?\n",
      "Hola Persona x capo, ¿como andás?\n",
      "Hola Persona x , mi titan ¿como andás?\n",
      "Hola Mirta legrand , mi amor ¿como andás?\n",
      "Hola t30 , mi crack ¿como andás?\n",
      "hje9898\n",
      "Tu contraseña nueva es: hje9898\n"
     ]
    }
   ],
   "source": [
    "# Creando una función simple\n",
    "def saludar ():\n",
    "    print(\"Hola persona x, ¿que tal hasta ahora este .ipynb?\")\n",
    "\n",
    "# Ejecutando la función simple\n",
    "saludar()\n",
    "\n",
    "# Crear una función que tenga parametros \n",
    "# ¿que es un parametro? un parametro es una variable que solamente existe dentro de una función, afuera no.\n",
    "# Los parámetros son variables que se crean para ser usados dentro de la función y despues ya no usarse más.\n",
    "def saludar(nombre): # Para ver si es hombre o mujer agregamos sexo y if\n",
    "    print(f\"Hola {nombre} capo, ¿como andás?\")\n",
    "\n",
    "saludar(\"Persona x\")\n",
    "\n",
    "# En si quiero saber el sexo de la persona seria:\n",
    "def saludar(nombre, sexo): # Para ver si es hombre o mujer agregamos sexo\n",
    "    sexo = sexo.lower() # Este metodo nos convierte todos a minúscula\n",
    "    if (sexo == \"mujer\"):\n",
    "        adjetivo = \"amor\"\n",
    "    elif (sexo == \"hombre\"):\n",
    "        adjetivo = \"titan\"\n",
    "    else:\n",
    "        adjetivo = 'crack'\n",
    "    print(f\"Hola {nombre} , mi {adjetivo} ¿como andás?\")\n",
    "\n",
    "saludar(\"Persona x\", \"hombre\")\n",
    "saludar(\"Mirtha Legrand\", \"mujer\")\n",
    "saludar(\"t30\", \"avión\")\n",
    "\n",
    "# Crear una función que nos retorne valores\n",
    "def crear_contraseña_random(num):\n",
    "    chars = (\"abcdefghij\") # char significa caracter, y chars significa caracteres.\n",
    "    num_entero = str(num)\n",
    "    num = int(num_entero[0])\n",
    "    c1 = num - 2\n",
    "    c2 = num\n",
    "    c3 = num - 5\n",
    "    contraseña = f\"{chars[c1]}{chars[c2]}{chars[c3]}{num_entero*2}\"\n",
    "    print(contraseña)\n",
    "\n",
    "crear_contraseña_random(98)\n",
    "\n",
    "# Para ocultar la contraseña\n",
    "def crear_contraseña_random(num):\n",
    "    chars = (\"abcdefghij\") \n",
    "    num_entero = str(num) \n",
    "    num = int(num_entero[0])\n",
    "    c1 = num - 2\n",
    "    c2 = num\n",
    "    c3 = num - 5\n",
    "    contraseña = f\"{chars[c1]}{chars[c2]}{chars[c3]}{num_entero*2}\"\n",
    "    return contraseña\n",
    "\n",
    "password = crear_contraseña_random(98)\n",
    "frase = f\"Tu contraseña nueva es: {password}\"\n",
    "print(frase)\n",
    "\n",
    "# Retornar valores lo que nos permite es el dato poder guardarlo, por que si no retormanos valores no podemos hacer nada con el dato.\n",
    "# La forma de utilizar datos de las funciones es retormando valores.\n",
    "\n",
    "\n"
   ]
  },
  {
   "cell_type": "code",
   "execution_count": 37,
   "metadata": {},
   "outputs": [
    {
     "name": "stdout",
     "output_type": "stream",
     "text": [
      "Tu contraseña nueva es: fhc14\n"
     ]
    }
   ],
   "source": [
    "# Explicación por si sos de boca, joda.\n",
    "\n",
    "# Para ocultar la contraseña\n",
    "def crear_contraseña_random(num):\n",
    "    chars = (\"abcdefghij\") # Creamos caracteres aleatorios.\n",
    "    num_entero = str(num) # Convertimos a string el primer numero.\n",
    "    # por que si convertumimos a string cuando recorremos un string el primer valor es \"a\" en este caso, la primer letra.\n",
    "    # Por eso lo convertimos a entero, porque como número no podemos obtener el valor 0. \n",
    "    num = int(num_entero[0]) # Solamente quiero obtener el primer número que me pasó, por eso uso esta función.\n",
    "    c1 = num - 2 # Si por ejemplo en número fuera 7 se resta 2. Entonces c1 = 5\n",
    "    c2 = num # Si el número vale 7, por ejemplo. Entonces c2 = 7\n",
    "    c3 = num - 5 # Y esto vale 2, por que 7 - 5 es 2. Entonces c2 = 2\n",
    "    contraseña = f\"{chars[c1]}{chars[c2]}{chars[c3]}{num*2}\"\n",
    "    #chars[c1] = f, chars[c2] = h, chars[c3] = c, num*2 = 7\n",
    "    return contraseña\n",
    "\n",
    "password = crear_contraseña_random(7)\n",
    "frase = f\"Tu contraseña nueva es: {password}\"\n",
    "print(frase)\n"
   ]
  },
  {
   "cell_type": "code",
   "execution_count": 41,
   "metadata": {},
   "outputs": [
    {
     "name": "stdout",
     "output_type": "stream",
     "text": [
      "Tu contraseña nueva es: bdi360360\n",
      "El número utilizado para crearla fue: 3\n"
     ]
    }
   ],
   "source": [
    "# Crear una función que nos retorne multuples valores\n",
    "\n",
    "def crear_contraseña_random(num):\n",
    "    chars = (\"abcdefghij\") \n",
    "    num_entero = str(num) \n",
    "    num = int(num_entero[0])\n",
    "    c1 = num - 2\n",
    "    c2 = num\n",
    "    c3 = num - 5\n",
    "    contraseña = f\"{chars[c1]}{chars[c2]}{chars[c3]}{num_entero*2}\"\n",
    "    return contraseña,num\n",
    "\n",
    "# Desempaquetando la función\n",
    "resultado1, primer_numero = crear_contraseña_random(360)\n",
    "\n",
    "# Mostrando los resultados obtenidos y los datos utilizados para obtenerlo\n",
    "print(f\"Tu contraseña nueva es: {resultado1}\")\n",
    "print(f\"El número utilizado para crearla fue: {primer_numero}\")"
   ]
  },
  {
   "cell_type": "code",
   "execution_count": 3,
   "metadata": {},
   "outputs": [
    {
     "name": "stdout",
     "output_type": "stream",
     "text": [
      "47\n"
     ]
    }
   ],
   "source": [
    "# Forma no optima de sumar valores\n",
    "def suma(lista):\n",
    "    numeros_sumados = 0\n",
    "    for numero in lista:\n",
    "        numeros_sumados = numeros_sumados + numero\n",
    "    return numeros_sumados\n",
    "\n",
    "resultado = suma([5,3,9,10,20])\n",
    "print(resultado)\n"
   ]
  },
  {
   "cell_type": "code",
   "execution_count": 18,
   "metadata": {},
   "outputs": [
    {
     "name": "stdout",
     "output_type": "stream",
     "text": [
      "47\n"
     ]
    }
   ],
   "source": [
    "# Utilizando el parametro args * como argumento(*args)\n",
    "def suma(*numeros): # Se le pone el asterisco, y esto va a ser que todos los parametros que le pasemos sean solo 1.\n",
    "    return sum(numeros)\n",
    "\n",
    "resultado = suma(5,3,9,10,20)\n",
    "print(resultado)"
   ]
  },
  {
   "cell_type": "code",
   "execution_count": null,
   "metadata": {},
   "outputs": [],
   "source": [
    "# Forma optima de sumar valores\n",
    "def suma(numeros):\n",
    "    return sum([*numeros])\n",
    "\n",
    "resultado = suma([5,3,9,10,20])\n",
    "print(resultado)"
   ]
  },
  {
   "cell_type": "code",
   "execution_count": 34,
   "metadata": {},
   "outputs": [
    {
     "name": "stdout",
     "output_type": "stream",
     "text": [
      "Eljajas, la suma de tus numeros es: 47\n"
     ]
    }
   ],
   "source": [
    "# Lo mismo que arriba pero utulizando el operador * como argumento (*args)\n",
    "\n",
    "# El parametro *args lo tenemos que usar al final, si lo usamos despues no podemos agregar mas parametros, es el unico parámetro que podemos usar.\n",
    "# Ejemplo: primero pedimos que nos agrege un nombre y luego los números\n",
    "def suma(nombre,*numeros):\n",
    "    return f\"{nombre}, la suma de tus numeros es: {sum(numeros)}\"\n",
    "\n",
    "resultado = suma(\"Eljajas\",5,3,9,10,20)\n",
    "print(resultado)"
   ]
  },
  {
   "cell_type": "code",
   "execution_count": 35,
   "metadata": {},
   "outputs": [
    {
     "name": "stdout",
     "output_type": "stream",
     "text": [
      "hola Eljajas Jus, sos muy pete\n"
     ]
    }
   ],
   "source": [
    "# Creando una funcion de 3 parametros\n",
    "def frase (nombre, apellido, adjetivo):\n",
    "    return f'hola {nombre} {apellido}, sos muy {adjetivo}'\n",
    "\n",
    "frase_resultante = frase(\"Eljajas\",\"Jus\",\"pete\") \n",
    "print(frase_resultante)"
   ]
  },
  {
   "cell_type": "code",
   "execution_count": 36,
   "metadata": {},
   "outputs": [
    {
     "name": "stdout",
     "output_type": "stream",
     "text": [
      "hola Eljajas Jujus, sos muy pete\n"
     ]
    }
   ],
   "source": [
    "# Creando una funcion de 3 parametros\n",
    "def frase (nombre, apellido, adjetivo):\n",
    "    return f'hola {nombre} {apellido}, sos muy {adjetivo}'\n",
    "\n",
    "# Utilizando keyword argumets\n",
    "frase_resultante = frase(adjetivo = \"pete\",nombre = \"Eljajas\", apellido =\"Jujus\") \n",
    "# El valor 1 lo pase al 2, el valor 2 lo puse en el tercero y el valor 3 lo puse en el primero, nada que ver pero melo imprime como si nada hibiera pasado ¿por que?\n",
    "# Son los parametros de palabras claras, keyword parameters. MIentras que los otros son los parametros obligatorios, los parametros que son posicionales (nombre,apellido,adjetivo, (parametro 1, parametro 2, parametro 3)).\n",
    "# El orden no los afecta.\n",
    "print(frase_resultante)"
   ]
  },
  {
   "cell_type": "code",
   "execution_count": 37,
   "metadata": {},
   "outputs": [
    {
     "name": "stdout",
     "output_type": "stream",
     "text": [
      "hola Eljajas Jujus, sos muy tonto\n",
      "hola Eljajas Jujus, sos muy inteligente\n"
     ]
    }
   ],
   "source": [
    "def frase (nombre, apellido, adjetivo = \"tonto\"): # Estos parametros ya vienen definidos por defecto en la función, pero nosotros si queremos podemos cambiarlos\n",
    "    return f'hola {nombre} {apellido}, sos muy {adjetivo}'\n",
    "\n",
    "\n",
    "frase_resultante = frase(nombre = \"Eljajas\", apellido =\"Jujus\") \n",
    "print(frase_resultante)\n",
    "\n",
    "# Creando la misma funcion con un parametro opcional (adjetivo, en este caso) y un valor por defecto (\"tonto\" en este caso)\n",
    "def frase (nombre, apellido, adjetivo = \"tonto\"): \n",
    "    return f'hola {nombre} {apellido}, sos muy {adjetivo}'\n",
    "\n",
    "\n",
    "frase_resultante = frase(nombre = \"Eljajas\", apellido =\"Jujus\", adjetivo=\"inteligente\") # Si yo se lo defino de esta forma lo puedo cambiar. Si lo queremos gregar, lo agregamos, sino es igual a \"tonto\"\n",
    "print(frase_resultante)\n"
   ]
  },
  {
   "attachments": {},
   "cell_type": "markdown",
   "metadata": {},
   "source": [
    "## Funciones Lambda: Lambda Functions\n",
    "\n",
    "Es la forma de crear una función anónima, ¿por qué es anónima? porque no tiene nombre. En otras palabras, crea funciónes anónimas que después podemos almacenar por ejemplo en variables.\n",
    "\n",
    "El primer beneficio es que lo podemos usar cuando queremos, hacer algo sencillo y rápido.\n",
    " \n",
    "Y después es que retornan automáticamente. No tenemos que andar haciendo retornos, retornando la función.\n",
    "\n",
    "Además, es importante resaltar que no son aptas cuando tenemos que hacer más de una intrucción."
   ]
  },
  {
   "cell_type": "code",
   "execution_count": 26,
   "metadata": {},
   "outputs": [
    {
     "name": "stdout",
     "output_type": "stream",
     "text": [
      "10\n"
     ]
    }
   ],
   "source": [
    "# Creando una función lambda para multiplicar por dos\n",
    "\n",
    "multiplicar_por_dos =nombre = lambda x : x*2\n",
    "\n",
    "print(multiplicar_por_dos(5))"
   ]
  },
  {
   "cell_type": "code",
   "execution_count": 33,
   "metadata": {},
   "outputs": [
    {
     "name": "stdout",
     "output_type": "stream",
     "text": [
      "<filter object at 0x000002077F416A10>\n",
      "[2, 4, 6, 8, 10]\n"
     ]
    }
   ],
   "source": [
    "# Usando filter con una funcion comun \n",
    "# Filter es una funcion build-in, por que esta integrada en python. Y sirve para usar una funcion que nos devuelva True o False y\n",
    "# crea una lista para todos los valores en los que la funcion era True\n",
    "\n",
    "numeros = [1,2,3,4,5,6,7,8,9,10]\n",
    "\n",
    "# Creando funcion comun que diga si es par o no\n",
    "def es_par(num):\n",
    "    if (num%2==0): # El resto de esto, dividido 2 es igual a 0. Entonces es par. porque cualquier numero que dividimos pordos y el resto sea uno es inpar.\n",
    "# Si el resto es 0 es un numero par, corta. Si queremos los numeros impares, cambias el 0 por el 1. \n",
    "        return True\n",
    "\n",
    "# Usando filter con una funcion comun\n",
    "numeros_pares = filter(es_par,numeros)\n",
    "\n",
    "print(numeros_pares)\n",
    "print(list(numeros_pares))\n",
    "\n",
    "\n",
    "\n",
    "\n"
   ]
  },
  {
   "cell_type": "code",
   "execution_count": 34,
   "metadata": {},
   "outputs": [
    {
     "name": "stdout",
     "output_type": "stream",
     "text": [
      "[2, 4, 6, 8, 10]\n"
     ]
    }
   ],
   "source": [
    "# Creando lo mismo que antes pero com lambda\n",
    "\n",
    "numeros_pares = filter(lambda numero:numero%2==0,numeros)\n",
    "print(list(numeros_pares))"
   ]
  }
 ],
 "metadata": {
  "kernelspec": {
   "display_name": "Python 3",
   "language": "python",
   "name": "python3"
  },
  "language_info": {
   "codemirror_mode": {
    "name": "ipython",
    "version": 3
   },
   "file_extension": ".py",
   "mimetype": "text/x-python",
   "name": "python",
   "nbconvert_exporter": "python",
   "pygments_lexer": "ipython3",
   "version": "3.11.3"
  },
  "orig_nbformat": 4
 },
 "nbformat": 4,
 "nbformat_minor": 2
}
