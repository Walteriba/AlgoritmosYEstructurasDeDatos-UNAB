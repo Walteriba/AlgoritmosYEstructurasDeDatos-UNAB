{
 "cells": [
  {
   "attachments": {},
   "cell_type": "markdown",
   "metadata": {},
   "source": [
    "#  Ejercicios - Clase 03 - \n"
   ]
  },
  {
   "cell_type": "markdown",
   "metadata": {},
   "source": [
    "## Ejercicio 1\n",
    "\n",
    "Escribir un programa, que tome como entrada un *string* del usuario, el cuál debe ser impreso por pantalla en orden reverso. El programa también debe imprimir la palabra \"Bingo!\", si el string ingresado es *palíndromo*."
   ]
  },
  {
   "cell_type": "code",
   "execution_count": null,
   "metadata": {},
   "outputs": [],
   "source": [
    "string = input(\"Enter a string: \")\n",
    "reverse_string = string[::-1]\n",
    "print(\"Reverse string:\", reverse_string)\n",
    "\n",
    "if string == reverse_string:\n",
    "    print(\"Bingo!\")"
   ]
  },
  {
   "attachments": {},
   "cell_type": "markdown",
   "metadata": {},
   "source": [
    "The program first prompts the user to enter a string, which is stored in the variable string. The [::-1] slice notation is used to reverse the string and store it in the variable reverse_string. The program then prints the reverse string.\n",
    "Next, the program checks if the original string is equal to the reverse string using an if statement. If they are equal, the program prints \"Bingo!\" to indicate that the string is a palindrome.\n",
    "Note that this program assumes that the input string contains only alphanumeric characters and no punctuation or whitespace. If the input string contains punctuation or whitespace, you may need to modify the program to remove them before checking for palindromes."
   ]
  },
  {
   "cell_type": "markdown",
   "metadata": {},
   "source": [
    "## Ejercicio 2\n",
    "\n",
    "Escribir un algoritmo que muestrre por pantalla las tablas de multiplicacion, desde el 1 hasta el 9.\n"
   ]
  },
  {
   "cell_type": "code",
   "execution_count": null,
   "metadata": {
    "collapsed": true
   },
   "outputs": [],
   "source": [
    "for i in range(1, 10):\n",
    "    print(\"Multiplication table of\", i)\n",
    "    for j in range(1, 11):\n",
    "        print(i, \"x\", j, \"=\", i*j)\n",
    "    print()"
   ]
  },
  {
   "attachments": {},
   "cell_type": "markdown",
   "metadata": {},
   "source": [
    "The program uses two nested for loops to iterate over the numbers from 1 to 9 and the numbers from 1 to 10, respectively. The outer loop iterates over the numbers from 1 to 9 and prints the current number as the header for the multiplication table. The inner loop iterates over the numbers from 1 to 10 and prints the multiplication table for the current number.\n",
    "The print() function is used to print a blank line after each multiplication table to separate them visually.\n",
    "Note that you can modify the range of the outer loop to display multiplication tables for a different range of numbers."
   ]
  },
  {
   "cell_type": "markdown",
   "metadata": {},
   "source": [
    "## Ejercicio 3\n",
    "\n",
    "Dado un número de $2n + 1$ cifras, chequear si el mismo es palíndromo (capicúa).\n"
   ]
  },
  {
   "cell_type": "code",
   "execution_count": null,
   "metadata": {},
   "outputs": [],
   "source": [
    "num = int(input(\"Ingrese un número de 2n+1 cifras: \"))\n",
    "temp = num\n",
    "reverse_num = 0\n",
    "\n",
    "while temp > 0:\n",
    "    digit = temp % 10\n",
    "    reverse_num = reverse_num * 10 + digit\n",
    "    temp //= 10\n",
    "\n",
    "if num == reverse_num:\n",
    "    print(num, \"es un palíndromo\")\n",
    "else:\n",
    "    print(num, \"no es un palíndromo\")"
   ]
  },
  {
   "attachments": {},
   "cell_type": "markdown",
   "metadata": {},
   "source": [
    "El programa primero solicita al usuario que ingrese un número de $2n+1$ cifras, que se almacena en la variable num. Luego, el programa utiliza un bucle while para invertir el número y almacenarlo en la variable reverse_num. En cada iteración del bucle, el programa extrae el último dígito del número utilizando el operador de módulo %, lo agrega al número invertido multiplicándolo por 10 y lo divide por 10 utilizando la división entera // para eliminar el último dígito del número original.\n",
    "Finalmente, el programa verifica si el número original es igual al número invertido utilizando un if statement. Si son iguales, el programa imprime un mensaje indicando que el número es un palíndromo. De lo contrario, el programa imprime un mensaje indicando que el número no es un palíndromo."
   ]
  },
  {
   "cell_type": "markdown",
   "metadata": {
    "collapsed": true
   },
   "source": [
    "## Ejercicio 4\n",
    "\n",
    "Diseñar un algoritmo que calcule la media de una serie de números positivos entrados por teclado. El ingreso de un valor igual a cero indicará el final del ingreso de datos.\n"
   ]
  },
  {
   "cell_type": "code",
   "execution_count": null,
   "metadata": {},
   "outputs": [],
   "source": [
    "sum = 0\n",
    "count = 0\n",
    "\n",
    "while True:\n",
    "    num = int(input(\"Ingrese un número positivo (0 para salir): \"))\n",
    "    if num == 0:\n",
    "        break\n",
    "    sum += num\n",
    "    count += 1\n",
    "\n",
    "if count == 0:\n",
    "    print(\"No se ingresaron números\")\n",
    "else:\n",
    "    average = sum / count\n",
    "    print(\"La media es:\", average)"
   ]
  },
  {
   "attachments": {},
   "cell_type": "markdown",
   "metadata": {},
   "source": [
    "El programa utiliza un bucle while infinito para solicitar al usuario que ingrese números positivos. El bucle se detiene cuando el usuario ingresa un valor igual a cero utilizando la declaración break. El programa mantiene un contador de la cantidad de números ingresados y una suma acumulativa de los números ingresados.\n",
    "Después de que el usuario ingresa todos los números, el programa verifica si se ingresaron números utilizando un if statement. Si no se ingresaron números, el programa imprime un mensaje indicando que no se ingresaron números. De lo contrario, el programa calcula la media dividiendo la suma acumulativa por la cantidad de números ingresados y la imprime.\n",
    "Note que este algoritmo asume que el usuario ingresará solo números enteros positivos. Si se espera que el usuario ingrese números decimales o negativos, se debe modificar el programa para manejar estos casos."
   ]
  },
  {
   "cell_type": "markdown",
   "metadata": {
    "collapsed": true
   },
   "source": [
    "## Ejercicio 5\n",
    "\n",
    "Diseñar un algoritmo que calcula e imprime la suma de los números pares comprendidos entre 2 y 100.\n",
    "\n"
   ]
  },
  {
   "cell_type": "code",
   "execution_count": null,
   "metadata": {},
   "outputs": [],
   "source": [
    "\n",
    "sum = 0\n",
    "\n",
    "for i in range(2, 101, 2):\n",
    "    sum += i\n",
    "\n",
    "print(\"La suma de los números pares entre 2 y 100 es:\", sum)\n",
    "  "
   ]
  },
  {
   "attachments": {},
   "cell_type": "markdown",
   "metadata": {},
   "source": [
    "El programa utiliza un bucle for para iterar sobre los números pares entre 2 y 100. El tercer argumento del rango es 2, lo que significa que el bucle se incrementa en pasos de 2 en lugar de 1. El programa acumula la suma de los números pares en la variable sum.\n",
    "Después de que el bucle termina, el programa imprime la suma de los números pares utilizando la función print().\n",
    "Note que este algoritmo asume que los números pares entre 2 y 100 son todos los números enteros pares entre 2 y 100. Si se espera que el rango de números pares sea diferente, se debe modificar el programa para manejar estos casos."
   ]
  },
  {
   "cell_type": "markdown",
   "metadata": {
    "collapsed": true
   },
   "source": [
    "## Ejercicio 6\n",
    "\n",
    "Diseñar un algoritmo que dado tres números, determinar si la suma de cualquier pareja de ellos es igual al tercer número. Si se cumple esta condición deberá imprimir la palabra ''iguales'', sino ''distintos''.\n"
   ]
  },
  {
   "cell_type": "code",
   "execution_count": null,
   "metadata": {},
   "outputs": [],
   "source": [
    "num1 = int(input(\"Ingrese el primer número: \"))\n",
    "num2 = int(input(\"Ingrese el segundo número: \"))\n",
    "num3 = int(input(\"Ingrese el tercer número: \"))\n",
    "\n",
    "if num1 + num2 == num3 or num1 + num3 == num2 or num2 + num3 == num1:\n",
    "    print(\"iguales\")\n",
    "else:\n",
    "    print(\"distintos\")"
   ]
  },
  {
   "attachments": {},
   "cell_type": "markdown",
   "metadata": {},
   "source": [
    "El programa solicita al usuario que ingrese tres números, que se almacenan en las variables num1, num2 y num3. Luego, el programa utiliza una declaración if para verificar si la suma de cualquier pareja de números es igual al tercer número. Si se cumple esta condición, el programa imprime \"iguales\". De lo contrario, el programa imprime \"distintos\".\n",
    "Note que este algoritmo asume que los números ingresados son enteros. Si se espera que los números sean decimales, se debe modificar el programa para manejar estos casos."
   ]
  },
  {
   "cell_type": "markdown",
   "metadata": {
    "collapsed": true
   },
   "source": [
    "## Ejercicio 7\n",
    "\n",
    "Diseñar un algoritmo que pida al usuario el ingreso de un horario, expresado en horas, minutos y segundos e indique la diferencia entre el horario ingresado y la hora actual en horas, minutos y segundos.\n"
   ]
  },
  {
   "cell_type": "code",
   "execution_count": null,
   "metadata": {},
   "outputs": [],
   "source": [
    "import datetime\n",
    "\n",
    "hora = int(input(\"Ingrese la hora: \"))\n",
    "minuto = int(input(\"Ingrese el minuto: \"))\n",
    "segundo = int(input(\"Ingrese el segundo: \"))\n",
    "\n",
    "hora_actual = datetime.datetime.now().time()\n",
    "diferencia = datetime.datetime.combine(datetime.date.today(), hora_actual) - datetime.datetime.combine(datetime.date.today(), datetime.time(hora, minuto, segundo))\n",
    "\n",
    "print(\"La diferencia entre el horario ingresado y la hora actual es:\", diferencia)"
   ]
  },
  {
   "attachments": {},
   "cell_type": "markdown",
   "metadata": {},
   "source": [
    "El programa utiliza el módulo datetime para obtener la hora actual y calcular la diferencia entre la hora actual y el horario ingresado por el usuario. El programa solicita al usuario que ingrese la hora, el minuto y el segundo, que se almacenan en las variables hora, minuto y segundo, respectivamente.\n",
    "El programa utiliza la función datetime.datetime.now().time() para obtener la hora actual y la función datetime.datetime.combine() para combinar la fecha actual con la hora actual y el horario ingresado por el usuario. Luego, el programa calcula la diferencia entre estas dos fechas y horas utilizando la operación de resta.\n",
    "Finalmente, el programa imprime la diferencia entre el horario ingresado y la hora actual en horas, minutos y segundos.\n",
    "Note que este algoritmo asume que el usuario ingresará la hora, el minuto y el segundo en formato de 24 horas. Si se espera que el usuario ingrese la hora en formato de 12 horas, se debe modificar el programa para manejar estos casos."
   ]
  },
  {
   "attachments": {},
   "cell_type": "markdown",
   "metadata": {
    "collapsed": true
   },
   "source": [
    "## Ejercicio 8\n",
    "\n",
    "Escribir las sentencias condicionales para calcular:\n",
    "\n",
    "- a) $ x =  x - 5 ~ \\textrm{ si } ~a > b $\n",
    "\n",
    "\n",
    "\n",
    "- b)  $ x = \\left\\{\n",
    "        \\begin{array}{l l}\n",
    "             -8 & \\textrm{si} ~a > b\\\\\n",
    "              1  & \\textrm{si} ~a <= b\\\\\n",
    "        \\end{array} \\right.\n",
    "        $\n",
    "\n",
    "        \n",
    "        \n",
    "- c) $  x = \\left\\{\n",
    "         \\begin{array}{l l}\n",
    "            1 & \\textrm{si} ~n > 5\\\\\n",
    "            0  & \\textrm{si} ~n = 5\\\\\n",
    "           -1  & \\textrm{si} ~n < 5\\\\\n",
    "         \\end{array} \\right.\n",
    "       $\n",
    "\n",
    "        \n",
    "        \n",
    "- d)   $ t = \\left\\{\n",
    "           \\begin{array}{l l}\n",
    "                1 & \\textrm{si} ~x > a\\\\\n",
    "                3 & \\textrm{si} ~a <= x <= b ~~~\\textrm{para}~a<b<c\\\\\n",
    "                5  & \\textrm{si} ~b < x <= c\\\\\n",
    "                -4  & \\textrm{si} ~c < x\\\\\n",
    "           \\end{array} \\right.\n",
    "        $\n"
   ]
  },
  {
   "cell_type": "code",
   "execution_count": null,
   "metadata": {},
   "outputs": [],
   "source": [
    "if a > b:\n",
    "    x = x - 5    "
   ]
  },
  {
   "attachments": {},
   "cell_type": "markdown",
   "metadata": {},
   "source": [
    "La sentencia if verifica si la condición a > b es verdadera. Si es verdadera, la sentencia x = x - 5 se ejecuta y resta 5 de la variable x. Si la condición es falsa, la sentencia x = x - 5 no se ejecuta y el valor de x permanece sin cambios.\n",
    "Note que este algoritmo asume que las variables a, b y x ya han sido definidas y tienen valores asignados. Si no es así, se deben definir y asignar valores a estas variables antes de ejecutar la sentencia condicional."
   ]
  },
  {
   "cell_type": "code",
   "execution_count": null,
   "metadata": {},
   "outputs": [],
   "source": [
    "if a > b:\n",
    "    x = -8\n",
    "else:\n",
    "    x = 1"
   ]
  },
  {
   "attachments": {},
   "cell_type": "markdown",
   "metadata": {},
   "source": [
    "La sentencia if verifica si la condición a > b es verdadera. Si es verdadera, la sentencia x = -8 se ejecuta y asigna el valor -8 a la variable x. Si la condición es falsa, la sentencia x = 1 se ejecuta y asigna el valor 1 a la variable x.\n",
    "Note que este algoritmo asume que las variables a y b ya han sido definidas y tienen valores asignados. Si no es así, se deben definir y asignar valores a estas variables antes de ejecutar las sentencias condicionales."
   ]
  },
  {
   "cell_type": "code",
   "execution_count": null,
   "metadata": {},
   "outputs": [],
   "source": [
    "if n > 5:\n",
    "    x = 1\n",
    "elif n == 5:\n",
    "    x = 0\n",
    "else:\n",
    "    x = -1"
   ]
  },
  {
   "attachments": {},
   "cell_type": "markdown",
   "metadata": {},
   "source": [
    "La sentencia if verifica si la condición n > 5 es verdadera. Si es verdadera, la sentencia x = 1 se ejecuta y asigna el valor 1 a la variable x. Si la condición es falsa, la sentencia elif verifica si la condición n == 5 es verdadera. Si es verdadera, la sentencia x = 0 se ejecuta y asigna el valor 0 a la variable x. Si ambas condiciones son falsas, la sentencia else se ejecuta y asigna el valor -1 a la variable x.\n",
    "Note que este algoritmo asume que la variable n ya ha sido definida y tiene un valor asignado. Si no es así, se debe definir y asignar un valor a esta variable antes de ejecutar las sentencias condicionales."
   ]
  },
  {
   "cell_type": "code",
   "execution_count": null,
   "metadata": {},
   "outputs": [],
   "source": [
    "if x > a:\n",
    "    t = 1\n",
    "elif a <= x <= b:\n",
    "    t = 3\n",
    "elif b < x <= c:\n",
    "    t = 5\n",
    "else:\n",
    "    t = -4"
   ]
  },
  {
   "attachments": {},
   "cell_type": "markdown",
   "metadata": {},
   "source": [
    "La sentencia if verifica si la condición x > a es verdadera. Si es verdadera, la sentencia t = 1 se ejecuta y asigna el valor 1 a la variable t. Si la condición es falsa, la sentencia elif verifica si la condición a <= x <= b es verdadera. Si es verdadera, la sentencia t = 3 se ejecuta y asigna el valor 3 a la variable t. Si ambas condiciones son falsas, la sentencia elif verifica si la condición b < x <= c es verdadera. Si es verdadera, la sentencia t = 5 se ejecuta y asigna el valor 5 a la variable t. Si todas las condiciones son falsas, la sentencia else se ejecuta y asigna el valor -4 a la variable t.\n",
    "Note que este algoritmo asume que las variables x, a, b y c ya han sido definidas y tienen valores asignados. Si no es así, se deben definir y asignar valores a estas variables antes de ejecutar las sentencias condicionales. Además, se asume que a < b < c. Si no es así, se deben modificar las condiciones para manejar estos casos."
   ]
  },
  {
   "cell_type": "markdown",
   "metadata": {},
   "source": [
    "## Ejercicio  9\n",
    "\n",
    "Se necesita realizar un programa para asistir a un empleado de un Cine (o Teatro). El empleado esta encargado de enviar a las personas a la sala correcta. \n",
    "\n",
    "Una vez comprada la entrada la audiencia se dirige al empleado, el cual, en base al número que figura en la entrada (3 dígitos) los envía a la sala correspondiente. \n",
    "Si la entrada es par, el empleado los dirige a la Sala 1. Cuando la entrada es impar los dirige a la sala 2. \n",
    "\n",
    "Recientemente, por un error en la impresión de las entradas han salido muchas con el número $000$, en este caso el empleado debe comunicarle al usuario que se dirija a la administraci\\'on para obtener una nueva entrada.\n"
   ]
  },
  {
   "cell_type": "code",
   "execution_count": null,
   "metadata": {},
   "outputs": [],
   "source": [
    "entrada = int(input(\"Ingrese el número de la entrada (3 dígitos): \"))\n",
    "\n",
    "if entrada == 0:\n",
    "    print(\"Por favor, diríjase a la administración para obtener una nueva entrada.\")\n",
    "elif entrada % 2 == 0:\n",
    "    print(\"Diríjase a la Sala 1.\")\n",
    "else:\n",
    "    print(\"Diríjase a la Sala 2.\")"
   ]
  },
  {
   "attachments": {},
   "cell_type": "markdown",
   "metadata": {},
   "source": [
    "El programa solicita al usuario que ingrese el número de la entrada, que se almacena en la variable entrada. Luego, el programa utiliza una sentencia condicional para determinar a qué sala debe dirigirse el usuario.\n",
    "La primera condición verifica si la entrada es igual a 0. Si es así, el programa imprime un mensaje que indica que el usuario debe dirigirse a la administración para obtener una nueva entrada.\n",
    "Si la entrada no es igual a 0, la segunda condición verifica si la entrada es par. Si es par, el programa imprime un mensaje que indica que el usuario debe dirigirse a la Sala 1. Si la entrada es impar, la tercera condición se ejecuta y el programa imprime un mensaje que indica que el usuario debe dirigirse a la Sala 2.\n",
    "Note que este algoritmo asume que el usuario ingresará un número de entrada válido de 3 dígitos. Si se espera que el usuario ingrese un número de entrada de un número diferente de dígitos, se debe modificar el programa para manejar estos casos."
   ]
  },
  {
   "cell_type": "markdown",
   "metadata": {},
   "source": [
    "## Ejercicio 10\n",
    "\n",
    "Un empleado trabaja en la mesa de entradas de una organización. Le llegan expedientes de otras dependencias, los cuales debera depositar en $10$ buzones distintos dependiendo del \"codigo de expediente\" . \n",
    "\n",
    "Los expedientes están codificados con números de $1$ (uno) dígito. La forma de agrupación es la siguiente: los expedientes $0$ serán depositados en el buzón $A$, los $1$, serán depositados en el buzón $B$, y así sucesivamente hasta el buzón $J$.\n"
   ]
  },
  {
   "cell_type": "code",
   "execution_count": null,
   "metadata": {},
   "outputs": [],
   "source": [
    "expediente = int(input(\"Ingrese el código de expediente (1 dígito): \"))\n",
    "\n",
    "if expediente == 0:\n",
    "    buzón = \"A\"\n",
    "elif expediente == 1:\n",
    "    buzón = \"B\"\n",
    "elif expediente == 2:\n",
    "    buzón = \"C\"\n",
    "elif expediente == 3:\n",
    "    buzón = \"D\"\n",
    "elif expediente == 4:\n",
    "    buzón = \"E\"\n",
    "elif expediente == 5:\n",
    "    buzón = \"F\"\n",
    "elif expediente == 6:\n",
    "    buzón = \"G\"\n",
    "elif expediente == 7:\n",
    "    buzón = \"H\"\n",
    "elif expediente == 8:\n",
    "    buzón = \"I\"\n",
    "elif expediente == 9:\n",
    "    buzón = \"J\"\n",
    "else:\n",
    "    buzón = \"Código de expediente inválido.\"\n",
    "\n",
    "print(\"Deposite el expediente en el buzón\", buzón)"
   ]
  },
  {
   "attachments": {},
   "cell_type": "markdown",
   "metadata": {},
   "source": [
    "El programa solicita al usuario que ingrese el código de expediente, que se almacena en la variable expediente. Luego, el programa utiliza una sentencia condicional para determinar en qué buzón debe depositarse el expediente.\n",
    "Cada condición verifica si el código de expediente es igual a un número específico. Si es así, el programa asigna una letra de buzón correspondiente a la variable buzón. Si el código de expediente no coincide con ninguno de los números específicos, el programa asigna un mensaje de error a la variable buzón.\n",
    "Finalmente, el programa imprime un mensaje que indica en qué buzón debe depositarse el expediente.\n",
    "Note que este algoritmo asume que el usuario ingresará un código de expediente válido de 1 dígito. Si se espera que el usuario ingrese un código de expediente de un número diferente de dígitos, se debe modificar el programa para manejar estos casos."
   ]
  },
  {
   "cell_type": "markdown",
   "metadata": {
    "collapsed": true
   },
   "source": [
    "## Ejercicio 11\n",
    "\n",
    "Diseñar un algoritmo que pida el total de kilometros recorridos, el precio de la gasolina (por litro), el dinero de gasolina gastado en el viaje y el tiempo que se ha tardado (en horas y minutos) y que calcule:\n",
    "\n",
    "- a)    Consumo de gasolina (en litros y pesos) por cada 100 km.\n",
    "\n",
    "- b)    Consumo de gasolina (en litros y pesos) por cada km.\n",
    "    \n",
    "- c)    Velocidad media (en km/h y m/s).\n",
    "   "
   ]
  },
  {
   "cell_type": "code",
   "execution_count": 9,
   "metadata": {},
   "outputs": [
    {
     "name": "stdout",
     "output_type": "stream",
     "text": [
      "Consumo de gasolina por cada 100 km: 1.00 litros, 100.00 pesos\n",
      "Consumo de gasolina por cada km: 0.01 litros, 1.00 pesos\n",
      "Velocidad media: 0.98 km/h, 0.27 m/s\n"
     ]
    }
   ],
   "source": [
    "# Solicitar al usuario los datos del viaje\n",
    "km_recorridos = float(input(\"Ingrese los kilómetros recorridos: \"))\n",
    "precio_gasolina = float(input(\"Ingrese el precio de la gasolina por litro: \"))\n",
    "dinero_gasolina = float(input(\"Ingrese el dinero de gasolina gastado en el viaje: \"))\n",
    "horas = int(input(\"Ingrese las horas que tardó en el viaje: \"))\n",
    "minutos = int(input(\"Ingrese los minutos que tardó en el viaje: \"))\n",
    "\n",
    "# Calcular el consumo de gasolina por cada 100 km\n",
    "consumo_100km_litros = (dinero_gasolina / precio_gasolina) / (km_recorridos / 100)\n",
    "consumo_100km_pesos = dinero_gasolina / (km_recorridos / 100)\n",
    "\n",
    "# Calcular el consumo de gasolina por cada km\n",
    "consumo_km_litros = (dinero_gasolina / precio_gasolina) / km_recorridos\n",
    "consumo_km_pesos = dinero_gasolina / km_recorridos\n",
    "\n",
    "# Calcular la velocidad media\n",
    "tiempo_total = horas + minutos / 60\n",
    "velocidad_media_kmh = km_recorridos / tiempo_total\n",
    "velocidad_media_ms = velocidad_media_kmh / 3.6\n",
    "\n",
    "# Imprimir los resultados\n",
    "print(\"Consumo de gasolina por cada 100 km: {:.2f} litros, {:.2f} pesos\".format(consumo_100km_litros, consumo_100km_pesos))\n",
    "print(\"Consumo de gasolina por cada km: {:.2f} litros, {:.2f} pesos\".format(consumo_km_litros, consumo_km_pesos))\n",
    "print(\"Velocidad media: {:.2f} km/h, {:.2f} m/s\".format(velocidad_media_kmh, velocidad_media_ms))"
   ]
  },
  {
   "attachments": {},
   "cell_type": "markdown",
   "metadata": {},
   "source": [
    "El programa solicita al usuario los datos del viaje, incluyendo los kilómetros recorridos, el precio de la gasolina por litro, el dinero de gasolina gastado en el viaje y el tiempo que se tardó en el viaje en horas y minutos. Luego, el programa utiliza fórmulas matemáticas para calcular el consumo de gasolina por cada 100 km y por cada km, así como la velocidad media en km/h y m/s.\n",
    "Finalmente, el programa imprime los resultados en la pantalla.\n",
    "Note que este algoritmo asume que el usuario ingresará valores numéricos válidos para los datos del viaje. Si se espera que el usuario ingrese valores no numéricos o valores numéricos inválidos, se debe modificar el programa para manejar estos casos."
   ]
  },
  {
   "attachments": {},
   "cell_type": "markdown",
   "metadata": {
    "collapsed": true
   },
   "source": [
    "## Ejercicio 12\n",
    "\n",
    "Escribir los algoritmos que permiten generar las siguientes salidas. \n",
    "\n",
    "**Nota:** en la siguiente salida el carácter '\\_' es un espacio en blanco.\n",
    "\n",
    "<img src=\"https://drive.google.com/uc?id=13aValu7WUP8KYvC9J4CkSeRtOklvGt3b\" />\n"
   ]
  },
  {
   "cell_type": "code",
   "execution_count": 10,
   "metadata": {},
   "outputs": [
    {
     "name": "stdout",
     "output_type": "stream",
     "text": [
      "*****\n",
      "*****\n",
      "*****\n",
      "*****\n",
      "*****\n"
     ]
    }
   ],
   "source": [
    "for i in range(5):\n",
    "    for j in range(5):\n",
    "        if j < 4:\n",
    "            print(\"*\", end=\"\")\n",
    "        else:\n",
    "            print(\"*\", end=\"\\n\")"
   ]
  },
  {
   "attachments": {},
   "cell_type": "markdown",
   "metadata": {},
   "source": [
    "El programa utiliza dos bucles for anidados para imprimir la salida solicitada. El primer bucle for itera sobre los números del 0 al 4, y el segundo bucle for itera sobre los números del 0 al 4 para cada número del primer bucle.\n",
    "Dentro del segundo bucle for, el programa utiliza una sentencia condicional para determinar si debe imprimir un asterisco o un salto de línea. Si j es menor que 4, el programa imprime un asterisco sin un salto de línea. Si j es igual a 4, el programa imprime un asterisco con un salto de línea.\n",
    "Finalmente, el programa utiliza la función print() sin argumentos para imprimir una nueva línea después de cada fila.\n",
    "Note que este algoritmo asume que se debe imprimir exactamente la salida solicitada. Si se espera que la salida sea diferente, se debe modificar el programa para manejar estos casos."
   ]
  },
  {
   "cell_type": "code",
   "execution_count": 11,
   "metadata": {},
   "outputs": [
    {
     "name": "stdout",
     "output_type": "stream",
     "text": [
      "-*\n",
      "--*\n",
      "---*\n",
      "----*\n",
      "-----*\n"
     ]
    }
   ],
   "source": [
    "for i in range(1, 6):\n",
    "    for j in range(i):\n",
    "        print(\"-\", end=\"\")\n",
    "    print(\"*\", end=\"\\n\")"
   ]
  },
  {
   "attachments": {},
   "cell_type": "markdown",
   "metadata": {},
   "source": [
    "El programa utiliza dos bucles for anidados para imprimir la salida solicitada. El primer bucle for itera sobre los números del 1 al 5, y el segundo bucle for itera sobre los números del 0 al i-1 para cada número del primer bucle.\n",
    "Dentro del segundo bucle for, el programa imprime un guion sin un salto de línea para cada iteración. Luego, el programa imprime un asterisco con un salto de línea.\n",
    "Finalmente, el programa utiliza la función print() sin argumentos para imprimir una nueva línea después de cada fila.\n",
    "Note que este algoritmo asume que se debe imprimir exactamente la salida solicitada. Si se espera que la salida sea diferente, se debe modificar el programa para manejar estos casos."
   ]
  },
  {
   "cell_type": "code",
   "execution_count": 12,
   "metadata": {},
   "outputs": [
    {
     "name": "stdout",
     "output_type": "stream",
     "text": [
      "----*----\n",
      "---***---\n",
      "--*****--\n",
      "-*******-\n",
      "----*----\n"
     ]
    }
   ],
   "source": [
    "for i in range(4):\n",
    "    for j in range(9):\n",
    "        if j < 4 - i or j > 4 + i:\n",
    "            print(\"-\", end=\"\")\n",
    "        else:\n",
    "            print(\"*\", end=\"\")\n",
    "    print()\n",
    "for i in range(1):\n",
    "    for j in range(9):\n",
    "        if j < 4 - i or j > 4 + i:\n",
    "            print(\"-\", end=\"\")\n",
    "        else:\n",
    "            print(\"*\", end=\"\")\n",
    "    print()"
   ]
  },
  {
   "attachments": {},
   "cell_type": "markdown",
   "metadata": {},
   "source": [
    "El programa utiliza dos bucles for anidados para imprimir la salida solicitada. El primer bucle for itera sobre los números del 0 al 4, y el segundo bucle for itera sobre los números del 0 al 8 para cada número del primer bucle.\n",
    "Dentro del segundo bucle for, el programa utiliza una sentencia condicional para determinar si debe imprimir un guion o un asterisco. Si j es menor que 4 - i o mayor que 4 + i, el programa imprime un guion sin un salto de línea. De lo contrario, el programa imprime un asterisco sin un salto de línea.\n",
    "Finalmente, el programa utiliza la función print() sin argumentos para imprimir una nueva línea después de cada fila.\n",
    "Note que este algoritmo asume que se debe imprimir exactamente la salida solicitada. Si se espera que la salida sea diferente, se debe modificar el programa para manejar estos casos."
   ]
  },
  {
   "cell_type": "markdown",
   "metadata": {},
   "source": [
    "## Ejercicio 13\n",
    "\n",
    "Desarrollar un algoritmo el cual dado un conjunto de números enteros, escribir aquellos que sean divisibles por $I$.\n"
   ]
  },
  {
   "cell_type": "code",
   "execution_count": 13,
   "metadata": {},
   "outputs": [
    {
     "name": "stdout",
     "output_type": "stream",
     "text": [
      "6\n",
      "12\n",
      "18\n"
     ]
    }
   ],
   "source": [
    "numeros = [2, 4, 6, 8, 10, 12, 14, 16, 18, 20]  # Ejemplo de conjunto de números enteros\n",
    "I = 3  # Ejemplo de número por el cual se desea dividir\n",
    "\n",
    "for num in numeros:\n",
    "    if num % I == 0:\n",
    "        print(num)"
   ]
  },
  {
   "attachments": {},
   "cell_type": "markdown",
   "metadata": {},
   "source": [
    "El programa utiliza un bucle for para iterar sobre cada número en el conjunto de números enteros. Dentro del bucle for, el programa utiliza una sentencia condicional para determinar si el número es divisible por I. Si el número es divisible por I, el programa lo imprime en la pantalla.\n",
    "Note que este algoritmo asume que se tiene un conjunto de números enteros predefinido. Si se espera que el usuario ingrese los números enteros, se debe modificar el programa para manejar estos casos. Además, el número I también puede ser ingresado por el usuario en lugar de estar predefinido en el programa."
   ]
  },
  {
   "cell_type": "markdown",
   "metadata": {},
   "source": [
    "## Ejercicio 14 \n",
    "\n",
    "Desarrolle un programa que se le ingrese una cierta cantidad de dinero (en pesos y entera) y devuelva la menor cantidad de billetes de 100, 50, 20, 10, 5, 2 y monedas de 1 posibles.\n"
   ]
  },
  {
   "cell_type": "code",
   "execution_count": 14,
   "metadata": {},
   "outputs": [
    {
     "name": "stdout",
     "output_type": "stream",
     "text": [
      "Desglose mínimo:\n",
      "Billetes de 100:  10\n",
      "Billetes de 50:  0\n",
      "Billetes de 20:  0\n",
      "Billetes de 10:  0\n",
      "Billetes de 5:  0\n",
      "Billetes de 2:  0\n",
      "Monedas de 1:  0\n"
     ]
    }
   ],
   "source": [
    "cantidad = int(input(\"Ingrese la cantidad de dinero: \"))\n",
    "\n",
    "billetes_100 = cantidad // 100\n",
    "cantidad = cantidad % 100\n",
    "\n",
    "billetes_50 = cantidad // 50\n",
    "cantidad = cantidad % 50\n",
    "\n",
    "billetes_20 = cantidad // 20\n",
    "cantidad = cantidad % 20\n",
    "\n",
    "billetes_10 = cantidad // 10\n",
    "cantidad = cantidad % 10\n",
    "\n",
    "billetes_5 = cantidad // 5\n",
    "cantidad = cantidad % 5\n",
    "\n",
    "billetes_2 = cantidad // 2\n",
    "cantidad = cantidad % 2\n",
    "\n",
    "monedas_1 = cantidad\n",
    "\n",
    "print(\"Desglose mínimo:\")\n",
    "print(\"Billetes de 100: \", billetes_100)\n",
    "print(\"Billetes de 50: \", billetes_50)\n",
    "print(\"Billetes de 20: \", billetes_20)\n",
    "print(\"Billetes de 10: \", billetes_10)\n",
    "print(\"Billetes de 5: \", billetes_5)\n",
    "print(\"Billetes de 2: \", billetes_2)\n",
    "print(\"Monedas de 1: \", monedas_1)"
   ]
  },
  {
   "attachments": {},
   "cell_type": "markdown",
   "metadata": {},
   "source": [
    "El programa solicita al usuario que ingrese la cantidad de dinero y luego utiliza operaciones de división entera y módulo para calcular la cantidad mínima de billetes y monedas necesarios para representar esa cantidad de dinero.\n",
    "Finalmente, el programa imprime el desglose mínimo en billetes y monedas en la pantalla.\n",
    "Note que este algoritmo asume que la cantidad de dinero ingresada es un número entero en pesos. Si se espera que la cantidad de dinero sea un número decimal o en otra moneda, se debe modificar el programa para manejar estos casos."
   ]
  },
  {
   "cell_type": "markdown",
   "metadata": {},
   "source": [
    "## Ejercicio 15\n",
    "\n",
    "Desarrollar un programa que convierta una cantidad entera de segundos al formato \"HORAS:MINUTOS:SEGUNDOS\".\n"
   ]
  },
  {
   "cell_type": "code",
   "execution_count": 15,
   "metadata": {},
   "outputs": [
    {
     "name": "stdout",
     "output_type": "stream",
     "text": [
      "Tiempo en formato HORAS:MINUTOS:SEGUNDOS\n",
      "00:25:55\n"
     ]
    }
   ],
   "source": [
    "segundos = int(input(\"Ingrese la cantidad de segundos: \"))\n",
    "\n",
    "horas = segundos // 3600\n",
    "segundos = segundos % 3600\n",
    "\n",
    "minutos = segundos // 60\n",
    "segundos = segundos % 60\n",
    "\n",
    "print(\"Tiempo en formato HORAS:MINUTOS:SEGUNDOS\")\n",
    "print(\"{:02d}:{:02d}:{:02d}\".format(horas, minutos, segundos))"
   ]
  },
  {
   "attachments": {},
   "cell_type": "markdown",
   "metadata": {},
   "source": [
    "El programa solicita al usuario que ingrese la cantidad de segundos y luego utiliza operaciones de división entera y módulo para calcular la cantidad de horas, minutos y segundos correspondientes.\n",
    "Finalmente, el programa utiliza la función format() para imprimir el tiempo en el formato \"HORAS:MINUTOS:SEGUNDOS\" en la pantalla.\n",
    "Note que este algoritmo asume que la cantidad de segundos ingresada es un número entero. Si se espera que la cantidad de segundos sea un número decimal o negativo, se debe modificar el programa para manejar estos casos."
   ]
  },
  {
   "cell_type": "markdown",
   "metadata": {},
   "source": [
    "## Ejercicio 16\n",
    "\n",
    "Desarrollar un programa que pida ingresar un número entero por teclado estrictamente mayor a 1 y devuelva su mayor divisor que sea distinto de el.\n",
    "    "
   ]
  },
  {
   "cell_type": "code",
   "execution_count": 17,
   "metadata": {},
   "outputs": [
    {
     "name": "stdout",
     "output_type": "stream",
     "text": [
      "El mayor divisor distinto de 100 es 50\n"
     ]
    }
   ],
   "source": [
    "num = int(input(\"Ingrese un número entero mayor a 1: \"))\n",
    "\n",
    "mayor_divisor = 1\n",
    "\n",
    "for i in range(2, num):\n",
    "    if num % i == 0:\n",
    "        mayor_divisor = i\n",
    "\n",
    "if mayor_divisor == 1:\n",
    "    print(\"El número no tiene divisores distintos de él mismo.\")\n",
    "else:\n",
    "    print(\"El mayor divisor distinto de\", num, \"es\", mayor_divisor)"
   ]
  },
  {
   "attachments": {},
   "cell_type": "markdown",
   "metadata": {},
   "source": [
    "El programa solicita al usuario que ingrese un número entero mayor a 1 y luego utiliza un bucle for para iterar sobre los números del 2 al número ingresado. Dentro del bucle for, el programa utiliza una sentencia condicional para determinar si el número es un divisor del número ingresado. Si el número es un divisor, el programa actualiza la variable mayor_divisor con el valor del divisor.\n",
    "Finalmente, el programa utiliza una sentencia condicional para determinar si el número tiene divisores distintos de él mismo. Si el número no tiene divisores distintos de él mismo, el programa imprime un mensaje en la pantalla. De lo contrario, el programa imprime el mayor divisor distinto del número ingresado.\n",
    "Note que este algoritmo asume que el número ingresado es un número entero mayor a 1. Si se espera que el usuario ingrese un número decimal o un número menor o igual a 1, se debe modificar el programa para manejar estos casos."
   ]
  },
  {
   "cell_type": "markdown",
   "metadata": {},
   "source": [
    "## Ejercicio 17\n",
    "\n",
    "Desarrollar un programa que pida ingresar un número entero por teclado estrictamente mayor a 1 y devuelva todos los divisores de ese número.\n",
    "    "
   ]
  },
  {
   "cell_type": "code",
   "execution_count": 19,
   "metadata": {},
   "outputs": [
    {
     "name": "stdout",
     "output_type": "stream",
     "text": [
      "Los divisores de 100 son:\n",
      "1\n",
      "2\n",
      "4\n",
      "5\n",
      "10\n",
      "20\n",
      "25\n",
      "50\n",
      "100\n"
     ]
    }
   ],
   "source": [
    "num = int(input(\"Ingrese un número entero mayor a 1: \"))\n",
    "\n",
    "print(\"Los divisores de\", num, \"son:\")\n",
    "\n",
    "for i in range(1, num+1):\n",
    "    if num % i == 0:\n",
    "        print(i)"
   ]
  },
  {
   "attachments": {},
   "cell_type": "markdown",
   "metadata": {},
   "source": [
    "El programa solicita al usuario que ingrese un número entero mayor a 1 y luego utiliza un bucle for para iterar sobre los números del 1 al número ingresado. Dentro del bucle for, el programa utiliza una sentencia condicional para determinar si el número es un divisor del número ingresado. Si el número es un divisor, el programa lo imprime en la pantalla.\n",
    "Finalmente, el programa imprime todos los divisores del número ingresado en la pantalla.\n",
    "Note que este algoritmo asume que el número ingresado es un número entero mayor a 1. Si se espera que el usuario ingrese un número decimal o un número menor o igual a 1, se debe modificar el programa para manejar estos casos."
   ]
  },
  {
   "cell_type": "markdown",
   "metadata": {},
   "source": [
    "## Ejercicio 18\n",
    "\n",
    "Desarrolle un programa que permita saber si un número ingresado por teclado es par (positivo y negativo) o impar (positivo y negativo).\n"
   ]
  },
  {
   "cell_type": "code",
   "execution_count": 20,
   "metadata": {},
   "outputs": [
    {
     "name": "stdout",
     "output_type": "stream",
     "text": [
      "2 es un número par positivo.\n"
     ]
    }
   ],
   "source": [
    "num = int(input(\"Ingrese un número entero: \"))\n",
    "\n",
    "if num % 2 == 0:\n",
    "    if num > 0:\n",
    "        print(num, \"es un número par positivo.\")\n",
    "    else:\n",
    "        print(num, \"es un número par negativo.\")\n",
    "else:\n",
    "    if num > 0:\n",
    "        print(num, \"es un número impar positivo.\")\n",
    "    else:\n",
    "        print(num, \"es un número impar negativo.\")"
   ]
  },
  {
   "attachments": {},
   "cell_type": "markdown",
   "metadata": {},
   "source": [
    "El programa solicita al usuario que ingrese un número entero y luego utiliza una sentencia condicional para determinar si el número es par o impar. Si el número es par, el programa utiliza otra sentencia condicional para determinar si el número es positivo o negativo. Si el número es impar, el programa también utiliza otra sentencia condicional para determinar si el número es positivo o negativo.\n",
    "Finalmente, el programa imprime en la pantalla si el número ingresado es par o impar y si es positivo o negativo.\n",
    "Note que este algoritmo asume que el número ingresado es un número entero. Si se espera que el usuario ingrese un número decimal, se debe modificar el programa para manejar estos casos."
   ]
  },
  {
   "cell_type": "markdown",
   "metadata": {},
   "source": [
    "## Ejercicio 19\n",
    "\n",
    "Desarrollar un algoritmo que diga si un número ingresado es abundante.\n",
    "\n",
    "**Nota:** usar Google o Wikipedia para saber que es un número abundante.\n"
   ]
  },
  {
   "cell_type": "code",
   "execution_count": 27,
   "metadata": {},
   "outputs": [
    {
     "ename": "TypeError",
     "evalue": "'int' object is not callable",
     "output_type": "error",
     "traceback": [
      "\u001b[1;31m---------------------------------------------------------------------------\u001b[0m",
      "\u001b[1;31mTypeError\u001b[0m                                 Traceback (most recent call last)",
      "Cell \u001b[1;32mIn[27], line 9\u001b[0m\n\u001b[0;32m      6\u001b[0m     \u001b[39mif\u001b[39;00m num \u001b[39m%\u001b[39m i \u001b[39m==\u001b[39m \u001b[39m0\u001b[39m:\n\u001b[0;32m      7\u001b[0m         divisores\u001b[39m.\u001b[39mappend(i)\n\u001b[1;32m----> 9\u001b[0m \u001b[39mif\u001b[39;00m \u001b[39msum\u001b[39;49m(divisores) \u001b[39m>\u001b[39m num:\n\u001b[0;32m     10\u001b[0m     \u001b[39mprint\u001b[39m(num, \u001b[39m\"\u001b[39m\u001b[39mes un número abundante.\u001b[39m\u001b[39m\"\u001b[39m)\n\u001b[0;32m     11\u001b[0m \u001b[39melse\u001b[39;00m:\n",
      "\u001b[1;31mTypeError\u001b[0m: 'int' object is not callable"
     ]
    }
   ],
   "source": [
    "num = int(input(\"Ingrese un número entero: \"))\n",
    "\n",
    "divisores = []\n",
    "\n",
    "for i in range(1, num):\n",
    "    if num % i == 0:\n",
    "        divisores.append(i)\n",
    "\n",
    "if sum(divisores) > num:\n",
    "    print(num, \"es un número abundante.\")\n",
    "else:\n",
    "    print(num, \"no es un número abundante.\")"
   ]
  },
  {
   "attachments": {},
   "cell_type": "markdown",
   "metadata": {},
   "source": [
    "El programa solicita al usuario que ingrese un número entero y luego utiliza un bucle for para iterar sobre los números del 1 al número ingresado. Dentro del bucle for, el programa utiliza una sentencia condicional para determinar si el número es un divisor del número ingresado. Si el número es un divisor, el programa lo agrega a una lista de divisores.\n",
    "Finalmente, el programa utiliza otra sentencia condicional para determinar si la suma de los divisores es mayor que el número ingresado. Si la suma de los divisores es mayor que el número ingresado, el programa imprime en la pantalla que el número es abundante. De lo contrario, el programa imprime que el número no es abundante.\n",
    "Note que este algoritmo asume que el número ingresado es un número entero. Si se espera que el usuario ingrese un número decimal, se debe modificar el programa para manejar estos casos."
   ]
  },
  {
   "attachments": {},
   "cell_type": "markdown",
   "metadata": {},
   "source": [
    "**Ackaración:** Un número abundante es un número natural para el cual la suma de sus divisores propios es mayor que el propio número. En otras palabras, un número es abundante si la suma de todos sus divisores, excluyendo el propio número, es mayor que el número. Por ejemplo, el número 12 es abundante porque sus divisores propios (1, 2, 3, 4, y 6) suman 16, que es mayor que 12. Los números abundantes son un tema de interés en teoría de números debido a sus propiedades y relaciones con otros tipos de números, como los números perfectos y defectivos. "
   ]
  },
  {
   "cell_type": "markdown",
   "metadata": {},
   "source": [
    "## Ejercicio 20\n",
    "\n",
    "Ídem anterior, pero para un conjunto de números de entrada. El algoritmo para cuando el número ingresado es igual a 0.\n"
   ]
  },
  {
   "cell_type": "code",
   "execution_count": 28,
   "metadata": {},
   "outputs": [
    {
     "ename": "TypeError",
     "evalue": "'int' object is not callable",
     "output_type": "error",
     "traceback": [
      "\u001b[1;31m---------------------------------------------------------------------------\u001b[0m",
      "\u001b[1;31mTypeError\u001b[0m                                 Traceback (most recent call last)",
      "Cell \u001b[1;32mIn[28], line 12\u001b[0m\n\u001b[0;32m      9\u001b[0m     \u001b[39mif\u001b[39;00m num \u001b[39m%\u001b[39m i \u001b[39m==\u001b[39m \u001b[39m0\u001b[39m:\n\u001b[0;32m     10\u001b[0m         divisores\u001b[39m.\u001b[39mappend(i)\n\u001b[1;32m---> 12\u001b[0m \u001b[39mif\u001b[39;00m \u001b[39msum\u001b[39;49m(divisores) \u001b[39m>\u001b[39m num:\n\u001b[0;32m     13\u001b[0m     \u001b[39mprint\u001b[39m(num, \u001b[39m\"\u001b[39m\u001b[39mes un número abundante.\u001b[39m\u001b[39m\"\u001b[39m)\n\u001b[0;32m     14\u001b[0m \u001b[39melse\u001b[39;00m:\n",
      "\u001b[1;31mTypeError\u001b[0m: 'int' object is not callable"
     ]
    }
   ],
   "source": [
    "while True:\n",
    "    num = int(input(\"Ingrese un número entero (0 para salir): \"))\n",
    "    if num == 0:\n",
    "        break\n",
    "\n",
    "    divisores = []\n",
    "\n",
    "    for i in range(1, num):\n",
    "        if num % i == 0:\n",
    "            divisores.append(i)\n",
    "\n",
    "    if sum(divisores) > num:\n",
    "        print(num, \"es un número abundante.\")\n",
    "    else:\n",
    "        print(num, \"no es un número abundante.\")"
   ]
  },
  {
   "attachments": {},
   "cell_type": "markdown",
   "metadata": {},
   "source": [
    "El programa utiliza un bucle while para solicitar al usuario que ingrese un número entero. Dentro del bucle while, el programa utiliza una sentencia condicional para determinar si el número ingresado es igual a 0. Si el número es igual a 0, el programa utiliza la sentencia break para salir del bucle while.\n",
    "Si el número ingresado no es igual a 0, el programa utiliza un algoritmo similar al del ejercicio anterior para determinar si el número es abundante o no. Si el número es abundante, el programa imprime en la pantalla que el número es abundante. De lo contrario, el programa imprime que el número no es abundante.\n",
    "Note que este algoritmo asume que los números ingresados son números enteros. Si se espera que el usuario ingrese números decimales, se debe modificar el programa para manejar estos casos."
   ]
  },
  {
   "cell_type": "markdown",
   "metadata": {},
   "source": [
    "## Ejercicio 21\n",
    "\n",
    "  Desarrollar un algoritmo para, dado un número natural, determinar si es defectivo.\n",
    "  \n",
    "  **Nota:** usar Google o Wikipedia para saber que es un n\\'umero defectivo."
   ]
  },
  {
   "cell_type": "code",
   "execution_count": null,
   "metadata": {},
   "outputs": [],
   "source": [
    "num = int(input(\"Ingrese un número natural: \"))\n",
    "\n",
    "divisores = []\n",
    "\n",
    "for i in range(1, num):\n",
    "    if num % i == 0:\n",
    "        divisores.append(i)\n",
    "\n",
    "if sum(divisores) < num:\n",
    "    print(num, \"es un número defectivo.\")\n",
    "else:\n",
    "    print(num, \"no es un número defectivo.\")"
   ]
  },
  {
   "attachments": {},
   "cell_type": "markdown",
   "metadata": {},
   "source": [
    "El programa solicita al usuario que ingrese un número natural y luego utiliza un bucle for para iterar sobre los números del 1 al número ingresado. Dentro del bucle for, el programa utiliza una sentencia condicional para determinar si el número es un divisor del número ingresado. Si el número es un divisor, el programa lo agrega a una lista de divisores.\n",
    "Finalmente, el programa utiliza otra sentencia condicional para determinar si la suma de los divisores es menor que el número ingresado. Si la suma de los divisores es menor que el número ingresado, el programa imprime en la pantalla que el número es defectivo. De lo contrario, el programa imprime que el número no es defectivo.\n",
    "Note que este algoritmo asume que el número ingresado es un número natural. Si se espera que el usuario ingrese un número decimal o un número negativo, se debe modificar el programa para manejar estos casos."
   ]
  },
  {
   "attachments": {},
   "cell_type": "markdown",
   "metadata": {},
   "source": [
    "**Aclaración:** Un número defectivo es un número natural que es mayor que la suma de sus divisores propios. En otras palabras, un número defectivo es un número para el cual la suma de sus divisores es menor que 2 veces el número. Por ejemplo, el número 10 es defectivo porque sus divisores propios (1, 2, y 5) suman 8, que es menor que 2 veces 10 (20). Todos los números primos son defectivos, y también hay muchos otros números que son defectivos. En teoría de números, los números defectivos son un tema de interés debido a sus propiedades y relaciones con otros tipos de números, como los números perfectos y abundantes."
   ]
  },
  {
   "cell_type": "markdown",
   "metadata": {},
   "source": [
    "## Ejercicio 22\n",
    "\n",
    "Desarrollar un algoritmo para encontrar los n\\'umeros perfectos entre 1 y $N$."
   ]
  },
  {
   "cell_type": "code",
   "execution_count": null,
   "metadata": {},
   "outputs": [],
   "source": [
    "n = int(input(\"Ingrese un número entero: \"))\n",
    "\n",
    "for num in range(1, n+1):\n",
    "    divisores = []\n",
    "\n",
    "    for i in range(1, num):\n",
    "        if num % i == 0:\n",
    "            divisores.append(i)\n",
    "\n",
    "    if sum(divisores) == num:\n",
    "        print(num, \"es un número perfecto.\")"
   ]
  },
  {
   "attachments": {},
   "cell_type": "markdown",
   "metadata": {},
   "source": [
    "El programa solicita al usuario que ingrese un número entero y luego utiliza un bucle for para iterar sobre los números del 1 al número ingresado. Dentro del bucle for, el programa utiliza un algoritmo similar al del ejercicio anterior para determinar si el número es perfecto o no. Si el número es perfecto, el programa imprime en la pantalla que el número es perfecto.\n",
    "Finalmente, el programa imprime todos los números perfectos entre 1 y el número ingresado en la pantalla.\n",
    "Note que este algoritmo asume que el número ingresado es un número entero. Si se espera que el usuario ingrese un número decimal o un número negativo, se debe modificar el programa para manejar estos casos."
   ]
  }
 ],
 "metadata": {
  "kernelspec": {
   "display_name": "Python 3",
   "language": "python",
   "name": "python3"
  },
  "language_info": {
   "codemirror_mode": {
    "name": "ipython",
    "version": 3
   },
   "file_extension": ".py",
   "mimetype": "text/x-python",
   "name": "python",
   "nbconvert_exporter": "python",
   "pygments_lexer": "ipython3",
   "version": "3.11.3"
  }
 },
 "nbformat": 4,
 "nbformat_minor": 2
}
