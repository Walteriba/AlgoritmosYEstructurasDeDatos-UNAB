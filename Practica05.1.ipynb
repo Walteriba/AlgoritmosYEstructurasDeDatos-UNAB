{
 "cells": [
  {
   "attachments": {},
   "cell_type": "markdown",
   "metadata": {},
   "source": [
    "#  Ejercicios - Clase 05 - "
   ]
  },
  {
   "attachments": {},
   "cell_type": "markdown",
   "metadata": {},
   "source": [
    "## Ejercicio 1:\n",
    "\n",
    "Implementar una función **recursiva** que retorne la suma de los primeros $\\textit{n}$ números."
   ]
  },
  {
   "cell_type": "code",
   "execution_count": null,
   "metadata": {},
   "outputs": [],
   "source": [
    "def suma_recursiva(n):\n",
    "    if n==0:\n",
    "        return n\n",
    "    else:\n",
    "        return n + suma_recursiva(n-1)  \n",
    "    \n",
    "n=int(input(\"Ingrese n\"))\n",
    "print(f\"La suma recursiva de {n} es {suma_recursiva(n)}\")"
   ]
  },
  {
   "attachments": {},
   "cell_type": "markdown",
   "metadata": {},
   "source": [
    "## Ejercicio 2:\n",
    "\n",
    "Implementar una función **iterativa** que retorne la suma de los primeros $\\textit{n}$ números."
   ]
  },
  {
   "cell_type": "code",
   "execution_count": null,
   "metadata": {},
   "outputs": [],
   "source": [
    "def suma_iterativa(n):\n",
    "    suma = 0\n",
    "    for i in range(1, n+1):\n",
    "        suma += i\n",
    "    return suma\n",
    "\n",
    "# Ejemplo de uso\n",
    "n=int(input(\"Ingrese n\"))\n",
    "suma = suma_iterativa(n)\n",
    "print(\"La suma de los primeros\", n, \"números es\", suma)"
   ]
  },
  {
   "attachments": {},
   "cell_type": "markdown",
   "metadata": {},
   "source": [
    "## Ejercicio 3:\n",
    "\n",
    "Implementar una función **recursiva** que reciba como parametro una lista de números enteros y retorne el maximo. "
   ]
  },
  {
   "cell_type": "code",
   "execution_count": 11,
   "metadata": {},
   "outputs": [
    {
     "data": {
      "text/plain": [
       "6"
      ]
     },
     "execution_count": 11,
     "metadata": {},
     "output_type": "execute_result"
    }
   ],
   "source": [
    "lista=[1,3,2,6,4]\n",
    "def find_max(lista):\n",
    "    if len(lista) == 1:\n",
    "        return lista[0]\n",
    "    else:\n",
    "        max_num = find_max(lista[1:])\n",
    "        return lista[0] if lista[0] > max_num else max_num\n",
    "\n",
    "find_max(lista)"
   ]
  },
  {
   "attachments": {},
   "cell_type": "markdown",
   "metadata": {},
   "source": [
    "## Ejercicio 4: \n",
    "\n",
    "Escribir una función recursiva para encontrar el mayor elemento de una secuencia <code>S</code>, de cardinalidad <code>n</code>."
   ]
  },
  {
   "cell_type": "code",
   "execution_count": 10,
   "metadata": {},
   "outputs": [
    {
     "name": "stdout",
     "output_type": "stream",
     "text": [
      "El máximo de la lista [3, 5, 1, 8, 2] es [8, 2]\n"
     ]
    }
   ],
   "source": [
    "def maximo_recursivo(lista):\n",
    "    if len(lista) == 1:\n",
    "        return lista\n",
    "    else:\n",
    "        maximo = maximo_recursivo(lista[1:])\n",
    "        return lista if lista > maximo else maximo\n",
    "\n",
    "# Ejemplo de uso\n",
    "lista = [3, 5, 1, 8, 2]\n",
    "maximo = maximo_recursivo(lista)\n",
    "print(\"El máximo de la lista\", lista, \"es\", maximo)"
   ]
  },
  {
   "attachments": {},
   "cell_type": "markdown",
   "metadata": {},
   "source": [
    "## Ejercicio 5: \n",
    "\n",
    "Escribir una función <code>minmax(data)</code>, la cuál contiene una secuencia (no vacía) de números, y debe retornar, el menor y el mayor elemento, en forma de una **tupla** de longitud 2, es decir una tupla con dos elementos.  "
   ]
  },
  {
   "cell_type": "code",
   "execution_count": 31,
   "metadata": {},
   "outputs": [
    {
     "data": {
      "text/plain": [
       "(3, 8)"
      ]
     },
     "execution_count": 31,
     "metadata": {},
     "output_type": "execute_result"
    }
   ],
   "source": [
    "lista = [3, 5, 1, 8, 2]\n",
    "\n",
    "def max(lista):\n",
    "    if len(lista) == 1:\n",
    "        return lista[0]\n",
    "    else:\n",
    "        max_num = find_max(lista[1:])\n",
    "        return lista[0] if lista[0] > max_num else max_num\n",
    "       \n",
    "def min(lista):\n",
    "    if len(lista) == 1:\n",
    "        return lista[0]\n",
    "    else:\n",
    "        max_num = find_max(lista[1:])\n",
    "        return lista[0] if lista[0] < max_num else max_num\n",
    "\n",
    "def min_max(lista):\n",
    " lista_min_max=[]\n",
    " a=min(lista)\n",
    " b=max(lista)\n",
    " lista_min_max.append(a)\n",
    " lista_min_max.append(b)\n",
    " tupla_min_max=tuple(lista_min_max)\n",
    " return tupla_min_max\n",
    "\n",
    "min_max(lista)\n",
    "\n",
    "\n",
    "\n"
   ]
  },
  {
   "attachments": {},
   "cell_type": "markdown",
   "metadata": {},
   "source": [
    "## Ejercicio 6:\n",
    "\n",
    "Escribir una función recursiva para determinar si un string tiene mas vocales que consonantes."
   ]
  },
  {
   "cell_type": "code",
   "execution_count": 83,
   "metadata": {},
   "outputs": [
    {
     "name": "stdout",
     "output_type": "stream",
     "text": [
      "El string Hola mundo no tiene más vocales que consonantes\n"
     ]
    }
   ],
   "source": [
    "def vc(palabra):\n",
    "    v = 0\n",
    "    c = 0\n",
    "    if len(palabra) == 0:\n",
    "        return \"No hay palara que analizar\"\n",
    "    for x in palabra:\n",
    "            if x in (\"aeiouAEIOU\"):\n",
    "                v += 1\n",
    "            elif x.isalpha():\n",
    "                c += 1\n",
    "    if v>c:\n",
    "            return \"Más vocales\"\n",
    "    elif v ==c:\n",
    "            return \"Misma cantidad\"\n",
    "    else:\n",
    "            return \"Más consonantes\"\n",
    "\n",
    "\n",
    "vc(\"ALEATORIO\")\n",
    "\n",
    "# Sin embargo esta no es una forma recursiva de hacerlo, la siguiente si\n",
    "\n",
    "def mas_vocales(string, vocales=0, consonantes=0):\n",
    "    if len(string) == 0:\n",
    "        return vocales > consonantes\n",
    "    else:\n",
    "        letra = string.lower()\n",
    "        if letra in \"aeiou\":\n",
    "            vocales += 1\n",
    "        elif letra.isalpha():\n",
    "            consonantes += 1\n",
    "        return mas_vocales(string[1:], vocales, consonantes)\n",
    "\n",
    "# Ejemplo de uso\n",
    "string = \"Hola mundo\"\n",
    "resultado = mas_vocales(string)\n",
    "if resultado:\n",
    "    print(\"El string\", string, \"tiene más vocales que consonantes\")\n",
    "else:\n",
    "    print(\"El string\", string, \"no tiene más vocales que consonantes\")\n"
   ]
  }
 ],
 "metadata": {
  "kernelspec": {
   "display_name": "Python 3",
   "language": "python",
   "name": "python3"
  },
  "language_info": {
   "codemirror_mode": {
    "name": "ipython",
    "version": 3
   },
   "file_extension": ".py",
   "mimetype": "text/x-python",
   "name": "python",
   "nbconvert_exporter": "python",
   "pygments_lexer": "ipython3",
   "version": "3.11.3"
  }
 },
 "nbformat": 4,
 "nbformat_minor": 2
}
