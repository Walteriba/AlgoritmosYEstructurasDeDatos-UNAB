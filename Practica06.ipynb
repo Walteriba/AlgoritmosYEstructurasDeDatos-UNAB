{
 "cells": [
  {
   "attachments": {},
   "cell_type": "markdown",
   "metadata": {
    "pycharm": {}
   },
   "source": [
    "# Ejercicios - Clase 06 -"
   ]
  },
  {
   "cell_type": "markdown",
   "metadata": {
    "pycharm": {}
   },
   "source": [
    "## Ejercicios"
   ]
  },
  {
   "attachments": {},
   "cell_type": "markdown",
   "metadata": {},
   "source": [
    "### Ej. 1:\n",
    "\n",
    "Definir la clase <code>Punto</code>. Sus *atributos* serán las coodenadas en `x` e `y` del plano cartesiano. Un <code>Punto</code> reconoce las siguientes *operaciones (métodos)*: \n",
    "- <code>distancia(p1, p2)</code>: distancia entre los puntos (devuleve un número)\n",
    "- <code>resta(p1, p2)</code>: resultado de la resta de dos puntos (devuelve un punto)      \n",
    "- <code>norma(p)</code>: módulo del vector desde el origen hacia el punto `p` "
   ]
  },
  {
   "cell_type": "code",
   "execution_count": null,
   "metadata": {},
   "outputs": [],
   "source": [
    "import math\n",
    "\n",
    "class Punto:\n",
    "    def __init__(self,x1,y1):\n",
    "        self.x = x1\n",
    "        self.y = y1 \n",
    "\n",
    "    def distancia(self,x2,y2):\n",
    "       return math.sqrt((x2-self.x)**2+(y2-self.y)**2)\n",
    "     \n",
    "    def resta(self,x2,y2):      \n",
    "        return ((self.x-x2),(self.y-y2))\n",
    "    \n",
    "    def norma(self):\n",
    "        return math.sqrt((self.x)**2+(self.y)**2)\n",
    "\n",
    "p1=Punto(0,0)\n",
    "print(p1.distancia(1,1))\n",
    "print(p1.resta(1,1))\n",
    "print(p1.norma())\n",
    "dir(math)\n",
    "\n"
   ]
  },
  {
   "attachments": {},
   "cell_type": "markdown",
   "metadata": {},
   "source": [
    "### Ej. 2:\n",
    "Sobrecargar los métodos: <code>\\_\\_str\\_\\_ , \\_\\_add\\_\\_ , \\_\\_sub\\_\\_ , \\_\\_eq\\_\\_</code>."
   ]
  },
  {
   "cell_type": "code",
   "execution_count": null,
   "metadata": {},
   "outputs": [],
   "source": [
    "class Sobrecarga:\n",
    "    \n",
    "    def __init__(self) -> None: \n",
    "        pass\n",
    "\n",
    "#   __init__(self, /, *args, **kwargs)\n",
    "#  Initialize self.  See help(type(self)) for accurate signature.\n",
    "    \n",
    "    def __str__(self) -> str:\n",
    "        pass\n",
    "    \n",
    "#   __str__(self, /)\n",
    "#    Return str(self).    \n",
    "\n",
    "def __add__(self, otro):\n",
    "    \"\"\" Devuelve la suma de ambos puntos. \"\"\"\n",
    "    return Punto(self.x + otro.x, self.y + otro.y)\n",
    "\n",
    "def __sub__(self, otro):\n",
    "    \"\"\" Devuelve la resta de ambos puntos. \"\"\"\n",
    "    return Punto(self.x - otro.x, self.y - otro.y)\n",
    "    \n",
    "def __eq__(self, __value: object) -> bool: \n",
    "        pass\n",
    "    \n",
    "#   __eq__(self, value, /)\n",
    "#   Return self==value.\n",
    "    \n",
    "\"\"\"help(object)\"\"\"\n",
    "\n",
    "class MiClase:\n",
    "    def __init__(self, valor):\n",
    "        self.valor = valor\n",
    "\n",
    "    def __add__(self, otro_objeto):                     \n",
    "         return  self.valor * otro_objeto.valor    #### aca se sobrecargo el metodo add con una multiplicacion, pero esto es una practica no recomendada porque puede traer confusion!\n",
    "       \n",
    "    \n",
    "q=MiClase(1)\n",
    "r=MiClase(2)\n",
    "q + r #esto da 2, cuando tendria que dar 3\n",
    "\n"
   ]
  },
  {
   "attachments": {},
   "cell_type": "markdown",
   "metadata": {},
   "source": [
    "### Ej. 3:\n",
    "\n",
    "Definir la clase <code>Circulo</code>. La clase debe contener los siguientes métodos:\n",
    "\n",
    "- Calcular el perimetro del circulo. \n",
    "- Clacular el area del circulo.\n"
   ]
  },
  {
   "cell_type": "code",
   "execution_count": 9,
   "metadata": {},
   "outputs": [
    {
     "name": "stdout",
     "output_type": "stream",
     "text": [
      "18.84955592153876\n",
      "28.274333882308138\n",
      "El perimetro es 18.84955592153876 y el area es 28.274333882308138\n"
     ]
    }
   ],
   "source": [
    "import math\n",
    "\n",
    "class Circulo:\n",
    "    def __init__(self,radio): \n",
    "        self.r = radio\n",
    "    \n",
    "    def __str__(self):\n",
    "        return f\"El perimetro es {self.perimetro()} y el area es {self.area()}\" # sobrecargue el str y ahora el print en vez de mostrarme donde esta el objeto, me muestro lo que yo asigne\n",
    "    \n",
    "    def perimetro(self):\n",
    "        return 2*math.pi*self.r\n",
    "    \n",
    "    def area(self):\n",
    "        return math.pi*(self.r)**2\n",
    "\n",
    "\n",
    "c=Circulo(3)\n",
    "print(c.perimetro())\n",
    "print(c.area())\n",
    "print(Circulo(3))\n"
   ]
  },
  {
   "attachments": {},
   "cell_type": "markdown",
   "metadata": {},
   "source": [
    "### Ej. 4:\n",
    "\n",
    "Definir la clase <code>Triangulo</code>. Un triangulo esta compuesto por 3 puntos. La clase debe contener los siguientes métodos:\n",
    "\n",
    "- Calcular el perimetro del triangulo. \n",
    "- Calcular el area del triangulo.\n",
    "- Chequear si el triagulo es rectangulo. \n",
    "\n",
    "**Importante!** deben validar que los 3 puntos conformen un triangulo. "
   ]
  },
  {
   "cell_type": "code",
   "execution_count": null,
   "metadata": {},
   "outputs": [],
   "source": [
    "import math\n",
    "\n",
    "class Punto:\n",
    "    def __init__(self, x, y):\n",
    "        self.x = x\n",
    "        self.y = y\n",
    "    \n",
    "    def distancia(self, otro_punto):\n",
    "        return math.sqrt((otro_punto.x - self.x) ** 2 + (otro_punto.y - self.y) ** 2)\n",
    "    \n",
    "    \n",
    "#TOMO LA DEFINICION DE PUNTO DEL EJERCICIO ANTERIOR Y LA APLICO EN ESTE\n",
    "    \n",
    "class Triangulo:\n",
    "    def __init__(self,p1,p2,p3):\n",
    "        self.p1=p1\n",
    "        self.p2=p2\n",
    "        self.p3=p3\n",
    "    \n",
    "    def perimetro(self):\n",
    "        return self.p1.distancia(self.p2)+self.p2.distancia(self.p3)+self.p3.distancia(self.p1)\n",
    "    \n",
    "    def area(self):\n",
    "        a = self.p1.distancia(self.p2)\n",
    "        b = self.p2.distancia(self.p3)\n",
    "        c = self.p3.distancia(self.p1)\n",
    "        s = (a + b + c) / 2\n",
    "        return math.sqrt(s * (s - a) * (s - b) * (s - c))\n",
    "    \n",
    "    def es_rectangulo(self):\n",
    "        a = self.p1.distancia(self.p2)\n",
    "        b = self.p2.distancia(self.p3)\n",
    "        c = self.p3.distancia(self.p1)   \n",
    "        \n",
    "    def es_triangulo_y_es_rectangulo(self):\n",
    "        a = self.p1.distancia(self.p2)\n",
    "        b = self.p2.distancia(self.p3)\n",
    "        c = self.p3.distancia(self.p1)\n",
    "        if a + b > c and b + c > a and c + a > b:\n",
    "            if math.sqrt(a**2 + b**2) == c:\n",
    "              return \"Es triangulo rectangulo\"\n",
    "            elif math.sqrt(b**2 + c**2) == a:\n",
    "              return \"Es triangulo rectangulo\"\n",
    "            elif math.sqrt(c**2 + a**2) == b:\n",
    "              return \"Es triangulo rectangulo\"\n",
    "            else:\n",
    "              return \"Es triangulo, pero no rectangulo\"\n",
    "        else:\n",
    "            return \"No es triangulo\"\n",
    "    \n",
    "a=Punto(1,1)\n",
    "b=Punto(2,3)\n",
    "c=Punto(3,1)\n",
    "t=Triangulo(a,b,c)\n",
    "print(f\"El perimetro es {t.perimetro()}\")\n",
    "print(f\"El area es {t.area()}\")\n",
    "print(t.es_triangulo_y_es_rectangulo())\n",
    "\n",
    "\n",
    "\n",
    "    "
   ]
  },
  {
   "attachments": {},
   "cell_type": "markdown",
   "metadata": {},
   "source": [
    "### Ej. 5:\n",
    "\n",
    "Definir la clase <code>Rectangulo</code>. Un rectangulo pude ser definido de varias maneras, por ejemplo:\n",
    "- 4 puntos: las 4 esquinas (sirve para cualquier poligono).\n",
    "- 2 puntos: Idem anterior, pero usamos dos.\n",
    "- 1 punto de referencia, base y altura.\n",
    "\n",
    "*(Elejir solo una e implementarla)*\n",
    "\n",
    " La clase debe contener los siguientes métodos:\n",
    "\n",
    "- Calcular el perimetro del rectangulo. \n",
    "- Clacular el area del rectangulo.\n",
    "- Chequear si el rectangulo es un cuadradro. "
   ]
  },
  {
   "cell_type": "code",
   "execution_count": null,
   "metadata": {},
   "outputs": [],
   "source": [
    "class Rectangulo:\n",
    "    def __init__(self,base,altura):\n",
    "        self.b=base\n",
    "        self.h=altura\n",
    "    \n",
    "    def perimetro(self):\n",
    "        return (self.b+self.h)*2\n",
    "    \n",
    "    def area(self):\n",
    "        return self.b * self.h\n",
    "    \n",
    "    def es_cuadrado(self):\n",
    "        if self.b==self.h:\n",
    "            return \"Es cuadrado\"\n",
    "        else:\n",
    "            return \"Es rectangulo\"\n",
    "    \n",
    "r=Rectangulo(1,2)\n",
    "print(r.perimetro())\n",
    "print(r.area())\n",
    "print(r.es_cuadrado())\n",
    "    \n"
   ]
  },
  {
   "attachments": {},
   "cell_type": "markdown",
   "metadata": {},
   "source": [
    "### Ej. 6: \n",
    "\n",
    "Escribir un programa que simule un ecosistema conteniendo dos tipos de criaturas, **osos** y **peces**. El ecosistema cosiste en un río, el cuál esta modelado como una lista. Cada elemento de la lista debe ser un objeto del tipo `Oso` , del tipo `Pez`, o `None`. Considerando un \"contador externo\" (random), en cada paso, cada animal intenta moverse hacia una celda adjacente en la lista, o quedarse en su sitio. Si dos animales del mismo tipo estan por ocupar el mismo espacio, deberan quedarse en sus posiciones, y generaremos una nueva criatura de ese tipo en un lugar aleatorio vacio (i.e. `None`) de la lista (se reproducen). Si un oso y un pez ocupan el mismo espacio, entonces el pez desaparecera (es comido).  "
   ]
  },
  {
   "cell_type": "code",
   "execution_count": null,
   "metadata": {},
   "outputs": [],
   "source": [
    "#no pude pensar la solucion"
   ]
  },
  {
   "attachments": {},
   "cell_type": "markdown",
   "metadata": {},
   "source": [
    "### Ej. 7:\n",
    "\n",
    "La clase `DynamicArray` descripta a continuación, no soporta el uso de indices negativos usando `__getitem__`. \n",
    "Arreglar el método, para que soprte el indexado de Python (faltan los indices negativos) "
   ]
  },
  {
   "cell_type": "code",
   "execution_count": null,
   "metadata": {},
   "outputs": [],
   "source": [
    "class DynamicArray:\n",
    "    \"\"\"A dynamic array class akin to a simplified Python list\"\"\"\n",
    "    \n",
    "    def __init__(self):\n",
    "        \"\"\"Create an empty array.\"\"\"\n",
    "        self._n = 0\n",
    "        self._capacity = 1\n",
    "        self._A = self._make_array(self._capacity)\n",
    "        \n",
    "    def __len__(self):\n",
    "        \"\"\"Return number of elements stored in the array\"\"\"\n",
    "        return self._n\n",
    "    \n",
    "    #definicion vieja\n",
    "    \"\"\" def __getitem__(self, k):\n",
    "        if not 0<= k < self._n:\n",
    "            raise IndexError( 'invalid index' ) \n",
    "        return self._A[k] \"\"\"\n",
    "    \n",
    "    #definicion nueva\n",
    "    def __getitem__(self, k):\n",
    "      if isinstance(k, int):\n",
    "        if k < 0:\n",
    "            k += self._n\n",
    "        if not 0 <= k < self._n:\n",
    "            raise IndexError('invalid index')\n",
    "        return self._A[k]\n",
    "      else:\n",
    "        raise TypeError('Invalid argument type')\n",
    "    \n",
    "    def append(self, obj):\n",
    "        \"\"\"Add object to end of the array.\"\"\"\n",
    "        if self._n == self._capacity:\n",
    "            self._resize(2 * self._capacity)\n",
    "        self._A[self._n] = obj\n",
    "        self._n += 1\n",
    "    \n",
    "    def _resize(self, c):\n",
    "        \"\"\"Resize internal array to capacity c.\"\"\"\n",
    "        B = self._make_array(c)\n",
    "        for k in range(self._n):\n",
    "            B[k] = self._A[k]\n",
    "        self._A = B\n",
    "        self._capacity = c\n",
    "        \n",
    "    def _make_array(self, c):\n",
    "        \"\"\"Return new array with capacity c.\"\"\"\n",
    "        return (c * ctypes.py_object)()"
   ]
  },
  {
   "cell_type": "code",
   "execution_count": null,
   "metadata": {},
   "outputs": [],
   "source": [
    "darray = DynamicArray()\n",
    "darray.append(4)\n",
    "darray.append(1)\n",
    "darray.append(3)\n",
    "print(darray[-3])\n",
    "print(darray[-2])\n",
    "print(darray[-1])\n",
    "print(darray[0])\n",
    "print(darray[1])\n",
    "print(darray[2])"
   ]
  }
 ],
 "metadata": {
  "kernelspec": {
   "display_name": "Python 3",
   "language": "python",
   "name": "python3"
  },
  "language_info": {
   "codemirror_mode": {
    "name": "ipython",
    "version": 3
   },
   "file_extension": ".py",
   "mimetype": "text/x-python",
   "name": "python",
   "nbconvert_exporter": "python",
   "pygments_lexer": "ipython3",
   "version": "3.11.3"
  },
  "pycharm": {
   "stem_cell": {
    "cell_type": "raw",
    "metadata": {
     "collapsed": false
    },
    "source": []
   }
  },
  "vscode": {
   "interpreter": {
    "hash": "aee8b7b246df8f9039afb4144a1f6fd8d2ca17a180786b69acc140d282b71a49"
   }
  }
 },
 "nbformat": 4,
 "nbformat_minor": 2
}
