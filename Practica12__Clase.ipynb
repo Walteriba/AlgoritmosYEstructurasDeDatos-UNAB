{
 "cells": [
  {
   "attachments": {},
   "cell_type": "markdown",
   "metadata": {},
   "source": [
    "## PRÁCTICA Archivos"
   ]
  },
  {
   "attachments": {},
   "cell_type": "markdown",
   "metadata": {},
   "source": [
    "### Ejercicio 1\n",
    "\n",
    "Escribir un algoritmo en donde el usuario debe escribir una frase, la cual sera guardada en un archivo binario. Luego leer el archivo y mostrar su contenido por pantalla. "
   ]
  },
  {
   "attachments": {},
   "cell_type": "markdown",
   "metadata": {},
   "source": [
    "##### Varias Soluciones:"
   ]
  },
  {
   "cell_type": "code",
   "execution_count": 10,
   "metadata": {},
   "outputs": [
    {
     "name": "stdout",
     "output_type": "stream",
     "text": [
      "abuela lalalala\n"
     ]
    }
   ],
   "source": [
    "import pickle\n",
    "\n",
    "frase = input(\"Introduce una frase: \")\n",
    "\n",
    "f = open('frase.txt', 'wb') #el archivo se crea en en el directorio donde ejecuto el archivo de python\n",
    "pickle.dump(frase, f)\n",
    "f.close()\n",
    "\n",
    "f = open('frase.txt', 'rb')\n",
    "resultado = pickle.load(f)\n",
    "f.close()\n",
    "print(resultado)\n",
    "\n",
    "#help(pickle.dump)"
   ]
  },
  {
   "cell_type": "code",
   "execution_count": 11,
   "metadata": {},
   "outputs": [
    {
     "name": "stdout",
     "output_type": "stream",
     "text": [
      "b'abuela lalalala'\n"
     ]
    }
   ],
   "source": [
    "frase = input(\"Introduce una frase: \")\n",
    "\n",
    "with open('dummy0.txt','wb') as g:\n",
    "    for c in frase:\n",
    "        g.write(bytes(c,'utf-8'))   \n",
    "    \n",
    "with open('dummy0.txt','rb') as g: \n",
    "    print(g.read())"
   ]
  },
  {
   "cell_type": "code",
   "execution_count": 3,
   "metadata": {},
   "outputs": [
    {
     "name": "stdout",
     "output_type": "stream",
     "text": [
      "from pathlib import Path\n"
     ]
    }
   ],
   "source": [
    "frase = input(\"Introduce una frase: \")\n",
    "\n",
    "with open('prueba.bin', 'wb') as file:\n",
    "    file.write(frase.encode())\n",
    "\n",
    "with open('prueba.bin', 'rb') as lectura:\n",
    "    salida = lectura.read()\n",
    "    print(salida.decode())"
   ]
  }
 ],
 "metadata": {
  "kernelspec": {
   "display_name": "Python 3",
   "language": "python",
   "name": "python3"
  },
  "language_info": {
   "codemirror_mode": {
    "name": "ipython",
    "version": 3
   },
   "file_extension": ".py",
   "mimetype": "text/x-python",
   "name": "python",
   "nbconvert_exporter": "python",
   "pygments_lexer": "ipython3",
   "version": "3.11.4"
  }
 },
 "nbformat": 4,
 "nbformat_minor": 4
}
