{
 "cells": [
  {
   "cell_type": "markdown",
   "metadata": {},
   "source": [
    "#TIPOS DE DATOS:\n",
    "\n",
    "Los tipos de datos simples definidos por el lenguaje son aquellos que están predefinidos en el lenguaje de programación y que no requieren una definición adicional. En Python, algunos de los tipos de datos simples definidos por el lenguaje son los siguientes:\n",
    "\n",
    "-  **Enteros (int):** Este tipo de dato representa números enteros, como -1, 0, 1, 2, etc. En Python, los enteros se definen sin decimales y se pueden realizar operaciones aritméticas básicas con ellos, como suma, resta, multiplicación y división. Por ejemplo:"
   ]
  },
  {
   "cell_type": "code",
   "execution_count": null,
   "metadata": {},
   "outputs": [],
   "source": [
    "x = 5\n",
    "y = 3\n",
    "suma = x + y\n",
    "resta = x - y\n",
    "multiplicacion = x * y\n",
    "division = x / y"
   ]
  },
  {
   "cell_type": "markdown",
   "metadata": {},
   "source": [
    "-  **Reales (float):** Este tipo de dato representa números con decimales, como 3.14, 2.718, etc. En Python, los números reales se definen utilizando un punto decimal y también se pueden realizar operaciones aritméticas básicas con ellos. Por ejemplo:"
   ]
  },
  {
   "cell_type": "code",
   "execution_count": null,
   "metadata": {},
   "outputs": [],
   "source": [
    "x = 3.14\n",
    "y = 2.718\n",
    "suma = x + y\n",
    "resta = x - y\n",
    "multiplicacion = x * y\n",
    "division = x / y"
   ]
  },
  {
   "cell_type": "markdown",
   "metadata": {},
   "source": [
    "-  **Complejos (complex):** Este tipo de dato representa números complejos, como 1 + 2j, 3 - 4j, etc. En Python, los números complejos se definen utilizando una \"j\" después del número imaginario. También se pueden realizar operaciones aritméticas básicas con ellos. Por ejemplo:"
   ]
  },
  {
   "cell_type": "code",
   "execution_count": null,
   "metadata": {},
   "outputs": [],
   "source": [
    "x = 1 + 2j\n",
    "y = 3 - 4j\n",
    "suma = x + y\n",
    "resta = x - y\n",
    "multiplicacion = x * y\n",
    "division = x / y"
   ]
  },
  {
   "cell_type": "markdown",
   "metadata": {},
   "source": [
    "-  **Cadena de caracteres (str):** Este tipo de dato representa texto, como \"Hola mundo\", \"Python es genial\", etc. En Python, las cadenas se definen entre comillas simples o dobles y se pueden concatenar utilizando el operador \"+\". También se pueden acceder a los caracteres individuales de una cadena utilizando la indexación. Por ejemplo:"
   ]
  },
  {
   "cell_type": "code",
   "execution_count": null,
   "metadata": {},
   "outputs": [],
   "source": [
    "mensaje = \"Hola mundo\"\n",
    "primera_letra = mensaje[0]\n",
    "ultima_letra = mensaje[-1]\n",
    "concatenacion = mensaje + \"!\""
   ]
  },
  {
   "cell_type": "markdown",
   "metadata": {},
   "source": [
    "-  **Booleanos (bool):** Este tipo de dato representa verdadero o falso, como True o False. En Python, los booleanos se utilizan para tomar decisiones en las estructuras de control de flujo, como if y while. Por ejemplo:"
   ]
  },
  {
   "cell_type": "code",
   "execution_count": null,
   "metadata": {},
   "outputs": [],
   "source": [
    "x = 5\n",
    "y = 3\n",
    "es_mayor = x > y\n",
    "es_igual = x == y"
   ]
  },
  {
   "cell_type": "markdown",
   "metadata": {},
   "source": [
    "Por último, los **operadores relacionales** son aquellos que se utilizan para comparar valores y devolver un resultado booleano. En Python, algunos de los operadores relacionales son los siguientes:"
   ]
  },
  {
   "cell_type": "markdown",
   "metadata": {},
   "source": [
    "-  '==' (igualdad): devuelve True si los valores son iguales, False en caso contrario.\n",
    "-  '!=' (diferencia): devuelve True si los valores son diferentes, False en caso contrario.\n",
    "-  '<' (menor que): devuelve True si el valor de la izquierda es menor que el de la derecha, False en caso contrario.\n",
    "-  '>' (mayor que): devuelve True si el valor de la izquierda es mayor que los de la derecha, False en caso contrario.\n",
    "-  '<=' (menor o igual que): devuelve True si el valor de la izquierda es menor o igual que el de la derecha, False en caso contrario.\n",
    "-  '>=' (mayor o igual que): devuelve True si el valor de la izquierda es mayor o igual que el de la derecha, False en caso contrario."
   ]
  },
  {
   "cell_type": "code",
   "execution_count": null,
   "metadata": {},
   "outputs": [],
   "source": [
    "x = 5\n",
    "y = 3\n",
    "es_igual = x == y # False\n",
    "es_diferente = x != y # True\n",
    "es_menor = x < y # False\n",
    "es_mayor = x > y # True\n",
    "es_menor_o_igual = x <= y # False\n",
    "es_mayor_o_igual = x >= y # True"
   ]
  },
  {
   "cell_type": "markdown",
   "metadata": {},
   "source": [
    "Es importante tener en cuenta que los operadores relacionales solo se pueden utilizar con tipos de datos que se puedan comparar. Por ejemplo, no se pueden comparar una cadena de caracteres con un número."
   ]
  },
  {
   "cell_type": "markdown",
   "metadata": {},
   "source": [
    "# TIPOS DE DATOS COMPLEJOS\n",
    "\n",
    "Los tipos de datos complejos definidos por el usuario son aquellos que se crean a partir de tipos de datos simples y que permiten almacenar múltiples valores en una sola variable. En Python, algunos de los tipos de datos complejos definidos por el usuario son los siguientes:\n",
    "\n",
    "-  **Tuplas (tuple):** Este tipo de dato es una colección inmutable y ordenada de elementos, que pueden ser de cualquier tipo de datos. Las tuplas se definen utilizando paréntesis y los elementos se separan por comas. Por ejemplo:"
   ]
  },
  {
   "cell_type": "code",
   "execution_count": null,
   "metadata": {},
   "outputs": [],
   "source": [
    "mi_tupla = (1, \"hola\", 3.14, True)"
   ]
  },
  {
   "cell_type": "markdown",
   "metadata": {},
   "source": [
    "Las tuplas son inmutables, lo que significa que una vez creadas no se pueden modificar sus elementos. Sin embargo, se pueden acceder a los elementos individuales de una tupla utilizando la indexación.\n",
    "\n",
    "-  **Conjuntos (set):** Este tipo de dato es una colección mutable y no ordenada de elementos únicos, que pueden ser de cualquier tipo de datos. Los conjuntos se definen utilizando llaves o la función set() y los elementos se separan por comas. Por ejemplo:"
   ]
  },
  {
   "cell_type": "code",
   "execution_count": null,
   "metadata": {},
   "outputs": [],
   "source": [
    "mi_set = {1, \"hola\", 3.14, True}\n",
    "otro_set = set([2, \"mundo\", 3.14, False])"
   ]
  },
  {
   "cell_type": "markdown",
   "metadata": {},
   "source": [
    "Los conjuntos no tienen un orden definido y no permiten elementos duplicados. Además, se pueden realizar operaciones de conjunto como unión, intersección y diferencia.\n",
    "\n",
    "-  **Diccionarios (dict):** Este tipo de dato es una colección mutable y desordenada de pares clave-valor, donde cada clave debe ser única y los valores pueden ser de cualquier tipo de datos. Los diccionarios se definen utilizando llaves y los pares clave-valor se separan por comas y se separan por dos puntos. Por ejemplo:"
   ]
  },
  {
   "cell_type": "code",
   "execution_count": null,
   "metadata": {},
   "outputs": [],
   "source": [
    "mi_dict = {\"nombre\": \"Juan\", \"edad\": 30, \"casado\": False}"
   ]
  },
  {
   "cell_type": "markdown",
   "metadata": {},
   "source": [
    "\n",
    "Los diccionarios permiten acceder a los valores utilizando las claves y también se pueden modificar o agregar nuevos pares clave-valor.\n",
    "\n",
    "-  **Listas (list):** Este tipo de dato es una colección mutable y ordenada de elementos, que pueden ser de cualquier tipo de datos. Las listas se definen utilizando corchetes y los elementos se separan por comas. Por ejemplo:"
   ]
  },
  {
   "cell_type": "code",
   "execution_count": null,
   "metadata": {},
   "outputs": [],
   "source": [
    "mi_lista = [1, \"hola\", 3.14, True]"
   ]
  },
  {
   "cell_type": "markdown",
   "metadata": {},
   "source": [
    "Las listas permiten acceder a los elementos utilizando la indexación y también se pueden modificar o agregar nuevos elementos.\n",
    "\n",
    "-  **Rangos (range):** Este tipo de dato es una secuencia inmutable de números enteros, que se utilizan principalmente para crear bucles en Python. Los rangos se definen utilizando la función range() y toman como parámetros el inicio, el fin y el incremento. Por ejemplo:"
   ]
  },
  {
   "cell_type": "code",
   "execution_count": null,
   "metadata": {},
   "outputs": [],
   "source": [
    "mi_rango = range(0, 10, 2) # crea un rango de 0 a 10 de dos en dos"
   ]
  },
  {
   "cell_type": "markdown",
   "metadata": {},
   "source": [
    "Los rangos se utilizan principalmente en bucles for para iterar sobre una secuencia de números enteros.\n",
    "\n",
    "Es importante tener en cuenta que cada tipo de dato complejo tiene sus propias propiedades y métodos específicos que se pueden utilizar en Python. Por ejemplo, para agregar un elemento a una lista se utiliza el método append(), mientras que para agregar un nuevo par clave-valor a un diccionario se utiliza la asignación por índice.\n",
    "\n",
    "Por ejemplo:"
   ]
  },
  {
   "cell_type": "code",
   "execution_count": null,
   "metadata": {},
   "outputs": [],
   "source": [
    "# Agregar un elemento a una lista\n",
    "mi_lista = [1, 2, 3]\n",
    "mi_lista.append(4) # [1, 2, 3, 4]\n",
    "\n",
    "# Agregar un par clave-valor a un diccionario\n",
    "mi_dict = {\"nombre\": \"Juan\", \"edad\": 30}\n",
    "mi_dict[\"casado\"] = False # {\"nombre\": \"Juan\", \"edad\": 30, \"casado\": False}"
   ]
  },
  {
   "cell_type": "markdown",
   "metadata": {},
   "source": [
    "Además, es importante tener en cuenta que la elección del tipo de dato complejo adecuado depende del problema que se esté tratando de resolver. Por ejemplo, si se necesita una colección de elementos únicos se puede utilizar un conjunto, mientras que si se necesita una colección ordenada se puede utilizar una lista."
   ]
  },
  {
   "cell_type": "markdown",
   "metadata": {},
   "source": [
    "# FUNCIONES\n",
    "Las funciones en Python son bloques de código reutilizable que se pueden ejecutar varias veces en un programa. Se definen utilizando la palabra clave def, seguida del nombre de la función y los parámetros entre paréntesis. La sintaxis básica es la siguiente:"
   ]
  },
  {
   "cell_type": "code",
   "execution_count": null,
   "metadata": {},
   "outputs": [],
   "source": [
    "def nombre_funcion(parametro1, parametro2, ...):\n",
    "    # Código de la función\n",
    "    return resultado"
   ]
  },
  {
   "cell_type": "markdown",
   "metadata": {},
   "source": [
    "\n",
    "Donde nombre_funcion es el nombre que le damos a nuestra función, y parametro1, parametro2, etc. son los parámetros que la función recibe como entrada. La función puede procesar estos parámetros y devolver un resultado utilizando la palabra clave return.\n",
    "\n",
    "Existen varias funciones predefinidas en Python que son muy utilizadas, entre ellas:\n",
    "\n",
    "-  **print():** Imprime en la consola el valor de los argumentos que se le pasen.\n",
    "-  **input():** Espera que el usuario introduzca algún valor por teclado y devuelve una cadena de caracteres con dicho valor.\n",
    "-  **len():** Devuelve la longitud de una lista, tupla, conjunto, diccionario o cadena de caracteres.\n",
    "-  **range():** Genera una secuencia de números desde un valor inicial hasta un valor final (no incluido) con un paso determinado.\n",
    "-  **min() y max():** Devuelven el valor mínimo y máximo de una lista o tupla.\n",
    "-  **sum():** Devuelve la suma de los valores de una lista o tupla.\n",
    "\n",
    "También es posible crear nuestras propias funciones para resolver problemas específicos en nuestro programa. Por ejemplo, si necesitamos calcular la media aritmética de una lista de números podemos crear una función que haga esto por nosotros:"
   ]
  },
  {
   "cell_type": "code",
   "execution_count": null,
   "metadata": {},
   "outputs": [],
   "source": [
    "def calcular_media(lista):\n",
    "    suma = sum(lista)\n",
    "    media = suma / len(lista)\n",
    "    return media"
   ]
  },
  {
   "cell_type": "markdown",
   "metadata": {},
   "source": [
    "Esta función recibe como parámetro una lista de números, calcula la suma de todos los elementos, divide esta suma por la longitud de la lista y devuelve el resultado. Podemos llamar a esta función en cualquier parte de nuestro programa para obtener la media aritmética de cualquier lista de números que le pasemos como argumento.\n",
    "\n",
    "En resumen, las funciones son una herramienta poderosa en Python para modularizar y reutilizar el código, y para resolver problemas específicos de manera clara y concisa."
   ]
  },
  {
   "cell_type": "markdown",
   "metadata": {},
   "source": [
    "# FUNCIONES RECURSIVAS\n",
    "Las funciones recursivas son aquellas que se llaman a sí mismas para resolver un problema. Esto puede ser útil para resolver problemas que se pueden dividir en subproblemas más pequeños que son similares al problema original. En general, una función recursiva tiene dos partes: el caso base, que es el punto en el que la función deja de llamarse a sí misma y devuelve un valor, y el caso recursivo, que es donde la función se llama a sí misma para resolver un subproblema más pequeño. Es importante tener cuidado al usar funciones recursivas, ya que si no se define un caso base o si el caso base no se alcanza nunca, la función podría seguir llamándose a sí misma infinitamente, lo que se conoce como recursión infinita.\n",
    "\n",
    "Aquí hay un ejemplo sencillo de una función recursiva en Python que calcula el factorial de un número:"
   ]
  },
  {
   "cell_type": "code",
   "execution_count": null,
   "metadata": {},
   "outputs": [],
   "source": [
    "def factorial(n):\n",
    "    if n == 0:\n",
    "        return 1\n",
    "    else:\n",
    "        return n * factorial(n-1)"
   ]
  },
  {
   "cell_type": "markdown",
   "metadata": {},
   "source": [
    "En este caso, el caso base es cuando n es igual a cero, en cuyo caso la función devuelve 1. En el caso recursivo, la función se llama a sí misma con el argumento n-1, que es un subproblema más pequeño. La función se sigue llamando a sí misma con valores cada vez más pequeños de n hasta que se alcanza el caso base.\n",
    "\n",
    "Otro ejemplo de función recursiva es una función que calcule la serie de Fibonacci:"
   ]
  },
  {
   "cell_type": "code",
   "execution_count": null,
   "metadata": {},
   "outputs": [],
   "source": [
    "def fibonacci(n):\n",
    "    if n == 0 or n == 1:\n",
    "        return n\n",
    "    else:\n",
    "        return fibonacci(n-1) + fibonacci(n-2)"
   ]
  },
  {
   "cell_type": "markdown",
   "metadata": {},
   "source": [
    "En este caso, el caso base son los valores 0 y 1, que devuelven los valores 0 y 1, respectivamente. En el caso recursivo, la función se llama a sí misma con n-1 y n-2 como argumentos y devuelve la suma de estos dos valores.\n",
    "\n",
    "En resumen, las funciones recursivas pueden ser muy útiles para resolver problemas que se pueden dividir en subproblemas más pequeños. Sin embargo, es importante tener cuidado al usarlas y asegurarse de que se defina un caso base y de que la función eventualmente alcance este caso base."
   ]
  }
 ],
 "metadata": {
  "kernelspec": {
   "display_name": "Python 3 (ipykernel)",
   "language": "python",
   "name": "python3"
  },
  "language_info": {
   "codemirror_mode": {
    "name": "ipython",
    "version": 3
   },
   "file_extension": ".py",
   "mimetype": "text/x-python",
   "name": "python",
   "nbconvert_exporter": "python",
   "pygments_lexer": "ipython3",
   "version": "3.10.9"
  }
 },
 "nbformat": 4,
 "nbformat_minor": 2
}
