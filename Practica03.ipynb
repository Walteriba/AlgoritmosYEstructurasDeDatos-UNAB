{
 "cells": [
  {
   "attachments": {},
   "cell_type": "markdown",
   "metadata": {},
   "source": [
    "#  Ejercicios - Clase 03 - \n"
   ]
  },
  {
   "cell_type": "markdown",
   "metadata": {},
   "source": [
    "## Ejercicio 1\n",
    "\n",
    "Escribir un programa, que tome como entrada un *string* del usuario, el cuál debe ser impreso por pantalla en orden reverso. El programa también debe imprimir la palabra \"Bingo!\", si el string ingresado es *palíndromo*."
   ]
  },
  {
   "cell_type": "code",
   "execution_count": null,
   "metadata": {},
   "outputs": [],
   "source": [
    "string = input(\"Ingresa una palabra: \")\n",
    "\n",
    "# Imprimir la cadena al revés\n",
    "reverse_string = string[::-1]\n",
    "print(\"Al revés es:\", reverse_string)\n",
    "\n",
    "# Verificar si la cadena es palíndromo\n",
    "if string == reverse_string:\n",
    "    print(\"¡Bingo! Es palíndromo.\")"
   ]
  },
  {
   "cell_type": "markdown",
   "metadata": {},
   "source": [
    "## Ejercicio 2\n",
    "\n",
    "Escribir un algoritmo que muestrre por pantalla las tablas de multiplicacion, desde el 1 hasta el 9.\n"
   ]
  },
  {
   "cell_type": "code",
   "execution_count": null,
   "metadata": {
    "collapsed": true
   },
   "outputs": [],
   "source": [
    "for i in range(1, 10):    # Iterar desde 1 hasta 9\n",
    "    print(\"Tabla de multiplicación del\", i, \":\")\n",
    "    for j in range(1, 11):   # Iterar desde 1 hasta 10\n",
    "        print(i, \"x\", j, \"=\", i*j)\n",
    "    print()    # Imprimir una línea en blanco después de cada tabla de multiplicación"
   ]
  },
  {
   "cell_type": "markdown",
   "metadata": {},
   "source": [
    "## Ejercicio 3\n",
    "\n",
    "Dado un número de $2n + 1$ cifras, chequear si el mismo es palíndromo (capicúa).\n"
   ]
  },
  {
   "cell_type": "code",
   "execution_count": null,
   "metadata": {},
   "outputs": [],
   "source": [
    "num=int(input(\"Ingrese su numero de 3 cifras\"))\n",
    "a=num//100\n",
    "b=num%10\n",
    "if a==b:\n",
    "    print(\"Es Capicua\")\n",
    "else:\n",
    "    print(\"No es Capicua\")"
   ]
  },
  {
   "cell_type": "markdown",
   "metadata": {
    "collapsed": true
   },
   "source": [
    "## Ejercicio 4\n",
    "\n",
    "Diseñar un algoritmo que calcule la media de una serie de números positivos entrados por teclado. El ingreso de un valor igual a cero indicará el final del ingreso de datos.\n"
   ]
  },
  {
   "cell_type": "code",
   "execution_count": null,
   "metadata": {},
   "outputs": [],
   "source": [
    "suma = 0\n",
    "cantidad = 0\n",
    "\n",
    "while True:\n",
    "    num = float(input(\"Ingresa un número positivo (o cero para terminar): \"))\n",
    "    if num == 0:\n",
    "        break\n",
    "    elif num > 0:\n",
    "        suma += num\n",
    "        cantidad += 1\n",
    "\n",
    "if cantidad == 0:\n",
    "    print(\"No se ingresaron números positivos.\")\n",
    "else:\n",
    "    media = suma / cantidad\n",
    "    print(f\"La media de los números ingresados es: {media}\")\n",
    "\n",
    "#otra forma es con una lista, que es la que yo pense antes de que borrara todo el notebook\n",
    "\n",
    "numeros = []\n",
    "\n",
    "while True:\n",
    "    num = float(input(\"Ingresa un número positivo (o cero para terminar): \"))\n",
    "    if num == 0:\n",
    "        break\n",
    "    elif num > 0:\n",
    "        numeros.append(num)\n",
    "\n",
    "if len(numeros) == 0:\n",
    "    print(\"No se ingresaron números positivos.\")\n",
    "else:\n",
    "    media = sum(numeros) / len(numeros)\n",
    "    print(f\"La media de los números ingresados es: {media}\")"
   ]
  },
  {
   "cell_type": "markdown",
   "metadata": {
    "collapsed": true
   },
   "source": [
    "## Ejercicio 5\n",
    "\n",
    "Diseñar un algoritmo que calcula e imprime la suma de los números pares comprendidos entre 2 y 100.\n",
    "\n"
   ]
  },
  {
   "cell_type": "code",
   "execution_count": null,
   "metadata": {},
   "outputs": [],
   "source": [
    "pares=[]\n",
    "suma=0\n",
    "for x in range(2,102,2):\n",
    " pares.append(x)\n",
    "for i in pares:\n",
    "    suma+=i\n",
    "print(suma)    "
   ]
  },
  {
   "cell_type": "markdown",
   "metadata": {
    "collapsed": true
   },
   "source": [
    "## Ejercicio 6\n",
    "\n",
    "Diseñar un algoritmo que dado tres números, determinar si la suma de cualquier pareja de ellos es igual al tercer número. Si se cumple esta condición deberá imprimir la palabra ''iguales'', sino ''distintos''.\n"
   ]
  },
  {
   "cell_type": "code",
   "execution_count": null,
   "metadata": {},
   "outputs": [],
   "source": [
    "a=int(input(\"Ingrese A\"))\n",
    "b=int(input(\"Ingrese B\"))\n",
    "c=int(input(\"Ingrese C\"))\n",
    "if (a+b)==c or (a+c)==b or (c+b)==a:\n",
    "    print(\"Iguales\")\n",
    "else:\n",
    "    print(\"Distintos\")"
   ]
  },
  {
   "cell_type": "markdown",
   "metadata": {
    "collapsed": true
   },
   "source": [
    "## Ejercicio 7\n",
    "\n",
    "Diseñar un algoritmo que pida al usuario el ingreso de un horario, expresado en horas, minutos y segundos e indique la diferencia entre el horario ingresado y la hora actual en horas, minutos y segundos.\n"
   ]
  },
  {
   "cell_type": "code",
   "execution_count": null,
   "metadata": {},
   "outputs": [],
   "source": [
    "import datetime\n",
    "\n",
    "hora = int(input(\"Ingrese la hora: \"))\n",
    "minuto = int(input(\"Ingrese el minuto: \"))\n",
    "segundo = int(input(\"Ingrese el segundo: \"))\n",
    "\n",
    "hora_actual = datetime.datetime.now()\n",
    "hora_actual_horas = hora_actual.hour\n",
    "hora_actual_minutos = hora_actual.minute\n",
    "hora_actual_segundos = hora_actual.second\n",
    "\n",
    "diferencia_segundos = (hora - hora_actual_horas) * 3600 + (minuto - hora_actual_minutos) * 60 + (segundo - hora_actual_segundos) #esta operacion tiene que ver con el pasaje de unidades de tiempo\n",
    "\n",
    "diferencia_horas = diferencia_segundos // 3600\n",
    "diferencia_minutos = (diferencia_segundos % 3600) // 60\n",
    "diferencia_segundos = diferencia_segundos % 60\n",
    "\n",
    "print(f\"La diferencia es de {diferencia_horas} horas {diferencia_minutos} minutos y {diferencia_segundos} segundos.\")"
   ]
  },
  {
   "attachments": {},
   "cell_type": "markdown",
   "metadata": {
    "collapsed": true
   },
   "source": [
    "## Ejercicio 8\n",
    "\n",
    "Escribir las sentencias condicionales para calcular:\n",
    "\n",
    "- a) $ x =  x - 5 ~ \\textrm{ si } ~a > b $\n",
    "\n",
    "\n",
    "- b)  $ x = \\left\\{\n",
    "        \\begin{array}{l l}\n",
    "             -8 & \\textrm{si} ~a > b\\\\\n",
    "              1  & \\textrm{si} ~a <= b\\\\\n",
    "        \\end{array} \\right.\n",
    "        $\n",
    "\n",
    "        \n",
    "        \n",
    "- c) $  x = \\left\\{\n",
    "         \\begin{array}{l l}\n",
    "            1 & \\textrm{si} ~n > 5\\\\\n",
    "            0  & \\textrm{si} ~n = 5\\\\\n",
    "           -1  & \\textrm{si} ~n < 5\\\\\n",
    "         \\end{array} \\right.\n",
    "       $\n",
    "\n",
    "        \n",
    "        \n",
    "- d)   $ t = \\left\\{\n",
    "           \\begin{array}{l l}\n",
    "                1 & \\textrm{si} ~x > a\\\\\n",
    "                3 & \\textrm{si} ~a <= x <= b ~~~\\textrm{para}~a<b<c\\\\\n",
    "                5  & \\textrm{si} ~b < x <= c\\\\\n",
    "                -4  & \\textrm{si} ~c < x\\\\\n",
    "           \\end{array} \\right.\n",
    "        $\n"
   ]
  },
  {
   "cell_type": "code",
   "execution_count": null,
   "metadata": {},
   "outputs": [],
   "source": [
    "# es solo poner condiciones y imprimir x"
   ]
  },
  {
   "cell_type": "markdown",
   "metadata": {},
   "source": [
    "## Ejercicio  9\n",
    "\n",
    "Se necesita realizar un programa para asistir a un empleado de un Cine (o Teatro). El empleado esta encargado de enviar a las personas a la sala correcta. \n",
    "\n",
    "Una vez comprada la entrada la audiencia se dirige al empleado, el cual, en base al número que figura en la entrada (3 dígitos) los envía a la sala correspondiente. \n",
    "Si la entrada es par, el empleado los dirige a la Sala 1. Cuando la entrada es impar los dirige a la sala 2. \n",
    "\n",
    "Recientemente, por un error en la impresión de las entradas han salido muchas con el número $000$, en este caso el empleado debe comunicarle al usuario que se dirija a la administraci\\'on para obtener una nueva entrada.\n"
   ]
  },
  {
   "cell_type": "code",
   "execution_count": null,
   "metadata": {},
   "outputs": [],
   "source": [
    "codigo=int(input(\"Ingrese el numero de su entrada\"))\n",
    "if codigo==000:\n",
    "    print(\"Dirijase a administración por una nueva entrada\")\n",
    "elif codigo%2==0:\n",
    "    print(\"Dirijase a la sala 1\")\n",
    "else:\n",
    "    print(\"Dirijase a la sala 2\")\n",
    "    \n",
    "#ó donde pongo mas restricciones para el ingreso del codigo\n",
    "\n",
    "entrada = input(\"Ingrese el número de su entrada (3 dígitos): \")\n",
    "while len(entrada) != 3 or not entrada.isnumeric(): # .isnumeric entregara un resultado boleano verdadero si solo hay caracteres numericos en mi string\n",
    "    entrada = input(\"El número debe contener 3 cifras. Ingrese un número válido: \")\n",
    "\n",
    "if entrada == \"000\":\n",
    "    print(\"Lo siento, debe dirigirse a la administración para imprimir una nueva entrada.\")\n",
    "elif int(entrada) % 2 == 0:\n",
    "    print(\"Diríjase a la Sala 1.\")\n",
    "else:\n",
    "    print(\"Diríjase a la Sala 2.\")"
   ]
  },
  {
   "cell_type": "markdown",
   "metadata": {},
   "source": [
    "## Ejercicio 10\n",
    "\n",
    "Un empleado trabaja en la mesa de entradas de una organización. Le llegan expedientes de otras dependencias, los cuales debera depositar en $10$ buzones distintos dependiendo del \"codigo de expediente\" . \n",
    "\n",
    "Los expedientes están codificados con números de $1$ (uno) dígito. La forma de agrupación es la siguiente: los expedientes $0$ serán depositados en el buzón $A$, los $1$, serán depositados en el buzón $B$, y así sucesivamente hasta el buzón $J$.\n"
   ]
  },
  {
   "cell_type": "code",
   "execution_count": null,
   "metadata": {},
   "outputs": [],
   "source": [
    "#UTILIZANDO MUCHAS CONDICIONES\n",
    "\n",
    "codigo_expediente = input(\"Ingrese el codigo de expediente: \")\n",
    "\n",
    "if codigo_expediente == \"0\":\n",
    "    print(\"Depositar en el buzón A\")\n",
    "elif codigo_expediente == \"1\":\n",
    "    print(\"Depositar en el buzón B\")\n",
    "elif codigo_expediente == \"2\":\n",
    "    print(\"Depositar en el buzón C\")\n",
    "elif codigo_expediente == \"3\":\n",
    "    print(\"Depositar en el buzón D\")\n",
    "elif codigo_expediente == \"4\":\n",
    "    print(\"Depositar en el buzón E\")\n",
    "elif codigo_expediente == \"5\":\n",
    "    print(\"Depositar en el buzón F\")\n",
    "elif codigo_expediente == \"6\":\n",
    "    print(\"Depositar en el buzón G\")\n",
    "elif codigo_expediente == \"7\":\n",
    "    print(\"Depositar en el buzón H\")\n",
    "elif codigo_expediente == \"8\":\n",
    "    print(\"Depositar en el buzón I\")\n",
    "elif codigo_expediente == \"9\":\n",
    "    print(\"Depositar en el buzón J\")\n",
    "else:\n",
    "    print(\"El código de expediente ingresado no es válido.\")\n",
    "    \n",
    "# O CON UN DICCIONARIO DE LA SIGUIENTE FORMA\n",
    "\n",
    "# Creamos un diccionario que relaciona cada código de expediente con un buzón\n",
    "buzones = {\n",
    "    \"0\": \"A\",\n",
    "    \"1\": \"B\",\n",
    "    \"2\": \"C\",\n",
    "    \"3\": \"D\",\n",
    "    \"4\": \"E\",\n",
    "    \"5\": \"F\",\n",
    "    \"6\": \"G\",\n",
    "    \"7\": \"H\",\n",
    "    \"8\": \"I\",\n",
    "    \"9\": \"J\"\n",
    "}\n",
    "\n",
    "# Pedimos al usuario que ingrese el código de expediente\n",
    "codigo_expediente = input(\"Ingrese el código de expediente: \")\n",
    "\n",
    "# Verificamos si el código de expediente está en el diccionario\n",
    "if codigo_expediente in buzones:\n",
    "    buzón = buzones[codigo_expediente]\n",
    "    print(f\"Depositar en el buzón {buzón}\") # f hace más sencillo introducir variables y expresiones en las cadenas. Una cadena \"f\" contiene variables y expresiones entre llaves \"{}\" que se sustituyen directamente por su valor.\n",
    "else:\n",
    "    print(\"El código de expediente ingresado no es válido.\")"
   ]
  },
  {
   "cell_type": "markdown",
   "metadata": {
    "collapsed": true
   },
   "source": [
    "## Ejercicio 11\n",
    "\n",
    "Diseñar un algoritmo que pida el total de kilometros recorridos, el precio de la gasolina (por litro), el dinero de gasolina gastado en el viaje y el tiempo que se ha tardado (en horas y minutos) y que calcule:\n",
    "\n",
    "- a)    Consumo de gasolina (en litros y pesos) por cada 100 km.\n",
    "\n",
    "- b)    Consumo de gasolina (en litros y pesos) por cada km.\n",
    "    \n",
    "- c)    Velocidad media (en km/h y m/s).\n",
    "   "
   ]
  },
  {
   "cell_type": "code",
   "execution_count": null,
   "metadata": {},
   "outputs": [],
   "source": [
    "km_r=float(input(\"Ingrese kilometros recorridos\"))\n",
    "precioxl=float(input(\"Ingrese $/L\"))\n",
    "dinerogastado=float(input(\"Ingrese dinero gastado\"))\n",
    "hora=int(input(\"Ingrese hora\"))\n",
    "min=int(input(\"Ingrese minutos\"))\n",
    "\n",
    "#a)\n",
    "plata_100km=(dinerogastado/100)*km_r\n",
    "litros_100km=plata_100km/precioxl\n",
    "print(f\"a) Gaste $ {plata_100km} y Consumí {litros_100km} L en 100 km\")\n",
    "\n",
    "#b)\n",
    "print(f\"b) Gaste $ {plata_100km/100} y Consumí {litros_100km/100} L en 1 km\")\n",
    "\n",
    "#c)\n",
    "hora+= (min/60) #aca agrego los minutos al valor de hora\n",
    "print(f\"c) {km_r/hora} km/h = {km_r/hora/3.6} m/s\")"
   ]
  },
  {
   "attachments": {},
   "cell_type": "markdown",
   "metadata": {
    "collapsed": true
   },
   "source": [
    "## Ejercicio 12\n",
    "\n",
    "Escribir los algoritmos que permiten generar las siguientes salidas. \n",
    "\n",
    "**Nota:** en la siguiente salida el carácter '\\_' es un espacio en blanco.\n",
    "\n",
    "<img src=\"https://drive.google.com/uc?id=13aValu7WUP8KYvC9J4CkSeRtOklvGt3b\" />\n"
   ]
  },
  {
   "cell_type": "code",
   "execution_count": null,
   "metadata": {},
   "outputs": [],
   "source": [
    "def puntoa():\n",
    " a=0\n",
    " while a<5:\n",
    "    print(\"*****\")\n",
    "    a+=1\n",
    "\n",
    "def puntob():\n",
    " a=0\n",
    " b=\" \"\n",
    " c=1   \n",
    " while a<5:\n",
    "  print(b*c+\"*\")\n",
    "  a+=1\n",
    "  c+=1 \n",
    "\n",
    "def puntoc():\n",
    "    a=0\n",
    "    b=\" \"\n",
    "    c=4\n",
    "    d=1\n",
    "    while a<4:\n",
    "        print(c*b+\"*\"*d+c*b)\n",
    "        a+=1\n",
    "        c-=1\n",
    "        d+=2\n",
    "    print(b*4+\"*\"+b*4)\n",
    "\n",
    "puntoa()\n",
    "print()\n",
    "puntob()\n",
    "print()\n",
    "puntoc()"
   ]
  },
  {
   "cell_type": "markdown",
   "metadata": {},
   "source": [
    "## Ejercicio 13\n",
    "\n",
    "Desarrollar un algoritmo el cual dado un conjunto de números enteros, escribir aquellos que sean divisibles por $I$.\n"
   ]
  },
  {
   "cell_type": "code",
   "execution_count": null,
   "metadata": {},
   "outputs": [],
   "source": [
    "i=int(input(\"Ingrese su I\"))\n",
    "conjunto=set([10,8,22,15,77,90,285])\n",
    "for x in conjunto:\n",
    "    if x%i==0:\n",
    "        print(f\"{x} es divisible por {i}\")\n",
    "    else:\n",
    "        print(f\"{x} no es divisible por {i}\")"
   ]
  },
  {
   "cell_type": "markdown",
   "metadata": {},
   "source": [
    "## Ejercicio 14 \n",
    "\n",
    "Desarrolle un programa que se le ingrese una cierta cantidad de dinero (en pesos y entera) y devuelva la menor cantidad de billetes de 100, 50, 20, 10, 5, 2 y monedas de 1 posibles.\n"
   ]
  },
  {
   "cell_type": "code",
   "execution_count": null,
   "metadata": {},
   "outputs": [],
   "source": [
    "a=int(input(\"Ingrese su monto\"))\n",
    "b=a//100\n",
    "print(f\"Ingreso ${a} su cambio corresponde a:\")\n",
    "print(f\"{b} de $100\")\n",
    "c=(a-100*b)//50\n",
    "print(f\"{c} de $50\")\n",
    "d=(a-100*b-50*c)//20\n",
    "print(f\"{d} de $20\")\n",
    "e=(a-100*b-50*c-20*d)//10\n",
    "print(f\"{e} de $10\")\n",
    "f=(a-100*b-50*c-20*d-10*e)//5\n",
    "print(f\"{f} de $5\")\n",
    "g=(a-100*b-50*c-20*d-10*e-5*f)//2\n",
    "print(f\"{g} de $2\")\n",
    "h=(a-100*b-50*c-20*d-10*e-5*f-g*2)//1\n",
    "print(f\"{h} de $1\")"
   ]
  },
  {
   "cell_type": "markdown",
   "metadata": {},
   "source": [
    "## Ejercicio 15\n",
    "\n",
    "Desarrollar un programa que convierta una cantidad entera de segundos al formato \"HORAS:MINUTOS:SEGUNDOS\".\n"
   ]
  },
  {
   "cell_type": "code",
   "execution_count": null,
   "metadata": {},
   "outputs": [],
   "source": [
    "tiempo=int(input(\"Ingrese la cantidad de segundos\"))\n",
    "hora=tiempo//3600\n",
    "min=(tiempo-hora*3600)//60\n",
    "seg=(tiempo-hora*3600-min*60)\n",
    "print(f\"{hora} HORAS:{min} MINUTOS:{seg} SEGUNDOS\")"
   ]
  },
  {
   "cell_type": "markdown",
   "metadata": {},
   "source": [
    "## Ejercicio 16\n",
    "\n",
    "Desarrollar un programa que pida ingresar un número entero por teclado estrictamente mayor a 1 y devuelva su mayor divisor que sea distinto de el.\n",
    "    "
   ]
  },
  {
   "cell_type": "code",
   "execution_count": null,
   "metadata": {},
   "outputs": [],
   "source": [
    "n=int(input(\"Ingrese un numero mayor a 0\"))\n",
    "ln=[]\n",
    "if n>0:\n",
    " for x in range(1,n):\n",
    "    if n%x==0:\n",
    "        ln.append(x)\n",
    " print(f\"El mayor divisior de {n} distinto de si mismo es {max(ln)}\") # max() me retorna el valor mas grande del contenedor\n",
    "else:\n",
    "    print(\"Ingreso un numero menor a 0\")    "
   ]
  },
  {
   "cell_type": "markdown",
   "metadata": {},
   "source": [
    "## Ejercicio 17\n",
    "\n",
    "Desarrollar un programa que pida ingresar un número entero por teclado estrictamente mayor a 1 y devuelva todos los divisores de ese número.\n",
    "    "
   ]
  },
  {
   "cell_type": "code",
   "execution_count": null,
   "metadata": {},
   "outputs": [],
   "source": [
    "n=int(input(\"Ingrese un numero mayor a 0\"))\n",
    "ln=[]\n",
    "if n>0:\n",
    " for x in range(1,n+1):\n",
    "    if n%x==0:\n",
    "        ln.append(x)\n",
    " print(f\"El divisiores de {n} son {ln}\") \n",
    "else:\n",
    "    print(\"Ingreso un numero menor a 0\")"
   ]
  },
  {
   "cell_type": "markdown",
   "metadata": {},
   "source": [
    "## Ejercicio 18\n",
    "\n",
    "Desarrolle un programa que permita saber si un número ingresado por teclado es par (positivo y negativo) o impar (positivo y negativo).\n"
   ]
  },
  {
   "cell_type": "code",
   "execution_count": null,
   "metadata": {},
   "outputs": [],
   "source": [
    "n=int(input(\"Ingrese su número\"))\n",
    "if n>0:\n",
    "    if n%2==0:\n",
    "        print(\"positivo par\")\n",
    "    else:\n",
    "        print(\"positivo impar\")\n",
    "else:\n",
    "    if n%2==0:\n",
    "        print(\"negativo par\")\n",
    "    else:\n",
    "        print(\"negativo impar\")   "
   ]
  },
  {
   "cell_type": "markdown",
   "metadata": {},
   "source": [
    "## Ejercicio 19\n",
    "\n",
    "Desarrollar un algoritmo que diga si un número ingresado es abundante.\n",
    "\n",
    "**Nota:** usar Google o Wikipedia para saber que es un número abundante.\n"
   ]
  },
  {
   "cell_type": "code",
   "execution_count": null,
   "metadata": {},
   "outputs": [],
   "source": [
    "n=int(input(\"Ingrese un numero\"))\n",
    "ln=[]\n",
    "if n>0:\n",
    " for x in range(1,n):\n",
    "    if n%x==0:\n",
    "        ln.append(x)\n",
    " if sum(ln)>n:\n",
    "     print(f\"{n} es abundante\")\n",
    " else:\n",
    "    print(f\"{n} no es abundante\")   \n",
    "else:\n",
    "    print(\"Ingreso un numero menor a 0, por lo tanto no es abundante\")"
   ]
  },
  {
   "cell_type": "markdown",
   "metadata": {},
   "source": [
    "## Ejercicio 20\n",
    "\n",
    "Ídem anterior, pero para un conjunto de números de entrada. El algoritmo para cuando el número ingresado es igual a 0.\n"
   ]
  },
  {
   "cell_type": "code",
   "execution_count": null,
   "metadata": {},
   "outputs": [],
   "source": [
    "n=1\n",
    "ln=[]\n",
    "while True:\n",
    "  n=int(input(\"Ingrese su conjunto de numeros, para parar ingrese 0\"))\n",
    "  if n>0:\n",
    "    ln.append(n)\n",
    "  else:\n",
    "    break \n",
    "  \n",
    "  for i in ln:\n",
    "    ln2=[]\n",
    "    for x in range(1,i):\n",
    "      if i%x==0:\n",
    "        ln2.append(x) \n",
    "      \n",
    "  if sum(ln2)>i:\n",
    "    print(f\"{i} es abundante\")\n",
    "  else:\n",
    "    print(f\"{i} no es abundante\") \n",
    "        \n",
    " "
   ]
  },
  {
   "cell_type": "markdown",
   "metadata": {},
   "source": [
    "## Ejercicio 21\n",
    "\n",
    "  Desarrollar un algoritmo para, dado un número natural, determinar si es defectivo.\n",
    "  \n",
    "  **Nota:** usar Google o Wikipedia para saber que es un n\\'umero defectivo."
   ]
  },
  {
   "cell_type": "code",
   "execution_count": null,
   "metadata": {},
   "outputs": [],
   "source": [
    "n=int(input(\"Ingrese un numero\"))\n",
    "ln=[]\n",
    "if n>0:\n",
    " for x in range(1,n):\n",
    "    if n%x==0:\n",
    "        ln.append(x)\n",
    " if sum(ln)<n:\n",
    "     print(f\"{n} es deficiente\")\n",
    " else:\n",
    "    print(f\"{n} no es deficiente\")   \n",
    "else:\n",
    "    print(\"Ingreso un numero no natural\")"
   ]
  },
  {
   "cell_type": "markdown",
   "metadata": {},
   "source": [
    "## Ejercicio 22\n",
    "\n",
    "Desarrollar un algoritmo para encontrar los n\\'umeros perfectos entre 1 y $N$."
   ]
  },
  {
   "cell_type": "code",
   "execution_count": null,
   "metadata": {},
   "outputs": [],
   "source": [
    "n = int(input(\"Ingrese un número entero: \"))\n",
    "\n",
    "for num in range(1, n+1):\n",
    "    divisores = []\n",
    "\n",
    "    for i in range(1, num):\n",
    "        if num % i == 0:\n",
    "            divisores.append(i)\n",
    "\n",
    "    if sum(divisores) == num:\n",
    "        print(num, \"es un número perfecto.\")\n",
    "    \n"
   ]
  }
 ],
 "metadata": {
  "kernelspec": {
   "display_name": "Python 3",
   "language": "python",
   "name": "python3"
  },
  "language_info": {
   "codemirror_mode": {
    "name": "ipython",
    "version": 3
   },
   "file_extension": ".py",
   "mimetype": "text/x-python",
   "name": "python",
   "nbconvert_exporter": "python",
   "pygments_lexer": "ipython3",
   "version": "3.11.3"
  }
 },
 "nbformat": 4,
 "nbformat_minor": 2
}
