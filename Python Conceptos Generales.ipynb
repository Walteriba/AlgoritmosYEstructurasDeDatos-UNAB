{
 "cells": [
  {
   "attachments": {},
   "cell_type": "markdown",
   "metadata": {},
   "source": [
    "# INTRODUCCION A PYTHON"
   ]
  },
  {
   "attachments": {},
   "cell_type": "markdown",
   "metadata": {},
   "source": [
    "**Python** es un lenguaje de programación de alto nivel que se caracteriza por su sintaxis clara y legible. Es un lenguaje interpretado, lo que significa que no es necesario compilar el código antes de ejecutarlo.\n",
    "\n",
    "Python es utilizado en una amplia variedad de aplicaciones, desde el desarrollo de aplicaciones web y móviles, hasta el análisis de datos, la inteligencia artificial y el aprendizaje automático. Además, es uno de los lenguajes más populares en la comunidad de programación, lo que significa que hay una gran cantidad de recursos, tutoriales y bibliotecas disponibles en línea para ayudarte a aprender y hacer más fácil tu trabajo.\n",
    "\n",
    "Algunas de las características más notables de Python incluyen la capacidad de escribir código en pocas líneas, lo que lo hace ideal para prototipos rápidos y proyectos pequeños, así como la capacidad de manejar una gran cantidad de datos con facilidad y rapidez.\n",
    "\n",
    "En este curso de programación básica, te enseñaré los conceptos fundamentales de Python, desde la sintaxis básica hasta la creación de funciones y el uso de bibliotecas externas. **¡Empecemos!**"
   ]
  },
  {
   "attachments": {},
   "cell_type": "markdown",
   "metadata": {},
   "source": [
    "**Tipos de variables:**\n",
    "\n",
    "    **Numéricas:** representan números y pueden ser enteras (int), de punto flotante (float) o complejas (complex).\n",
    "    **Cadenas de caracteres:** representan texto y se definen utilizando comillas simples (') o dobles (\").\n",
    "    **Booleanas:** representan valores de verdad (True o False).\n",
    "\n",
    "**Tipos de sentencias:**\n",
    "\n",
    "    **Asignación:** se utiliza para asignar un valor a una variable utilizando el operador =. Por ejemplo, x = 10.\n",
    "    **Condicional:** se utiliza para ejecutar un bloque de código si se cumple una condición utilizando la sentencia if. También se pueden utilizar las sentencias elif y else para definir bloques de código adicionales.\n",
    "    **Bucle for:** se utiliza para iterar sobre una secuencia de elementos utilizando la sentencia for. Por ejemplo, for i in range(0, 10):.\n",
    "    **Bucle while:** se utiliza para ejecutar un bloque de código mientras se cumpla una condición utilizando la sentencia while. Por ejemplo, while x < 10:.\n",
    "\n",
    "**Tipos de datos:**\n",
    "\n",
    "    **Listas:** representan una colección ordenada de elementos y se definen utilizando corchetes []. Por ejemplo, numeros = [1, 2, 3, 4, 5].\n",
    "    **Tuplas:** son similares a las listas, pero son inmutables (no se pueden modificar una vez creadas) y se definen utilizando paréntesis (). Por ejemplo, coordenadas = (10, 20).\n",
    "    **Diccionarios:** representan una colección de elementos que se pueden acceder a través de claves y se definen utilizando llaves {}. Por ejemplo, persona = {'nombre': 'Juan', 'edad': 30}.\n",
    "    **Conjuntos:** representan una colección de elementos únicos y se definen utilizando la función set(). Por ejemplo, numeros = set([1, 2, 3, 4, 5]).\n",
    "\n",
    "**Tipos de iteraciones:**\n",
    "\n",
    "    **For:** se utiliza para iterar sobre una secuencia de elementos. Por ejemplo, for i in range(0, 10):.\n",
    "    **While:** se utiliza para ejecutar un bloque de código mientras se cumpla una condición. Por ejemplo, while x < 10:.\n",
    "    Comprensión de listas: se utiliza para crear una lista a partir de otra lista utilizando una sintaxis más concisa. Por ejemplo, [x * 2 for x in numeros].\n",
    "    **Iteradores:** se utilizan para iterar sobre elementos de manera más eficiente y con menos memoria. Por ejemplo, iterador = iter(numeros)."
   ]
  },
  {
   "cell_type": "code",
   "execution_count": null,
   "metadata": {},
   "outputs": [],
   "source": [
    "# Variables Numéricas:\n",
    "# Enteros\n",
    "edad = 25\n",
    "numero_de_hermanos = 2\n",
    "\n",
    "# Flotantes\n",
    "altura = 1.75\n",
    "peso = 72.5\n",
    "\n",
    "# Complejos\n",
    "complejo = 2 + 3j\n"
   ]
  },
  {
   "cell_type": "code",
   "execution_count": null,
   "metadata": {},
   "outputs": [],
   "source": [
    "# Variables de cadena de caracteres:\n",
    "nombre = \"Juan\"\n",
    "apellido = 'Pérez'\n",
    "direccion = \"Calle Falsa 123\"\n"
   ]
  },
  {
   "cell_type": "code",
   "execution_count": null,
   "metadata": {},
   "outputs": [],
   "source": [
    "# Variables booleanas:\n",
    "activo = True\n",
    "tiene_hijos = False\n"
   ]
  },
  {
   "attachments": {},
   "cell_type": "markdown",
   "metadata": {},
   "source": [
    "Recuerda que en Python, el tipo de variable se determina automáticamente según el valor asignado a ella. Por ejemplo, si le asignas el valor 5 a una variable, Python la reconocerá como una variable de tipo entero (int). Si le asignas el valor \"Juan\" a una variable, Python la reconocerá como una variable de tipo cadena de caracteres (str)."
   ]
  },
  {
   "attachments": {},
   "cell_type": "markdown",
   "metadata": {},
   "source": [
    "**Tipos de Sentencias:**"
   ]
  },
  {
   "cell_type": "code",
   "execution_count": null,
   "metadata": {},
   "outputs": [],
   "source": [
    "# Asignación de variables\n",
    "x = 5\n",
    "y = 10.5\n",
    "nombre = \"Juan\"\n",
    "activo = True\n"
   ]
  },
  {
   "cell_type": "code",
   "execution_count": null,
   "metadata": {},
   "outputs": [],
   "source": [
    "# Condicionales\n",
    "edad = 20\n",
    "if edad >= 18:\n",
    "    print(\"Eres mayor de edad\")\n",
    "else:\n",
    "    print(\"Eres menor de edad\")\n"
   ]
  },
  {
   "cell_type": "code",
   "execution_count": null,
   "metadata": {},
   "outputs": [],
   "source": [
    "# Bucle for\n",
    "numeros = [1, 2, 3, 4, 5]\n",
    "for numero in numeros:\n",
    "    print(numero)\n"
   ]
  },
  {
   "cell_type": "code",
   "execution_count": null,
   "metadata": {},
   "outputs": [],
   "source": [
    "# Bucle while\n",
    "contador = 0\n",
    "while contador < 5:\n",
    "    print(contador)\n",
    "    contador += 1\n"
   ]
  },
  {
   "attachments": {},
   "cell_type": "markdown",
   "metadata": {},
   "source": [
    "**Tipos de Datos**"
   ]
  },
  {
   "cell_type": "code",
   "execution_count": null,
   "metadata": {},
   "outputs": [],
   "source": [
    "# Numéricos\n",
    "# Enteros\n",
    "edad = 25\n",
    "numero_de_hermanos = 2\n",
    "\n",
    "# Flotantes\n",
    "altura = 1.75\n",
    "peso = 72.5\n",
    "\n",
    "# Complejos\n",
    "complejo = 2 + 3j\n"
   ]
  },
  {
   "cell_type": "code",
   "execution_count": null,
   "metadata": {},
   "outputs": [],
   "source": [
    "# Cadenas de caracteres\n",
    "nombre = \"Juan\"\n",
    "apellido = 'Pérez'\n",
    "direccion = \"Calle Falsa 123\"\n"
   ]
  },
  {
   "cell_type": "code",
   "execution_count": null,
   "metadata": {},
   "outputs": [],
   "source": [
    "# Booleanas\n",
    "activo = True\n",
    "tiene_hijos = False\n"
   ]
  },
  {
   "cell_type": "code",
   "execution_count": null,
   "metadata": {},
   "outputs": [],
   "source": [
    "# Listas\n",
    "numeros = [1, 2, 3, 4, 5]\n",
    "nombres = [\"Juan\", \"María\", \"Pedro\"]\n"
   ]
  },
  {
   "cell_type": "code",
   "execution_count": null,
   "metadata": {},
   "outputs": [],
   "source": [
    "# Conjuntos\n",
    "vocales = set(['a', 'e', 'i', 'o', 'u'])\n",
    "consonantes = set(['b', 'c', 'd', 'f', 'g'])\n"
   ]
  },
  {
   "cell_type": "code",
   "execution_count": null,
   "metadata": {},
   "outputs": [],
   "source": [
    "# Diccionarios\n",
    "persona = {'nombre': 'Juan', 'apellido': 'Pérez', 'edad': 25}\n",
    "punto = {'x': 3, 'y': 4}\n"
   ]
  },
  {
   "attachments": {},
   "cell_type": "markdown",
   "metadata": {},
   "source": [
    "**Iteraciones**"
   ]
  },
  {
   "cell_type": "code",
   "execution_count": null,
   "metadata": {},
   "outputs": [],
   "source": [
    "# Iteración con for\n",
    "numeros = [1, 2, 3, 4, 5]\n",
    "for numero in numeros:\n",
    "    print(numero)\n",
    "\n",
    "nombres = [\"Juan\", \"María\", \"Pedro\"]\n",
    "for nombre in nombres:\n",
    "    print(nombre)\n"
   ]
  },
  {
   "cell_type": "code",
   "execution_count": null,
   "metadata": {},
   "outputs": [],
   "source": [
    "# Iteración con while\n",
    "contador = 0\n",
    "while contador < 5:\n",
    "    print(contador)\n",
    "    contador += 1\n"
   ]
  },
  {
   "cell_type": "code",
   "execution_count": null,
   "metadata": {},
   "outputs": [],
   "source": [
    "# Iteración con range\n",
    "for numero in range(1, 6):\n",
    "    print(numero)\n"
   ]
  },
  {
   "cell_type": "code",
   "execution_count": null,
   "metadata": {},
   "outputs": [],
   "source": [
    "# Iteración con enumerate\n",
    "nombres = [\"Juan\", \"María\", \"Pedro\"]\n",
    "for indice, nombre in enumerate(nombres):\n",
    "    print(f\"El nombre en la posición {indice} es: {nombre}\")\n"
   ]
  },
  {
   "cell_type": "code",
   "execution_count": null,
   "metadata": {},
   "outputs": [],
   "source": [
    "# Iteración con zip\n",
    "nombres = [\"Juan\", \"María\", \"Pedro\"]\n",
    "edades = [25, 30, 20]\n",
    "for nombre, edad in zip(nombres, edades):\n",
    "    print(f\"{nombre} tiene {edad} años\")\n"
   ]
  },
  {
   "attachments": {},
   "cell_type": "markdown",
   "metadata": {},
   "source": [
    "Recuerda que cada tipo de iteración tiene su propia utilidad y se aplica en situaciones específicas. Es importante conocer todas estas formas de iterar para poder elegir la más adecuada para cada situación."
   ]
  },
  {
   "attachments": {},
   "cell_type": "markdown",
   "metadata": {},
   "source": [
    "## SIMPLES EJERCICIOS DE EJEMPLO:"
   ]
  },
  {
   "cell_type": "code",
   "execution_count": null,
   "metadata": {},
   "outputs": [],
   "source": [
    "# Ejercicio 1: Sumar dos números ingresados por el usuario\n",
    "# Solicitamos al usuario ingresar dos números\n",
    "num1 = float(input(\"Ingrese el primer número: \"))\n",
    "num2 = float(input(\"Ingrese el segundo número: \"))\n",
    "\n",
    "# Sumamos los dos números y guardamos el resultado en una variable\n",
    "resultado = num1 + num2\n",
    "\n",
    "# Imprimimos el resultado\n",
    "print(\"La suma de\", num1, \"y\", num2, \"es:\", resultado)\n"
   ]
  },
  {
   "cell_type": "code",
   "execution_count": null,
   "metadata": {},
   "outputs": [],
   "source": [
    "# Ejercicio 2: Calcular el área de un triángulo a partir de su base y altura\n",
    "# Solicitamos al usuario ingresar la base y altura del triángulo\n",
    "base = float(input(\"Ingrese la base del triángulo: \"))\n",
    "altura = float(input(\"Ingrese la altura del triángulo: \"))\n",
    "\n",
    "# Calculamos el área del triángulo y la guardamos en una variable\n",
    "area = (base * altura) / 2\n",
    "\n",
    "# Imprimimos el resultado\n",
    "print(\"El área del triángulo es:\", area)\n"
   ]
  },
  {
   "cell_type": "code",
   "execution_count": 1,
   "metadata": {},
   "outputs": [
    {
     "name": "stdout",
     "output_type": "stream",
     "text": [
      "2\n",
      "4\n",
      "6\n",
      "8\n",
      "10\n"
     ]
    }
   ],
   "source": [
    "# Ejercicio 3: Imprimir los números pares del 1 al 10\n",
    "# Utilizamos un bucle for para recorrer los números del 1 al 10\n",
    "for i in range(1, 11):\n",
    "    # Verificamos si el número es par utilizando el operador %\n",
    "    if i % 2 == 0:\n",
    "        # Imprimimos el número si es par\n",
    "        print(i)\n"
   ]
  },
  {
   "cell_type": "code",
   "execution_count": 2,
   "metadata": {},
   "outputs": [
    {
     "name": "stdout",
     "output_type": "stream",
     "text": [
      "La media de los números es: 5.4\n"
     ]
    }
   ],
   "source": [
    "# Ejercicio 4: Calcular la media de una lista de números\n",
    "# Definimos una lista de números\n",
    "numeros = [5, 7, 2, 10, 3]\n",
    "\n",
    "# Calculamos la suma de los números de la lista utilizando la función sum()\n",
    "suma = sum(numeros)\n",
    "\n",
    "# Calculamos la cantidad de números en la lista utilizando la función len()\n",
    "cantidad = len(numeros)\n",
    "\n",
    "# Calculamos la media dividiendo la suma por la cantidad de números\n",
    "media = suma / cantidad\n",
    "\n",
    "# Imprimimos el resultado\n",
    "print(\"La media de los números es:\", media)\n"
   ]
  },
  {
   "cell_type": "code",
   "execution_count": 1,
   "metadata": {},
   "outputs": [
    {
     "name": "stdout",
     "output_type": "stream",
     "text": [
      "El factorial del número es: 1\n"
     ]
    }
   ],
   "source": [
    "# Ejercicio 5: Calcular el factorial de un número\n",
    "# Solicitamos al usuario ingresar un número entero\n",
    "numero = int(input(\"Ingrese un número entero: \"))\n",
    "\n",
    "# Inicializamos una variable para guardar el resultado\n",
    "resultado = 1\n",
    "\n",
    "# Utilizamos un bucle while para calcular el factorial\n",
    "while numero > 0:\n",
    "    resultado *= numero\n",
    "    numero -= 1\n",
    "\n",
    "# Imprimimos el resultado\n",
    "print(\"El factorial del número es:\", resultado)\n"
   ]
  },
  {
   "cell_type": "code",
   "execution_count": 3,
   "metadata": {},
   "outputs": [
    {
     "name": "stdout",
     "output_type": "stream",
     "text": [
      "El número más grande en la lista es: 10\n"
     ]
    }
   ],
   "source": [
    "# Definimos una lista de números\n",
    "numeros = [5, 7, 2, 10, 3]\n",
    "\n",
    "# Inicializamos una variable para guardar el número más grande\n",
    "maximo = numeros[0]\n",
    "\n",
    "# Utilizamos un bucle for para recorrer los números de la lista\n",
    "for numero in numeros:\n",
    "    # Comparamos el número actual con el máximo\n",
    "    if numero > maximo:\n",
    "        maximo = numero\n",
    "\n",
    "# Imprimimos el resultado\n",
    "print(\"El número más grande en la lista es:\", maximo)\n"
   ]
  },
  {
   "cell_type": "code",
   "execution_count": 2,
   "metadata": {},
   "outputs": [
    {
     "name": "stdout",
     "output_type": "stream",
     "text": [
      "El número más grande en la lista es: 10\n"
     ]
    }
   ],
   "source": [
    "# Ejercicio 6: Encontrar el número más grande en una lista\n",
    "# Definimos una lista de números\n",
    "numeros = [5, 7, 2, 10, 3]\n",
    "\n",
    "# Inicializamos una variable para guardar el número más grande\n",
    "maximo = numeros[0]\n",
    "\n",
    "# Utilizamos un bucle for para recorrer los números de la lista\n",
    "for numero in numeros:\n",
    "    # Comparamos el número actual con el máximo\n",
    "    if numero > maximo:\n",
    "        maximo = numero\n",
    "\n",
    "# Imprimimos el resultado\n",
    "print(\"El número más grande en la lista es:\", maximo)\n"
   ]
  },
  {
   "attachments": {},
   "cell_type": "markdown",
   "metadata": {},
   "source": [
    "## EJERCICIOS UN POCO MÁS COMPLEJOS"
   ]
  },
  {
   "attachments": {},
   "cell_type": "markdown",
   "metadata": {},
   "source": [
    "**Ejercicio 1: Palíndromo**\n",
    "\n",
    "Escribe un programa que pida al usuario una palabra y verifique si es un palíndromo, es decir, si se lee igual de izquierda a derecha que de derecha a izquierda."
   ]
  },
  {
   "cell_type": "code",
   "execution_count": null,
   "metadata": {},
   "outputs": [],
   "source": [
    "palabra = input(\"Ingresa una palabra: \")\n",
    "\n",
    "if palabra == palabra[::-1]:\n",
    "    print(f\"{palabra} es un palíndromo\")\n",
    "else:\n",
    "    print(f\"{palabra} no es un palíndromo\")\n"
   ]
  },
  {
   "attachments": {},
   "cell_type": "markdown",
   "metadata": {},
   "source": [
    "**Ejercicio 2: Conversión de temperatura**\n",
    "\n",
    "Escribe un programa que convierta una temperatura en grados Celsius a grados Fahrenheit."
   ]
  },
  {
   "cell_type": "code",
   "execution_count": null,
   "metadata": {},
   "outputs": [],
   "source": [
    "celsius = float(input(\"Ingresa la temperatura en grados Celsius: \"))\n",
    "\n",
    "fahrenheit = (celsius * 9/5) + 32\n",
    "\n",
    "print(f\"{celsius} grados Celsius son {fahrenheit} grados Fahrenheit\")\n"
   ]
  },
  {
   "attachments": {},
   "cell_type": "markdown",
   "metadata": {},
   "source": [
    "**Ejercicio 3: Cálculo de promedio**\n",
    "\n",
    "Escribe un programa que pida al usuario una serie de números separados por comas y calcule su promedio."
   ]
  },
  {
   "cell_type": "code",
   "execution_count": null,
   "metadata": {},
   "outputs": [],
   "source": [
    "numeros = input(\"Ingresa una serie de números separados por comas: \")\n",
    "numeros_lista = numeros.split(\",\")\n",
    "numeros_float = [float(numero) for numero in numeros_lista]\n",
    "\n",
    "promedio = sum(numeros_float) / len(numeros_float)\n",
    "\n",
    "print(f\"El promedio de los números {numeros} es: {promedio}\")\n"
   ]
  },
  {
   "attachments": {},
   "cell_type": "markdown",
   "metadata": {},
   "source": [
    "**Ejercicio 4: Ordenar palabras alfabéticamente**\n",
    "\n",
    "Escribe un programa que pida al usuario una lista de palabras separadas por comas y las ordene alfabéticamente."
   ]
  },
  {
   "cell_type": "code",
   "execution_count": 3,
   "metadata": {},
   "outputs": [
    {
     "name": "stdout",
     "output_type": "stream",
     "text": [
      "Las palabras ordenadas alfabéticamente son: coca, pizza\n"
     ]
    }
   ],
   "source": [
    "palabras = input(\"Ingresa una lista de palabras separadas por comas: \")\n",
    "palabras_lista = palabras.split(\",\")\n",
    "palabras_ordenadas = sorted(palabras_lista)\n",
    "\n",
    "print(f\"Las palabras ordenadas alfabéticamente son: {', '.join(palabras_ordenadas)}\")\n"
   ]
  },
  {
   "attachments": {},
   "cell_type": "markdown",
   "metadata": {},
   "source": [
    "**Ejercicio 5: Generar un número aleatorio**\n",
    "\n",
    "Escribe un programa que genere un número aleatorio entre 1 y 100 y pida al usuario que adivine cuál es ese número. El programa debe dar pistas indicando si el número ingresado por el usuario es mayor o menor que el número generado."
   ]
  },
  {
   "cell_type": "code",
   "execution_count": null,
   "metadata": {},
   "outputs": [],
   "source": [
    "import random\n",
    "\n",
    "numero_aleatorio = random.randint(1, 100)\n",
    "\n",
    "while True:\n",
    "    numero_usuario = int(input(\"Adivina el número (entre 1 y 100): \"))\n",
    "    \n",
    "    if numero_usuario == numero_aleatorio:\n",
    "        print(\"¡Felicidades, has adivinado el número!\")\n",
    "        break\n",
    "    elif numero_usuario < numero_aleatorio:\n",
    "        print(\"El número ingresado es menor que el número generado\")\n",
    "    else:\n",
    "        print(\"El número ingresado es mayor que el número generado\")\n"
   ]
  },
  {
   "attachments": {},
   "cell_type": "markdown",
   "metadata": {},
   "source": [
    "**Ejercicio 6: Cifrado César**\n",
    "\n",
    "Escribe un programa que permita cifrar un mensaje usando el cifrado César. El programa debe pedir al usuario el mensaje a cifrar y el número de posiciones a desplazar. El mensaje cifrado debe ser mostrado en pantalla."
   ]
  },
  {
   "cell_type": "code",
   "execution_count": null,
   "metadata": {},
   "outputs": [],
   "source": [
    "alfabeto = \"abcdefghijklmnopqrstuvwxyz\"\n",
    "mensaje = input(\"Ingresa el mensaje a cifrar: \")\n",
    "desplazamiento = int(input(\"Ingresa el número de posiciones a desplazar: \"))\n",
    "mensaje_cifrado = \"\"\n",
    "\n",
    "for letra in mensaje:\n",
    "    if letra.lower() in alfabeto:\n",
    "        indice = alfabeto.index(letra.lower())\n",
    "        indice_cifrado = (indice + desplazamiento) % 26\n",
    "        if letra.isupper():\n",
    "            mensaje_cifrado += alfabeto[indice_cifrado].upper()\n",
    "        else:\n",
    "            mensaje_cifrado += alfabeto[indice_cifrado]\n",
    "    else:\n",
    "        mensaje_cifrado += letra\n",
    "\n",
    "print(f\"El mensaje cifrado es: {mensaje_cifrado}\")\n"
   ]
  },
  {
   "attachments": {},
   "cell_type": "markdown",
   "metadata": {},
   "source": [
    " ## Consejos para resolver ejercicios en Python:\n",
    "\n",
    "    **Divide y conquista:** Si el ejercicio parece muy difícil, intenta dividirlo en partes más pequeñas y tratar de resolver cada una de ellas por separado. Luego, une las partes para obtener la solución completa.\n",
    "\n",
    "    **Usa la documentación:** La documentación de Python es muy completa y puede ayudarte a entender mejor cómo funcionan las diferentes funciones y módulos. Puedes encontrar la documentación oficial de Python en el sitio web de Python.\n",
    "\n",
    "    **Busca en línea:** Si tienes problemas para resolver un ejercicio, es muy probable que alguien más haya tenido el mismo problema antes y haya publicado la solución en línea. Busca en sitios web de programación como Stack Overflow o en foros de programación.\n",
    "\n",
    "    **Prueba y error:** A veces la mejor manera de aprender es probando diferentes cosas y viendo qué funciona y qué no. No te rindas si tu primer intento no funciona, sigue probando y ajustando tu código hasta que obtengas el resultado deseado.\n",
    "\n",
    "## En cuanto a las referencias que pueden ser útiles para aprender más sobre Python, aquí te van algunas:\n",
    "\n",
    "    \"Python para todos\" de Charles Severance: un libro gratuito que proporciona una introducción amigable a Python.\n",
    "\n",
    "    La documentación oficial de Python: una fuente completa de información sobre el lenguaje de programación.\n",
    "\n",
    "    Real Python: un sitio web que ofrece tutoriales y artículos sobre Python para diferentes niveles de habilidad.\n",
    "\n",
    "    Programiz: un sitio web que proporciona tutoriales y ejercicios prácticos en Python."
   ]
  }
 ],
 "metadata": {
  "kernelspec": {
   "display_name": "Python 3",
   "language": "python",
   "name": "python3"
  },
  "language_info": {
   "codemirror_mode": {
    "name": "ipython",
    "version": 3
   },
   "file_extension": ".py",
   "mimetype": "text/x-python",
   "name": "python",
   "nbconvert_exporter": "python",
   "pygments_lexer": "ipython3",
   "version": "3.11.3"
  },
  "orig_nbformat": 4
 },
 "nbformat": 4,
 "nbformat_minor": 2
}
