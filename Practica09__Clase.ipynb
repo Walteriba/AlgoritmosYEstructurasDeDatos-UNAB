{
 "cells": [
  {
   "attachments": {},
   "cell_type": "markdown",
   "metadata": {},
   "source": [
    "#### Algoritmos y Estructuras de Datos. \n",
    "\n",
    "## - Clase 09 - Estructuras de Datos Lineales  -\n",
    "\n",
    "## Ejercicios en Clase"
   ]
  },
  {
   "attachments": {},
   "cell_type": "markdown",
   "metadata": {},
   "source": [
    "Pilas:\n",
    "\n",
    "Sea la siguiente especificación de la Pila:\n",
    "push (String elem) // Agrega elem a la pila\n",
    "pop // Elimina y devuelve el elemento en el tope de la pila.\n",
    "\n",
    "Completar la especificación de la Pila con las operaciones que considere necesarias. b) Implemente en JAVA la clase Pila de Strings de acuerdo a la especificación dada. c) Escriba una clase llamada TestPila para ejecutar el siguiente código:\n",
    "\n",
    "¿Qué valor se imprime? ¿Qué conclusión saca?\n",
    "e) Modifique la implementación del inciso b) utilizando la clase Lista (Ejercicio Opcional)"
   ]
  },
  {
   "cell_type": "code",
   "execution_count": null,
   "metadata": {},
   "outputs": [],
   "source": []
  },
  {
   "attachments": {},
   "cell_type": "markdown",
   "metadata": {},
   "source": [
    "Colas:\n",
    "\n",
    "Sea la siguiente especificación de Cola\n",
    "push (String elem) // Agrega elem a la cola.\n",
    "pop // Elimina y devuelve el primer elemento de la cola.\n",
    "a) Completar la especificación de la Cola con las operaciones que considere necesarias. b) Implemente en JAVA la clase Cola de Strings de acuerdo a la especificación dada."
   ]
  },
  {
   "cell_type": "code",
   "execution_count": null,
   "metadata": {},
   "outputs": [],
   "source": []
  },
  {
   "attachments": {},
   "cell_type": "markdown",
   "metadata": {},
   "source": [
    "Sea un polinomio P en una variable:\n",
    "\n",
    "Métodos:\n",
    "- addTerm (coeficiente, potencia)\n",
    "- derive(Polinomio) // Devuelve un polinomio que es la derivada del polinomio P.\n",
    "- subtract (Polinomio unPolinomio) return Polinomio // Devuelve un polinomio que es la resta entre P y unPolinomio.\n",
    "\n",
    "\n",
    "c) Modifique la implementación de la clase Polinomio, considerando que los términos NO están ordenados por sus grados.\n",
    "\n",
    "b) Testear -- #Implemente una clase TestPolinomio cuyo objetivo es crear tres polinomios: p1, p2 y p3. Derivar p1 y realizar (p2 – p3)\n"
   ]
  },
  {
   "cell_type": "code",
   "execution_count": 11,
   "metadata": {},
   "outputs": [],
   "source": []
  },
  {
   "cell_type": "code",
   "execution_count": null,
   "metadata": {},
   "outputs": [],
   "source": []
  },
  {
   "attachments": {},
   "cell_type": "markdown",
   "metadata": {},
   "source": [
    "Escribir un programa que, dado un número entero $k$, retorne el indice de la primer ocurrencia del número 1, en la secuencia de Siracusa generada con el parametro $k$. Es decir, la cantidad de pasos necesarios para que la serie converja a su punto fijo.  \n",
    "\n",
    "La secuencia de Siracusa: \\\\\n",
    "- El primer termino es $s_0=k$, y los terminos siguentes ($s_i$) se calculan con la siguiente formula: \n",
    " - (i) si el termino $k_i$ es par, dividimos por 2: $\\frac{k}{2}$;\n",
    " - (ii) si el termino $k_i$ es impar, multiplicamos por 3 y sumamos 1: $(3 k + 1)$. \\\\\n",
    "\n",
    "$s_{n+1} = \\left\\lbrace\\begin{array}{l} \\dfrac{s_{n}}{2}  &\\texttt{si } n \\texttt{ es par}\\\\\n",
    "3 s_{n} + 1  &\\texttt{si } n \\texttt{ es impar}\\end{array}\\right.$\n",
    "\n",
    "La secuencia para cuando obtenemos el numero $1$, ya que desde ese punto se repite. \n",
    "**Ejemplo:** para $k=1$, $k=2$, o $k=4$. La secuencia de Siracusa sera: [4, 2, 1]. \n",
    "\n"
   ]
  },
  {
   "cell_type": "code",
   "execution_count": null,
   "metadata": {},
   "outputs": [],
   "source": []
  }
 ],
 "metadata": {
  "kernelspec": {
   "display_name": "Python 3",
   "language": "python",
   "name": "python3"
  },
  "language_info": {
   "codemirror_mode": {
    "name": "ipython",
    "version": 3
   },
   "file_extension": ".py",
   "mimetype": "text/x-python",
   "name": "python",
   "nbconvert_exporter": "python",
   "pygments_lexer": "ipython3",
   "version": "3.8.3"
  }
 },
 "nbformat": 4,
 "nbformat_minor": 2
}
