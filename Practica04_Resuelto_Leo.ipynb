{
 "cells": [
  {
   "attachments": {},
   "cell_type": "markdown",
   "metadata": {
    "pycharm": {
     "metadata": false,
     "name": "#%% md\n"
    }
   },
   "source": [
    "#  Ejercicios - Clase 04 - "
   ]
  },
  {
   "attachments": {},
   "cell_type": "markdown",
   "metadata": {
    "pycharm": {
     "metadata": false,
     "name": "#%% md\n"
    }
   },
   "source": [
    "## Ejercicio 1:\n",
    "\n",
    "Qué parametros debemos pasarle al contructor `range`, para producir los valores 8, 6, 4, 2, 0, -2, -4, -6, -8?"
   ]
  },
  {
   "cell_type": "code",
   "execution_count": null,
   "metadata": {},
   "outputs": [],
   "source": [
    "for num in range(8, -10, -2):\n",
    "    print(num)\n",
    "    # realizar otras operaciones necesarias aquí"
   ]
  },
  {
   "attachments": {},
   "cell_type": "markdown",
   "metadata": {},
   "source": [
    "Para producir los valores 8, 6, 4, 2, 0, -2, -4, -6, -8 con el constructor range en Python, debemos pasarle los siguientes parámetros: range(8, -10, -2). El primer parámetro indica el valor inicial de la secuencia, el segundo parámetro indica el valor final de la secuencia (no incluido), y el tercer parámetro indica el tamaño del paso entre los valores de la secuencia. En este caso, el paso es de -2 para que la secuencia disminuya en lugar de aumentar."
   ]
  },
  {
   "attachments": {},
   "cell_type": "markdown",
   "metadata": {
    "pycharm": {}
   },
   "source": [
    "## Ejercicio 2:\n",
    "\n",
    "Generarar por comprención la siguiente lista [1, 2, 4, 8, 16, 32, 64, 128, 256]."
   ]
  },
  {
   "cell_type": "code",
   "execution_count": 2,
   "metadata": {},
   "outputs": [],
   "source": [
    "lista = [2**i for i in range(9)]"
   ]
  },
  {
   "attachments": {},
   "cell_type": "markdown",
   "metadata": {},
   "source": [
    "En esta expresión, 2**i eleva 2 a la potencia i, y range(9) genera los números del 0 al 8. Por lo tanto, la expresión [2**i for i in range(9)] genera una lista de 9 elementos, donde cada elemento es igual a 2 elevado a la potencia del índice del elemento. Esta lista resultante es [1][2][3].\n",
    "Podemos asignar esta lista a una variable llamada lista y luego imprimirla en la pantalla o realizar cualquier otra operación necesaria con ella. Aquí está el código completo:"
   ]
  },
  {
   "cell_type": "code",
   "execution_count": 1,
   "metadata": {},
   "outputs": [
    {
     "name": "stdout",
     "output_type": "stream",
     "text": [
      "[1, 2, 4, 8, 16, 32, 64, 128, 256]\n"
     ]
    }
   ],
   "source": [
    "lista = [2**i for i in range(9)]\n",
    "print(lista)\n",
    "# realizar otras operaciones necesarias con la lista aquí"
   ]
  },
  {
   "attachments": {},
   "cell_type": "markdown",
   "metadata": {
    "pycharm": {}
   },
   "source": [
    "## Ejercicio 3:\n",
    "\n",
    "\n",
    "Generarar por comprención la siguiente lista `[0, 2, 6, 12, 20, 30, 42, 56, 72, 90]`.\n",
    "\n",
    "La serie que genera dicha lista es:\n",
    "\n",
    "$ a_n = a_1 + \\sum_{n=1}^{n-1} 2n$\n",
    "\n",
    "($n >= 2$ y $a_1 = 0$)"
   ]
  },
  {
   "cell_type": "code",
   "execution_count": null,
   "metadata": {},
   "outputs": [],
   "source": [
    "lista = [i*(i+1) for i in range(10)]\n",
    "print(lista)\n",
    "# realizar otras operaciones necesarias con la lista aquí"
   ]
  },
  {
   "attachments": {},
   "cell_type": "markdown",
   "metadata": {},
   "source": [
    "En esta expresión, i*(i+1) es la fórmula que se utiliza para calcular cada elemento de la lista, y range(10) genera los números del 0 al 9. Por lo tanto, la expresión [i*(i+1) for i in range(10)] genera una lista de 10 elementos, donde cada elemento es igual al resultado de aplicar la fórmula i*(i+1) al índice del elemento. Esta lista resultante es [1].\n",
    "Podemos asignar esta lista a una variable llamada lista y luego imprimirla en la pantalla o realizar cualquier otra operación necesaria con ella. "
   ]
  },
  {
   "attachments": {},
   "cell_type": "markdown",
   "metadata": {
    "pycharm": {
     "metadata": false,
     "name": "#%% md\n"
    }
   },
   "source": [
    "## Ejercicio 4:\n",
    "\n",
    "Escribir un programa, que tome como entrada un *string* del usuario, el cuál debe ser impreso por pantalla en orden reverso. El programa también debe imprimir la palabra \"Bingo!\", si el string ingresado es *palíndromo*."
   ]
  },
  {
   "cell_type": "code",
   "execution_count": null,
   "metadata": {},
   "outputs": [],
   "source": [
    "palabra = input(\"Ingrese una palabra: \")\n",
    "\n",
    "# Imprimir la palabra en orden reverso\n",
    "print(\"La palabra en orden reverso es:\", palabra[::-1])\n",
    "\n",
    "# Verificar si la palabra es un palíndromo\n",
    "if palabra == palabra[::-1]:\n",
    "    print(\"Bingo! La palabra es un palíndromo.\")"
   ]
  },
  {
   "cell_type": "markdown",
   "metadata": {},
   "source": [
    "El programa solicita al usuario que ingrese una palabra y luego utiliza la sintaxis de rebanado de cadenas ([::-1]) para imprimir la palabra en orden reverso. Luego, el programa utiliza una sentencia condicional para verificar si la palabra es un palíndromo. Si la palabra es un palíndromo, el programa imprime en la pantalla \"Bingo! La palabra es un palíndromo.\".\n",
    "Note que este programa asume que la entrada del usuario es una palabra. Si se espera que el usuario ingrese una frase o un párrafo, se debe modificar el programa para manejar estos casos."
   ]
  },
  {
   "attachments": {},
   "cell_type": "markdown",
   "metadata": {},
   "source": [
    "## Ejercicio 5:\n",
    "\n",
    "El siguiente código, tener un lista *mess* creada aleatoriamente. Escribir un programa que ordene la lista. **Nota: NO utilizar las funciones provistas por Python**.  "
   ]
  },
  {
   "cell_type": "code",
   "execution_count": null,
   "metadata": {},
   "outputs": [],
   "source": [
    "#---------------Code---------------------#\n",
    "import random                           \n",
    "\n",
    "mess=[]\n",
    "N=1000\n",
    "for p in range(0,N):\n",
    "    mess.append(random.randrange(0,100000)) \n",
    "S=0 \n",
    "#----------------------------------------#"
   ]
  },
  {
   "cell_type": "code",
   "execution_count": 10,
   "metadata": {},
   "outputs": [
    {
     "name": "stdout",
     "output_type": "stream",
     "text": [
      "[63, 66, 193, 261, 392, 414, 458, 480, 513, 642, 660, 829, 1000, 1007, 1010, 1044, 1235, 1278, 1738, 1746, 1896, 2029, 2685, 2828, 2864, 2864, 2887, 3233, 3347, 3509, 3586, 3627, 3656, 3707, 4030, 4254, 4342, 4417, 4453, 4562, 4565, 4599, 4602, 4779, 4842, 4880, 5013, 5050, 5065, 5324, 5399, 5661, 5813, 5891, 5945, 6052, 6167, 6172, 6356, 6541, 6544, 6566, 6592, 6652, 6679, 6688, 6729, 6821, 6866, 7310, 7395, 7464, 7515, 7622, 7662, 7714, 7739, 7865, 8220, 8342, 8397, 8412, 8722, 9024, 9037, 9089, 9132, 9220, 9295, 9303, 9356, 9417, 9633, 9674, 9677, 9690, 9716, 10007, 10039, 10042, 10052, 10065, 10092, 10094, 10105, 10106, 10148, 10282, 10343, 10353, 10468, 10550, 10727, 10736, 10747, 10753, 10806, 10844, 10880, 10909, 11075, 11295, 11474, 11496, 11539, 11556, 11569, 11656, 11830, 11985, 12282, 12412, 12654, 12804, 12820, 12910, 12928, 12966, 13016, 13021, 13127, 13224, 13245, 13380, 13386, 13721, 13759, 13788, 13899, 13985, 14107, 14235, 14422, 14478, 14483, 14498, 14670, 14750, 14883, 14930, 15023, 15137, 15546, 15547, 15628, 15758, 15904, 15959, 16143, 16534, 16574, 16729, 17032, 17149, 17409, 17418, 17477, 17605, 17632, 17688, 18209, 18229, 18254, 18285, 18450, 18462, 18636, 18725, 18727, 18754, 18997, 18999, 19200, 19242, 19291, 19472, 19476, 19639, 19799, 19826, 20102, 20135, 20289, 20337, 20591, 20810, 20828, 21107, 21204, 21272, 21278, 21291, 21386, 21404, 21452, 21511, 21540, 21685, 21705, 21868, 22054, 22079, 22164, 22306, 22394, 22473, 22487, 22626, 22646, 22721, 22749, 22899, 23025, 23055, 23065, 23158, 23159, 23174, 23204, 23233, 23247, 23273, 23302, 23763, 23802, 23845, 24188, 24282, 24360, 24589, 24663, 24717, 24832, 24888, 24912, 24917, 25205, 25304, 25363, 25525, 25528, 25567, 25637, 25816, 25829, 25874, 25876, 25935, 25999, 26012, 26025, 26183, 26271, 26294, 26404, 26678, 26709, 26753, 26775, 26900, 26925, 26937, 26967, 26996, 27029, 27127, 27305, 27315, 27371, 27674, 27825, 27842, 27923, 27939, 27993, 28160, 28430, 28501, 28535, 28584, 28590, 28680, 28710, 28871, 28886, 28901, 29085, 29213, 29466, 29611, 29773, 29924, 30097, 30128, 30138, 30369, 30425, 30457, 30943, 30969, 31336, 31470, 31520, 32234, 32440, 32513, 32628, 32720, 32744, 32777, 33095, 33414, 33472, 33476, 33626, 33916, 34181, 34256, 34401, 34419, 34439, 34446, 34618, 34692, 34876, 35259, 35280, 35355, 35407, 35408, 35625, 35754, 35814, 35847, 36020, 36054, 36065, 36152, 36204, 36285, 36368, 36472, 36577, 36610, 36697, 36786, 36791, 36795, 36803, 36971, 37033, 37125, 37497, 37501, 37588, 37677, 37690, 37852, 37984, 37995, 38008, 38244, 38247, 38248, 38304, 38322, 38372, 38374, 38375, 38442, 38490, 38760, 38906, 39307, 39443, 39497, 39680, 39717, 39873, 40059, 40152, 40174, 40205, 40269, 40409, 40487, 40557, 40604, 40607, 40663, 40710, 41027, 41052, 41108, 41250, 41330, 41356, 41490, 41500, 41515, 41523, 41684, 41705, 41709, 41712, 41727, 41767, 41875, 41894, 41895, 42021, 42074, 42164, 42262, 42306, 42317, 42388, 42391, 42459, 42498, 42543, 42608, 42711, 42719, 42733, 42746, 42781, 42872, 43007, 43016, 43053, 43067, 43099, 43199, 43719, 43921, 43999, 44063, 44191, 44297, 44304, 44527, 44548, 44660, 44709, 44887, 44963, 44979, 45018, 45165, 45187, 45361, 45419, 45546, 45565, 45653, 45679, 45683, 45926, 45961, 46004, 46013, 46103, 46229, 46557, 46585, 46590, 46616, 46622, 46914, 46928, 46975, 47126, 47178, 47223, 47750, 47753, 47825, 47898, 47934, 47947, 48034, 48094, 48295, 48349, 48404, 48731, 49004, 49176, 49662, 49905, 49931, 50035, 50079, 50150, 50163, 50171, 50231, 50363, 50459, 50513, 50636, 50776, 50853, 50905, 50906, 51051, 51144, 51302, 51397, 51437, 51463, 51529, 51624, 51831, 51925, 51949, 52000, 52131, 52178, 52195, 52263, 52282, 52285, 52351, 52429, 52490, 52585, 52602, 52676, 52792, 52809, 52926, 52968, 53015, 53142, 53263, 53374, 53630, 53958, 54106, 54115, 54230, 54347, 54425, 54428, 54624, 54653, 54661, 54729, 55047, 55193, 55612, 55840, 55886, 55897, 55912, 55920, 55942, 55955, 56151, 56259, 56423, 56825, 56908, 56912, 56968, 57205, 57217, 57333, 57389, 57494, 57617, 57980, 58021, 58586, 58591, 58704, 58746, 58797, 58889, 58957, 59040, 59133, 59379, 59543, 59696, 59815, 59947, 60031, 60053, 60086, 60089, 60184, 60353, 60408, 60837, 60842, 60953, 61102, 61221, 61428, 61468, 61544, 61797, 62013, 62048, 62112, 62125, 62273, 62302, 62317, 62365, 62449, 62476, 62506, 62697, 62741, 62774, 62793, 62822, 62865, 62924, 63352, 63512, 63536, 63778, 63815, 63896, 64085, 64345, 64364, 64516, 64647, 64708, 64891, 64908, 65008, 65342, 65653, 65757, 65832, 65937, 66129, 66273, 66435, 66594, 66649, 66828, 66952, 67833, 67867, 67941, 68082, 68157, 68198, 68209, 68217, 68360, 68369, 68424, 68462, 68464, 68499, 68512, 68563, 68691, 68744, 68844, 68849, 68901, 68909, 68997, 69015, 69065, 69084, 69159, 69308, 69645, 69704, 69751, 69784, 70090, 70110, 70278, 70589, 70772, 70806, 71024, 71174, 71218, 71219, 71250, 71485, 71557, 71733, 71804, 72023, 72043, 72332, 72372, 72412, 72440, 72450, 72495, 72538, 72581, 72590, 73164, 73248, 73300, 73374, 73635, 73739, 73745, 73839, 73905, 73949, 74270, 74357, 74403, 74423, 74541, 74705, 74718, 74756, 74862, 74905, 74927, 75044, 75048, 75063, 75150, 75225, 75226, 75303, 75322, 75409, 75450, 75540, 75762, 76000, 76148, 76254, 76304, 76509, 76522, 76722, 76741, 76895, 76906, 76944, 77036, 77047, 77047, 77213, 77262, 77294, 77471, 77477, 77509, 77641, 77688, 77698, 77927, 78112, 78241, 78373, 78417, 78644, 78752, 79040, 79071, 79227, 79308, 79348, 79385, 79426, 79614, 79744, 79761, 79817, 79822, 80001, 80093, 80187, 80218, 80256, 80356, 80435, 80437, 80470, 80493, 80589, 80750, 80760, 80795, 80882, 81142, 81204, 81209, 81255, 81387, 81434, 81447, 81656, 81670, 81683, 81772, 81804, 81809, 81845, 81850, 81850, 82104, 82339, 82398, 82594, 82623, 82658, 82726, 82751, 82795, 83058, 83076, 83077, 83099, 83145, 83197, 83263, 83317, 83522, 83607, 83621, 83714, 83760, 83851, 83930, 84065, 84156, 84232, 84300, 84306, 84387, 84447, 84514, 84726, 84893, 85004, 85467, 85489, 85504, 85537, 85643, 85888, 85916, 85922, 86344, 86476, 86648, 86667, 86704, 86895, 86946, 87011, 87091, 87117, 87225, 87491, 87638, 87775, 87825, 87861, 88167, 88354, 88377, 88386, 88469, 88479, 88592, 88598, 88621, 88645, 88669, 88700, 89029, 89058, 89345, 89531, 89565, 89693, 89799, 90304, 90402, 90436, 90453, 90550, 90590, 90613, 90806, 90811, 90851, 90987, 91471, 91471, 91645, 91858, 91901, 92232, 92263, 92312, 92339, 93001, 93153, 93259, 93278, 93342, 93346, 93411, 93448, 93603, 93661, 93721, 93815, 93921, 93921, 94051, 94153, 94184, 94191, 94459, 94460, 94546, 94880, 94918, 94938, 95167, 95246, 95395, 95452, 95988, 96323, 96567, 96643, 96648, 96651, 96701, 96873, 96905, 96925, 96932, 97110, 97142, 97150, 97242, 97460, 97878, 97951, 97970, 97985, 98057, 98163, 98198, 98316, 98460, 98612, 98714, 99124, 99141, 99207, 99250, 99290, 99311, 99369, 99417, 99436, 99485, 99641, 99699, 99887]\n"
     ]
    }
   ],
   "source": [
    "import random\n",
    "\n",
    "mess = []\n",
    "N = 1000\n",
    "\n",
    "for p in range(0, N):\n",
    "    mess.append(random.randrange(0, 100000))\n",
    "\n",
    "# Ordenar la lista sin utilizar las funciones provistas por Python\n",
    "for i in range(len(mess)):\n",
    "    for j in range(i+1, len(mess)):\n",
    "        if mess[i] > mess[j]:\n",
    "            temp = mess[i]\n",
    "            mess[i] = mess[j]\n",
    "            mess[j] = temp\n",
    "\n",
    "print(mess)"
   ]
  },
  {
   "attachments": {},
   "cell_type": "markdown",
   "metadata": {},
   "source": [
    "El programa comienza importando el módulo random y creando una lista llamada mess con 1000 números aleatorios. Luego, el programa utiliza dos bucles for anidados para ordenar la lista sin utilizar las funciones provistas por Python. En cada iteración, el programa compara dos elementos adyacentes de la lista y los intercambia si están en el orden incorrecto. Este proceso se repite hasta que la lista esté completamente ordenada.\n",
    "Finalmente, el programa imprime la lista ordenada en la pantalla."
   ]
  },
  {
   "attachments": {},
   "cell_type": "markdown",
   "metadata": {},
   "source": [
    "## Ejercicio 6: \n",
    "\n",
    "Escribir un programa que dada una frase (en forma de string) retorne la misma frase, pero con la puntuación removida. Ejemplo: dada la frase *'Hola, buen día.'*, el resultado debe ser *'Hola buen dia'*. \n"
   ]
  },
  {
   "cell_type": "code",
   "execution_count": 15,
   "metadata": {},
   "outputs": [
    {
     "name": "stdout",
     "output_type": "stream",
     "text": [
      "Hola buen día\n"
     ]
    }
   ],
   "source": [
    "import string\n",
    "\n",
    "def remover_puntuacion(frase):\n",
    "    # Crear una cadena de caracteres que contenga todos los signos de puntuación\n",
    "    puntuacion = string.punctuation\n",
    "\n",
    "    # Crear una nueva cadena de caracteres que contenga la frase sin puntuación\n",
    "    nueva_frase = \"\"\n",
    "    for caracter in frase:\n",
    "        if caracter not in puntuacion:\n",
    "            nueva_frase += caracter\n",
    "\n",
    "    return nueva_frase\n",
    "\n",
    "# Ejemplo de uso\n",
    "frase = \"Hola, buen día.\"\n",
    "frase_sin_puntuacion = remover_puntuacion(frase)\n",
    "print(frase_sin_puntuacion)"
   ]
  },
  {
   "attachments": {},
   "cell_type": "markdown",
   "metadata": {},
   "source": [
    "El programa comienza importando el módulo string. Luego, define una función llamada remover_puntuacion que toma una frase como argumento y devuelve la misma frase sin puntuación. La función crea una cadena de caracteres que contiene todos los signos de puntuación utilizando string.punctuation. Luego, crea una nueva cadena de caracteres que contiene la frase sin puntuación utilizando un bucle for para iterar sobre cada caracter de la frase y agregarlo a la nueva cadena de caracteres solo si no es un signo de puntuación.\n",
    "Finalmente, el programa utiliza la función remover_puntuacion para eliminar la puntuación de una frase de ejemplo y luego imprime la frase sin puntuación en la pantalla."
   ]
  },
  {
   "attachments": {},
   "cell_type": "markdown",
   "metadata": {},
   "source": [
    "## Ejercicio 7: \n",
    "\n",
    "Escribir un programa que tome un número entero `n` y calcule la suma de todos cuadrados de los números menores que `n`."
   ]
  },
  {
   "cell_type": "code",
   "execution_count": 14,
   "metadata": {},
   "outputs": [
    {
     "name": "stdout",
     "output_type": "stream",
     "text": [
      "La suma de los cuadrados de los números menores que 5 es 30\n"
     ]
    }
   ],
   "source": [
    "def suma_cuadrados(n):\n",
    "    suma = 0\n",
    "    for i in range(n):\n",
    "        suma += i**2\n",
    "    return suma\n",
    "\n",
    "# Ejemplo de uso\n",
    "n = 5\n",
    "suma = suma_cuadrados(n)\n",
    "print(\"La suma de los cuadrados de los números menores que\", n, \"es\", suma)"
   ]
  },
  {
   "attachments": {},
   "cell_type": "markdown",
   "metadata": {},
   "source": [
    "El programa define una función llamada suma_cuadrados que toma un número entero n como argumento y devuelve la suma de todos los cuadrados de los números menores que n. La función utiliza un bucle for para iterar sobre todos los números menores que n y agregar el cuadrado de cada número a una variable de suma.\n",
    "Finalmente, el programa utiliza la función suma_cuadrados para calcular la suma de los cuadrados de los números menores que 5 y luego imprime el resultado en la pantalla."
   ]
  }
 ],
 "metadata": {
  "kernelspec": {
   "display_name": "Python 3",
   "language": "python",
   "name": "python3"
  },
  "language_info": {
   "codemirror_mode": {
    "name": "ipython",
    "version": 3
   },
   "file_extension": ".py",
   "mimetype": "text/x-python",
   "name": "python",
   "nbconvert_exporter": "python",
   "pygments_lexer": "ipython3",
   "version": "3.11.3"
  },
  "pycharm": {
   "stem_cell": {
    "cell_type": "raw",
    "metadata": {
     "collapsed": false
    },
    "source": []
   }
  },
  "stem_cell": {
   "cell_type": "raw",
   "metadata": {
    "pycharm": {
     "metadata": false
    }
   },
   "source": ""
  }
 },
 "nbformat": 4,
 "nbformat_minor": 1
}
