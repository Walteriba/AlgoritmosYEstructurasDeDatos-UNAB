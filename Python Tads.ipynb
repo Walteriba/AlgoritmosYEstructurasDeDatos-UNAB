{
 "cells": [
  {
   "cell_type": "markdown",
   "metadata": {},
   "source": [
    "# TADs\n",
    "Los tipos de datos abstractos son estructuras de datos que definen un conjunto de operaciones y restricciones para manipular los datos, sin especificar cómo se implementan internamente. Estos tipos de datos permiten abstraer la complejidad de los datos y enfocarse en las operaciones que se pueden realizar sobre ellos. En la vida real, un ejemplo de un tipo de dato abstracto es una lista de compras. La lista de compras es una estructura que tiene ciertas operaciones (agregar un elemento, eliminar un elemento, verificar si un elemento está en la lista, etc.), pero no importa cómo se almacenen los elementos de la lista o cómo se implementen estas operaciones.\n",
    "> En Python, los tipos de datos abstractos se pueden implementar utilizando clases y objetos. Aquí hay algunas explicaciones extendidas de cómo implementar los tipos de datos nodos, lista enlazada, pila y cola en Python:\n",
    ">> Nodo: Un nodo es un elemento básico en una estructura de datos enlazada, que contiene un valor y una referencia al siguiente nodo en la lista. En Python, se puede implementar un nodo como una clase que tiene dos atributos: valor y siguiente. El atributo valor almacena el valor del nodo, mientras que el atributo siguiente es una referencia al siguiente nodo en la lista. Por ejemplo:"
   ]
  },
  {
   "cell_type": "code",
   "execution_count": null,
   "metadata": {},
   "outputs": [],
   "source": [
    "class Nodo:\n",
    "    def __init__(self, valor):\n",
    "        self.valor = valor\n",
    "        self.siguiente = None"
   ]
  },
  {
   "cell_type": "markdown",
   "metadata": {},
   "source": [
    ">> Lista enlazada: Una lista enlazada es una estructura de datos en la que los elementos están conectados por nodos, donde cada nodo tiene una referencia al siguiente nodo en la lista. En Python, se puede implementar una lista enlazada como una clase que tiene un atributo cabeza, que es una referencia al primer nodo en la lista. La lista enlazada también tiene varias operaciones, como agregar un elemento al final de la lista, eliminar un elemento de la lista y buscar un elemento en la lista. Por ejemplo:"
   ]
  },
  {
   "cell_type": "code",
   "execution_count": null,
   "metadata": {},
   "outputs": [],
   "source": [
    "class ListaEnlazada:\n",
    "    def __init__(self):\n",
    "        self.cabeza = None\n",
    "\n",
    "    def agregar(self, valor):\n",
    "        nuevo_nodo = Nodo(valor)\n",
    "        if self.cabeza is None:\n",
    "            self.cabeza = nuevo_nodo\n",
    "        else:\n",
    "            nodo_actual = self.cabeza\n",
    "            while nodo_actual.siguiente is not None:\n",
    "                nodo_actual = nodo_actual.siguiente\n",
    "            nodo_actual.siguiente = nuevo_nodo\n",
    "\n",
    "    def eliminar(self, valor):\n",
    "        if self.cabeza is None:\n",
    "            return\n",
    "        if self.cabeza.valor == valor:\n",
    "            self.cabeza = self.cabeza.siguiente\n",
    "            return\n",
    "        nodo_actual = self.cabeza\n",
    "        while nodo_actual.siguiente is not None:\n",
    "            if nodo_actual.siguiente.valor == valor:\n",
    "                nodo_actual.siguiente = nodo_actual.siguiente.siguiente\n",
    "                return\n",
    "            nodo_actual = nodo_actual.siguiente\n",
    "\n",
    "    def buscar(self, valor):\n",
    "        nodo_actual = self.cabeza\n",
    "        while nodo_actual is not None:\n",
    "            if nodo_actual.valor == valor:\n",
    "                return True\n",
    "            nodo_actual = nodo_actual.siguiente\n",
    "        return False"
   ]
  },
  {
   "cell_type": "markdown",
   "metadata": {},
   "source": [
    ">> Pila: Una pila es una estructura de datos en la que los elementos se agregan y se eliminan por el mismo extremo, llamado la cima de la pila. En Python, se puede implementar una pila como una clase que tiene un atributo cima, que es una referencia al último elemento agregado a la pila. La pila también tiene varias operaciones, como agregar un elemento a la cima de la pila, eliminar el elemento de la cima de la pila y verificar si la pila está vacía. Por ejemplo:"
   ]
  },
  {
   "cell_type": "code",
   "execution_count": null,
   "metadata": {},
   "outputs": [],
   "source": [
    "class Pila:\n",
    "    def __init__(self):\n",
    "        self.cima = None\n",
    "\n",
    "    def agregar(self, valor):\n",
    "        nuevo_nodo = Nodo(valor)\n",
    "        nuevo_nodo.siguiente = self.cima\n",
    "        self.cima = nuevo_nodo\n",
    "\n",
    "    def eliminar(self):\n",
    "        if self.cima is None:\n",
    "            return None\n",
    "        valor = self.cima.valor\n",
    "        self.cima = self.cima.siguiente\n",
    "        return valor\n",
    "\n",
    "    def esta_vacia(self):\n",
    "        return self.cima is None"
   ]
  },
  {
   "cell_type": "markdown",
   "metadata": {},
   "source": [
    ">> Cola: Una cola es una estructura de datos en la que los elementos se agregan por un extremo y se eliminan por el otro extremo, llamado la cola de la cola. En Python, se puede implementar una cola como una clase que tiene dos atributos: cabeza y cola, que son referencias al primer y último elemento de la cola, respectivamente. La cola también tiene varias operaciones, como agregar un elemento a la cola, eliminar el elemento de la cabeza de la cola y verificar si la cola está vacía. Por ejemplo:"
   ]
  },
  {
   "cell_type": "code",
   "execution_count": null,
   "metadata": {},
   "outputs": [],
   "source": [
    "class Cola:\n",
    "    def __init__(self):\n",
    "        self.cabeza = None\n",
    "        self.cola = None\n",
    "\n",
    "    def agregar(self, valor):\n",
    "        nuevo_nodo = Nodo(valor)\n",
    "        if self.cabeza is None:\n",
    "            self.cabeza = nuevo_nodo\n",
    "            self.cola = nuevo_nodo\n",
    "        else:\n",
    "            self.cola.siguiente = nuevo_nodo\n",
    "            self.cola = nuevo_nodo\n",
    "\n",
    "    def eliminar(self):\n",
    "        if self.cabeza is None:\n",
    "            return None\n",
    "        valor = self.cabeza.valor\n",
    "        self.cabeza = self.cabeza.siguiente\n",
    "        if self.cabeza is None:\n",
    "            self.cola = None\n",
    "        return valor\n",
    "\n",
    "    def esta_vacia(self):\n",
    "        return self.cabeza is None"
   ]
  },
  {
   "cell_type": "markdown",
   "metadata": {},
   "source": [
    "-----------------------------------------------------------------------"
   ]
  }
 ],
 "metadata": {
  "kernelspec": {
   "display_name": "Python 3 (ipykernel)",
   "language": "python",
   "name": "python3"
  },
  "language_info": {
   "codemirror_mode": {
    "name": "ipython",
    "version": 3
   },
   "file_extension": ".py",
   "mimetype": "text/x-python",
   "name": "python",
   "nbconvert_exporter": "python",
   "pygments_lexer": "ipython3",
   "version": "3.10.9"
  }
 },
 "nbformat": 4,
 "nbformat_minor": 2
}
