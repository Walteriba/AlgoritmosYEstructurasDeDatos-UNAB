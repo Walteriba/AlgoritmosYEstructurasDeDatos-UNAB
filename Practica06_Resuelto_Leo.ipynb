{
 "cells": [
  {
   "attachments": {},
   "cell_type": "markdown",
   "metadata": {
    "pycharm": {}
   },
   "source": [
    "# Ejercicios - Clase 06 -"
   ]
  },
  {
   "cell_type": "markdown",
   "metadata": {
    "pycharm": {}
   },
   "source": [
    "## Ejercicios"
   ]
  },
  {
   "attachments": {},
   "cell_type": "markdown",
   "metadata": {},
   "source": [
    "### Ej. 1:\n",
    "\n",
    "Definir la clase <code>Punto</code>. Sus *atributos* serán las coodenadas en `x` e `y` del plano cartesiano. Un <code>Punto</code> reconoce las siguientes *operaciones (métodos)*: \n",
    "- <code>distancia(p1, p2)</code>: distancia entre los puntos (devuleve un número)\n",
    "- <code>resta(p1, p2)</code>: resultado de la resta de dos puntos (devuelve un punto)      \n",
    "- <code>norma(p)</code>: módulo del vector desde el origen hacia el punto `p` "
   ]
  },
  {
   "cell_type": "code",
   "execution_count": null,
   "metadata": {},
   "outputs": [],
   "source": [
    "import math\n",
    "\n",
    "class Punto:\n",
    "    def __init__(self, x, y):\n",
    "        self.x = x\n",
    "        self.y = y\n",
    "    \n",
    "    def distancia(self, otro_punto):\n",
    "        return math.sqrt((otro_punto.x - self.x) ** 2 + (otro_punto.y - self.y) ** 2)\n",
    "    \n",
    "    def resta(self, otro_punto):\n",
    "        return Punto(self.x - otro_punto.x, self.y - otro_punto.y)\n",
    "    \n",
    "    def norma(self):\n",
    "        return math.sqrt(self.x ** 2 + self.y ** 2)"
   ]
  },
  {
   "attachments": {},
   "cell_type": "markdown",
   "metadata": {},
   "source": [
    "La clase Punto tiene dos atributos, x e y, que representan las coordenadas en el plano cartesiano. La clase también tiene tres métodos:\n",
    "- distancia(p1, p2): calcula la distancia entre dos puntos p1 y p2 utilizando la fórmula de la distancia euclidiana.\n",
    "- resta(p1, p2): calcula la resta de dos puntos p1 y p2 y devuelve un nuevo punto con las coordenadas resultantes.\n",
    "- norma(p): calcula la norma del vector desde el origen hasta el punto p utilizando la fórmula de la distancia euclidiana.\n",
    "Para calcular la distancia entre dos puntos, se utiliza la fórmula de la distancia euclidiana, que es la raíz cuadrada de la suma de los cuadrados de las diferencias entre las coordenadas x e y de los dos puntos. Para calcular la resta de dos puntos, se crea un nuevo punto con las coordenadas resultantes de la resta de las coordenadas x e y de los dos puntos. Para calcular la norma de un punto, se utiliza la misma fórmula de la distancia euclidiana, pero con el punto p como segundo punto y el origen como primer punto.\n",
    "Un ejemplo de uso de la clase Punto sería:"
   ]
  },
  {
   "cell_type": "code",
   "execution_count": null,
   "metadata": {},
   "outputs": [],
   "source": [
    "p1 = Punto(1, 2)\n",
    "p2 = Punto(4, 6)\n",
    "\n",
    "print(\"Distancia entre p1 y p2:\", p1.distancia(p2))\n",
    "print(\"Resta de p1 y p2:\", p1.resta(p2).x, p1.resta(p2).y)\n",
    "print(\"Norma de p1:\", p1.norma())"
   ]
  },
  {
   "attachments": {},
   "cell_type": "markdown",
   "metadata": {},
   "source": [
    "Este código crea dos puntos p1 y p2 con coordenadas (1, 2) y (4, 6), respectivamente. Luego, se calcula la distancia entre p1 y p2, la resta de p1 y p2, y la norma de p1. Los resultados se imprimen en la consola."
   ]
  },
  {
   "attachments": {},
   "cell_type": "markdown",
   "metadata": {},
   "source": [
    "### Ej. 2:\n",
    "Sobrecargar los métodos: <code>\\_\\_str\\_\\_ , \\_\\_add\\_\\_ , \\_\\_sub\\_\\_ , \\_\\_eq\\_\\_</code>."
   ]
  },
  {
   "cell_type": "code",
   "execution_count": null,
   "metadata": {},
   "outputs": [],
   "source": [
    "import math\n",
    "\n",
    "class Punto:\n",
    "    def __init__(self, x, y):\n",
    "        self.x = x\n",
    "        self.y = y\n",
    "    \n",
    "    def distancia(self, otro_punto):\n",
    "        return math.sqrt((otro_punto.x - self.x) ** 2 + (otro_punto.y - self.y) ** 2)\n",
    "    \n",
    "    def resta(self, otro_punto):\n",
    "        return Punto(self.x - otro_punto.x, self.y - otro_punto.y)\n",
    "    \n",
    "    def norma(self):\n",
    "        return math.sqrt(self.x ** 2 + self.y ** 2)\n",
    "    \n",
    "    def __str__(self):\n",
    "        return f\"({self.x}, {self.y})\"\n",
    "    \n",
    "    def __add__(self, otro_punto):\n",
    "        return Punto(self.x + otro_punto.x, self.y + otro_punto.y)\n",
    "    \n",
    "    def __sub__(self, otro_punto):\n",
    "        return Punto(self.x - otro_punto.x, self.y - otro_punto.y)\n",
    "    \n",
    "    def __eq__(self, otro_punto):\n",
    "        return self.x == otro_punto.x and self.y == otro_punto.y"
   ]
  },
  {
   "attachments": {},
   "cell_type": "markdown",
   "metadata": {},
   "source": [
    "La sobrecarga de los métodos __str__, __add__, __sub__ y __eq__ permite imprimir objetos de la clase Punto de manera más legible, sumar y restar puntos como si fueran vectores, y comparar puntos por igualdad.\n",
    "El método __str__ devuelve una cadena que representa el objeto Punto en el formato (x, y). El método __add__ devuelve un nuevo punto que es la suma de dos puntos, es decir, un punto cuyas coordenadas x e y son la suma de las coordenadas x e y de los dos puntos. El método __sub__ devuelve un nuevo punto que es la resta de dos puntos, es decir, un punto cuyas coordenadas x e y son la resta de las coordenadas x e y de los dos puntos. El método __eq__ devuelve True si dos puntos tienen las mismas coordenadas x e y, y False en caso contrario.\n",
    "Un ejemplo de uso de la clase Punto con los métodos sobrecargados sería:"
   ]
  },
  {
   "cell_type": "code",
   "execution_count": null,
   "metadata": {},
   "outputs": [],
   "source": [
    "p1 = Punto(1, 2)\n",
    "p2 = Punto(4, 6)\n",
    "\n",
    "print(\"Distancia entre p1 y p2:\", p1.distancia(p2))\n",
    "print(\"Resta de p1 y p2:\", p1 - p2)\n",
    "print(\"Suma de p1 y p2:\", p1 + p2)\n",
    "print(\"Norma de p1:\", p1.norma())\n",
    "print(\"p1 es igual a p2?\", p1 == p2)\n",
    "print(\"p1 es igual a (1, 2)?\", p1 == Punto(1, 2))\n",
    "print(\"p1:\", p1)"
   ]
  },
  {
   "attachments": {},
   "cell_type": "markdown",
   "metadata": {},
   "source": [
    "Este código crea dos puntos p1 y p2 con coordenadas (1, 2) y (4, 6), respectivamente. Luego, se calcula la distancia entre p1 y p2, la resta de p1 y p2, la suma de p1 y p2, la norma de p1, y se comparan p1 y p2 por igualdad. Finalmente, se imprime p1 utilizando el método __str__. Los resultados se imprimen en la consola."
   ]
  },
  {
   "attachments": {},
   "cell_type": "markdown",
   "metadata": {},
   "source": [
    "### Ej. 3:\n",
    "\n",
    "Definir la clase <code>Circulo</code>. La clase debe contener los siguientes métodos:\n",
    "\n",
    "- Calcular el perimetro del circulo. \n",
    "- Clacular el area del circulo.\n"
   ]
  },
  {
   "cell_type": "code",
   "execution_count": null,
   "metadata": {},
   "outputs": [],
   "source": [
    "import math\n",
    "\n",
    "class Circulo:\n",
    "    def __init__(self, radio):\n",
    "        self.radio = radio\n",
    "    \n",
    "    def perimetro(self):\n",
    "        return 2 * math.pi * self.radio\n",
    "    \n",
    "    def area(self):\n",
    "        return math.pi * self.radio ** 2"
   ]
  },
  {
   "attachments": {},
   "cell_type": "markdown",
   "metadata": {},
   "source": [
    "La clase Circulo tiene un atributo radio, que representa el radio del círculo. La clase también tiene dos métodos:\n",
    "- perimetro(): calcula el perímetro del círculo utilizando la fórmula 2 * pi * radio.\n",
    "- area(): calcula el área del círculo utilizando la fórmula pi * radio ** 2.\n",
    "Para calcular el perímetro del círculo, se utiliza la fórmula 2 * pi * radio, donde pi es una constante matemática y radio es el radio del círculo. Para calcular el área del círculo, se utiliza la fórmula pi * radio ** 2.\n",
    "Un ejemplo de uso de la clase Circulo sería:"
   ]
  },
  {
   "cell_type": "code",
   "execution_count": null,
   "metadata": {},
   "outputs": [],
   "source": [
    "c = Circulo(5)\n",
    "\n",
    "print(\"Perímetro del círculo:\", c.perimetro())\n",
    "print(\"Área del círculo:\", c.area())"
   ]
  },
  {
   "attachments": {},
   "cell_type": "markdown",
   "metadata": {},
   "source": [
    "Este código crea un objeto Circulo con radio 5. Luego, se calcula el perímetro y el área del círculo utilizando los métodos perimetro() y area(). Los resultados se imprimen en la consola."
   ]
  },
  {
   "attachments": {},
   "cell_type": "markdown",
   "metadata": {},
   "source": [
    "### Ej. 4:\n",
    "\n",
    "Definir la clase <code>Triangulo</code>. Un triangulo esta compuesto por 3 puntos. La clase debe contener los siguientes métodos:\n",
    "\n",
    "- Calcular el perimetro del triangulo. \n",
    "- Clacular el area del triangulo.\n",
    "- Chequear si el triagulo es rectangulo. \n",
    "\n",
    "**Importante!** deben validar que los 3 puntos conformen un triangulo. "
   ]
  },
  {
   "cell_type": "code",
   "execution_count": null,
   "metadata": {},
   "outputs": [],
   "source": [
    "import math\n",
    "\n",
    "class Triangulo:\n",
    "    def __init__(self, p1, p2, p3):\n",
    "        self.p1 = p1\n",
    "        self.p2 = p2\n",
    "        self.p3 = p3\n",
    "    \n",
    "    def perimetro(self):\n",
    "        return self.p1.distancia(self.p2) + self.p2.distancia(self.p3) + self.p3.distancia(self.p1)\n",
    "    \n",
    "    def area(self):\n",
    "        a = self.p1.distancia(self.p2)\n",
    "        b = self.p2.distancia(self.p3)\n",
    "        c = self.p3.distancia(self.p1)\n",
    "        s = (a + b + c) / 2\n",
    "        return math.sqrt(s * (s - a) * (s - b) * (s - c))\n",
    "    \n",
    "    def es_rectangulo(self):\n",
    "        a = self.p1.distancia(self.p2)\n",
    "        b = self.p2.distancia(self.p3)\n",
    "        c = self.p3.distancia(self.p1)\n",
    "        lados = [a, b, c]\n",
    "        lados.sort()\n",
    "        return abs(lados ** 2 + lados[1] ** 2 - lados[2] ** 2) < 1e-6\n",
    "    \n",
    "    def es_triangulo(self):\n",
    "        a = self.p1.distancia(self.p2)\n",
    "        b = self.p2.distancia(self.p3)\n",
    "        c = self.p3.distancia(self.p1)\n",
    "        return a + b > c and b + c > a and c + a > b"
   ]
  },
  {
   "attachments": {},
   "cell_type": "markdown",
   "metadata": {},
   "source": [
    "La clase Triangulo tiene tres atributos, p1, p2 y p3, que representan los tres puntos que conforman el triángulo. La clase también tiene cuatro métodos:\n",
    "- perimetro(): calcula el perímetro del triángulo sumando las distancias entre los tres puntos.\n",
    "- area(): calcula el área del triángulo utilizando la fórmula de Herón.\n",
    "- es_rectangulo(): determina si el triángulo es rectángulo utilizando el teorema de Pitágoras.\n",
    "- es_triangulo(): determina si los tres puntos conforman un triángulo.\n",
    "Para calcular el perímetro del triángulo, se suman las distancias entre los tres puntos utilizando el método distancia() de la clase Punto. Para calcular el área del triángulo, se utiliza la fórmula de Herón, que requiere calcular las distancias entre los tres puntos utilizando el método distancia() de la clase Punto. Para determinar si el triángulo es rectángulo, se utiliza el teorema de Pitágoras, que requiere calcular las distancias entre los tres puntos utilizando el método distancia() de la clase Punto. Para determinar si los tres puntos conforman un triángulo, se utiliza la desigualdad triangular, que establece que la suma de las longitudes de dos lados de un triángulo es siempre mayor que la longitud del tercer lado.\n",
    "Un ejemplo de uso de la clase Triangulo sería:"
   ]
  },
  {
   "cell_type": "code",
   "execution_count": null,
   "metadata": {},
   "outputs": [],
   "source": [
    "p1 = Punto(0, 0)\n",
    "p2 = Punto(3, 0)\n",
    "p3 = Punto(0, 4)\n",
    "\n",
    "t = Triangulo(p1, p2, p3)\n",
    "\n",
    "if t.es_triangulo():\n",
    "    print(\"Perímetro del triángulo:\", t.perimetro())\n",
    "    print(\"Área del triángulo:\", t.area())\n",
    "    if t.es_rectangulo():\n",
    "        print(\"El triángulo es rectángulo\")\n",
    "    else:\n",
    "        print(\"El triángulo no es rectángulo\")\n",
    "else:\n",
    "    print(\"Los puntos no conforman un triángulo\")"
   ]
  },
  {
   "attachments": {},
   "cell_type": "markdown",
   "metadata": {},
   "source": [
    "Este código crea tres puntos p1, p2 y p3 con coordenadas (0, 0), (3, 0) y (0, 4), respectivamente. Luego, se crea un objeto Triangulo con los tres puntos. Se verifica si los tres puntos conforman un triángulo utilizando el método es_triangulo(). Si los puntos conforman un triángulo, se calcula el perímetro y el área del triángulo utilizando los métodos perimetro() y area(). Se verifica si el triángulo es rectángulo utilizando el método es_rectangulo(). Los resultados se imprimen en la consola.\n",
    "Es importante mencionar que en el método es_triangulo() se utiliza la desigualdad triangular para determinar si los tres puntos conforman un triángulo. Esta desigualdad establece que la suma de las longitudes de dos lados de un triángulo es siempre mayor que la longitud del tercer lado. Si esta desigualdad no se cumple para los tres lados del triángulo, entonces los puntos no conforman un triángulo."
   ]
  },
  {
   "attachments": {},
   "cell_type": "markdown",
   "metadata": {},
   "source": [
    "### Ej. 5:\n",
    "\n",
    "Definir la clase <code>Rectangulo</code>. Un rectangulo pude ser definido de varias maneras, por ejemplo:\n",
    "- 4 puntos: las 4 esquinas (sirve para cualquier poligono).\n",
    "- 2 puntos: Idem anterior, pero usamos dos.\n",
    "- 1 punto de referencia, base y altura.\n",
    "\n",
    "*(Elejir solo una e implementarla)*\n",
    "\n",
    " La clase debe contener los siguientes métodos:\n",
    "\n",
    "- Calcular el perimetro del rectangulo. \n",
    "- Clacular el area del rectangulo.\n",
    "- Chequear si el rectangulo es un cuadradro. "
   ]
  },
  {
   "cell_type": "code",
   "execution_count": null,
   "metadata": {},
   "outputs": [],
   "source": [
    "class Rectangulo:\n",
    "    def __init__(self, p, base, altura):\n",
    "        self.p = p\n",
    "        self.base = base\n",
    "        self.altura = altura\n",
    "    \n",
    "    def perimetro(self):\n",
    "        return 2 * (self.base + self.altura)\n",
    "    \n",
    "    def area(self):\n",
    "        return self.base * self.altura\n",
    "    \n",
    "    def es_cuadrado(self):\n",
    "        return self.base == self.altura"
   ]
  },
  {
   "attachments": {},
   "cell_type": "markdown",
   "metadata": {},
   "source": [
    "La clase Rectangulo tiene un atributo p, que representa el punto de referencia del rectángulo, y dos atributos base y altura, que representan la base y la altura del rectángulo, respectivamente. La clase también tiene tres métodos:\n",
    "- perimetro(): calcula el perímetro del rectángulo utilizando la fórmula 2 * (base + altura).\n",
    "- area(): calcula el área del rectángulo utilizando la fórmula base * altura.\n",
    "- es_cuadrado(): determina si el rectángulo es un cuadrado comparando la base y la altura.\n",
    "Para calcular el perímetro del rectángulo, se utiliza la fórmula 2 * (base + altura), donde base y altura son la base y la altura del rectángulo, respectivamente. Para calcular el área del rectángulo, se utiliza la fórmula base * altura, donde base y altura son la base y la altura del rectángulo, respectivamente. Para determinar si el rectángulo es un cuadrado, se compara la base y la altura.\n",
    "Un ejemplo de uso de la clase Rectangulo sería:"
   ]
  },
  {
   "cell_type": "code",
   "execution_count": null,
   "metadata": {},
   "outputs": [],
   "source": [
    "p = Punto(0, 0)\n",
    "r = Rectangulo(p, 3, 4)\n",
    "\n",
    "print(\"Perímetro del rectángulo:\", r.perimetro())\n",
    "print(\"Área del rectángulo:\", r.area())\n",
    "if r.es_cuadrado():\n",
    "    print(\"El rectángulo es un cuadrado\")\n",
    "else:\n",
    "    print(\"El rectángulo no es un cuadrado\")"
   ]
  },
  {
   "attachments": {},
   "cell_type": "markdown",
   "metadata": {},
   "source": [
    "Este código crea un punto p con coordenadas (0, 0) y un objeto Rectangulo con punto de referencia p, base 3 y altura 4. Luego, se calcula el perímetro y el área del rectángulo utilizando los métodos perimetro() y area(). Se verifica si el rectángulo es un cuadrado utilizando el método es_cuadrado(). Los resultados se imprimen en la consola."
   ]
  },
  {
   "cell_type": "markdown",
   "metadata": {},
   "source": [
    "### Ej. 3: \n",
    "\n",
    "Escribir un programa que simule un ecosistema conteniendo dos tipos de criaturas, **osos** y **peces**. El ecosistema cosiste en un río, el cuál esta modelado como una lista. Cada elemento de la lista debe ser un objeto del tipo `Oso` , del tipo `Pez`, o `None`. Considerando un \"contador externo\" (random), en cada paso, cada animal intenta moverse hacia una celda adjacente en la lista, o quedarse en su sitio. Si dos animales del mismo tipo estan por ocupar el mismo espacio, deberan quedarse en sus posiciones, y generaremos una nueva criatura de ese tipo en un lugar aleatorio vacio (i.e. `None`) de la lista (se reproducen). Si un oso y un pez ocupan el mismo espacio, entonces el pez desaparecera (es comido).  "
   ]
  },
  {
   "attachments": {},
   "cell_type": "markdown",
   "metadata": {},
   "source": [
    "Para simular un ecosistema con osos y peces en Python, se puede definir una clase Rio que represente el río como una lista de objetos del tipo Oso, del tipo Pez, o None. Cada objeto Oso y Pez tendría un atributo posicion que represente su posición en la lista. En cada paso de la simulación, se puede utilizar un \"contador externo\" (por ejemplo, un número aleatorio) para determinar el orden en que los animales intentan moverse hacia una celda adyacente en la lista o quedarse en su sitio. Si dos animales del mismo tipo están por ocupar el mismo espacio, se puede generar una nueva criatura de ese tipo en un lugar aleatorio vacío de la lista (se reproducen). Si un oso y un pez ocupan el mismo espacio, entonces el pez desaparece (es comido).\n",
    "Un ejemplo de implementación de la clase Rio podría ser el siguiente"
   ]
  },
  {
   "cell_type": "code",
   "execution_count": null,
   "metadata": {},
   "outputs": [],
   "source": [
    "import random\n",
    "\n",
    "class Rio:\n",
    "    def __init__(self, n):\n",
    "        self.n = n\n",
    "        self.celdas = [None] * n\n",
    "        self.osos = []\n",
    "        self.peces = []\n",
    "    \n",
    "    def agregar_oso(self, oso):\n",
    "        self.celdas[oso.posicion] = oso\n",
    "        self.osos.append(oso)\n",
    "    \n",
    "    def agregar_pez(self, pez):\n",
    "        self.celdas[pez.posicion] = pez\n",
    "        self.peces.append(pez)\n",
    "    \n",
    "    def mover_animales(self):\n",
    "        random.shuffle(self.osos)\n",
    "        random.shuffle(self.peces)\n",
    "        for oso in self.osos:\n",
    "            nueva_posicion = oso.mover(self.n)\n",
    "            if self.celdas[nueva_posicion] is None:\n",
    "                self.celdas[oso.posicion] = None\n",
    "                oso.posicion = nueva_posicion\n",
    "                self.celdas[nueva_posicion] = oso\n",
    "            elif isinstance(self.celdas[nueva_posicion], Oso):\n",
    "                pass\n",
    "            elif isinstance(self.celdas[nueva_posicion], Pez):\n",
    "                self.peces.remove(self.celdas[nueva_posicion])\n",
    "                self.celdas[oso.posicion] = None\n",
    "                oso.posicion = nueva_posicion\n",
    "                self.celdas[nueva_posicion] = oso\n",
    "                self.agregar_pez(Pez(random.randrange(self.n)))\n",
    "        for pez in self.peces:\n",
    "            nueva_posicion = pez.mover(self.n)\n",
    "            if self.celdas[nueva_posicion] is None:\n",
    "                self.celdas[pez.posicion] = None\n",
    "                pez.posicion = nueva_posicion\n",
    "                self.celdas[nueva_posicion] = pez\n",
    "            elif isinstance(self.celdas[nueva_posicion], Pez):\n",
    "                pass\n",
    "            elif isinstance(self.celdas[nueva_posicion], Oso):\n",
    "                self.osos.remove(self.celdas[nueva_posicion])\n",
    "                self.celdas[pez.posicion] = None\n",
    "                pez.posicion = nueva_posicion\n",
    "                self.celdas[nueva_posicion] = pez\n",
    "                self.agregar_oso(Oso(random.randrange(self.n)))\n",
    "\n",
    "class Oso:\n",
    "    def __init__(self, posicion):\n",
    "        self.posicion = posicion\n",
    "    \n",
    "    def mover(self, n):\n",
    "        nueva_posicion = self.posicion + random.choice([-1, 1])\n",
    "        if nueva_posicion < 0 or nueva_posicion >= n:\n",
    "            return self.posicion\n",
    "        else:\n",
    "            return nueva_posicion\n",
    "\n",
    "class Pez:\n",
    "    def __init__(self, posicion):\n",
    "        self.posicion = posicion\n",
    "    \n",
    "    def mover(self, n):\n",
    "        nueva_posicion = self.posicion + random.choice([-1, 1])\n",
    "        if nueva_posicion < 0 or nueva_posicion >= n:\n",
    "            return self.posicion\n",
    "        else:\n",
    "            return nueva_posicion"
   ]
  },
  {
   "attachments": {},
   "cell_type": "markdown",
   "metadata": {},
   "source": [
    "En este ejemplo, la clase Rio tiene un atributo n que representa la longitud del río y un atributo celdas que es una lista de longitud n que representa el río. La clase también tiene dos listas, osos y peces, que contienen todos los objetos Oso y Pez en el río, respectivamente. La clase tiene tres métodos:\n",
    "- agregar_oso(): agrega un objeto Oso al río en una posición aleatoria vacía.\n",
    "- agregar_pez(): agrega un objeto Pez al río en una posición aleatoria vacía.\n",
    "- mover_animales(): mueve todos los animales en el río en un orden aleatorio. Para cada oso, se intenta mover a una celda adyacente en la lista. Si la celda está vacía, el oso se mueve a esa celda. Si la celda contiene otro oso, el oso se queda en su posición actual. Si la celda contiene un pez, el pez desaparece y se genera un nuevo pez en una posición aleatoria vacía. Para cada pez, se hace lo mismo que para los osos.\n",
    "La clase Oso y Pez tienen un atributo posicion que representa su posición en el río. La clase también tiene un método mover() que intenta mover el animal a una celda adyacente en la lista.\n",
    "Un ejemplo de uso de la simulación podría ser el siguiente:"
   ]
  },
  {
   "cell_type": "code",
   "execution_count": null,
   "metadata": {},
   "outputs": [],
   "source": [
    "rio = Rio(10)\n",
    "\n",
    "for i in range(5):\n",
    "    rio.agregar_oso(Oso(random.randrange(10)))\n",
    "    rio.agregar_pez(Pez(random.randrange(10)))\n",
    "\n",
    "for i in range(10):\n",
    "    print(\"Paso\", i)\n",
    "    rio.mover_animales()\n",
    "    for j in range(10):\n",
    "        if rio.celdas[j] is None:\n",
    "            print(\".\", end=\"\")\n",
    "        elif isinstance(rio.celdas[j], Oso):\n",
    "            print(\"O\", end=\"\")\n",
    "        elif isinstance(rio.celdas[j], Pez):\n",
    "            print(\"P\", end=\"\")\n",
    "    print()"
   ]
  },
  {
   "attachments": {},
   "cell_type": "markdown",
   "metadata": {},
   "source": [
    "Este código crea un objeto Rio con longitud 10. Luego, se agregan 5 osos y 5 peces en posiciones aleatorias del río. Se simula el ecosistema durante 10 pasos utilizando el método mover_animales() de la clase Rio. En cada paso, se imprime una representación gráfica del río en la consola, donde . representa una celda vacía, O representa un oso y P representa un pez."
   ]
  },
  {
   "cell_type": "markdown",
   "metadata": {},
   "source": [
    "### Ej. 4:\n",
    "\n",
    "La clase `DynamicArray` descripta a continuación, no soporta el uso de indices negativos usando `__getitem__`. \n",
    "Arreglar el método, para que soprte el indexado de Python (faltan los indices negativos) "
   ]
  },
  {
   "cell_type": "code",
   "execution_count": null,
   "metadata": {},
   "outputs": [],
   "source": [
    "class DynamicArray:\n",
    "    \"\"\"A dynamic array class akin to a simplified Python list\"\"\"\n",
    "    \n",
    "    def __init__(self):\n",
    "        \"\"\"Create an empty array.\"\"\"\n",
    "        self._n = 0\n",
    "        self._capacity = 1\n",
    "        self._A = self._make_array(self._capacity)\n",
    "        \n",
    "    def __len__(self):\n",
    "        \"\"\"Return number of elements stored in the array\"\"\"\n",
    "        return self._n\n",
    "    \n",
    "    def __getitem__(self, k):\n",
    "        if not 0<= k < self._n:\n",
    "            raise IndexError( 'invalid index' )\n",
    "        return self._A[k]\n",
    "        \n",
    "    def append(self, obj):\n",
    "        \"\"\"Add object to end of the array.\"\"\"\n",
    "        if self._n == self._capacity:\n",
    "            self._resize(2 * self._capacity)\n",
    "        self._A[self._n] = obj\n",
    "        self._n += 1\n",
    "    \n",
    "    def _resize(self, c):\n",
    "        \"\"\"Resize internal array to capacity c.\"\"\"\n",
    "        B = self._make_array(c)\n",
    "        for k in range(self._n):\n",
    "            B[k] = self._A[k]\n",
    "        self._A = B\n",
    "        self._capacity = c\n",
    "        \n",
    "    def _make_array(self, c):\n",
    "        \"\"\"Return new array with capacity c.\"\"\"\n",
    "        return (c * ctypes.py_object)()"
   ]
  },
  {
   "cell_type": "code",
   "execution_count": null,
   "metadata": {},
   "outputs": [],
   "source": [
    "darray = DynamicArray()\n",
    "darray.append(4)\n",
    "darray.append(1)\n",
    "darray.append(3)\n",
    "print(darray[-3])\n",
    "print(darray[-2])\n",
    "print(darray[-1])\n",
    "print(darray[0])\n",
    "print(darray[1])\n",
    "print(darray[2])"
   ]
  },
  {
   "attachments": {},
   "cell_type": "markdown",
   "metadata": {},
   "source": [
    "Para permitir el uso de índices negativos en el método __getitem__, podemos agregar una comprobación adicional en el índice k recibido. Si el índice es negativo, se convierte en un índice positivo utilizando la longitud del arreglo y luego se realiza la comprobación normal.\n",
    "\n",
    "Aquí está la implementación actualizada del método __getitem__:"
   ]
  },
  {
   "cell_type": "code",
   "execution_count": null,
   "metadata": {},
   "outputs": [],
   "source": [
    "def __getitem__(self, k):\n",
    "    if isinstance(k, int):\n",
    "        if k < 0:\n",
    "            k += self._n\n",
    "        if not 0 <= k < self._n:\n",
    "            raise IndexError('invalid index')\n",
    "        return self._A[k]\n",
    "    else:\n",
    "        raise TypeError('Invalid argument type')\n"
   ]
  },
  {
   "attachments": {},
   "cell_type": "markdown",
   "metadata": {},
   "source": [
    "Hemos agregado una verificación de tipo para asegurarnos de que el índice sea un número entero y, por lo tanto, pueda ser negativo. Luego, si el índice es negativo, lo convertimos en un índice positivo restando su valor absoluto de la longitud del arreglo. Finalmente, se realiza la comprobación normal para asegurarse de que el índice esté dentro del rango válido.\n",
    "\n",
    "Ahora, podemos usar índices negativos para acceder a los elementos en el arreglo. Por ejemplo:"
   ]
  },
  {
   "cell_type": "code",
   "execution_count": null,
   "metadata": {},
   "outputs": [],
   "source": [
    "arr = DynamicArray()\n",
    "arr.append(1)\n",
    "arr.append(2)\n",
    "arr.append(3)\n",
    "\n",
    "print(arr[-1])  # imprime 3\n",
    "print(arr[-2])  # imprime 2\n"
   ]
  }
 ],
 "metadata": {
  "kernelspec": {
   "display_name": "Python 3",
   "language": "python",
   "name": "python3"
  },
  "language_info": {
   "codemirror_mode": {
    "name": "ipython",
    "version": 3
   },
   "file_extension": ".py",
   "mimetype": "text/x-python",
   "name": "python",
   "nbconvert_exporter": "python",
   "pygments_lexer": "ipython3",
   "version": "3.11.3"
  },
  "pycharm": {
   "stem_cell": {
    "cell_type": "raw",
    "metadata": {
     "collapsed": false
    },
    "source": []
   }
  },
  "vscode": {
   "interpreter": {
    "hash": "aee8b7b246df8f9039afb4144a1f6fd8d2ca17a180786b69acc140d282b71a49"
   }
  }
 },
 "nbformat": 4,
 "nbformat_minor": 2
}
